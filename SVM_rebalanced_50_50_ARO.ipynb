{
 "cells": [
  {
   "cell_type": "markdown",
   "id": "ff3fdd55",
   "metadata": {},
   "source": [
    "## Data"
   ]
  },
  {
   "cell_type": "code",
   "execution_count": 1,
   "id": "9b4d5c0b",
   "metadata": {},
   "outputs": [],
   "source": [
    "%load_ext autoreload\n",
    "%autoreload 2\n",
    "import matplotlib\n",
    "import numpy as np\n",
    "import pandas as pd\n",
    "import matplotlib.pyplot as plt\n",
    "import seaborn as sns\n",
    "from sklearn.linear_model import LogisticRegression\n",
    "from sklearn.model_selection import train_test_split\n",
    "import imblearn\n",
    "from sklearn.inspection import permutation_importance\n",
    "import collections\n",
    "from imblearn.over_sampling import SMOTE\n",
    "from sklearn.metrics import recall_score\n",
    "from sklearn.svm import LinearSVC\n",
    "from imblearn.over_sampling import ADASYN\n",
    "\n",
    "# Scikit-learn library: For SVM\n",
    "from sklearn import preprocessing\n",
    "from sklearn.metrics import confusion_matrix\n",
    "from sklearn import svm"
   ]
  },
  {
   "cell_type": "code",
   "execution_count": 2,
   "id": "c231e526",
   "metadata": {
    "scrolled": false
   },
   "outputs": [],
   "source": [
    "df = pd.read_csv('/Users/aliciaremontospina/code/AlcaRmsp/the_laundromat/raw_data/data.csv')\n",
    "\n",
    "df = df.rename(columns={'oldbalanceOrg':'oldBalanceOrig', 'newbalanceOrig':'newBalanceOrig', \\\n",
    "                        'oldbalanceDest':'oldBalanceDest', 'newbalanceDest':'newBalanceDest'})"
   ]
  },
  {
   "cell_type": "code",
   "execution_count": 3,
   "id": "54b47fa7",
   "metadata": {},
   "outputs": [],
   "source": [
    "df['errorBalanceOrig']=df['newBalanceOrig'] + df['amount'] - df['oldBalanceOrig']\n",
    "df['errorBalanceDest']=df['newBalanceDest'] + df['amount'] - df['oldBalanceDest']"
   ]
  },
  {
   "cell_type": "code",
   "execution_count": 4,
   "id": "9fa5a286",
   "metadata": {},
   "outputs": [
    {
     "data": {
      "text/plain": [
       "[array(['CASH_IN', 'CASH_OUT', 'DEBIT', 'PAYMENT', 'TRANSFER'],\n",
       "       dtype=object)]"
      ]
     },
     "metadata": {},
     "output_type": "display_data"
    }
   ],
   "source": [
    "from sklearn.preprocessing import OrdinalEncoder\n",
    "\n",
    "# Instantiate the Ordinal Encoder\n",
    "ordinal_encoder = OrdinalEncoder()\n",
    "\n",
    "# Fit it\n",
    "ordinal_encoder.fit(df[[\"type\"]])\n",
    "\n",
    "# Display the learned categories\n",
    "display(ordinal_encoder.categories_)\n",
    "\n",
    "# Transforming categories into ordered numbers\n",
    "df[\"type\"] = ordinal_encoder.transform(df[[\"type\"]])"
   ]
  },
  {
   "cell_type": "code",
   "execution_count": 5,
   "id": "1b388b92",
   "metadata": {},
   "outputs": [],
   "source": [
    "# perform one-hot encoding on type column\n",
    "df = pd.get_dummies(df, columns=['type'])"
   ]
  },
  {
   "cell_type": "code",
   "execution_count": 6,
   "id": "d8e34482",
   "metadata": {},
   "outputs": [],
   "source": [
    "from sklearn.preprocessing import LabelEncoder\n",
    "# create a label encoder object\n",
    "le = LabelEncoder()\n",
    "\n",
    "# apply the label encoder to non-numeric columns\n",
    "df['nameOrig'] = le.fit_transform(df['nameOrig'])\n",
    "df['nameDest'] = le.fit_transform(df['nameDest'])"
   ]
  },
  {
   "cell_type": "code",
   "execution_count": 7,
   "id": "b7a760e7",
   "metadata": {
    "scrolled": true
   },
   "outputs": [
    {
     "data": {
      "text/html": [
       "<div>\n",
       "<style scoped>\n",
       "    .dataframe tbody tr th:only-of-type {\n",
       "        vertical-align: middle;\n",
       "    }\n",
       "\n",
       "    .dataframe tbody tr th {\n",
       "        vertical-align: top;\n",
       "    }\n",
       "\n",
       "    .dataframe thead th {\n",
       "        text-align: right;\n",
       "    }\n",
       "</style>\n",
       "<table border=\"1\" class=\"dataframe\">\n",
       "  <thead>\n",
       "    <tr style=\"text-align: right;\">\n",
       "      <th></th>\n",
       "      <th>step</th>\n",
       "      <th>amount</th>\n",
       "      <th>nameOrig</th>\n",
       "      <th>oldBalanceOrig</th>\n",
       "      <th>newBalanceOrig</th>\n",
       "      <th>nameDest</th>\n",
       "      <th>oldBalanceDest</th>\n",
       "      <th>newBalanceDest</th>\n",
       "      <th>isFraud</th>\n",
       "      <th>isFlaggedFraud</th>\n",
       "      <th>errorBalanceOrig</th>\n",
       "      <th>errorBalanceDest</th>\n",
       "      <th>type_0.0</th>\n",
       "      <th>type_1.0</th>\n",
       "      <th>type_2.0</th>\n",
       "      <th>type_3.0</th>\n",
       "      <th>type_4.0</th>\n",
       "    </tr>\n",
       "  </thead>\n",
       "  <tbody>\n",
       "    <tr>\n",
       "      <th>0</th>\n",
       "      <td>1</td>\n",
       "      <td>9839.64</td>\n",
       "      <td>757869</td>\n",
       "      <td>170136.0</td>\n",
       "      <td>160296.36</td>\n",
       "      <td>1662094</td>\n",
       "      <td>0.0</td>\n",
       "      <td>0.0</td>\n",
       "      <td>0</td>\n",
       "      <td>0</td>\n",
       "      <td>0.0</td>\n",
       "      <td>9839.64</td>\n",
       "      <td>0</td>\n",
       "      <td>0</td>\n",
       "      <td>0</td>\n",
       "      <td>1</td>\n",
       "      <td>0</td>\n",
       "    </tr>\n",
       "    <tr>\n",
       "      <th>1</th>\n",
       "      <td>1</td>\n",
       "      <td>1864.28</td>\n",
       "      <td>2188998</td>\n",
       "      <td>21249.0</td>\n",
       "      <td>19384.72</td>\n",
       "      <td>1733924</td>\n",
       "      <td>0.0</td>\n",
       "      <td>0.0</td>\n",
       "      <td>0</td>\n",
       "      <td>0</td>\n",
       "      <td>0.0</td>\n",
       "      <td>1864.28</td>\n",
       "      <td>0</td>\n",
       "      <td>0</td>\n",
       "      <td>0</td>\n",
       "      <td>1</td>\n",
       "      <td>0</td>\n",
       "    </tr>\n",
       "    <tr>\n",
       "      <th>2</th>\n",
       "      <td>1</td>\n",
       "      <td>181.00</td>\n",
       "      <td>1002156</td>\n",
       "      <td>181.0</td>\n",
       "      <td>0.00</td>\n",
       "      <td>439685</td>\n",
       "      <td>0.0</td>\n",
       "      <td>0.0</td>\n",
       "      <td>1</td>\n",
       "      <td>0</td>\n",
       "      <td>0.0</td>\n",
       "      <td>181.00</td>\n",
       "      <td>0</td>\n",
       "      <td>0</td>\n",
       "      <td>0</td>\n",
       "      <td>0</td>\n",
       "      <td>1</td>\n",
       "    </tr>\n",
       "    <tr>\n",
       "      <th>3</th>\n",
       "      <td>1</td>\n",
       "      <td>181.00</td>\n",
       "      <td>5828262</td>\n",
       "      <td>181.0</td>\n",
       "      <td>0.00</td>\n",
       "      <td>391696</td>\n",
       "      <td>21182.0</td>\n",
       "      <td>0.0</td>\n",
       "      <td>1</td>\n",
       "      <td>0</td>\n",
       "      <td>0.0</td>\n",
       "      <td>-21001.00</td>\n",
       "      <td>0</td>\n",
       "      <td>1</td>\n",
       "      <td>0</td>\n",
       "      <td>0</td>\n",
       "      <td>0</td>\n",
       "    </tr>\n",
       "    <tr>\n",
       "      <th>4</th>\n",
       "      <td>1</td>\n",
       "      <td>11668.14</td>\n",
       "      <td>3445981</td>\n",
       "      <td>41554.0</td>\n",
       "      <td>29885.86</td>\n",
       "      <td>828919</td>\n",
       "      <td>0.0</td>\n",
       "      <td>0.0</td>\n",
       "      <td>0</td>\n",
       "      <td>0</td>\n",
       "      <td>0.0</td>\n",
       "      <td>11668.14</td>\n",
       "      <td>0</td>\n",
       "      <td>0</td>\n",
       "      <td>0</td>\n",
       "      <td>1</td>\n",
       "      <td>0</td>\n",
       "    </tr>\n",
       "  </tbody>\n",
       "</table>\n",
       "</div>"
      ],
      "text/plain": [
       "   step    amount  nameOrig  oldBalanceOrig  newBalanceOrig  nameDest  \\\n",
       "0     1   9839.64    757869        170136.0       160296.36   1662094   \n",
       "1     1   1864.28   2188998         21249.0        19384.72   1733924   \n",
       "2     1    181.00   1002156           181.0            0.00    439685   \n",
       "3     1    181.00   5828262           181.0            0.00    391696   \n",
       "4     1  11668.14   3445981         41554.0        29885.86    828919   \n",
       "\n",
       "   oldBalanceDest  newBalanceDest  isFraud  isFlaggedFraud  errorBalanceOrig  \\\n",
       "0             0.0             0.0        0               0               0.0   \n",
       "1             0.0             0.0        0               0               0.0   \n",
       "2             0.0             0.0        1               0               0.0   \n",
       "3         21182.0             0.0        1               0               0.0   \n",
       "4             0.0             0.0        0               0               0.0   \n",
       "\n",
       "   errorBalanceDest  type_0.0  type_1.0  type_2.0  type_3.0  type_4.0  \n",
       "0           9839.64         0         0         0         1         0  \n",
       "1           1864.28         0         0         0         1         0  \n",
       "2            181.00         0         0         0         0         1  \n",
       "3         -21001.00         0         1         0         0         0  \n",
       "4          11668.14         0         0         0         1         0  "
      ]
     },
     "execution_count": 7,
     "metadata": {},
     "output_type": "execute_result"
    }
   ],
   "source": [
    "df.head()"
   ]
  },
  {
   "cell_type": "markdown",
   "id": "938c2060",
   "metadata": {},
   "source": [
    "### Split data"
   ]
  },
  {
   "cell_type": "code",
   "execution_count": 8,
   "id": "9ba74df6",
   "metadata": {},
   "outputs": [],
   "source": [
    "# Separate the features and target variable\n",
    "X = df.drop('isFraud', axis=1)\n",
    "y = df['isFraud']"
   ]
  },
  {
   "cell_type": "code",
   "execution_count": 9,
   "id": "63031dca",
   "metadata": {},
   "outputs": [],
   "source": [
    "X_train, X_test, y_train, y_test = train_test_split(X, y, test_size=0.2, random_state=42)"
   ]
  },
  {
   "cell_type": "markdown",
   "id": "1096ef6f",
   "metadata": {},
   "source": [
    "## Balancing data"
   ]
  },
  {
   "cell_type": "markdown",
   "id": "7f7582d5",
   "metadata": {
    "heading_collapsed": true
   },
   "source": [
    "### SMOTE"
   ]
  },
  {
   "cell_type": "code",
   "execution_count": 10,
   "id": "eff675f0",
   "metadata": {
    "hidden": true,
    "scrolled": true
   },
   "outputs": [],
   "source": [
    "# #Check if data is balanced before SMOTE\n",
    "# labels = 'Not Fraud','Fraud'\n",
    "# values=df['isFraud'].value_counts()\n",
    "# fig, ax = plt.subplots()\n",
    "# ax.pie(values, labels=labels)"
   ]
  },
  {
   "cell_type": "code",
   "execution_count": 11,
   "id": "e815e806",
   "metadata": {
    "hidden": true
   },
   "outputs": [],
   "source": [
    "# print(imblearn.__version__)"
   ]
  },
  {
   "cell_type": "code",
   "execution_count": 12,
   "id": "69b0e5ee",
   "metadata": {
    "hidden": true
   },
   "outputs": [],
   "source": [
    "# # summarize class distribution\n",
    "# counter = collections.Counter(y)\n",
    "# print(counter)"
   ]
  },
  {
   "cell_type": "code",
   "execution_count": 13,
   "id": "16944088",
   "metadata": {
    "hidden": true,
    "scrolled": false
   },
   "outputs": [],
   "source": [
    "# X_train.shape, y_train.shape"
   ]
  },
  {
   "cell_type": "code",
   "execution_count": 14,
   "id": "785e0a8e",
   "metadata": {
    "hidden": true
   },
   "outputs": [],
   "source": [
    "X_resampled_SMOTE, y_resampled_SMOTE = SMOTE().fit_resample(X_train, y_train)"
   ]
  },
  {
   "cell_type": "code",
   "execution_count": 15,
   "id": "7657a793",
   "metadata": {
    "hidden": true,
    "scrolled": true
   },
   "outputs": [],
   "source": [
    "# X_resampled_SMOTE.head()"
   ]
  },
  {
   "cell_type": "code",
   "execution_count": 16,
   "id": "0ac534fa",
   "metadata": {
    "hidden": true
   },
   "outputs": [],
   "source": [
    "# X_resampled_SMOTE.shape, y_resampled_SMOTE.shape"
   ]
  },
  {
   "cell_type": "code",
   "execution_count": 17,
   "id": "18725aac",
   "metadata": {
    "hidden": true,
    "scrolled": true
   },
   "outputs": [],
   "source": [
    "# pd.DataFrame(y_resampled_SMOTE)"
   ]
  },
  {
   "cell_type": "markdown",
   "id": "43b9718e",
   "metadata": {},
   "source": [
    "#We only added isFraud back in to see what the distribution looks like"
   ]
  },
  {
   "cell_type": "code",
   "execution_count": 18,
   "id": "929d5df4",
   "metadata": {},
   "outputs": [],
   "source": [
    "## SMOTE training set"
   ]
  },
  {
   "cell_type": "code",
   "execution_count": 19,
   "id": "37692620",
   "metadata": {},
   "outputs": [],
   "source": [
    "X_resampled_SMOTE, y_resampled_SMOTE = SMOTE().fit_resample(X_train, y_train)"
   ]
  },
  {
   "cell_type": "code",
   "execution_count": 20,
   "id": "68e017e8",
   "metadata": {},
   "outputs": [],
   "source": [
    "X_resampled_SMOTE['isFraud'] = y_resampled_SMOTE"
   ]
  },
  {
   "cell_type": "code",
   "execution_count": 21,
   "id": "ab6b096e",
   "metadata": {},
   "outputs": [
    {
     "data": {
      "text/plain": [
       "([<matplotlib.patches.Wedge at 0x145354580>,\n",
       "  <matplotlib.patches.Wedge at 0x1453549d0>],\n",
       " [Text(6.735557395310444e-17, 1.1, 'Not Fraud'),\n",
       "  Text(-2.0206672185931328e-16, -1.1, 'Fraud')])"
      ]
     },
     "execution_count": 21,
     "metadata": {},
     "output_type": "execute_result"
    },
    {
     "data": {
      "image/png": "[encoded data removed]",
      "text/plain": [
       "<Figure size 640x480 with 1 Axes>"
      ]
     },
     "metadata": {},
     "output_type": "display_data"
    }
   ],
   "source": [
    "#Check if data is balanced after SMOTE balancing\n",
    "labels = 'Not Fraud','Fraud'\n",
    "values=X_resampled_SMOTE['isFraud'].value_counts()\n",
    "fig, ax = plt.subplots()\n",
    "ax.pie(values, labels=labels)"
   ]
  },
  {
   "cell_type": "code",
   "execution_count": 22,
   "id": "41abe122",
   "metadata": {},
   "outputs": [],
   "source": [
    "## SMOTE on test set"
   ]
  },
  {
   "cell_type": "code",
   "execution_count": 23,
   "id": "a248c740",
   "metadata": {},
   "outputs": [],
   "source": [
    "X_test_resampled_SMOTE, y_test_resampled_SMOTE = SMOTE(sampling_strategy= 0.6).fit_resample(X_test, y_test)"
   ]
  },
  {
   "cell_type": "code",
   "execution_count": 24,
   "id": "45261cb5",
   "metadata": {},
   "outputs": [
    {
     "data": {
      "text/plain": [
       "((2033446, 16), (2033446,))"
      ]
     },
     "execution_count": 24,
     "metadata": {},
     "output_type": "execute_result"
    }
   ],
   "source": [
    "X_test_resampled_SMOTE.shape, y_test_resampled_SMOTE.shape"
   ]
  },
  {
   "cell_type": "markdown",
   "id": "33fc34e3",
   "metadata": {},
   "source": [
    "### ADASYN"
   ]
  },
  {
   "cell_type": "code",
   "execution_count": 25,
   "id": "5d52068f",
   "metadata": {},
   "outputs": [],
   "source": [
    "X_resampled_ADASYN, y_resampled_ADASYN = ADASYN().fit_resample(X_train, y_train)"
   ]
  },
  {
   "cell_type": "code",
   "execution_count": 26,
   "id": "4c86d7fc",
   "metadata": {},
   "outputs": [],
   "source": [
    "X_resampled_ADASYN['isFraud'] = y_resampled_ADASYN"
   ]
  },
  {
   "cell_type": "code",
   "execution_count": 27,
   "id": "7197ddef",
   "metadata": {},
   "outputs": [
    {
     "data": {
      "text/plain": [
       "([<matplotlib.patches.Wedge at 0x135f70730>,\n",
       "  <matplotlib.patches.Wedge at 0x135f70b80>],\n",
       " [Text(-7.724207452182517e-05, 1.099999997288028, 'Not Fraud'),\n",
       "  Text(7.713908508922867e-05, -1.0999999972952552, 'Fraud')])"
      ]
     },
     "execution_count": 27,
     "metadata": {},
     "output_type": "execute_result"
    },
    {
     "data": {
      "image/png": "[encoded data removed]",
      "text/plain": [
       "<Figure size 640x480 with 1 Axes>"
      ]
     },
     "metadata": {},
     "output_type": "display_data"
    }
   ],
   "source": [
    "#Check if data is balanced after ADASYN balancing\n",
    "import matplotlib.pyplot as plt\n",
    "labels = 'Not Fraud','Fraud'\n",
    "values=X_resampled_ADASYN['isFraud'].value_counts()\n",
    "fig, ax = plt.subplots()\n",
    "ax.pie(values, labels=labels)"
   ]
  },
  {
   "cell_type": "markdown",
   "id": "3e2d4a3b",
   "metadata": {},
   "source": [
    "## Modelling"
   ]
  },
  {
   "cell_type": "code",
   "execution_count": 28,
   "id": "e32dc797",
   "metadata": {},
   "outputs": [],
   "source": [
    "logreg = LogisticRegression()"
   ]
  },
  {
   "cell_type": "code",
   "execution_count": 29,
   "id": "7500409c",
   "metadata": {},
   "outputs": [
    {
     "data": {
      "text/html": [
       "<div>\n",
       "<style scoped>\n",
       "    .dataframe tbody tr th:only-of-type {\n",
       "        vertical-align: middle;\n",
       "    }\n",
       "\n",
       "    .dataframe tbody tr th {\n",
       "        vertical-align: top;\n",
       "    }\n",
       "\n",
       "    .dataframe thead th {\n",
       "        text-align: right;\n",
       "    }\n",
       "</style>\n",
       "<table border=\"1\" class=\"dataframe\">\n",
       "  <thead>\n",
       "    <tr style=\"text-align: right;\">\n",
       "      <th></th>\n",
       "      <th>step</th>\n",
       "      <th>amount</th>\n",
       "      <th>nameOrig</th>\n",
       "      <th>oldBalanceOrig</th>\n",
       "      <th>newBalanceOrig</th>\n",
       "      <th>nameDest</th>\n",
       "      <th>oldBalanceDest</th>\n",
       "      <th>newBalanceDest</th>\n",
       "      <th>isFlaggedFraud</th>\n",
       "      <th>errorBalanceOrig</th>\n",
       "      <th>errorBalanceDest</th>\n",
       "      <th>type_0.0</th>\n",
       "      <th>type_1.0</th>\n",
       "      <th>type_2.0</th>\n",
       "      <th>type_3.0</th>\n",
       "      <th>type_4.0</th>\n",
       "      <th>isFraud</th>\n",
       "    </tr>\n",
       "  </thead>\n",
       "  <tbody>\n",
       "    <tr>\n",
       "      <th>0</th>\n",
       "      <td>619</td>\n",
       "      <td>386385.08</td>\n",
       "      <td>4449199</td>\n",
       "      <td>4669568.85</td>\n",
       "      <td>5055953.92</td>\n",
       "      <td>289167</td>\n",
       "      <td>506035.06</td>\n",
       "      <td>119649.98</td>\n",
       "      <td>0</td>\n",
       "      <td>772770.15</td>\n",
       "      <td>0.00</td>\n",
       "      <td>1</td>\n",
       "      <td>0</td>\n",
       "      <td>0</td>\n",
       "      <td>0</td>\n",
       "      <td>0</td>\n",
       "      <td>0</td>\n",
       "    </tr>\n",
       "    <tr>\n",
       "      <th>1</th>\n",
       "      <td>164</td>\n",
       "      <td>212458.78</td>\n",
       "      <td>5813773</td>\n",
       "      <td>234635.00</td>\n",
       "      <td>447093.78</td>\n",
       "      <td>204382</td>\n",
       "      <td>806037.88</td>\n",
       "      <td>593579.10</td>\n",
       "      <td>0</td>\n",
       "      <td>424917.56</td>\n",
       "      <td>0.00</td>\n",
       "      <td>1</td>\n",
       "      <td>0</td>\n",
       "      <td>0</td>\n",
       "      <td>0</td>\n",
       "      <td>0</td>\n",
       "      <td>0</td>\n",
       "    </tr>\n",
       "    <tr>\n",
       "      <th>2</th>\n",
       "      <td>382</td>\n",
       "      <td>19967.60</td>\n",
       "      <td>5870502</td>\n",
       "      <td>3634.00</td>\n",
       "      <td>0.00</td>\n",
       "      <td>1346491</td>\n",
       "      <td>0.00</td>\n",
       "      <td>0.00</td>\n",
       "      <td>0</td>\n",
       "      <td>16333.60</td>\n",
       "      <td>19967.60</td>\n",
       "      <td>0</td>\n",
       "      <td>0</td>\n",
       "      <td>0</td>\n",
       "      <td>1</td>\n",
       "      <td>0</td>\n",
       "      <td>0</td>\n",
       "    </tr>\n",
       "    <tr>\n",
       "      <th>3</th>\n",
       "      <td>180</td>\n",
       "      <td>527616.51</td>\n",
       "      <td>5095916</td>\n",
       "      <td>180216.00</td>\n",
       "      <td>0.00</td>\n",
       "      <td>446948</td>\n",
       "      <td>92157.10</td>\n",
       "      <td>619773.61</td>\n",
       "      <td>0</td>\n",
       "      <td>347400.51</td>\n",
       "      <td>1055233.02</td>\n",
       "      <td>0</td>\n",
       "      <td>1</td>\n",
       "      <td>0</td>\n",
       "      <td>0</td>\n",
       "      <td>0</td>\n",
       "      <td>0</td>\n",
       "    </tr>\n",
       "    <tr>\n",
       "      <th>4</th>\n",
       "      <td>36</td>\n",
       "      <td>206067.85</td>\n",
       "      <td>5557736</td>\n",
       "      <td>0.00</td>\n",
       "      <td>0.00</td>\n",
       "      <td>338417</td>\n",
       "      <td>2131494.48</td>\n",
       "      <td>2337562.32</td>\n",
       "      <td>0</td>\n",
       "      <td>206067.85</td>\n",
       "      <td>412135.69</td>\n",
       "      <td>0</td>\n",
       "      <td>0</td>\n",
       "      <td>0</td>\n",
       "      <td>0</td>\n",
       "      <td>1</td>\n",
       "      <td>0</td>\n",
       "    </tr>\n",
       "  </tbody>\n",
       "</table>\n",
       "</div>"
      ],
      "text/plain": [
       "   step     amount  nameOrig  oldBalanceOrig  newBalanceOrig  nameDest  \\\n",
       "0   619  386385.08   4449199      4669568.85      5055953.92    289167   \n",
       "1   164  212458.78   5813773       234635.00       447093.78    204382   \n",
       "2   382   19967.60   5870502         3634.00            0.00   1346491   \n",
       "3   180  527616.51   5095916       180216.00            0.00    446948   \n",
       "4    36  206067.85   5557736            0.00            0.00    338417   \n",
       "\n",
       "   oldBalanceDest  newBalanceDest  isFlaggedFraud  errorBalanceOrig  \\\n",
       "0       506035.06       119649.98               0         772770.15   \n",
       "1       806037.88       593579.10               0         424917.56   \n",
       "2            0.00            0.00               0          16333.60   \n",
       "3        92157.10       619773.61               0         347400.51   \n",
       "4      2131494.48      2337562.32               0         206067.85   \n",
       "\n",
       "   errorBalanceDest  type_0.0  type_1.0  type_2.0  type_3.0  type_4.0  isFraud  \n",
       "0              0.00         1         0         0         0         0        0  \n",
       "1              0.00         1         0         0         0         0        0  \n",
       "2          19967.60         0         0         0         1         0        0  \n",
       "3        1055233.02         0         1         0         0         0        0  \n",
       "4         412135.69         0         0         0         0         1        0  "
      ]
     },
     "execution_count": 29,
     "metadata": {},
     "output_type": "execute_result"
    }
   ],
   "source": [
    "X_resampled_SMOTE.head()"
   ]
  },
  {
   "cell_type": "markdown",
   "id": "96188272",
   "metadata": {},
   "source": [
    "## Resampling"
   ]
  },
  {
   "cell_type": "code",
   "execution_count": 30,
   "id": "d0ceaadd",
   "metadata": {},
   "outputs": [],
   "source": [
    "# # Train the model on the Training data\n",
    "X_resampled_SMOTE['isFraud'] = y_resampled_SMOTE"
   ]
  },
  {
   "cell_type": "code",
   "execution_count": 31,
   "id": "3b5f0c43",
   "metadata": {},
   "outputs": [],
   "source": [
    "# y_pred = log_model_SMOTE.predict(X_test)"
   ]
  },
  {
   "cell_type": "code",
   "execution_count": 32,
   "id": "68b53e4c",
   "metadata": {
    "scrolled": true
   },
   "outputs": [],
   "source": [
    "fraud = X_resampled_SMOTE[X_resampled_SMOTE.isFraud == 1].sample(10000)\n",
    "notfraud = X_resampled_SMOTE[X_resampled_SMOTE.isFraud == 0].sample(10000)\n",
    "data_new_sample = pd.concat([fraud, notfraud], axis=0)\n"
   ]
  },
  {
   "cell_type": "code",
   "execution_count": 33,
   "id": "f6664828",
   "metadata": {},
   "outputs": [
    {
     "data": {
      "text/html": [
       "<div>\n",
       "<style scoped>\n",
       "    .dataframe tbody tr th:only-of-type {\n",
       "        vertical-align: middle;\n",
       "    }\n",
       "\n",
       "    .dataframe tbody tr th {\n",
       "        vertical-align: top;\n",
       "    }\n",
       "\n",
       "    .dataframe thead th {\n",
       "        text-align: right;\n",
       "    }\n",
       "</style>\n",
       "<table border=\"1\" class=\"dataframe\">\n",
       "  <thead>\n",
       "    <tr style=\"text-align: right;\">\n",
       "      <th></th>\n",
       "      <th>step</th>\n",
       "      <th>amount</th>\n",
       "      <th>nameOrig</th>\n",
       "      <th>oldBalanceOrig</th>\n",
       "      <th>newBalanceOrig</th>\n",
       "      <th>nameDest</th>\n",
       "      <th>oldBalanceDest</th>\n",
       "      <th>newBalanceDest</th>\n",
       "      <th>isFlaggedFraud</th>\n",
       "      <th>errorBalanceOrig</th>\n",
       "      <th>errorBalanceDest</th>\n",
       "      <th>type_0.0</th>\n",
       "      <th>type_1.0</th>\n",
       "      <th>type_2.0</th>\n",
       "      <th>type_3.0</th>\n",
       "      <th>type_4.0</th>\n",
       "      <th>isFraud</th>\n",
       "    </tr>\n",
       "  </thead>\n",
       "  <tbody>\n",
       "    <tr>\n",
       "      <th>6381643</th>\n",
       "      <td>383</td>\n",
       "      <td>8.627951e+04</td>\n",
       "      <td>2022088</td>\n",
       "      <td>8.627951e+04</td>\n",
       "      <td>0.0</td>\n",
       "      <td>556230</td>\n",
       "      <td>0.000000e+00</td>\n",
       "      <td>0.000000e+00</td>\n",
       "      <td>0</td>\n",
       "      <td>0.0</td>\n",
       "      <td>8.627951e+04</td>\n",
       "      <td>0</td>\n",
       "      <td>0</td>\n",
       "      <td>0</td>\n",
       "      <td>0</td>\n",
       "      <td>1</td>\n",
       "      <td>1</td>\n",
       "    </tr>\n",
       "    <tr>\n",
       "      <th>6067756</th>\n",
       "      <td>662</td>\n",
       "      <td>3.143967e+06</td>\n",
       "      <td>530026</td>\n",
       "      <td>3.143967e+06</td>\n",
       "      <td>0.0</td>\n",
       "      <td>553350</td>\n",
       "      <td>8.947996e+04</td>\n",
       "      <td>3.233447e+06</td>\n",
       "      <td>0</td>\n",
       "      <td>0.0</td>\n",
       "      <td>6.287933e+06</td>\n",
       "      <td>0</td>\n",
       "      <td>1</td>\n",
       "      <td>0</td>\n",
       "      <td>0</td>\n",
       "      <td>0</td>\n",
       "      <td>1</td>\n",
       "    </tr>\n",
       "    <tr>\n",
       "      <th>9937880</th>\n",
       "      <td>353</td>\n",
       "      <td>9.439099e+04</td>\n",
       "      <td>1221524</td>\n",
       "      <td>9.439099e+04</td>\n",
       "      <td>0.0</td>\n",
       "      <td>361421</td>\n",
       "      <td>4.844045e+06</td>\n",
       "      <td>4.938436e+06</td>\n",
       "      <td>0</td>\n",
       "      <td>0.0</td>\n",
       "      <td>1.887820e+05</td>\n",
       "      <td>0</td>\n",
       "      <td>1</td>\n",
       "      <td>0</td>\n",
       "      <td>0</td>\n",
       "      <td>0</td>\n",
       "      <td>1</td>\n",
       "    </tr>\n",
       "    <tr>\n",
       "      <th>7435669</th>\n",
       "      <td>421</td>\n",
       "      <td>1.041590e+05</td>\n",
       "      <td>2569649</td>\n",
       "      <td>1.041590e+05</td>\n",
       "      <td>0.0</td>\n",
       "      <td>525214</td>\n",
       "      <td>2.378955e+04</td>\n",
       "      <td>1.279486e+05</td>\n",
       "      <td>0</td>\n",
       "      <td>0.0</td>\n",
       "      <td>2.083181e+05</td>\n",
       "      <td>0</td>\n",
       "      <td>1</td>\n",
       "      <td>0</td>\n",
       "      <td>0</td>\n",
       "      <td>0</td>\n",
       "      <td>1</td>\n",
       "    </tr>\n",
       "    <tr>\n",
       "      <th>5338830</th>\n",
       "      <td>278</td>\n",
       "      <td>2.363268e+05</td>\n",
       "      <td>892825</td>\n",
       "      <td>2.363268e+05</td>\n",
       "      <td>0.0</td>\n",
       "      <td>353430</td>\n",
       "      <td>0.000000e+00</td>\n",
       "      <td>2.363268e+05</td>\n",
       "      <td>0</td>\n",
       "      <td>0.0</td>\n",
       "      <td>4.726536e+05</td>\n",
       "      <td>0</td>\n",
       "      <td>1</td>\n",
       "      <td>0</td>\n",
       "      <td>0</td>\n",
       "      <td>0</td>\n",
       "      <td>1</td>\n",
       "    </tr>\n",
       "  </tbody>\n",
       "</table>\n",
       "</div>"
      ],
      "text/plain": [
       "         step        amount  nameOrig  oldBalanceOrig  newBalanceOrig  \\\n",
       "6381643   383  8.627951e+04   2022088    8.627951e+04             0.0   \n",
       "6067756   662  3.143967e+06    530026    3.143967e+06             0.0   \n",
       "9937880   353  9.439099e+04   1221524    9.439099e+04             0.0   \n",
       "7435669   421  1.041590e+05   2569649    1.041590e+05             0.0   \n",
       "5338830   278  2.363268e+05    892825    2.363268e+05             0.0   \n",
       "\n",
       "         nameDest  oldBalanceDest  newBalanceDest  isFlaggedFraud  \\\n",
       "6381643    556230    0.000000e+00    0.000000e+00               0   \n",
       "6067756    553350    8.947996e+04    3.233447e+06               0   \n",
       "9937880    361421    4.844045e+06    4.938436e+06               0   \n",
       "7435669    525214    2.378955e+04    1.279486e+05               0   \n",
       "5338830    353430    0.000000e+00    2.363268e+05               0   \n",
       "\n",
       "         errorBalanceOrig  errorBalanceDest  type_0.0  type_1.0  type_2.0  \\\n",
       "6381643               0.0      8.627951e+04         0         0         0   \n",
       "6067756               0.0      6.287933e+06         0         1         0   \n",
       "9937880               0.0      1.887820e+05         0         1         0   \n",
       "7435669               0.0      2.083181e+05         0         1         0   \n",
       "5338830               0.0      4.726536e+05         0         1         0   \n",
       "\n",
       "         type_3.0  type_4.0  isFraud  \n",
       "6381643         0         1        1  \n",
       "6067756         0         0        1  \n",
       "9937880         0         0        1  \n",
       "7435669         0         0        1  \n",
       "5338830         0         0        1  "
      ]
     },
     "execution_count": 33,
     "metadata": {},
     "output_type": "execute_result"
    }
   ],
   "source": [
    "data_new_sample.head()"
   ]
  },
  {
   "cell_type": "code",
   "execution_count": 34,
   "id": "5dff3c69",
   "metadata": {},
   "outputs": [],
   "source": [
    "X_resampled_SMOTE_data_new_sample = data_new_sample.drop('isFraud', axis=1)"
   ]
  },
  {
   "cell_type": "code",
   "execution_count": 35,
   "id": "26142ed2",
   "metadata": {},
   "outputs": [],
   "source": [
    "y_resampled_SMOTE_data_new_sample = data_new_sample['isFraud']"
   ]
  },
  {
   "cell_type": "markdown",
   "id": "1584b316",
   "metadata": {},
   "source": [
    "## Modelling"
   ]
  },
  {
   "cell_type": "markdown",
   "id": "dfd21f6c",
   "metadata": {},
   "source": [
    "### Logistic regression using SMOTE data"
   ]
  },
  {
   "cell_type": "code",
   "execution_count": 36,
   "id": "09af1edd",
   "metadata": {},
   "outputs": [],
   "source": [
    "logreg = LogisticRegression()"
   ]
  },
  {
   "cell_type": "code",
   "execution_count": 37,
   "id": "72aa84ef",
   "metadata": {},
   "outputs": [],
   "source": [
    "# Train the model on the Training data\n",
    "log_model_SMOTE = logreg.fit(X_resampled_SMOTE_data_new_sample, y_resampled_SMOTE_data_new_sample)"
   ]
  },
  {
   "cell_type": "code",
   "execution_count": 38,
   "id": "a14f6826",
   "metadata": {},
   "outputs": [],
   "source": [
    "y_pred = log_model_SMOTE.predict(X_test_resampled_SMOTE)\n"
   ]
  },
  {
   "cell_type": "code",
   "execution_count": 39,
   "id": "f3b69c3d",
   "metadata": {},
   "outputs": [
    {
     "name": "stdout",
     "output_type": "stream",
     "text": [
      "Recall SMOTE: 0.9424687427053199\n"
     ]
    }
   ],
   "source": [
    "# Score the model on the Test data\n",
    "recall = recall_score(y_test_resampled_SMOTE, y_pred)\n",
    "print(\"Recall SMOTE:\", recall)\n"
   ]
  },
  {
   "cell_type": "markdown",
   "id": "5abdcba3",
   "metadata": {},
   "source": [
    "### Feature selection on SMOTE data"
   ]
  },
  {
   "cell_type": "code",
   "execution_count": 41,
   "id": "3ed6ae81",
   "metadata": {},
   "outputs": [
    {
     "data": {
      "text/html": [
       "<div>\n",
       "<style scoped>\n",
       "    .dataframe tbody tr th:only-of-type {\n",
       "        vertical-align: middle;\n",
       "    }\n",
       "\n",
       "    .dataframe tbody tr th {\n",
       "        vertical-align: top;\n",
       "    }\n",
       "\n",
       "    .dataframe thead th {\n",
       "        text-align: right;\n",
       "    }\n",
       "</style>\n",
       "<table border=\"1\" class=\"dataframe\">\n",
       "  <thead>\n",
       "    <tr style=\"text-align: right;\">\n",
       "      <th></th>\n",
       "      <th>feature</th>\n",
       "      <th>score_decrease</th>\n",
       "    </tr>\n",
       "  </thead>\n",
       "  <tbody>\n",
       "    <tr>\n",
       "      <th>7</th>\n",
       "      <td>newBalanceDest</td>\n",
       "      <td>0.18686</td>\n",
       "    </tr>\n",
       "    <tr>\n",
       "      <th>1</th>\n",
       "      <td>amount</td>\n",
       "      <td>0.17324</td>\n",
       "    </tr>\n",
       "    <tr>\n",
       "      <th>10</th>\n",
       "      <td>errorBalanceDest</td>\n",
       "      <td>0.13389</td>\n",
       "    </tr>\n",
       "    <tr>\n",
       "      <th>6</th>\n",
       "      <td>oldBalanceDest</td>\n",
       "      <td>0.087</td>\n",
       "    </tr>\n",
       "    <tr>\n",
       "      <th>4</th>\n",
       "      <td>newBalanceOrig</td>\n",
       "      <td>0.08131</td>\n",
       "    </tr>\n",
       "    <tr>\n",
       "      <th>9</th>\n",
       "      <td>errorBalanceOrig</td>\n",
       "      <td>0.07338</td>\n",
       "    </tr>\n",
       "    <tr>\n",
       "      <th>3</th>\n",
       "      <td>oldBalanceOrig</td>\n",
       "      <td>0.06794</td>\n",
       "    </tr>\n",
       "    <tr>\n",
       "      <th>5</th>\n",
       "      <td>nameDest</td>\n",
       "      <td>0.04009</td>\n",
       "    </tr>\n",
       "    <tr>\n",
       "      <th>2</th>\n",
       "      <td>nameOrig</td>\n",
       "      <td>0.00195</td>\n",
       "    </tr>\n",
       "    <tr>\n",
       "      <th>0</th>\n",
       "      <td>step</td>\n",
       "      <td>0.0</td>\n",
       "    </tr>\n",
       "    <tr>\n",
       "      <th>8</th>\n",
       "      <td>isFlaggedFraud</td>\n",
       "      <td>0.0</td>\n",
       "    </tr>\n",
       "    <tr>\n",
       "      <th>11</th>\n",
       "      <td>type_0.0</td>\n",
       "      <td>0.0</td>\n",
       "    </tr>\n",
       "    <tr>\n",
       "      <th>12</th>\n",
       "      <td>type_1.0</td>\n",
       "      <td>0.0</td>\n",
       "    </tr>\n",
       "    <tr>\n",
       "      <th>13</th>\n",
       "      <td>type_2.0</td>\n",
       "      <td>0.0</td>\n",
       "    </tr>\n",
       "    <tr>\n",
       "      <th>14</th>\n",
       "      <td>type_3.0</td>\n",
       "      <td>0.0</td>\n",
       "    </tr>\n",
       "    <tr>\n",
       "      <th>15</th>\n",
       "      <td>type_4.0</td>\n",
       "      <td>0.0</td>\n",
       "    </tr>\n",
       "  </tbody>\n",
       "</table>\n",
       "</div>"
      ],
      "text/plain": [
       "             feature score_decrease\n",
       "7     newBalanceDest        0.18686\n",
       "1             amount        0.17324\n",
       "10  errorBalanceDest        0.13389\n",
       "6     oldBalanceDest          0.087\n",
       "4     newBalanceOrig        0.08131\n",
       "9   errorBalanceOrig        0.07338\n",
       "3     oldBalanceOrig        0.06794\n",
       "5           nameDest        0.04009\n",
       "2           nameOrig        0.00195\n",
       "0               step            0.0\n",
       "8     isFlaggedFraud            0.0\n",
       "11          type_0.0            0.0\n",
       "12          type_1.0            0.0\n",
       "13          type_2.0            0.0\n",
       "14          type_3.0            0.0\n",
       "15          type_4.0            0.0"
      ]
     },
     "execution_count": 41,
     "metadata": {},
     "output_type": "execute_result"
    }
   ],
   "source": [
    "permutation_score = permutation_importance(log_model_SMOTE, X_resampled_SMOTE_data_new_sample, y_resampled_SMOTE_data_new_sample, n_repeats=10, scoring = 'recall') # Perform Permutation\"\n",
    "importance_df = pd.DataFrame(np.vstack((X.columns, permutation_score.importances_mean)).T) # Unstack results\"\n",
    "importance_df.columns=['feature','score_decrease'] \n",
    "importance_df.sort_values(by='score_decrease', ascending = False) # Order by importance\""
   ]
  },
  {
   "cell_type": "markdown",
   "id": "ec97cc0a",
   "metadata": {},
   "source": [
    "### Logistic Regression using ADASYN data"
   ]
  },
  {
   "cell_type": "code",
   "execution_count": null,
   "id": "498fee94",
   "metadata": {},
   "outputs": [],
   "source": [
    "# X_resampled_ADASYN = X_resampled_ADASYN.drop('isFraud', axis=1)"
   ]
  },
  {
   "cell_type": "code",
   "execution_count": null,
   "id": "ce213f3d",
   "metadata": {},
   "outputs": [],
   "source": [
    "# # Train the model on the Training data\n",
    "# log_model_ADASYN = logreg.fit(X_resampled_ADASYN, y_resampled_ADASYN)"
   ]
  },
  {
   "cell_type": "code",
   "execution_count": null,
   "id": "d4865c03",
   "metadata": {},
   "outputs": [],
   "source": [
    "# y_pred = log_model_ADASYN.predict(X_test)"
   ]
  },
  {
   "cell_type": "code",
   "execution_count": null,
   "id": "1b9a22b8",
   "metadata": {
    "scrolled": true
   },
   "outputs": [],
   "source": [
    "# # Score the model on the Test data\n",
    "# recall = recall_score(y_test, y_pred)\n",
    "# print(\"Recall ADASYN:\", recall)"
   ]
  },
  {
   "cell_type": "markdown",
   "id": "fafc634d",
   "metadata": {},
   "source": [
    "### Feature selection on ADASYN"
   ]
  },
  {
   "cell_type": "code",
   "execution_count": null,
   "id": "344e721d",
   "metadata": {},
   "outputs": [],
   "source": [
    "# permutation_score = permutation_importance(log_model_ADASYN, X_resampled_SMOTE, y_resampled_SMOTE, n_repeats=10, scoring = 'recall') # Perform Permutation\"\n",
    "# importance_df = pd.DataFrame(np.vstack((X.columns, permutation_score.importances_mean)).T) # Unstack results\"\n",
    "# importance_df.columns=['feature','score_decrease']\n",
    "# importance_df.sort_values(by='score_decrease', ascending = False) # Order by importance\""
   ]
  },
  {
   "cell_type": "markdown",
   "id": "246d0172",
   "metadata": {},
   "source": [
    "### SVM Classifcation Model"
   ]
  },
  {
   "cell_type": "markdown",
   "id": "056d7f46",
   "metadata": {},
   "source": [
    "#### SMOTE"
   ]
  },
  {
   "cell_type": "code",
   "execution_count": 42,
   "id": "417af54e",
   "metadata": {},
   "outputs": [],
   "source": [
    "classifier = svm.SVC(kernel='linear') # We set a SVM classifier, the default SVM Classifier (Kernel = Radial Basis Function)"
   ]
  },
  {
   "cell_type": "code",
   "execution_count": null,
   "id": "5052c954",
   "metadata": {},
   "outputs": [],
   "source": [
    "classifier.fit(X_resampled_SMOTE_data_new_sample, y_resampled_SMOTE_data_new_sample) # Then we train our model, with our balanced data train."
   ]
  },
  {
   "cell_type": "code",
   "execution_count": null,
   "id": "694e8b6c",
   "metadata": {},
   "outputs": [],
   "source": [
    "prediction_SVM_all = classifier.predict(X_test_resampled_SMOTE) #We predict our data test."
   ]
  },
  {
   "cell_type": "code",
   "execution_count": null,
   "id": "d06b0816",
   "metadata": {},
   "outputs": [],
   "source": [
    "#Looking at Gamma for curvature in decision boundary\n",
    "#Apply SVM model using most commom kernel functions: Gaussian radial basis function (RBF)\n",
    "\n",
    "rbf_svc=SVC(kernel='rbf').fit(X_resampled_SMOTE_data_new_sample, y_resampled_SMOTE_data_new_sample)\n",
    "y_pred = rbf_svc.predict(X_test_resampled_SMOTE)\n",
    "print('Model accuracy with rbf kernel : {0:0.3f}'. format(accuracy_score(y_test_resampled_SMOTE, y_pred)))"
   ]
  },
  {
   "cell_type": "code",
   "execution_count": null,
   "id": "89d4b204",
   "metadata": {},
   "outputs": [],
   "source": [
    "cm = confusion_matrix(y_test_resampled_SMOTE, y_pred) #predicted positives/negatives vs actual positives/negatives\n",
    "plot_confusion_matrix(cm,class_names)"
   ]
  },
  {
   "cell_type": "code",
   "execution_count": null,
   "id": "98ed4a1e",
   "metadata": {},
   "outputs": [],
   "source": []
  }
 ],
 "metadata": {
  "kernelspec": {
   "display_name": "Python 3 (ipykernel)",
   "language": "python",
   "name": "python3"
  },
  "language_info": {
   "codemirror_mode": {
    "name": "ipython",
    "version": 3
   },
   "file_extension": ".py",
   "mimetype": "text/x-python",
   "name": "python",
   "nbconvert_exporter": "python",
   "pygments_lexer": "ipython3",
   "version": "3.10.6"
  },
  "toc": {
   "base_numbering": 1,
   "nav_menu": {},
   "number_sections": true,
   "sideBar": true,
   "skip_h1_title": false,
   "title_cell": "Table of Contents",
   "title_sidebar": "Contents",
   "toc_cell": false,
   "toc_position": {},
   "toc_section_display": true,
   "toc_window_display": true
  }
 },
 "nbformat": 4,
 "nbformat_minor": 5
}
