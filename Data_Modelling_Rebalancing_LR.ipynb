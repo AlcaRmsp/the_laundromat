{
 "cells": [
  {
   "cell_type": "markdown",
   "id": "ff3fdd55",
   "metadata": {},
   "source": [
    "## Data"
   ]
  },
  {
   "cell_type": "code",
   "execution_count": 103,
   "id": "9b4d5c0b",
   "metadata": {},
   "outputs": [
    {
     "name": "stdout",
     "output_type": "stream",
     "text": [
      "The autoreload extension is already loaded. To reload it, use:\n",
      "  %reload_ext autoreload\n"
     ]
    }
   ],
   "source": [
    "%load_ext autoreload\n",
    "%autoreload 2\n",
    "import matplotlib\n",
    "import numpy as np\n",
    "import pandas as pd\n",
    "import matplotlib.pyplot as plt\n",
    "import seaborn as sns\n",
    "from sklearn.linear_model import LogisticRegression\n",
    "from sklearn.model_selection import train_test_split\n",
    "import imblearn\n",
    "from sklearn.inspection import permutation_importance\n",
    "import collections\n",
    "from imblearn.over_sampling import SMOTE\n",
    "from sklearn.metrics import recall_score\n",
    "from sklearn.svm import LinearSVC\n",
    "from imblearn.over_sampling import ADASYN\n",
    "from sklearn import metrics\n",
    "from sklearn.metrics import classification_report\n",
    "from sklearn.metrics import accuracy_score\n",
    "from sklearn.metrics import confusion_matrix\n",
    "import scikitplot as skplt\n",
    "from sklearn.metrics import RocCurveDisplay\n",
    "\n",
    "# Scikit-learn library: For SVM\n",
    "from sklearn import preprocessing\n",
    "from sklearn.metrics import confusion_matrix\n",
    "from sklearn import svm"
   ]
  },
  {
   "cell_type": "code",
   "execution_count": 2,
   "id": "c231e526",
   "metadata": {
    "scrolled": false
   },
   "outputs": [],
   "source": [
    "df = pd.read_csv('/Users/leahredon/code/AlcaRmsp/the_laundromat/raw_data/data.csv')\n",
    "\n",
    "df = df.rename(columns={'oldbalanceOrg':'oldBalanceOrig', 'newbalanceOrig':'newBalanceOrig', \\\n",
    "                        'oldbalanceDest':'oldBalanceDest', 'newbalanceDest':'newBalanceDest'})"
   ]
  },
  {
   "cell_type": "code",
   "execution_count": 3,
   "id": "54b47fa7",
   "metadata": {},
   "outputs": [],
   "source": [
    "df['errorBalanceOrig']=df['newBalanceOrig'] + df['amount'] - df['oldBalanceOrig']\n",
    "df['errorBalanceDest']=df['newBalanceDest'] + df['amount'] - df['oldBalanceDest']"
   ]
  },
  {
   "cell_type": "code",
   "execution_count": 4,
   "id": "1b388b92",
   "metadata": {},
   "outputs": [],
   "source": [
    "# perform one-hot encoding on type column\n",
    "df = pd.get_dummies(df, columns=['type'])"
   ]
  },
  {
   "cell_type": "code",
   "execution_count": 5,
   "id": "d8e34482",
   "metadata": {},
   "outputs": [],
   "source": [
    "from sklearn.preprocessing import LabelEncoder\n",
    "# create a label encoder object\n",
    "le = LabelEncoder()\n",
    "\n",
    "# apply the label encoder to non-numeric columns\n",
    "df['nameOrig'] = le.fit_transform(df['nameOrig'])\n",
    "df['nameDest'] = le.fit_transform(df['nameDest'])"
   ]
  },
  {
   "cell_type": "code",
   "execution_count": 6,
   "id": "b7a760e7",
   "metadata": {
    "scrolled": true
   },
   "outputs": [
    {
     "data": {
      "text/html": [
       "<div>\n",
       "<style scoped>\n",
       "    .dataframe tbody tr th:only-of-type {\n",
       "        vertical-align: middle;\n",
       "    }\n",
       "\n",
       "    .dataframe tbody tr th {\n",
       "        vertical-align: top;\n",
       "    }\n",
       "\n",
       "    .dataframe thead th {\n",
       "        text-align: right;\n",
       "    }\n",
       "</style>\n",
       "<table border=\"1\" class=\"dataframe\">\n",
       "  <thead>\n",
       "    <tr style=\"text-align: right;\">\n",
       "      <th></th>\n",
       "      <th>step</th>\n",
       "      <th>amount</th>\n",
       "      <th>nameOrig</th>\n",
       "      <th>oldBalanceOrig</th>\n",
       "      <th>newBalanceOrig</th>\n",
       "      <th>nameDest</th>\n",
       "      <th>oldBalanceDest</th>\n",
       "      <th>newBalanceDest</th>\n",
       "      <th>isFraud</th>\n",
       "      <th>isFlaggedFraud</th>\n",
       "      <th>errorBalanceOrig</th>\n",
       "      <th>errorBalanceDest</th>\n",
       "      <th>type_CASH_IN</th>\n",
       "      <th>type_CASH_OUT</th>\n",
       "      <th>type_DEBIT</th>\n",
       "      <th>type_PAYMENT</th>\n",
       "      <th>type_TRANSFER</th>\n",
       "    </tr>\n",
       "  </thead>\n",
       "  <tbody>\n",
       "    <tr>\n",
       "      <th>0</th>\n",
       "      <td>1</td>\n",
       "      <td>9839.64</td>\n",
       "      <td>757869</td>\n",
       "      <td>170136.0</td>\n",
       "      <td>160296.36</td>\n",
       "      <td>1662094</td>\n",
       "      <td>0.0</td>\n",
       "      <td>0.0</td>\n",
       "      <td>0</td>\n",
       "      <td>0</td>\n",
       "      <td>0.0</td>\n",
       "      <td>9839.64</td>\n",
       "      <td>0</td>\n",
       "      <td>0</td>\n",
       "      <td>0</td>\n",
       "      <td>1</td>\n",
       "      <td>0</td>\n",
       "    </tr>\n",
       "    <tr>\n",
       "      <th>1</th>\n",
       "      <td>1</td>\n",
       "      <td>1864.28</td>\n",
       "      <td>2188998</td>\n",
       "      <td>21249.0</td>\n",
       "      <td>19384.72</td>\n",
       "      <td>1733924</td>\n",
       "      <td>0.0</td>\n",
       "      <td>0.0</td>\n",
       "      <td>0</td>\n",
       "      <td>0</td>\n",
       "      <td>0.0</td>\n",
       "      <td>1864.28</td>\n",
       "      <td>0</td>\n",
       "      <td>0</td>\n",
       "      <td>0</td>\n",
       "      <td>1</td>\n",
       "      <td>0</td>\n",
       "    </tr>\n",
       "    <tr>\n",
       "      <th>2</th>\n",
       "      <td>1</td>\n",
       "      <td>181.00</td>\n",
       "      <td>1002156</td>\n",
       "      <td>181.0</td>\n",
       "      <td>0.00</td>\n",
       "      <td>439685</td>\n",
       "      <td>0.0</td>\n",
       "      <td>0.0</td>\n",
       "      <td>1</td>\n",
       "      <td>0</td>\n",
       "      <td>0.0</td>\n",
       "      <td>181.00</td>\n",
       "      <td>0</td>\n",
       "      <td>0</td>\n",
       "      <td>0</td>\n",
       "      <td>0</td>\n",
       "      <td>1</td>\n",
       "    </tr>\n",
       "    <tr>\n",
       "      <th>3</th>\n",
       "      <td>1</td>\n",
       "      <td>181.00</td>\n",
       "      <td>5828262</td>\n",
       "      <td>181.0</td>\n",
       "      <td>0.00</td>\n",
       "      <td>391696</td>\n",
       "      <td>21182.0</td>\n",
       "      <td>0.0</td>\n",
       "      <td>1</td>\n",
       "      <td>0</td>\n",
       "      <td>0.0</td>\n",
       "      <td>-21001.00</td>\n",
       "      <td>0</td>\n",
       "      <td>1</td>\n",
       "      <td>0</td>\n",
       "      <td>0</td>\n",
       "      <td>0</td>\n",
       "    </tr>\n",
       "    <tr>\n",
       "      <th>4</th>\n",
       "      <td>1</td>\n",
       "      <td>11668.14</td>\n",
       "      <td>3445981</td>\n",
       "      <td>41554.0</td>\n",
       "      <td>29885.86</td>\n",
       "      <td>828919</td>\n",
       "      <td>0.0</td>\n",
       "      <td>0.0</td>\n",
       "      <td>0</td>\n",
       "      <td>0</td>\n",
       "      <td>0.0</td>\n",
       "      <td>11668.14</td>\n",
       "      <td>0</td>\n",
       "      <td>0</td>\n",
       "      <td>0</td>\n",
       "      <td>1</td>\n",
       "      <td>0</td>\n",
       "    </tr>\n",
       "  </tbody>\n",
       "</table>\n",
       "</div>"
      ],
      "text/plain": [
       "   step    amount  nameOrig  oldBalanceOrig  newBalanceOrig  nameDest  \\\n",
       "0     1   9839.64    757869        170136.0       160296.36   1662094   \n",
       "1     1   1864.28   2188998         21249.0        19384.72   1733924   \n",
       "2     1    181.00   1002156           181.0            0.00    439685   \n",
       "3     1    181.00   5828262           181.0            0.00    391696   \n",
       "4     1  11668.14   3445981         41554.0        29885.86    828919   \n",
       "\n",
       "   oldBalanceDest  newBalanceDest  isFraud  isFlaggedFraud  errorBalanceOrig  \\\n",
       "0             0.0             0.0        0               0               0.0   \n",
       "1             0.0             0.0        0               0               0.0   \n",
       "2             0.0             0.0        1               0               0.0   \n",
       "3         21182.0             0.0        1               0               0.0   \n",
       "4             0.0             0.0        0               0               0.0   \n",
       "\n",
       "   errorBalanceDest  type_CASH_IN  type_CASH_OUT  type_DEBIT  type_PAYMENT  \\\n",
       "0           9839.64             0              0           0             1   \n",
       "1           1864.28             0              0           0             1   \n",
       "2            181.00             0              0           0             0   \n",
       "3         -21001.00             0              1           0             0   \n",
       "4          11668.14             0              0           0             1   \n",
       "\n",
       "   type_TRANSFER  \n",
       "0              0  \n",
       "1              0  \n",
       "2              1  \n",
       "3              0  \n",
       "4              0  "
      ]
     },
     "execution_count": 6,
     "metadata": {},
     "output_type": "execute_result"
    }
   ],
   "source": [
    "df.head()"
   ]
  },
  {
   "cell_type": "markdown",
   "id": "938c2060",
   "metadata": {},
   "source": [
    "### Split data"
   ]
  },
  {
   "cell_type": "code",
   "execution_count": 129,
   "id": "9ba74df6",
   "metadata": {},
   "outputs": [],
   "source": [
    "# Separate the features and target variable\n",
    "X = df.drop('isFraud', axis=1)\n",
    "y = df['isFraud']"
   ]
  },
  {
   "cell_type": "code",
   "execution_count": 8,
   "id": "63031dca",
   "metadata": {},
   "outputs": [],
   "source": [
    "X_train, X_test, y_train, y_test = train_test_split(X, y, test_size=0.2, random_state=42)"
   ]
  },
  {
   "cell_type": "markdown",
   "id": "1096ef6f",
   "metadata": {},
   "source": [
    "## Balancing data"
   ]
  },
  {
   "cell_type": "markdown",
   "id": "7f7582d5",
   "metadata": {},
   "source": [
    "### SMOTE on train dataset"
   ]
  },
  {
   "cell_type": "code",
   "execution_count": 9,
   "id": "eff675f0",
   "metadata": {
    "scrolled": true
   },
   "outputs": [
    {
     "data": {
      "image/png": "[encoded data removed]",
      "text/plain": [
       "<Figure size 640x480 with 1 Axes>"
      ]
     },
     "metadata": {},
     "output_type": "display_data"
    }
   ],
   "source": [
    "#Check if data is balanced before SMOTE\n",
    "labels = 'Not Fraud','Fraud'\n",
    "values=df['isFraud'].value_counts()\n",
    "fig, ax = plt.subplots()\n",
    "ax.pie(values, labels=labels);"
   ]
  },
  {
   "cell_type": "code",
   "execution_count": 10,
   "id": "69b0e5ee",
   "metadata": {},
   "outputs": [
    {
     "name": "stdout",
     "output_type": "stream",
     "text": [
      "Counter({0: 6354407, 1: 8213})\n"
     ]
    }
   ],
   "source": [
    "# summarize class distribution\n",
    "counter = collections.Counter(y)\n",
    "print(counter)"
   ]
  },
  {
   "cell_type": "code",
   "execution_count": 11,
   "id": "16944088",
   "metadata": {
    "scrolled": false
   },
   "outputs": [
    {
     "data": {
      "text/plain": [
       "((5090096, 16), (5090096,))"
      ]
     },
     "execution_count": 11,
     "metadata": {},
     "output_type": "execute_result"
    }
   ],
   "source": [
    "X_train.shape, y_train.shape"
   ]
  },
  {
   "cell_type": "code",
   "execution_count": 12,
   "id": "785e0a8e",
   "metadata": {},
   "outputs": [],
   "source": [
    "X_resampled_SMOTE, y_resampled_SMOTE = SMOTE().fit_resample(X_train, y_train)"
   ]
  },
  {
   "cell_type": "code",
   "execution_count": 13,
   "id": "7657a793",
   "metadata": {
    "scrolled": true
   },
   "outputs": [
    {
     "data": {
      "text/html": [
       "<div>\n",
       "<style scoped>\n",
       "    .dataframe tbody tr th:only-of-type {\n",
       "        vertical-align: middle;\n",
       "    }\n",
       "\n",
       "    .dataframe tbody tr th {\n",
       "        vertical-align: top;\n",
       "    }\n",
       "\n",
       "    .dataframe thead th {\n",
       "        text-align: right;\n",
       "    }\n",
       "</style>\n",
       "<table border=\"1\" class=\"dataframe\">\n",
       "  <thead>\n",
       "    <tr style=\"text-align: right;\">\n",
       "      <th></th>\n",
       "      <th>step</th>\n",
       "      <th>amount</th>\n",
       "      <th>nameOrig</th>\n",
       "      <th>oldBalanceOrig</th>\n",
       "      <th>newBalanceOrig</th>\n",
       "      <th>nameDest</th>\n",
       "      <th>oldBalanceDest</th>\n",
       "      <th>newBalanceDest</th>\n",
       "      <th>isFlaggedFraud</th>\n",
       "      <th>errorBalanceOrig</th>\n",
       "      <th>errorBalanceDest</th>\n",
       "      <th>type_CASH_IN</th>\n",
       "      <th>type_CASH_OUT</th>\n",
       "      <th>type_DEBIT</th>\n",
       "      <th>type_PAYMENT</th>\n",
       "      <th>type_TRANSFER</th>\n",
       "    </tr>\n",
       "  </thead>\n",
       "  <tbody>\n",
       "    <tr>\n",
       "      <th>0</th>\n",
       "      <td>619</td>\n",
       "      <td>386385.08</td>\n",
       "      <td>4449199</td>\n",
       "      <td>4669568.85</td>\n",
       "      <td>5055953.92</td>\n",
       "      <td>289167</td>\n",
       "      <td>506035.06</td>\n",
       "      <td>119649.98</td>\n",
       "      <td>0</td>\n",
       "      <td>772770.15</td>\n",
       "      <td>0.00</td>\n",
       "      <td>1</td>\n",
       "      <td>0</td>\n",
       "      <td>0</td>\n",
       "      <td>0</td>\n",
       "      <td>0</td>\n",
       "    </tr>\n",
       "    <tr>\n",
       "      <th>1</th>\n",
       "      <td>164</td>\n",
       "      <td>212458.78</td>\n",
       "      <td>5813773</td>\n",
       "      <td>234635.00</td>\n",
       "      <td>447093.78</td>\n",
       "      <td>204382</td>\n",
       "      <td>806037.88</td>\n",
       "      <td>593579.10</td>\n",
       "      <td>0</td>\n",
       "      <td>424917.56</td>\n",
       "      <td>0.00</td>\n",
       "      <td>1</td>\n",
       "      <td>0</td>\n",
       "      <td>0</td>\n",
       "      <td>0</td>\n",
       "      <td>0</td>\n",
       "    </tr>\n",
       "    <tr>\n",
       "      <th>2</th>\n",
       "      <td>382</td>\n",
       "      <td>19967.60</td>\n",
       "      <td>5870502</td>\n",
       "      <td>3634.00</td>\n",
       "      <td>0.00</td>\n",
       "      <td>1346491</td>\n",
       "      <td>0.00</td>\n",
       "      <td>0.00</td>\n",
       "      <td>0</td>\n",
       "      <td>16333.60</td>\n",
       "      <td>19967.60</td>\n",
       "      <td>0</td>\n",
       "      <td>0</td>\n",
       "      <td>0</td>\n",
       "      <td>1</td>\n",
       "      <td>0</td>\n",
       "    </tr>\n",
       "    <tr>\n",
       "      <th>3</th>\n",
       "      <td>180</td>\n",
       "      <td>527616.51</td>\n",
       "      <td>5095916</td>\n",
       "      <td>180216.00</td>\n",
       "      <td>0.00</td>\n",
       "      <td>446948</td>\n",
       "      <td>92157.10</td>\n",
       "      <td>619773.61</td>\n",
       "      <td>0</td>\n",
       "      <td>347400.51</td>\n",
       "      <td>1055233.02</td>\n",
       "      <td>0</td>\n",
       "      <td>1</td>\n",
       "      <td>0</td>\n",
       "      <td>0</td>\n",
       "      <td>0</td>\n",
       "    </tr>\n",
       "    <tr>\n",
       "      <th>4</th>\n",
       "      <td>36</td>\n",
       "      <td>206067.85</td>\n",
       "      <td>5557736</td>\n",
       "      <td>0.00</td>\n",
       "      <td>0.00</td>\n",
       "      <td>338417</td>\n",
       "      <td>2131494.48</td>\n",
       "      <td>2337562.32</td>\n",
       "      <td>0</td>\n",
       "      <td>206067.85</td>\n",
       "      <td>412135.69</td>\n",
       "      <td>0</td>\n",
       "      <td>0</td>\n",
       "      <td>0</td>\n",
       "      <td>0</td>\n",
       "      <td>1</td>\n",
       "    </tr>\n",
       "  </tbody>\n",
       "</table>\n",
       "</div>"
      ],
      "text/plain": [
       "   step     amount  nameOrig  oldBalanceOrig  newBalanceOrig  nameDest  \\\n",
       "0   619  386385.08   4449199      4669568.85      5055953.92    289167   \n",
       "1   164  212458.78   5813773       234635.00       447093.78    204382   \n",
       "2   382   19967.60   5870502         3634.00            0.00   1346491   \n",
       "3   180  527616.51   5095916       180216.00            0.00    446948   \n",
       "4    36  206067.85   5557736            0.00            0.00    338417   \n",
       "\n",
       "   oldBalanceDest  newBalanceDest  isFlaggedFraud  errorBalanceOrig  \\\n",
       "0       506035.06       119649.98               0         772770.15   \n",
       "1       806037.88       593579.10               0         424917.56   \n",
       "2            0.00            0.00               0          16333.60   \n",
       "3        92157.10       619773.61               0         347400.51   \n",
       "4      2131494.48      2337562.32               0         206067.85   \n",
       "\n",
       "   errorBalanceDest  type_CASH_IN  type_CASH_OUT  type_DEBIT  type_PAYMENT  \\\n",
       "0              0.00             1              0           0             0   \n",
       "1              0.00             1              0           0             0   \n",
       "2          19967.60             0              0           0             1   \n",
       "3        1055233.02             0              1           0             0   \n",
       "4         412135.69             0              0           0             0   \n",
       "\n",
       "   type_TRANSFER  \n",
       "0              0  \n",
       "1              0  \n",
       "2              0  \n",
       "3              0  \n",
       "4              1  "
      ]
     },
     "execution_count": 13,
     "metadata": {},
     "output_type": "execute_result"
    }
   ],
   "source": [
    "X_resampled_SMOTE.head()"
   ]
  },
  {
   "cell_type": "code",
   "execution_count": 14,
   "id": "0ac534fa",
   "metadata": {},
   "outputs": [
    {
     "data": {
      "text/plain": [
       "((10167006, 16), (10167006,))"
      ]
     },
     "execution_count": 14,
     "metadata": {},
     "output_type": "execute_result"
    }
   ],
   "source": [
    "X_resampled_SMOTE.shape, y_resampled_SMOTE.shape"
   ]
  },
  {
   "cell_type": "code",
   "execution_count": 15,
   "id": "18725aac",
   "metadata": {
    "scrolled": true
   },
   "outputs": [
    {
     "data": {
      "text/html": [
       "<div>\n",
       "<style scoped>\n",
       "    .dataframe tbody tr th:only-of-type {\n",
       "        vertical-align: middle;\n",
       "    }\n",
       "\n",
       "    .dataframe tbody tr th {\n",
       "        vertical-align: top;\n",
       "    }\n",
       "\n",
       "    .dataframe thead th {\n",
       "        text-align: right;\n",
       "    }\n",
       "</style>\n",
       "<table border=\"1\" class=\"dataframe\">\n",
       "  <thead>\n",
       "    <tr style=\"text-align: right;\">\n",
       "      <th></th>\n",
       "      <th>isFraud</th>\n",
       "    </tr>\n",
       "  </thead>\n",
       "  <tbody>\n",
       "    <tr>\n",
       "      <th>0</th>\n",
       "      <td>0</td>\n",
       "    </tr>\n",
       "    <tr>\n",
       "      <th>1</th>\n",
       "      <td>0</td>\n",
       "    </tr>\n",
       "    <tr>\n",
       "      <th>2</th>\n",
       "      <td>0</td>\n",
       "    </tr>\n",
       "    <tr>\n",
       "      <th>3</th>\n",
       "      <td>0</td>\n",
       "    </tr>\n",
       "    <tr>\n",
       "      <th>4</th>\n",
       "      <td>0</td>\n",
       "    </tr>\n",
       "    <tr>\n",
       "      <th>...</th>\n",
       "      <td>...</td>\n",
       "    </tr>\n",
       "    <tr>\n",
       "      <th>10167001</th>\n",
       "      <td>1</td>\n",
       "    </tr>\n",
       "    <tr>\n",
       "      <th>10167002</th>\n",
       "      <td>1</td>\n",
       "    </tr>\n",
       "    <tr>\n",
       "      <th>10167003</th>\n",
       "      <td>1</td>\n",
       "    </tr>\n",
       "    <tr>\n",
       "      <th>10167004</th>\n",
       "      <td>1</td>\n",
       "    </tr>\n",
       "    <tr>\n",
       "      <th>10167005</th>\n",
       "      <td>1</td>\n",
       "    </tr>\n",
       "  </tbody>\n",
       "</table>\n",
       "<p>10167006 rows × 1 columns</p>\n",
       "</div>"
      ],
      "text/plain": [
       "          isFraud\n",
       "0               0\n",
       "1               0\n",
       "2               0\n",
       "3               0\n",
       "4               0\n",
       "...           ...\n",
       "10167001        1\n",
       "10167002        1\n",
       "10167003        1\n",
       "10167004        1\n",
       "10167005        1\n",
       "\n",
       "[10167006 rows x 1 columns]"
      ]
     },
     "execution_count": 15,
     "metadata": {},
     "output_type": "execute_result"
    }
   ],
   "source": [
    "pd.DataFrame(y_resampled_SMOTE)"
   ]
  },
  {
   "cell_type": "markdown",
   "id": "fdce151f",
   "metadata": {},
   "source": [
    "### SMOTE on  test dataset (50/50 split)"
   ]
  },
  {
   "cell_type": "code",
   "execution_count": 17,
   "id": "075fff78",
   "metadata": {
    "scrolled": true
   },
   "outputs": [],
   "source": [
    "X_test_resampled_SMOTE, y_test_resampled_SMOTE = SMOTE(sampling_strategy= 0.5).fit_resample(X_test, y_test)"
   ]
  },
  {
   "cell_type": "code",
   "execution_count": 18,
   "id": "b8f23687",
   "metadata": {
    "scrolled": true
   },
   "outputs": [
    {
     "data": {
      "text/plain": [
       "((1906356, 16), (1906356,))"
      ]
     },
     "execution_count": 18,
     "metadata": {},
     "output_type": "execute_result"
    }
   ],
   "source": [
    "X_test_resampled_SMOTE.shape, y_test_resampled_SMOTE.shape"
   ]
  },
  {
   "cell_type": "markdown",
   "id": "43b9718e",
   "metadata": {},
   "source": [
    "#We only added isFraud back in to see what the distribution looks like"
   ]
  },
  {
   "cell_type": "code",
   "execution_count": 19,
   "id": "68e017e8",
   "metadata": {},
   "outputs": [],
   "source": [
    "X_resampled_SMOTE['isFraud'] = y_resampled_SMOTE"
   ]
  },
  {
   "cell_type": "code",
   "execution_count": 20,
   "id": "ab6b096e",
   "metadata": {},
   "outputs": [
    {
     "data": {
      "text/plain": [
       "([<matplotlib.patches.Wedge at 0x124235630>,\n",
       "  <matplotlib.patches.Wedge at 0x124210610>],\n",
       " [Text(6.735557395310444e-17, 1.1, 'Not Fraud'),\n",
       "  Text(-2.0206672185931328e-16, -1.1, 'Fraud')])"
      ]
     },
     "execution_count": 20,
     "metadata": {},
     "output_type": "execute_result"
    },
    {
     "data": {
      "image/png": "[encoded data removed]",
      "text/plain": [
       "<Figure size 640x480 with 1 Axes>"
      ]
     },
     "metadata": {},
     "output_type": "display_data"
    }
   ],
   "source": [
    "#Check if data is balanced after SMOTE balancing\n",
    "labels = 'Not Fraud','Fraud'\n",
    "values=X_resampled_SMOTE['isFraud'].value_counts()\n",
    "fig, ax = plt.subplots()\n",
    "ax.pie(values, labels=labels)"
   ]
  },
  {
   "cell_type": "markdown",
   "id": "33fc34e3",
   "metadata": {},
   "source": [
    "### ADASYN"
   ]
  },
  {
   "cell_type": "code",
   "execution_count": 21,
   "id": "5d52068f",
   "metadata": {},
   "outputs": [],
   "source": [
    "X_resampled_ADASYN, y_resampled_ADASYN = ADASYN().fit_resample(X_train, y_train)"
   ]
  },
  {
   "cell_type": "code",
   "execution_count": 22,
   "id": "4c86d7fc",
   "metadata": {},
   "outputs": [],
   "source": [
    "X_resampled_ADASYN['isFraud'] = y_resampled_ADASYN"
   ]
  },
  {
   "cell_type": "code",
   "execution_count": 23,
   "id": "7197ddef",
   "metadata": {},
   "outputs": [
    {
     "data": {
      "text/plain": [
       "([<matplotlib.patches.Wedge at 0x134a16530>,\n",
       "  <matplotlib.patches.Wedge at 0x134a17910>],\n",
       " [Text(-7.724207452182517e-05, 1.099999997288028, 'Not Fraud'),\n",
       "  Text(7.713908508922867e-05, -1.0999999972952552, 'Fraud')])"
      ]
     },
     "execution_count": 23,
     "metadata": {},
     "output_type": "execute_result"
    },
    {
     "data": {
      "image/png": "[encoded data removed]",
      "text/plain": [
       "<Figure size 640x480 with 1 Axes>"
      ]
     },
     "metadata": {},
     "output_type": "display_data"
    }
   ],
   "source": [
    "#Check if data is balanced after ADASYN balancing\n",
    "import matplotlib.pyplot as plt\n",
    "labels = 'Not Fraud','Fraud'\n",
    "values=X_resampled_ADASYN['isFraud'].value_counts()\n",
    "fig, ax = plt.subplots()\n",
    "ax.pie(values, labels=labels)"
   ]
  },
  {
   "cell_type": "markdown",
   "id": "96188272",
   "metadata": {},
   "source": [
    "### Logistic regression using SMOTE data"
   ]
  },
  {
   "cell_type": "code",
   "execution_count": 88,
   "id": "3e90bc60",
   "metadata": {},
   "outputs": [],
   "source": [
    "logreg = LogisticRegression()"
   ]
  },
  {
   "cell_type": "code",
   "execution_count": 89,
   "id": "ba24765d",
   "metadata": {},
   "outputs": [],
   "source": [
    "X_resampled_SMOTE['isFraud'] = y_resampled_SMOTE"
   ]
  },
  {
   "cell_type": "code",
   "execution_count": 90,
   "id": "66ae1eb9",
   "metadata": {},
   "outputs": [],
   "source": [
    "fraud = X_resampled_SMOTE[X_resampled_SMOTE.isFraud == 1].sample(100000)\n",
    "notfraud = X_resampled_SMOTE[X_resampled_SMOTE.isFraud == 0].sample(100000)\n",
    "data_new_sample = pd.concat([fraud, notfraud], axis=0)"
   ]
  },
  {
   "cell_type": "code",
   "execution_count": 91,
   "id": "37b10d84",
   "metadata": {},
   "outputs": [
    {
     "data": {
      "text/html": [
       "<div>\n",
       "<style scoped>\n",
       "    .dataframe tbody tr th:only-of-type {\n",
       "        vertical-align: middle;\n",
       "    }\n",
       "\n",
       "    .dataframe tbody tr th {\n",
       "        vertical-align: top;\n",
       "    }\n",
       "\n",
       "    .dataframe thead th {\n",
       "        text-align: right;\n",
       "    }\n",
       "</style>\n",
       "<table border=\"1\" class=\"dataframe\">\n",
       "  <thead>\n",
       "    <tr style=\"text-align: right;\">\n",
       "      <th></th>\n",
       "      <th>step</th>\n",
       "      <th>amount</th>\n",
       "      <th>nameOrig</th>\n",
       "      <th>oldBalanceOrig</th>\n",
       "      <th>newBalanceOrig</th>\n",
       "      <th>nameDest</th>\n",
       "      <th>oldBalanceDest</th>\n",
       "      <th>newBalanceDest</th>\n",
       "      <th>isFlaggedFraud</th>\n",
       "      <th>errorBalanceOrig</th>\n",
       "      <th>errorBalanceDest</th>\n",
       "      <th>type_CASH_IN</th>\n",
       "      <th>type_CASH_OUT</th>\n",
       "      <th>type_DEBIT</th>\n",
       "      <th>type_PAYMENT</th>\n",
       "      <th>type_TRANSFER</th>\n",
       "      <th>isFraud</th>\n",
       "    </tr>\n",
       "  </thead>\n",
       "  <tbody>\n",
       "    <tr>\n",
       "      <th>6639011</th>\n",
       "      <td>287</td>\n",
       "      <td>1.103664e+05</td>\n",
       "      <td>5024590</td>\n",
       "      <td>1.103664e+05</td>\n",
       "      <td>0.000000e+00</td>\n",
       "      <td>483138</td>\n",
       "      <td>6.338812e+06</td>\n",
       "      <td>6.449179e+06</td>\n",
       "      <td>0</td>\n",
       "      <td>0.000000e+00</td>\n",
       "      <td>2.207328e+05</td>\n",
       "      <td>0</td>\n",
       "      <td>1</td>\n",
       "      <td>0</td>\n",
       "      <td>0</td>\n",
       "      <td>0</td>\n",
       "      <td>1</td>\n",
       "    </tr>\n",
       "    <tr>\n",
       "      <th>8615528</th>\n",
       "      <td>714</td>\n",
       "      <td>3.408498e+05</td>\n",
       "      <td>3979662</td>\n",
       "      <td>3.408498e+05</td>\n",
       "      <td>0.000000e+00</td>\n",
       "      <td>140585</td>\n",
       "      <td>8.742250e+04</td>\n",
       "      <td>4.282723e+05</td>\n",
       "      <td>0</td>\n",
       "      <td>0.000000e+00</td>\n",
       "      <td>6.816996e+05</td>\n",
       "      <td>0</td>\n",
       "      <td>1</td>\n",
       "      <td>0</td>\n",
       "      <td>0</td>\n",
       "      <td>0</td>\n",
       "      <td>1</td>\n",
       "    </tr>\n",
       "    <tr>\n",
       "      <th>7534287</th>\n",
       "      <td>399</td>\n",
       "      <td>4.830399e+06</td>\n",
       "      <td>6054129</td>\n",
       "      <td>4.830399e+06</td>\n",
       "      <td>4.830399e+06</td>\n",
       "      <td>518076</td>\n",
       "      <td>0.000000e+00</td>\n",
       "      <td>0.000000e+00</td>\n",
       "      <td>1</td>\n",
       "      <td>4.830399e+06</td>\n",
       "      <td>4.830399e+06</td>\n",
       "      <td>0</td>\n",
       "      <td>0</td>\n",
       "      <td>0</td>\n",
       "      <td>0</td>\n",
       "      <td>1</td>\n",
       "      <td>1</td>\n",
       "    </tr>\n",
       "    <tr>\n",
       "      <th>8285565</th>\n",
       "      <td>159</td>\n",
       "      <td>3.935208e+04</td>\n",
       "      <td>4160004</td>\n",
       "      <td>3.935208e+04</td>\n",
       "      <td>0.000000e+00</td>\n",
       "      <td>470519</td>\n",
       "      <td>9.253474e+03</td>\n",
       "      <td>4.935749e+03</td>\n",
       "      <td>0</td>\n",
       "      <td>0.000000e+00</td>\n",
       "      <td>3.503435e+04</td>\n",
       "      <td>0</td>\n",
       "      <td>1</td>\n",
       "      <td>0</td>\n",
       "      <td>0</td>\n",
       "      <td>0</td>\n",
       "      <td>1</td>\n",
       "    </tr>\n",
       "    <tr>\n",
       "      <th>10147049</th>\n",
       "      <td>107</td>\n",
       "      <td>4.329685e+05</td>\n",
       "      <td>880685</td>\n",
       "      <td>7.879989e+04</td>\n",
       "      <td>0.000000e+00</td>\n",
       "      <td>343733</td>\n",
       "      <td>9.271584e+03</td>\n",
       "      <td>4.422401e+05</td>\n",
       "      <td>0</td>\n",
       "      <td>3.541686e+05</td>\n",
       "      <td>8.659370e+05</td>\n",
       "      <td>0</td>\n",
       "      <td>1</td>\n",
       "      <td>0</td>\n",
       "      <td>0</td>\n",
       "      <td>0</td>\n",
       "      <td>1</td>\n",
       "    </tr>\n",
       "  </tbody>\n",
       "</table>\n",
       "</div>"
      ],
      "text/plain": [
       "          step        amount  nameOrig  oldBalanceOrig  newBalanceOrig  \\\n",
       "6639011    287  1.103664e+05   5024590    1.103664e+05    0.000000e+00   \n",
       "8615528    714  3.408498e+05   3979662    3.408498e+05    0.000000e+00   \n",
       "7534287    399  4.830399e+06   6054129    4.830399e+06    4.830399e+06   \n",
       "8285565    159  3.935208e+04   4160004    3.935208e+04    0.000000e+00   \n",
       "10147049   107  4.329685e+05    880685    7.879989e+04    0.000000e+00   \n",
       "\n",
       "          nameDest  oldBalanceDest  newBalanceDest  isFlaggedFraud  \\\n",
       "6639011     483138    6.338812e+06    6.449179e+06               0   \n",
       "8615528     140585    8.742250e+04    4.282723e+05               0   \n",
       "7534287     518076    0.000000e+00    0.000000e+00               1   \n",
       "8285565     470519    9.253474e+03    4.935749e+03               0   \n",
       "10147049    343733    9.271584e+03    4.422401e+05               0   \n",
       "\n",
       "          errorBalanceOrig  errorBalanceDest  type_CASH_IN  type_CASH_OUT  \\\n",
       "6639011       0.000000e+00      2.207328e+05             0              1   \n",
       "8615528       0.000000e+00      6.816996e+05             0              1   \n",
       "7534287       4.830399e+06      4.830399e+06             0              0   \n",
       "8285565       0.000000e+00      3.503435e+04             0              1   \n",
       "10147049      3.541686e+05      8.659370e+05             0              1   \n",
       "\n",
       "          type_DEBIT  type_PAYMENT  type_TRANSFER  isFraud  \n",
       "6639011            0             0              0        1  \n",
       "8615528            0             0              0        1  \n",
       "7534287            0             0              1        1  \n",
       "8285565            0             0              0        1  \n",
       "10147049           0             0              0        1  "
      ]
     },
     "execution_count": 91,
     "metadata": {},
     "output_type": "execute_result"
    }
   ],
   "source": [
    "data_new_sample.head()"
   ]
  },
  {
   "cell_type": "code",
   "execution_count": 92,
   "id": "10df736d",
   "metadata": {},
   "outputs": [],
   "source": [
    "X_resampled_SMOTE_data_new_sample = data_new_sample.drop('isFraud', axis=1)"
   ]
  },
  {
   "cell_type": "code",
   "execution_count": 93,
   "id": "b7fba2f6",
   "metadata": {},
   "outputs": [],
   "source": [
    "y_resampled_SMOTE_data_new_sample = data_new_sample['isFraud']"
   ]
  },
  {
   "cell_type": "code",
   "execution_count": 94,
   "id": "d0ceaadd",
   "metadata": {},
   "outputs": [
    {
     "name": "stderr",
     "output_type": "stream",
     "text": [
      "/Users/leahredon/.pyenv/versions/3.10.6/envs/lewagon/lib/python3.10/site-packages/sklearn/linear_model/_logistic.py:444: ConvergenceWarning: lbfgs failed to converge (status=1):\n",
      "STOP: TOTAL NO. of ITERATIONS REACHED LIMIT.\n",
      "\n",
      "Increase the number of iterations (max_iter) or scale the data as shown in:\n",
      "    https://scikit-learn.org/stable/modules/preprocessing.html\n",
      "Please also refer to the documentation for alternative solver options:\n",
      "    https://scikit-learn.org/stable/modules/linear_model.html#logistic-regression\n",
      "  n_iter_i = _check_optimize_result(\n"
     ]
    }
   ],
   "source": [
    "# Train the model on the Training data\n",
    "log_model_SMOTE = logreg.fit(X_resampled_SMOTE_data_new_sample, y_resampled_SMOTE_data_new_sample)"
   ]
  },
  {
   "cell_type": "code",
   "execution_count": 95,
   "id": "3b5f0c43",
   "metadata": {},
   "outputs": [],
   "source": [
    "y_pred = log_model_SMOTE.predict(X_test_resampled_SMOTE)"
   ]
  },
  {
   "cell_type": "code",
   "execution_count": 96,
   "id": "68b53e4c",
   "metadata": {
    "scrolled": false
   },
   "outputs": [
    {
     "name": "stdout",
     "output_type": "stream",
     "text": [
      "Recall SMOTE: 0.9491401396171544\n"
     ]
    }
   ],
   "source": [
    "# Score the model on the Test data\n",
    "recall = recall_score(y_test_resampled_SMOTE, y_pred)\n",
    "print(\"Recall SMOTE:\", recall)"
   ]
  },
  {
   "cell_type": "markdown",
   "id": "5abdcba3",
   "metadata": {},
   "source": [
    "### Feature selection on SMOTE data"
   ]
  },
  {
   "cell_type": "code",
   "execution_count": 34,
   "id": "3ed6ae81",
   "metadata": {
    "scrolled": false
   },
   "outputs": [
    {
     "data": {
      "text/html": [
       "<div>\n",
       "<style scoped>\n",
       "    .dataframe tbody tr th:only-of-type {\n",
       "        vertical-align: middle;\n",
       "    }\n",
       "\n",
       "    .dataframe tbody tr th {\n",
       "        vertical-align: top;\n",
       "    }\n",
       "\n",
       "    .dataframe thead th {\n",
       "        text-align: right;\n",
       "    }\n",
       "</style>\n",
       "<table border=\"1\" class=\"dataframe\">\n",
       "  <thead>\n",
       "    <tr style=\"text-align: right;\">\n",
       "      <th></th>\n",
       "      <th>feature</th>\n",
       "      <th>score_decrease</th>\n",
       "    </tr>\n",
       "  </thead>\n",
       "  <tbody>\n",
       "    <tr>\n",
       "      <th>7</th>\n",
       "      <td>newBalanceDest</td>\n",
       "      <td>0.19402</td>\n",
       "    </tr>\n",
       "    <tr>\n",
       "      <th>1</th>\n",
       "      <td>amount</td>\n",
       "      <td>0.191451</td>\n",
       "    </tr>\n",
       "    <tr>\n",
       "      <th>3</th>\n",
       "      <td>oldBalanceOrig</td>\n",
       "      <td>0.168275</td>\n",
       "    </tr>\n",
       "    <tr>\n",
       "      <th>10</th>\n",
       "      <td>errorBalanceDest</td>\n",
       "      <td>0.143019</td>\n",
       "    </tr>\n",
       "    <tr>\n",
       "      <th>6</th>\n",
       "      <td>oldBalanceDest</td>\n",
       "      <td>0.095331</td>\n",
       "    </tr>\n",
       "    <tr>\n",
       "      <th>4</th>\n",
       "      <td>newBalanceOrig</td>\n",
       "      <td>0.083708</td>\n",
       "    </tr>\n",
       "    <tr>\n",
       "      <th>9</th>\n",
       "      <td>errorBalanceOrig</td>\n",
       "      <td>0.071942</td>\n",
       "    </tr>\n",
       "    <tr>\n",
       "      <th>5</th>\n",
       "      <td>nameDest</td>\n",
       "      <td>0.05016</td>\n",
       "    </tr>\n",
       "    <tr>\n",
       "      <th>0</th>\n",
       "      <td>step</td>\n",
       "      <td>0.008372</td>\n",
       "    </tr>\n",
       "    <tr>\n",
       "      <th>2</th>\n",
       "      <td>nameOrig</td>\n",
       "      <td>0.00061</td>\n",
       "    </tr>\n",
       "    <tr>\n",
       "      <th>8</th>\n",
       "      <td>isFlaggedFraud</td>\n",
       "      <td>0.0</td>\n",
       "    </tr>\n",
       "    <tr>\n",
       "      <th>11</th>\n",
       "      <td>type_CASH_IN</td>\n",
       "      <td>0.0</td>\n",
       "    </tr>\n",
       "    <tr>\n",
       "      <th>12</th>\n",
       "      <td>type_CASH_OUT</td>\n",
       "      <td>0.0</td>\n",
       "    </tr>\n",
       "    <tr>\n",
       "      <th>13</th>\n",
       "      <td>type_DEBIT</td>\n",
       "      <td>0.0</td>\n",
       "    </tr>\n",
       "    <tr>\n",
       "      <th>14</th>\n",
       "      <td>type_PAYMENT</td>\n",
       "      <td>0.0</td>\n",
       "    </tr>\n",
       "    <tr>\n",
       "      <th>15</th>\n",
       "      <td>type_TRANSFER</td>\n",
       "      <td>0.0</td>\n",
       "    </tr>\n",
       "  </tbody>\n",
       "</table>\n",
       "</div>"
      ],
      "text/plain": [
       "             feature score_decrease\n",
       "7     newBalanceDest        0.19402\n",
       "1             amount       0.191451\n",
       "3     oldBalanceOrig       0.168275\n",
       "10  errorBalanceDest       0.143019\n",
       "6     oldBalanceDest       0.095331\n",
       "4     newBalanceOrig       0.083708\n",
       "9   errorBalanceOrig       0.071942\n",
       "5           nameDest        0.05016\n",
       "0               step       0.008372\n",
       "2           nameOrig        0.00061\n",
       "8     isFlaggedFraud            0.0\n",
       "11      type_CASH_IN            0.0\n",
       "12     type_CASH_OUT            0.0\n",
       "13        type_DEBIT            0.0\n",
       "14      type_PAYMENT            0.0\n",
       "15     type_TRANSFER            0.0"
      ]
     },
     "execution_count": 34,
     "metadata": {},
     "output_type": "execute_result"
    }
   ],
   "source": [
    "permutation_score = permutation_importance(log_model_SMOTE, X_resampled_SMOTE_data_new_sample, y_resampled_SMOTE_data_new_sample, n_repeats=10, scoring = 'recall') # Perform Permutation\"\n",
    "importance_df = pd.DataFrame(np.vstack((X.columns, permutation_score.importances_mean)).T) # Unstack results\"\n",
    "importance_df.columns=['feature','score_decrease']\n",
    "importance_df.sort_values(by='score_decrease', ascending = False) # Order by importance\""
   ]
  },
  {
   "cell_type": "markdown",
   "id": "fe2d02b1",
   "metadata": {},
   "source": [
    "### Only Keeping important features and re running model"
   ]
  },
  {
   "cell_type": "markdown",
   "id": "30fe9e8b",
   "metadata": {},
   "source": [
    "We are only keeping: newBalanceDest, amount, oldBalanceOrig, errorBalanceDest"
   ]
  },
  {
   "cell_type": "code",
   "execution_count": 60,
   "id": "5f501b9d",
   "metadata": {},
   "outputs": [],
   "source": [
    "X_resampled_SMOTE_data_new_sample_imp_feat = data_new_sample.loc[:, ['newBalanceDest','amount', 'oldBalanceOrig', 'errorBalanceDest']]\n"
   ]
  },
  {
   "cell_type": "code",
   "execution_count": 61,
   "id": "cff50af5",
   "metadata": {
    "scrolled": true
   },
   "outputs": [
    {
     "data": {
      "text/html": [
       "<div>\n",
       "<style scoped>\n",
       "    .dataframe tbody tr th:only-of-type {\n",
       "        vertical-align: middle;\n",
       "    }\n",
       "\n",
       "    .dataframe tbody tr th {\n",
       "        vertical-align: top;\n",
       "    }\n",
       "\n",
       "    .dataframe thead th {\n",
       "        text-align: right;\n",
       "    }\n",
       "</style>\n",
       "<table border=\"1\" class=\"dataframe\">\n",
       "  <thead>\n",
       "    <tr style=\"text-align: right;\">\n",
       "      <th></th>\n",
       "      <th>newBalanceDest</th>\n",
       "      <th>amount</th>\n",
       "      <th>oldBalanceOrig</th>\n",
       "      <th>errorBalanceDest</th>\n",
       "    </tr>\n",
       "  </thead>\n",
       "  <tbody>\n",
       "    <tr>\n",
       "      <th>9146592</th>\n",
       "      <td>0.000000e+00</td>\n",
       "      <td>4.467943e+05</td>\n",
       "      <td>4.467943e+05</td>\n",
       "      <td>4.467943e+05</td>\n",
       "    </tr>\n",
       "    <tr>\n",
       "      <th>8476476</th>\n",
       "      <td>3.611294e+06</td>\n",
       "      <td>3.574384e+06</td>\n",
       "      <td>3.574384e+06</td>\n",
       "      <td>7.148768e+06</td>\n",
       "    </tr>\n",
       "    <tr>\n",
       "      <th>9704875</th>\n",
       "      <td>0.000000e+00</td>\n",
       "      <td>2.335014e+06</td>\n",
       "      <td>2.335014e+06</td>\n",
       "      <td>2.335014e+06</td>\n",
       "    </tr>\n",
       "    <tr>\n",
       "      <th>9403869</th>\n",
       "      <td>1.600114e+06</td>\n",
       "      <td>7.591985e+05</td>\n",
       "      <td>7.591985e+05</td>\n",
       "      <td>1.604133e+06</td>\n",
       "    </tr>\n",
       "    <tr>\n",
       "      <th>5722541</th>\n",
       "      <td>3.187632e+05</td>\n",
       "      <td>4.925413e+04</td>\n",
       "      <td>4.925413e+04</td>\n",
       "      <td>9.850825e+04</td>\n",
       "    </tr>\n",
       "  </tbody>\n",
       "</table>\n",
       "</div>"
      ],
      "text/plain": [
       "         newBalanceDest        amount  oldBalanceOrig  errorBalanceDest\n",
       "9146592    0.000000e+00  4.467943e+05    4.467943e+05      4.467943e+05\n",
       "8476476    3.611294e+06  3.574384e+06    3.574384e+06      7.148768e+06\n",
       "9704875    0.000000e+00  2.335014e+06    2.335014e+06      2.335014e+06\n",
       "9403869    1.600114e+06  7.591985e+05    7.591985e+05      1.604133e+06\n",
       "5722541    3.187632e+05  4.925413e+04    4.925413e+04      9.850825e+04"
      ]
     },
     "execution_count": 61,
     "metadata": {},
     "output_type": "execute_result"
    }
   ],
   "source": [
    "X_resampled_SMOTE_data_new_sample_imp_feat.head()"
   ]
  },
  {
   "cell_type": "code",
   "execution_count": 52,
   "id": "8dd26f89",
   "metadata": {},
   "outputs": [],
   "source": [
    "X_test_resampled_SMOTE_imp_feat = X_test_resampled_SMOTE.loc[:, ['newBalanceDest','amount', 'oldBalanceOrig', 'errorBalanceDest']]"
   ]
  },
  {
   "cell_type": "code",
   "execution_count": 56,
   "id": "0ba08a4f",
   "metadata": {},
   "outputs": [],
   "source": [
    "y_resampled_SMOTE_data_new_sample_imp_feat = data_new_sample['isFraud']"
   ]
  },
  {
   "cell_type": "code",
   "execution_count": 57,
   "id": "67687220",
   "metadata": {},
   "outputs": [],
   "source": [
    "log_model_SMOTE = logreg.fit(X_resampled_SMOTE_data_new_sample_imp_feat, y_resampled_SMOTE_data_new_sample_imp_feat)"
   ]
  },
  {
   "cell_type": "code",
   "execution_count": 58,
   "id": "9a4c012b",
   "metadata": {},
   "outputs": [],
   "source": [
    "y_pred = log_model_SMOTE.predict(X_test_resampled_SMOTE_imp_feat)"
   ]
  },
  {
   "cell_type": "code",
   "execution_count": 59,
   "id": "a5a8c0d2",
   "metadata": {},
   "outputs": [
    {
     "name": "stdout",
     "output_type": "stream",
     "text": [
      "Recall SMOTE: 0.9049243687957549\n"
     ]
    }
   ],
   "source": [
    "# Score the model on the Test data\n",
    "recall = recall_score(y_test_resampled_SMOTE, y_pred)\n",
    "print(\"Recall SMOTE:\", recall)"
   ]
  },
  {
   "cell_type": "markdown",
   "id": "825cab17",
   "metadata": {},
   "source": [
    "### Confusion matrix"
   ]
  },
  {
   "cell_type": "code",
   "execution_count": 73,
   "id": "ce6e2093",
   "metadata": {
    "scrolled": true
   },
   "outputs": [
    {
     "name": "stdout",
     "output_type": "stream",
     "text": [
      "Confusion matrix\n",
      "\n",
      " [[1270676     228]\n",
      " [   1823  633629]]\n",
      "\n",
      "True Positives(TP) =  1270676\n",
      "\n",
      "True Negatives(TN) =  633629\n",
      "\n",
      "False Positives(FP) =  228\n",
      "\n",
      "False Negatives(FN) =  1823\n"
     ]
    }
   ],
   "source": [
    "from sklearn.metrics import confusion_matrix\n",
    "cm = confusion_matrix(y_test_resampled_SMOTE, y_pred)\n",
    "print('Confusion matrix\\n\\n', cm)\n",
    "print('\\nTrue Positives(TP) = ', cm[0,0])\n",
    "print('\\nTrue Negatives(TN) = ', cm[1,1])\n",
    "print('\\nFalse Positives(FP) = ', cm[0,1])\n",
    "print('\\nFalse Negatives(FN) = ', cm[1,0])"
   ]
  },
  {
   "cell_type": "code",
   "execution_count": 74,
   "id": "330c62ed",
   "metadata": {
    "scrolled": true
   },
   "outputs": [
    {
     "data": {
      "text/plain": [
       "<AxesSubplot:>"
      ]
     },
     "execution_count": 74,
     "metadata": {},
     "output_type": "execute_result"
    },
    {
     "data": {
      "image/png": "[encoded data removed]",
      "text/plain": [
       "<Figure size 500x500 with 2 Axes>"
      ]
     },
     "metadata": {},
     "output_type": "display_data"
    }
   ],
   "source": [
    "confusion_matrix = pd.DataFrame(data=cm, columns=['Actual Positive:1', 'Actual Negative:0'], \n",
    "                                 index=['Predict Positive:1', 'Predict Negative:0'])\n",
    "\n",
    "fig, ax = plt.subplots(figsize=(5,5)) \n",
    "sns.heatmap(confusion_matrix, annot=True, fmt='d', cmap = 'PuBu', ax = ax)"
   ]
  },
  {
   "cell_type": "code",
   "execution_count": 77,
   "id": "573313fd",
   "metadata": {
    "scrolled": true
   },
   "outputs": [
    {
     "name": "stdout",
     "output_type": "stream",
     "text": [
      "Collecting scikit-plot\n",
      "  Downloading scikit_plot-0.3.7-py3-none-any.whl (33 kB)\n",
      "Requirement already satisfied: joblib>=0.10 in /Users/leahredon/.pyenv/versions/3.10.6/envs/lewagon/lib/python3.10/site-packages (from scikit-plot) (1.1.1)\n",
      "Requirement already satisfied: scikit-learn>=0.18 in /Users/leahredon/.pyenv/versions/3.10.6/envs/lewagon/lib/python3.10/site-packages (from scikit-plot) (1.1.2)\n",
      "Requirement already satisfied: matplotlib>=1.4.0 in /Users/leahredon/.pyenv/versions/3.10.6/envs/lewagon/lib/python3.10/site-packages (from scikit-plot) (3.5.3)\n",
      "Requirement already satisfied: scipy>=0.9 in /Users/leahredon/.pyenv/versions/3.10.6/envs/lewagon/lib/python3.10/site-packages (from scikit-plot) (1.9.1)\n",
      "Requirement already satisfied: pyparsing>=2.2.1 in /Users/leahredon/.pyenv/versions/3.10.6/envs/lewagon/lib/python3.10/site-packages (from matplotlib>=1.4.0->scikit-plot) (3.0.9)\n",
      "Requirement already satisfied: kiwisolver>=1.0.1 in /Users/leahredon/.pyenv/versions/3.10.6/envs/lewagon/lib/python3.10/site-packages (from matplotlib>=1.4.0->scikit-plot) (1.4.4)\n",
      "Requirement already satisfied: packaging>=20.0 in /Users/leahredon/.pyenv/versions/3.10.6/envs/lewagon/lib/python3.10/site-packages (from matplotlib>=1.4.0->scikit-plot) (21.3)\n",
      "Requirement already satisfied: cycler>=0.10 in /Users/leahredon/.pyenv/versions/3.10.6/envs/lewagon/lib/python3.10/site-packages (from matplotlib>=1.4.0->scikit-plot) (0.11.0)\n",
      "Requirement already satisfied: python-dateutil>=2.7 in /Users/leahredon/.pyenv/versions/3.10.6/envs/lewagon/lib/python3.10/site-packages (from matplotlib>=1.4.0->scikit-plot) (2.8.2)\n",
      "Requirement already satisfied: pillow>=6.2.0 in /Users/leahredon/.pyenv/versions/3.10.6/envs/lewagon/lib/python3.10/site-packages (from matplotlib>=1.4.0->scikit-plot) (9.2.0)\n",
      "Requirement already satisfied: numpy>=1.17 in /Users/leahredon/.pyenv/versions/3.10.6/envs/lewagon/lib/python3.10/site-packages (from matplotlib>=1.4.0->scikit-plot) (1.23.3)\n",
      "Requirement already satisfied: fonttools>=4.22.0 in /Users/leahredon/.pyenv/versions/3.10.6/envs/lewagon/lib/python3.10/site-packages (from matplotlib>=1.4.0->scikit-plot) (4.37.4)\n",
      "Requirement already satisfied: threadpoolctl>=2.0.0 in /Users/leahredon/.pyenv/versions/3.10.6/envs/lewagon/lib/python3.10/site-packages (from scikit-learn>=0.18->scikit-plot) (3.1.0)\n",
      "Requirement already satisfied: six>=1.5 in /Users/leahredon/.pyenv/versions/3.10.6/envs/lewagon/lib/python3.10/site-packages (from python-dateutil>=2.7->matplotlib>=1.4.0->scikit-plot) (1.16.0)\n",
      "Installing collected packages: scikit-plot\n",
      "Successfully installed scikit-plot-0.3.7\n",
      "\n",
      "\u001b[1m[\u001b[0m\u001b[34;49mnotice\u001b[0m\u001b[1;39;49m]\u001b[0m\u001b[39;49m A new release of pip is available: \u001b[0m\u001b[31;49m23.0\u001b[0m\u001b[39;49m -> \u001b[0m\u001b[32;49m23.0.1\u001b[0m\n",
      "\u001b[1m[\u001b[0m\u001b[34;49mnotice\u001b[0m\u001b[1;39;49m]\u001b[0m\u001b[39;49m To update, run: \u001b[0m\u001b[32;49mpip install --upgrade pip\u001b[0m\n"
     ]
    }
   ],
   "source": [
    "!pip install scikit-plot"
   ]
  },
  {
   "cell_type": "code",
   "execution_count": 105,
   "id": "58d95791",
   "metadata": {
    "scrolled": true
   },
   "outputs": [
    {
     "data": {
      "image/png": "[encoded data removed]",
      "text/plain": [
       "<Figure size 1000x1000 with 1 Axes>"
      ]
     },
     "metadata": {},
     "output_type": "display_data"
    }
   ],
   "source": [
    "RocCurveDisplay.from_estimator(logreg, X_test_resampled_SMOTE, y_test_resampled_SMOTE)\n",
    "plt.show()"
   ]
  },
  {
   "cell_type": "markdown",
   "id": "ec97cc0a",
   "metadata": {},
   "source": [
    "### Logisitc Regression using ADASYN data"
   ]
  },
  {
   "cell_type": "code",
   "execution_count": 32,
   "id": "498fee94",
   "metadata": {},
   "outputs": [],
   "source": [
    "X_resampled_ADASYN = X_resampled_ADASYN.drop('isFraud', axis=1)"
   ]
  },
  {
   "cell_type": "code",
   "execution_count": 33,
   "id": "ce213f3d",
   "metadata": {},
   "outputs": [
    {
     "name": "stderr",
     "output_type": "stream",
     "text": [
      "/Users/leahredon/.pyenv/versions/3.10.6/envs/lewagon/lib/python3.10/site-packages/sklearn/linear_model/_logistic.py:444: ConvergenceWarning: lbfgs failed to converge (status=1):\n",
      "STOP: TOTAL NO. of ITERATIONS REACHED LIMIT.\n",
      "\n",
      "Increase the number of iterations (max_iter) or scale the data as shown in:\n",
      "    https://scikit-learn.org/stable/modules/preprocessing.html\n",
      "Please also refer to the documentation for alternative solver options:\n",
      "    https://scikit-learn.org/stable/modules/linear_model.html#logistic-regression\n",
      "  n_iter_i = _check_optimize_result(\n"
     ]
    }
   ],
   "source": [
    "# Train the model on the Training data\n",
    "log_model_ADASYN = logreg.fit(X_resampled_ADASYN, y_resampled_ADASYN)"
   ]
  },
  {
   "cell_type": "code",
   "execution_count": 34,
   "id": "d4865c03",
   "metadata": {},
   "outputs": [],
   "source": [
    "y_pred = log_model_ADASYN.predict(X_test)"
   ]
  },
  {
   "cell_type": "code",
   "execution_count": 35,
   "id": "1b9a22b8",
   "metadata": {
    "scrolled": true
   },
   "outputs": [
    {
     "name": "stdout",
     "output_type": "stream",
     "text": [
      "Recall ADASYN: 0.9604938271604938\n"
     ]
    }
   ],
   "source": [
    "# Score the model on the Test data\n",
    "recall = recall_score(y_test, y_pred)\n",
    "print(\"Recall ADASYN:\", recall)"
   ]
  },
  {
   "cell_type": "markdown",
   "id": "fafc634d",
   "metadata": {},
   "source": [
    "### Feature selection on ADASYN"
   ]
  },
  {
   "cell_type": "code",
   "execution_count": null,
   "id": "344e721d",
   "metadata": {},
   "outputs": [],
   "source": [
    "permutation_score = permutation_importance(log_model_ADASYN, X_resampled_SMOTE, y_resampled_SMOTE, n_repeats=10, scoring = 'recall') # Perform Permutation\"\n",
    "importance_df = pd.DataFrame(np.vstack((X.columns, permutation_score.importances_mean)).T) # Unstack results\"\n",
    "importance_df.columns=['feature','score_decrease']\n",
    "importance_df.sort_values(by='score_decrease', ascending = False) # Order by importance\""
   ]
  },
  {
   "cell_type": "markdown",
   "id": "246d0172",
   "metadata": {},
   "source": [
    "### SVM Classifcation Model"
   ]
  },
  {
   "cell_type": "markdown",
   "id": "056d7f46",
   "metadata": {},
   "source": [
    "#### SMOTE"
   ]
  },
  {
   "cell_type": "code",
   "execution_count": 31,
   "id": "417af54e",
   "metadata": {},
   "outputs": [],
   "source": [
    "classifier = svm.SVC(kernel='linear') # We set a SVM classifier, the default SVM Classifier (Kernel = Radial Basis Function)"
   ]
  },
  {
   "cell_type": "code",
   "execution_count": null,
   "id": "5052c954",
   "metadata": {},
   "outputs": [],
   "source": [
    "classifier.fit(X_resampled_SMOTE_data_new_sample, y_resampled_SMOTE_data_new_sample) # Then we train our model, with our balanced data train."
   ]
  },
  {
   "cell_type": "code",
   "execution_count": null,
   "id": "694e8b6c",
   "metadata": {},
   "outputs": [],
   "source": [
    "prediction_SVM_all = classifier.predict(X_test_resampled_SMOTE) #We predict our data test."
   ]
  },
  {
   "cell_type": "code",
   "execution_count": null,
   "id": "d06b0816",
   "metadata": {},
   "outputs": [],
   "source": [
    "#Looking at Gamma for curvature in decision boundary\n",
    "#Apply SVM model using most commom kernel functions: Gaussian radial basis function (RBF)\n",
    "\n",
    "rbf_svc=SVC(kernel='rbf').fit(X_resampled_SMOTE, y_resampled_SMOTE)\n",
    "y_pred = rbf_svc.predict(X_test)\n",
    "print('Model accuracy with rbf kernel : {0:0.3f}'. format(accuracy_score(y_test, y_pred)))"
   ]
  },
  {
   "cell_type": "code",
   "execution_count": null,
   "id": "89d4b204",
   "metadata": {},
   "outputs": [],
   "source": [
    "cm = confusion_matrix(y_test, prediction_SVM_all) #predicted positives/negatives vs actual positives/negatives\n",
    "plot_confusion_matrix(cm,class_names)"
   ]
  },
  {
   "cell_type": "markdown",
   "id": "051c905a",
   "metadata": {},
   "source": [
    "## XGBoost Model"
   ]
  },
  {
   "cell_type": "code",
   "execution_count": 62,
   "id": "630a6422",
   "metadata": {},
   "outputs": [
    {
     "data": {
      "text/html": [
       "<style>#sk-container-id-1 {color: black;background-color: white;}#sk-container-id-1 pre{padding: 0;}#sk-container-id-1 div.sk-toggleable {background-color: white;}#sk-container-id-1 label.sk-toggleable__label {cursor: pointer;display: block;width: 100%;margin-bottom: 0;padding: 0.3em;box-sizing: border-box;text-align: center;}#sk-container-id-1 label.sk-toggleable__label-arrow:before {content: \"▸\";float: left;margin-right: 0.25em;color: #696969;}#sk-container-id-1 label.sk-toggleable__label-arrow:hover:before {color: black;}#sk-container-id-1 div.sk-estimator:hover label.sk-toggleable__label-arrow:before {color: black;}#sk-container-id-1 div.sk-toggleable__content {max-height: 0;max-width: 0;overflow: hidden;text-align: left;background-color: #f0f8ff;}#sk-container-id-1 div.sk-toggleable__content pre {margin: 0.2em;color: black;border-radius: 0.25em;background-color: #f0f8ff;}#sk-container-id-1 input.sk-toggleable__control:checked~div.sk-toggleable__content {max-height: 200px;max-width: 100%;overflow: auto;}#sk-container-id-1 input.sk-toggleable__control:checked~label.sk-toggleable__label-arrow:before {content: \"▾\";}#sk-container-id-1 div.sk-estimator input.sk-toggleable__control:checked~label.sk-toggleable__label {background-color: #d4ebff;}#sk-container-id-1 div.sk-label input.sk-toggleable__control:checked~label.sk-toggleable__label {background-color: #d4ebff;}#sk-container-id-1 input.sk-hidden--visually {border: 0;clip: rect(1px 1px 1px 1px);clip: rect(1px, 1px, 1px, 1px);height: 1px;margin: -1px;overflow: hidden;padding: 0;position: absolute;width: 1px;}#sk-container-id-1 div.sk-estimator {font-family: monospace;background-color: #f0f8ff;border: 1px dotted black;border-radius: 0.25em;box-sizing: border-box;margin-bottom: 0.5em;}#sk-container-id-1 div.sk-estimator:hover {background-color: #d4ebff;}#sk-container-id-1 div.sk-parallel-item::after {content: \"\";width: 100%;border-bottom: 1px solid gray;flex-grow: 1;}#sk-container-id-1 div.sk-label:hover label.sk-toggleable__label {background-color: #d4ebff;}#sk-container-id-1 div.sk-serial::before {content: \"\";position: absolute;border-left: 1px solid gray;box-sizing: border-box;top: 0;bottom: 0;left: 50%;z-index: 0;}#sk-container-id-1 div.sk-serial {display: flex;flex-direction: column;align-items: center;background-color: white;padding-right: 0.2em;padding-left: 0.2em;position: relative;}#sk-container-id-1 div.sk-item {position: relative;z-index: 1;}#sk-container-id-1 div.sk-parallel {display: flex;align-items: stretch;justify-content: center;background-color: white;position: relative;}#sk-container-id-1 div.sk-item::before, #sk-container-id-1 div.sk-parallel-item::before {content: \"\";position: absolute;border-left: 1px solid gray;box-sizing: border-box;top: 0;bottom: 0;left: 50%;z-index: -1;}#sk-container-id-1 div.sk-parallel-item {display: flex;flex-direction: column;z-index: 1;position: relative;background-color: white;}#sk-container-id-1 div.sk-parallel-item:first-child::after {align-self: flex-end;width: 50%;}#sk-container-id-1 div.sk-parallel-item:last-child::after {align-self: flex-start;width: 50%;}#sk-container-id-1 div.sk-parallel-item:only-child::after {width: 0;}#sk-container-id-1 div.sk-dashed-wrapped {border: 1px dashed gray;margin: 0 0.4em 0.5em 0.4em;box-sizing: border-box;padding-bottom: 0.4em;background-color: white;}#sk-container-id-1 div.sk-label label {font-family: monospace;font-weight: bold;display: inline-block;line-height: 1.2em;}#sk-container-id-1 div.sk-label-container {text-align: center;}#sk-container-id-1 div.sk-container {/* jupyter's `normalize.less` sets `[hidden] { display: none; }` but bootstrap.min.css set `[hidden] { display: none !important; }` so we also need the `!important` here to be able to override the default hidden behavior on the sphinx rendered scikit-learn.org. See: https://github.com/scikit-learn/scikit-learn/issues/21755 */display: inline-block !important;position: relative;}#sk-container-id-1 div.sk-text-repr-fallback {display: none;}</style><div id=\"sk-container-id-1\" class=\"sk-top-container\"><div class=\"sk-text-repr-fallback\"><pre>XGBClassifier(base_score=0.5, booster=&#x27;gbtree&#x27;, callbacks=None,\n",
       "              colsample_bylevel=1, colsample_bynode=1, colsample_bytree=1,\n",
       "              early_stopping_rounds=None, enable_categorical=False,\n",
       "              eval_metric=None, gamma=0, gpu_id=-1, grow_policy=&#x27;depthwise&#x27;,\n",
       "              importance_type=None, interaction_constraints=&#x27;&#x27;,\n",
       "              learning_rate=0.300000012, max_bin=256, max_cat_to_onehot=4,\n",
       "              max_delta_step=0, max_depth=6, max_leaves=0, min_child_weight=1,\n",
       "              missing=nan, monotone_constraints=&#x27;()&#x27;, n_estimators=100,\n",
       "              n_jobs=0, num_parallel_tree=1, predictor=&#x27;auto&#x27;, random_state=0,\n",
       "              reg_alpha=0, reg_lambda=1, ...)</pre><b>In a Jupyter environment, please rerun this cell to show the HTML representation or trust the notebook. <br />On GitHub, the HTML representation is unable to render, please try loading this page with nbviewer.org.</b></div><div class=\"sk-container\" hidden><div class=\"sk-item\"><div class=\"sk-estimator sk-toggleable\"><input class=\"sk-toggleable__control sk-hidden--visually\" id=\"sk-estimator-id-1\" type=\"checkbox\" checked><label for=\"sk-estimator-id-1\" class=\"sk-toggleable__label sk-toggleable__label-arrow\">XGBClassifier</label><div class=\"sk-toggleable__content\"><pre>XGBClassifier(base_score=0.5, booster=&#x27;gbtree&#x27;, callbacks=None,\n",
       "              colsample_bylevel=1, colsample_bynode=1, colsample_bytree=1,\n",
       "              early_stopping_rounds=None, enable_categorical=False,\n",
       "              eval_metric=None, gamma=0, gpu_id=-1, grow_policy=&#x27;depthwise&#x27;,\n",
       "              importance_type=None, interaction_constraints=&#x27;&#x27;,\n",
       "              learning_rate=0.300000012, max_bin=256, max_cat_to_onehot=4,\n",
       "              max_delta_step=0, max_depth=6, max_leaves=0, min_child_weight=1,\n",
       "              missing=nan, monotone_constraints=&#x27;()&#x27;, n_estimators=100,\n",
       "              n_jobs=0, num_parallel_tree=1, predictor=&#x27;auto&#x27;, random_state=0,\n",
       "              reg_alpha=0, reg_lambda=1, ...)</pre></div></div></div></div></div>"
      ],
      "text/plain": [
       "XGBClassifier(base_score=0.5, booster='gbtree', callbacks=None,\n",
       "              colsample_bylevel=1, colsample_bynode=1, colsample_bytree=1,\n",
       "              early_stopping_rounds=None, enable_categorical=False,\n",
       "              eval_metric=None, gamma=0, gpu_id=-1, grow_policy='depthwise',\n",
       "              importance_type=None, interaction_constraints='',\n",
       "              learning_rate=0.300000012, max_bin=256, max_cat_to_onehot=4,\n",
       "              max_delta_step=0, max_depth=6, max_leaves=0, min_child_weight=1,\n",
       "              missing=nan, monotone_constraints='()', n_estimators=100,\n",
       "              n_jobs=0, num_parallel_tree=1, predictor='auto', random_state=0,\n",
       "              reg_alpha=0, reg_lambda=1, ...)"
      ]
     },
     "execution_count": 62,
     "metadata": {},
     "output_type": "execute_result"
    }
   ],
   "source": [
    "# Extreme Gradient Boosting algorithm\n",
    "from xgboost import XGBClassifier\n",
    "from sklearn.metrics import accuracy_score\n",
    "XGboostmodel = XGBClassifier()\n",
    "XGboostmodel.fit(X_resampled_SMOTE_data_new_sample, y_resampled_SMOTE_data_new_sample)"
   ]
  },
  {
   "cell_type": "code",
   "execution_count": 114,
   "id": "e4e6c795",
   "metadata": {
    "scrolled": true
   },
   "outputs": [
    {
     "name": "stdout",
     "output_type": "stream",
     "text": [
      "Recall: 0.9971311759188735\n",
      "mae_baseline: 0.11%\n"
     ]
    }
   ],
   "source": [
    "from sklearn.metrics import recall_score\n",
    "from sklearn.metrics import mean_absolute_error\n",
    "\n",
    "y_pred_XGBoost = XGboostmodel.predict(X_test_resampled_SMOTE)\n",
    "baseline_predictions = [round(value) for value in y_pred]\n",
    "\n",
    "# Compute MAE\n",
    "mae_baseline = mean_absolute_error(y_test_resampled_SMOTE, baseline_predictions)\n",
    "# Compute accuracy\n",
    "accuracy = accuracy_score(y_test_resampled_SMOTE, baseline_predictions)\n",
    "recall = recall_score(y_test_resampled_SMOTE, y_pred_XGBoost)\n",
    "print(\"Recall:\", recall)\n",
    "#print(\"Accuracy: %.2f%%\" % (accuracy * 100.0))\n",
    "print(\"mae_baseline: %.2f%%\" % (mae_baseline * 100.0))"
   ]
  },
  {
   "cell_type": "code",
   "execution_count": 64,
   "id": "857c8101",
   "metadata": {
    "scrolled": true
   },
   "outputs": [
    {
     "data": {
      "text/html": [
       "<div>\n",
       "<style scoped>\n",
       "    .dataframe tbody tr th:only-of-type {\n",
       "        vertical-align: middle;\n",
       "    }\n",
       "\n",
       "    .dataframe tbody tr th {\n",
       "        vertical-align: top;\n",
       "    }\n",
       "\n",
       "    .dataframe thead th {\n",
       "        text-align: right;\n",
       "    }\n",
       "</style>\n",
       "<table border=\"1\" class=\"dataframe\">\n",
       "  <thead>\n",
       "    <tr style=\"text-align: right;\">\n",
       "      <th></th>\n",
       "      <th>feature</th>\n",
       "      <th>score_decrease</th>\n",
       "    </tr>\n",
       "  </thead>\n",
       "  <tbody>\n",
       "    <tr>\n",
       "      <th>9</th>\n",
       "      <td>errorBalanceOrig</td>\n",
       "      <td>0.233378</td>\n",
       "    </tr>\n",
       "    <tr>\n",
       "      <th>4</th>\n",
       "      <td>newBalanceOrig</td>\n",
       "      <td>0.143685</td>\n",
       "    </tr>\n",
       "    <tr>\n",
       "      <th>1</th>\n",
       "      <td>amount</td>\n",
       "      <td>0.014854</td>\n",
       "    </tr>\n",
       "    <tr>\n",
       "      <th>2</th>\n",
       "      <td>nameOrig</td>\n",
       "      <td>0.003054</td>\n",
       "    </tr>\n",
       "    <tr>\n",
       "      <th>3</th>\n",
       "      <td>oldBalanceOrig</td>\n",
       "      <td>0.002937</td>\n",
       "    </tr>\n",
       "    <tr>\n",
       "      <th>5</th>\n",
       "      <td>nameDest</td>\n",
       "      <td>0.002101</td>\n",
       "    </tr>\n",
       "    <tr>\n",
       "      <th>0</th>\n",
       "      <td>step</td>\n",
       "      <td>0.001583</td>\n",
       "    </tr>\n",
       "    <tr>\n",
       "      <th>7</th>\n",
       "      <td>newBalanceDest</td>\n",
       "      <td>0.001501</td>\n",
       "    </tr>\n",
       "    <tr>\n",
       "      <th>6</th>\n",
       "      <td>oldBalanceDest</td>\n",
       "      <td>0.001439</td>\n",
       "    </tr>\n",
       "    <tr>\n",
       "      <th>10</th>\n",
       "      <td>errorBalanceDest</td>\n",
       "      <td>0.001097</td>\n",
       "    </tr>\n",
       "    <tr>\n",
       "      <th>11</th>\n",
       "      <td>type_CASH_IN</td>\n",
       "      <td>0.000394</td>\n",
       "    </tr>\n",
       "    <tr>\n",
       "      <th>15</th>\n",
       "      <td>type_TRANSFER</td>\n",
       "      <td>0.000334</td>\n",
       "    </tr>\n",
       "    <tr>\n",
       "      <th>12</th>\n",
       "      <td>type_CASH_OUT</td>\n",
       "      <td>0.000126</td>\n",
       "    </tr>\n",
       "    <tr>\n",
       "      <th>8</th>\n",
       "      <td>isFlaggedFraud</td>\n",
       "      <td>0.0</td>\n",
       "    </tr>\n",
       "    <tr>\n",
       "      <th>13</th>\n",
       "      <td>type_DEBIT</td>\n",
       "      <td>0.0</td>\n",
       "    </tr>\n",
       "    <tr>\n",
       "      <th>14</th>\n",
       "      <td>type_PAYMENT</td>\n",
       "      <td>0.0</td>\n",
       "    </tr>\n",
       "  </tbody>\n",
       "</table>\n",
       "</div>"
      ],
      "text/plain": [
       "             feature score_decrease\n",
       "9   errorBalanceOrig       0.233378\n",
       "4     newBalanceOrig       0.143685\n",
       "1             amount       0.014854\n",
       "2           nameOrig       0.003054\n",
       "3     oldBalanceOrig       0.002937\n",
       "5           nameDest       0.002101\n",
       "0               step       0.001583\n",
       "7     newBalanceDest       0.001501\n",
       "6     oldBalanceDest       0.001439\n",
       "10  errorBalanceDest       0.001097\n",
       "11      type_CASH_IN       0.000394\n",
       "15     type_TRANSFER       0.000334\n",
       "12     type_CASH_OUT       0.000126\n",
       "8     isFlaggedFraud            0.0\n",
       "13        type_DEBIT            0.0\n",
       "14      type_PAYMENT            0.0"
      ]
     },
     "execution_count": 64,
     "metadata": {},
     "output_type": "execute_result"
    }
   ],
   "source": [
    "permutation_score = permutation_importance(XGboostmodel, X_resampled_SMOTE_data_new_sample, y_resampled_SMOTE_data_new_sample, n_repeats=10, scoring = 'recall') # Perform Permutation\"\n",
    "importance_df = pd.DataFrame(np.vstack((X.columns, permutation_score.importances_mean)).T) # Unstack results\"\n",
    "importance_df.columns=['feature','score_decrease']\n",
    "importance_df.sort_values(by='score_decrease', ascending = False) # Order by importance\""
   ]
  },
  {
   "cell_type": "code",
   "execution_count": 120,
   "id": "00edcf3e",
   "metadata": {},
   "outputs": [
    {
     "name": "stdout",
     "output_type": "stream",
     "text": [
      "Confusion matrix\n",
      "\n",
      " [[1270676     228]\n",
      " [   1823  633629]]\n",
      "\n",
      "True Positives(TP) =  1270676\n",
      "\n",
      "True Negatives(TN) =  633629\n",
      "\n",
      "False Positives(FP) =  228\n",
      "\n",
      "False Negatives(FN) =  1823\n"
     ]
    }
   ],
   "source": [
    "from sklearn.metrics import confusion_matrix\n",
    "cm_XGBoost = confusion_matrix(y_test_resampled_SMOTE, y_pred_XGBoost)\n",
    "print('Confusion matrix\\n\\n', cm_XGBoost)\n",
    "print('\\nTrue Positives(TP) = ', cm[0,0])\n",
    "print('\\nTrue Negatives(TN) = ', cm[1,1])\n",
    "print('\\nFalse Positives(FP) = ', cm[0,1])\n",
    "print('\\nFalse Negatives(FN) = ', cm[1,0])"
   ]
  },
  {
   "cell_type": "code",
   "execution_count": 121,
   "id": "9da16288",
   "metadata": {},
   "outputs": [
    {
     "data": {
      "text/plain": [
       "<AxesSubplot:>"
      ]
     },
     "execution_count": 121,
     "metadata": {},
     "output_type": "execute_result"
    },
    {
     "data": {
      "image/png": "[encoded data removed]",
      "text/plain": [
       "<Figure size 500x500 with 2 Axes>"
      ]
     },
     "metadata": {},
     "output_type": "display_data"
    }
   ],
   "source": [
    "confusion_matrix = pd.DataFrame(data=cm_XGBoost, columns=['Actual Positive:1', 'Actual Negative:0'], \n",
    "                                 index=['Predict Positive:1', 'Predict Negative:0'])\n",
    "\n",
    "fig, ax = plt.subplots(figsize=(5,5)) \n",
    "sns.heatmap(confusion_matrix, annot=True, fmt='d', cmap = 'PuBu', ax = ax)"
   ]
  },
  {
   "cell_type": "code",
   "execution_count": 123,
   "id": "61b534ad",
   "metadata": {
    "scrolled": false
   },
   "outputs": [
    {
     "data": {
      "text/plain": [
       "Text(0.5, 1.0, 'Ordering of features by importance to the model learnt')"
      ]
     },
     "execution_count": 123,
     "metadata": {},
     "output_type": "execute_result"
    },
    {
     "data": {
      "image/png": "[encoded data removed]",
      "text/plain": [
       "<Figure size 1400x900 with 1 Axes>"
      ]
     },
     "metadata": {},
     "output_type": "display_data"
    }
   ],
   "source": [
    "from xgboost import plot_importance, to_graphviz\n",
    "fig = plt.figure(figsize = (14, 9))\n",
    "ax = fig.add_subplot(111)\n",
    "\n",
    "colours = plt.cm.Set1(np.linspace(0, 1, 9))\n",
    "\n",
    "ax = plot_importance(XGboostmodel, height = 1, color = colours, grid = False, \\\n",
    "                     show_values = False, importance_type = 'cover', ax = ax);\n",
    "for axis in ['top','bottom','left','right']:\n",
    "            ax.spines[axis].set_linewidth(2)\n",
    "        \n",
    "ax.set_xlabel('importance score', size = 16);\n",
    "ax.set_ylabel('features', size = 16);\n",
    "ax.set_yticklabels(ax.get_yticklabels(), size = 12);\n",
    "ax.set_title('Ordering of features by importance to the model learnt', size = 20)"
   ]
  },
  {
   "cell_type": "markdown",
   "id": "8f7def7d",
   "metadata": {},
   "source": [
    "## Drop isFlaggedFraud"
   ]
  },
  {
   "cell_type": "code",
   "execution_count": 126,
   "id": "ec05f088",
   "metadata": {},
   "outputs": [],
   "source": [
    "df_new = df.drop('isFlaggedFraud', axis=1)"
   ]
  },
  {
   "cell_type": "code",
   "execution_count": 127,
   "id": "fdd74553",
   "metadata": {
    "scrolled": true
   },
   "outputs": [
    {
     "data": {
      "text/html": [
       "<div>\n",
       "<style scoped>\n",
       "    .dataframe tbody tr th:only-of-type {\n",
       "        vertical-align: middle;\n",
       "    }\n",
       "\n",
       "    .dataframe tbody tr th {\n",
       "        vertical-align: top;\n",
       "    }\n",
       "\n",
       "    .dataframe thead th {\n",
       "        text-align: right;\n",
       "    }\n",
       "</style>\n",
       "<table border=\"1\" class=\"dataframe\">\n",
       "  <thead>\n",
       "    <tr style=\"text-align: right;\">\n",
       "      <th></th>\n",
       "      <th>step</th>\n",
       "      <th>amount</th>\n",
       "      <th>nameOrig</th>\n",
       "      <th>oldBalanceOrig</th>\n",
       "      <th>newBalanceOrig</th>\n",
       "      <th>nameDest</th>\n",
       "      <th>oldBalanceDest</th>\n",
       "      <th>newBalanceDest</th>\n",
       "      <th>isFraud</th>\n",
       "      <th>errorBalanceOrig</th>\n",
       "      <th>errorBalanceDest</th>\n",
       "      <th>type_CASH_IN</th>\n",
       "      <th>type_CASH_OUT</th>\n",
       "      <th>type_DEBIT</th>\n",
       "      <th>type_PAYMENT</th>\n",
       "      <th>type_TRANSFER</th>\n",
       "    </tr>\n",
       "  </thead>\n",
       "  <tbody>\n",
       "    <tr>\n",
       "      <th>0</th>\n",
       "      <td>1</td>\n",
       "      <td>9839.64</td>\n",
       "      <td>757869</td>\n",
       "      <td>170136.0</td>\n",
       "      <td>160296.36</td>\n",
       "      <td>1662094</td>\n",
       "      <td>0.0</td>\n",
       "      <td>0.0</td>\n",
       "      <td>0</td>\n",
       "      <td>0.0</td>\n",
       "      <td>9839.64</td>\n",
       "      <td>0</td>\n",
       "      <td>0</td>\n",
       "      <td>0</td>\n",
       "      <td>1</td>\n",
       "      <td>0</td>\n",
       "    </tr>\n",
       "    <tr>\n",
       "      <th>1</th>\n",
       "      <td>1</td>\n",
       "      <td>1864.28</td>\n",
       "      <td>2188998</td>\n",
       "      <td>21249.0</td>\n",
       "      <td>19384.72</td>\n",
       "      <td>1733924</td>\n",
       "      <td>0.0</td>\n",
       "      <td>0.0</td>\n",
       "      <td>0</td>\n",
       "      <td>0.0</td>\n",
       "      <td>1864.28</td>\n",
       "      <td>0</td>\n",
       "      <td>0</td>\n",
       "      <td>0</td>\n",
       "      <td>1</td>\n",
       "      <td>0</td>\n",
       "    </tr>\n",
       "    <tr>\n",
       "      <th>2</th>\n",
       "      <td>1</td>\n",
       "      <td>181.00</td>\n",
       "      <td>1002156</td>\n",
       "      <td>181.0</td>\n",
       "      <td>0.00</td>\n",
       "      <td>439685</td>\n",
       "      <td>0.0</td>\n",
       "      <td>0.0</td>\n",
       "      <td>1</td>\n",
       "      <td>0.0</td>\n",
       "      <td>181.00</td>\n",
       "      <td>0</td>\n",
       "      <td>0</td>\n",
       "      <td>0</td>\n",
       "      <td>0</td>\n",
       "      <td>1</td>\n",
       "    </tr>\n",
       "    <tr>\n",
       "      <th>3</th>\n",
       "      <td>1</td>\n",
       "      <td>181.00</td>\n",
       "      <td>5828262</td>\n",
       "      <td>181.0</td>\n",
       "      <td>0.00</td>\n",
       "      <td>391696</td>\n",
       "      <td>21182.0</td>\n",
       "      <td>0.0</td>\n",
       "      <td>1</td>\n",
       "      <td>0.0</td>\n",
       "      <td>-21001.00</td>\n",
       "      <td>0</td>\n",
       "      <td>1</td>\n",
       "      <td>0</td>\n",
       "      <td>0</td>\n",
       "      <td>0</td>\n",
       "    </tr>\n",
       "    <tr>\n",
       "      <th>4</th>\n",
       "      <td>1</td>\n",
       "      <td>11668.14</td>\n",
       "      <td>3445981</td>\n",
       "      <td>41554.0</td>\n",
       "      <td>29885.86</td>\n",
       "      <td>828919</td>\n",
       "      <td>0.0</td>\n",
       "      <td>0.0</td>\n",
       "      <td>0</td>\n",
       "      <td>0.0</td>\n",
       "      <td>11668.14</td>\n",
       "      <td>0</td>\n",
       "      <td>0</td>\n",
       "      <td>0</td>\n",
       "      <td>1</td>\n",
       "      <td>0</td>\n",
       "    </tr>\n",
       "  </tbody>\n",
       "</table>\n",
       "</div>"
      ],
      "text/plain": [
       "   step    amount  nameOrig  oldBalanceOrig  newBalanceOrig  nameDest  \\\n",
       "0     1   9839.64    757869        170136.0       160296.36   1662094   \n",
       "1     1   1864.28   2188998         21249.0        19384.72   1733924   \n",
       "2     1    181.00   1002156           181.0            0.00    439685   \n",
       "3     1    181.00   5828262           181.0            0.00    391696   \n",
       "4     1  11668.14   3445981         41554.0        29885.86    828919   \n",
       "\n",
       "   oldBalanceDest  newBalanceDest  isFraud  errorBalanceOrig  \\\n",
       "0             0.0             0.0        0               0.0   \n",
       "1             0.0             0.0        0               0.0   \n",
       "2             0.0             0.0        1               0.0   \n",
       "3         21182.0             0.0        1               0.0   \n",
       "4             0.0             0.0        0               0.0   \n",
       "\n",
       "   errorBalanceDest  type_CASH_IN  type_CASH_OUT  type_DEBIT  type_PAYMENT  \\\n",
       "0           9839.64             0              0           0             1   \n",
       "1           1864.28             0              0           0             1   \n",
       "2            181.00             0              0           0             0   \n",
       "3         -21001.00             0              1           0             0   \n",
       "4          11668.14             0              0           0             1   \n",
       "\n",
       "   type_TRANSFER  \n",
       "0              0  \n",
       "1              0  \n",
       "2              1  \n",
       "3              0  \n",
       "4              0  "
      ]
     },
     "execution_count": 127,
     "metadata": {},
     "output_type": "execute_result"
    }
   ],
   "source": [
    "df_new.head()"
   ]
  },
  {
   "cell_type": "code",
   "execution_count": 139,
   "id": "90f60132",
   "metadata": {},
   "outputs": [],
   "source": [
    "# Separate the features and target variable\n",
    "X_no_flag = df_new.drop('isFraud', axis=1)\n",
    "y_no_flag = df_new['isFraud']"
   ]
  },
  {
   "cell_type": "code",
   "execution_count": 140,
   "id": "89cc6742",
   "metadata": {},
   "outputs": [],
   "source": [
    "X_train, X_test, y_train, y_test = train_test_split(X_no_flag, y_no_flag, test_size=0.2, random_state=42)"
   ]
  },
  {
   "cell_type": "code",
   "execution_count": 141,
   "id": "2a1040c8",
   "metadata": {},
   "outputs": [],
   "source": [
    "X_resampled_SMOTE, y_resampled_SMOTE = SMOTE().fit_resample(X_train, y_train)"
   ]
  },
  {
   "cell_type": "code",
   "execution_count": 142,
   "id": "a43b98ec",
   "metadata": {},
   "outputs": [],
   "source": [
    "X_test_resampled_SMOTE, y_test_resampled_SMOTE = SMOTE(sampling_strategy= 0.5).fit_resample(X_test, y_test)"
   ]
  },
  {
   "cell_type": "code",
   "execution_count": 143,
   "id": "fa3dda5e",
   "metadata": {},
   "outputs": [],
   "source": [
    "X_resampled_SMOTE['isFraud'] = y_resampled_SMOTE"
   ]
  },
  {
   "cell_type": "code",
   "execution_count": 144,
   "id": "f4d523b4",
   "metadata": {},
   "outputs": [],
   "source": [
    "logreg = LogisticRegression()"
   ]
  },
  {
   "cell_type": "code",
   "execution_count": 145,
   "id": "278b5767",
   "metadata": {},
   "outputs": [],
   "source": [
    "X_resampled_SMOTE['isFraud'] = y_resampled_SMOTE"
   ]
  },
  {
   "cell_type": "code",
   "execution_count": 146,
   "id": "d4f69a1c",
   "metadata": {},
   "outputs": [],
   "source": [
    "fraud = X_resampled_SMOTE[X_resampled_SMOTE.isFraud == 1].sample(100000)\n",
    "notfraud = X_resampled_SMOTE[X_resampled_SMOTE.isFraud == 0].sample(100000)\n",
    "data_new_sample = pd.concat([fraud, notfraud], axis=0)"
   ]
  },
  {
   "cell_type": "code",
   "execution_count": 147,
   "id": "f884b9e8",
   "metadata": {},
   "outputs": [
    {
     "data": {
      "text/html": [
       "<div>\n",
       "<style scoped>\n",
       "    .dataframe tbody tr th:only-of-type {\n",
       "        vertical-align: middle;\n",
       "    }\n",
       "\n",
       "    .dataframe tbody tr th {\n",
       "        vertical-align: top;\n",
       "    }\n",
       "\n",
       "    .dataframe thead th {\n",
       "        text-align: right;\n",
       "    }\n",
       "</style>\n",
       "<table border=\"1\" class=\"dataframe\">\n",
       "  <thead>\n",
       "    <tr style=\"text-align: right;\">\n",
       "      <th></th>\n",
       "      <th>step</th>\n",
       "      <th>amount</th>\n",
       "      <th>nameOrig</th>\n",
       "      <th>oldBalanceOrig</th>\n",
       "      <th>newBalanceOrig</th>\n",
       "      <th>nameDest</th>\n",
       "      <th>oldBalanceDest</th>\n",
       "      <th>newBalanceDest</th>\n",
       "      <th>errorBalanceOrig</th>\n",
       "      <th>errorBalanceDest</th>\n",
       "      <th>type_CASH_IN</th>\n",
       "      <th>type_CASH_OUT</th>\n",
       "      <th>type_DEBIT</th>\n",
       "      <th>type_PAYMENT</th>\n",
       "      <th>type_TRANSFER</th>\n",
       "      <th>isFraud</th>\n",
       "    </tr>\n",
       "  </thead>\n",
       "  <tbody>\n",
       "    <tr>\n",
       "      <th>5129540</th>\n",
       "      <td>366</td>\n",
       "      <td>1.757065e+06</td>\n",
       "      <td>2420994</td>\n",
       "      <td>1.757065e+06</td>\n",
       "      <td>0.0</td>\n",
       "      <td>440538</td>\n",
       "      <td>2.103719e+06</td>\n",
       "      <td>3.860784e+06</td>\n",
       "      <td>0.0</td>\n",
       "      <td>3.514130e+06</td>\n",
       "      <td>0</td>\n",
       "      <td>1</td>\n",
       "      <td>0</td>\n",
       "      <td>0</td>\n",
       "      <td>0</td>\n",
       "      <td>1</td>\n",
       "    </tr>\n",
       "    <tr>\n",
       "      <th>6534232</th>\n",
       "      <td>445</td>\n",
       "      <td>1.420151e+06</td>\n",
       "      <td>1414774</td>\n",
       "      <td>1.420151e+06</td>\n",
       "      <td>0.0</td>\n",
       "      <td>410455</td>\n",
       "      <td>0.000000e+00</td>\n",
       "      <td>0.000000e+00</td>\n",
       "      <td>0.0</td>\n",
       "      <td>1.420151e+06</td>\n",
       "      <td>0</td>\n",
       "      <td>0</td>\n",
       "      <td>0</td>\n",
       "      <td>0</td>\n",
       "      <td>1</td>\n",
       "      <td>1</td>\n",
       "    </tr>\n",
       "    <tr>\n",
       "      <th>6609906</th>\n",
       "      <td>693</td>\n",
       "      <td>2.157709e+05</td>\n",
       "      <td>5915440</td>\n",
       "      <td>2.157709e+05</td>\n",
       "      <td>0.0</td>\n",
       "      <td>249338</td>\n",
       "      <td>0.000000e+00</td>\n",
       "      <td>0.000000e+00</td>\n",
       "      <td>0.0</td>\n",
       "      <td>2.157709e+05</td>\n",
       "      <td>0</td>\n",
       "      <td>0</td>\n",
       "      <td>0</td>\n",
       "      <td>0</td>\n",
       "      <td>1</td>\n",
       "      <td>1</td>\n",
       "    </tr>\n",
       "    <tr>\n",
       "      <th>9646594</th>\n",
       "      <td>369</td>\n",
       "      <td>1.154985e+06</td>\n",
       "      <td>4076021</td>\n",
       "      <td>1.154985e+06</td>\n",
       "      <td>0.0</td>\n",
       "      <td>318295</td>\n",
       "      <td>3.642970e+06</td>\n",
       "      <td>4.797955e+06</td>\n",
       "      <td>0.0</td>\n",
       "      <td>2.309969e+06</td>\n",
       "      <td>0</td>\n",
       "      <td>1</td>\n",
       "      <td>0</td>\n",
       "      <td>0</td>\n",
       "      <td>0</td>\n",
       "      <td>1</td>\n",
       "    </tr>\n",
       "    <tr>\n",
       "      <th>8137039</th>\n",
       "      <td>421</td>\n",
       "      <td>3.469526e+05</td>\n",
       "      <td>3635042</td>\n",
       "      <td>3.469526e+05</td>\n",
       "      <td>0.0</td>\n",
       "      <td>353056</td>\n",
       "      <td>0.000000e+00</td>\n",
       "      <td>3.469526e+05</td>\n",
       "      <td>0.0</td>\n",
       "      <td>6.939053e+05</td>\n",
       "      <td>0</td>\n",
       "      <td>1</td>\n",
       "      <td>0</td>\n",
       "      <td>0</td>\n",
       "      <td>0</td>\n",
       "      <td>1</td>\n",
       "    </tr>\n",
       "  </tbody>\n",
       "</table>\n",
       "</div>"
      ],
      "text/plain": [
       "         step        amount  nameOrig  oldBalanceOrig  newBalanceOrig  \\\n",
       "5129540   366  1.757065e+06   2420994    1.757065e+06             0.0   \n",
       "6534232   445  1.420151e+06   1414774    1.420151e+06             0.0   \n",
       "6609906   693  2.157709e+05   5915440    2.157709e+05             0.0   \n",
       "9646594   369  1.154985e+06   4076021    1.154985e+06             0.0   \n",
       "8137039   421  3.469526e+05   3635042    3.469526e+05             0.0   \n",
       "\n",
       "         nameDest  oldBalanceDest  newBalanceDest  errorBalanceOrig  \\\n",
       "5129540    440538    2.103719e+06    3.860784e+06               0.0   \n",
       "6534232    410455    0.000000e+00    0.000000e+00               0.0   \n",
       "6609906    249338    0.000000e+00    0.000000e+00               0.0   \n",
       "9646594    318295    3.642970e+06    4.797955e+06               0.0   \n",
       "8137039    353056    0.000000e+00    3.469526e+05               0.0   \n",
       "\n",
       "         errorBalanceDest  type_CASH_IN  type_CASH_OUT  type_DEBIT  \\\n",
       "5129540      3.514130e+06             0              1           0   \n",
       "6534232      1.420151e+06             0              0           0   \n",
       "6609906      2.157709e+05             0              0           0   \n",
       "9646594      2.309969e+06             0              1           0   \n",
       "8137039      6.939053e+05             0              1           0   \n",
       "\n",
       "         type_PAYMENT  type_TRANSFER  isFraud  \n",
       "5129540             0              0        1  \n",
       "6534232             0              1        1  \n",
       "6609906             0              1        1  \n",
       "9646594             0              0        1  \n",
       "8137039             0              0        1  "
      ]
     },
     "execution_count": 147,
     "metadata": {},
     "output_type": "execute_result"
    }
   ],
   "source": [
    "data_new_sample.head()"
   ]
  },
  {
   "cell_type": "code",
   "execution_count": 148,
   "id": "1d08047a",
   "metadata": {},
   "outputs": [],
   "source": [
    "X_resampled_SMOTE_data_new_sample = data_new_sample.drop('isFraud', axis=1)"
   ]
  },
  {
   "cell_type": "code",
   "execution_count": 149,
   "id": "e45456cd",
   "metadata": {},
   "outputs": [],
   "source": [
    "y_resampled_SMOTE_data_new_sample = data_new_sample['isFraud']"
   ]
  },
  {
   "cell_type": "code",
   "execution_count": 150,
   "id": "39e3c6f6",
   "metadata": {},
   "outputs": [
    {
     "name": "stderr",
     "output_type": "stream",
     "text": [
      "/Users/leahredon/.pyenv/versions/3.10.6/envs/lewagon/lib/python3.10/site-packages/sklearn/linear_model/_logistic.py:444: ConvergenceWarning: lbfgs failed to converge (status=1):\n",
      "STOP: TOTAL NO. of ITERATIONS REACHED LIMIT.\n",
      "\n",
      "Increase the number of iterations (max_iter) or scale the data as shown in:\n",
      "    https://scikit-learn.org/stable/modules/preprocessing.html\n",
      "Please also refer to the documentation for alternative solver options:\n",
      "    https://scikit-learn.org/stable/modules/linear_model.html#logistic-regression\n",
      "  n_iter_i = _check_optimize_result(\n"
     ]
    }
   ],
   "source": [
    "log_model_SMOTE = logreg.fit(X_resampled_SMOTE_data_new_sample, y_resampled_SMOTE_data_new_sample)"
   ]
  },
  {
   "cell_type": "code",
   "execution_count": 151,
   "id": "70865ecb",
   "metadata": {},
   "outputs": [],
   "source": [
    "y_pred = log_model_SMOTE.predict(X_test_resampled_SMOTE)"
   ]
  },
  {
   "cell_type": "code",
   "execution_count": 152,
   "id": "90c2bf1a",
   "metadata": {},
   "outputs": [
    {
     "name": "stdout",
     "output_type": "stream",
     "text": [
      "Recall SMOTE: 0.9512598905975589\n"
     ]
    }
   ],
   "source": [
    "# Score the model on the Test data\n",
    "recall = recall_score(y_test_resampled_SMOTE, y_pred)\n",
    "print(\"Recall SMOTE:\", recall)"
   ]
  },
  {
   "cell_type": "code",
   "execution_count": 156,
   "id": "00a2e135",
   "metadata": {
    "scrolled": true
   },
   "outputs": [
    {
     "name": "stdout",
     "output_type": "stream",
     "text": [
      "Confusion matrix\n",
      "\n",
      " [[1204531   66373]\n",
      " [  30972  604480]]\n",
      "\n",
      "True Positives(TP) =  1204531\n",
      "\n",
      "True Negatives(TN) =  604480\n",
      "\n",
      "False Positives(FP) =  66373\n",
      "\n",
      "False Negatives(FN) =  30972\n"
     ]
    }
   ],
   "source": [
    "from sklearn.metrics import confusion_matrix\n",
    "cm = confusion_matrix(y_test_resampled_SMOTE, y_pred)\n",
    "print('Confusion matrix\\n\\n', cm)\n",
    "print('\\nTrue Positives(TP) = ', cm[0,0])\n",
    "print('\\nTrue Negatives(TN) = ', cm[1,1])\n",
    "print('\\nFalse Positives(FP) = ', cm[0,1])\n",
    "print('\\nFalse Negatives(FN) = ', cm[1,0])"
   ]
  },
  {
   "cell_type": "code",
   "execution_count": 157,
   "id": "cbc08519",
   "metadata": {
    "scrolled": true
   },
   "outputs": [
    {
     "data": {
      "text/plain": [
       "<AxesSubplot:>"
      ]
     },
     "execution_count": 157,
     "metadata": {},
     "output_type": "execute_result"
    },
    {
     "data": {
      "image/png": "[encoded data removed]",
      "text/plain": [
       "<Figure size 500x500 with 2 Axes>"
      ]
     },
     "metadata": {},
     "output_type": "display_data"
    }
   ],
   "source": [
    "confusion_matrix = pd.DataFrame(data=cm, columns=['Actual Positive:1', 'Actual Negative:0'], \n",
    "                                 index=['Predict Positive:1', 'Predict Negative:0'])\n",
    "\n",
    "fig, ax = plt.subplots(figsize=(5,5)) \n",
    "sns.heatmap(confusion_matrix, annot=True, fmt='d', cmap = 'PuBu', ax = ax)"
   ]
  },
  {
   "cell_type": "code",
   "execution_count": 158,
   "id": "19061468",
   "metadata": {},
   "outputs": [
    {
     "data": {
      "image/png": "[encoded data removed]",
      "text/plain": [
       "<Figure size 1000x1000 with 1 Axes>"
      ]
     },
     "metadata": {},
     "output_type": "display_data"
    }
   ],
   "source": [
    "RocCurveDisplay.from_estimator(logreg, X_test_resampled_SMOTE, y_test_resampled_SMOTE)\n",
    "plt.show()"
   ]
  }
 ],
 "metadata": {
  "kernelspec": {
   "display_name": "Python 3 (ipykernel)",
   "language": "python",
   "name": "python3"
  },
  "language_info": {
   "codemirror_mode": {
    "name": "ipython",
    "version": 3
   },
   "file_extension": ".py",
   "mimetype": "text/x-python",
   "name": "python",
   "nbconvert_exporter": "python",
   "pygments_lexer": "ipython3",
   "version": "3.10.6"
  },
  "toc": {
   "base_numbering": 1,
   "nav_menu": {},
   "number_sections": true,
   "sideBar": true,
   "skip_h1_title": false,
   "title_cell": "Table of Contents",
   "title_sidebar": "Contents",
   "toc_cell": false,
   "toc_position": {},
   "toc_section_display": true,
   "toc_window_display": true
  }
 },
 "nbformat": 4,
 "nbformat_minor": 5
}
