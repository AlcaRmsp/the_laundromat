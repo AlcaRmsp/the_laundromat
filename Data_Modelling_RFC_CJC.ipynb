{
 "cells": [
  {
   "cell_type": "markdown",
   "id": "ff3fdd55",
   "metadata": {},
   "source": [
    "## Data"
   ]
  },
  {
   "cell_type": "code",
   "execution_count": 1,
   "id": "9b4d5c0b",
   "metadata": {},
   "outputs": [],
   "source": [
    "%load_ext autoreload\n",
    "%autoreload 2\n",
    "import matplotlib\n",
    "import numpy as np\n",
    "import pandas as pd\n",
    "import matplotlib.pyplot as plt\n",
    "import seaborn as sns\n",
    "from sklearn.linear_model import LogisticRegression\n",
    "from sklearn.model_selection import train_test_split\n",
    "import imblearn\n",
    "import collections\n",
    "from imblearn.over_sampling import SMOTE\n",
    "from sklearn.svm import LinearSVC\n",
    "from imblearn.over_sampling import ADASYN"
   ]
  },
  {
   "cell_type": "code",
   "execution_count": 2,
   "id": "c231e526",
   "metadata": {},
   "outputs": [],
   "source": [
    "df = pd.read_csv('/Users/claudiajovellar/code/AlcaRmsp/the_laundromat/raw_data/data.csv')\n",
    "\n",
    "df = df.rename(columns={'oldbalanceOrg':'oldBalanceOrig', 'newbalanceOrig':'newBalanceOrig', \\\n",
    "                        'oldbalanceDest':'oldBalanceDest', 'newbalanceDest':'newBalanceDest'})"
   ]
  },
  {
   "cell_type": "code",
   "execution_count": 3,
   "id": "54b47fa7",
   "metadata": {},
   "outputs": [],
   "source": [
    "df['errorBalanceOrig']=df['newBalanceOrig'] + df['amount'] - df['oldBalanceOrig']\n",
    "df['errorBalanceDest']=df['newBalanceDest'] + df['amount'] - df['oldBalanceDest']"
   ]
  },
  {
   "cell_type": "code",
   "execution_count": 4,
   "id": "9fa5a286",
   "metadata": {},
   "outputs": [
    {
     "name": "stdout",
     "output_type": "stream",
     "text": [
      "The unique values for 'type' are ['PAYMENT' 'TRANSFER' 'CASH_OUT' 'DEBIT' 'CASH_IN']\n"
     ]
    },
    {
     "name": "stderr",
     "output_type": "stream",
     "text": [
      "/Users/claudiajovellar/.pyenv/versions/3.10.6/envs/lewagon/lib/python3.10/site-packages/sklearn/preprocessing/_encoders.py:808: FutureWarning: `sparse` was renamed to `sparse_output` in version 1.2 and will be removed in 1.4. `sparse_output` is ignored unless you leave `sparse` to its default value.\n",
      "  warnings.warn(\n"
     ]
    },
    {
     "name": "stdout",
     "output_type": "stream",
     "text": [
      "The categories detected by the OneHotEncoder are [array(['CASH_IN', 'CASH_OUT', 'DEBIT', 'PAYMENT', 'TRANSFER'],\n",
      "      dtype=object)]\n",
      "The column names for the encoded values are ['type_CASH_IN' 'type_CASH_OUT' 'type_DEBIT' 'type_PAYMENT'\n",
      " 'type_TRANSFER']\n"
     ]
    }
   ],
   "source": [
    "from sklearn.preprocessing import OneHotEncoder\n",
    "\n",
    "# Check unique values for streets (2)\n",
    "print(f\"The unique values for 'type' are {df.type.unique()}\")\n",
    "\n",
    "# Instantiate the OneHotEncoder\n",
    "ohe_binary = OneHotEncoder(sparse = False, drop=\"if_binary\") \n",
    "\n",
    "# Fit encoder\n",
    "ohe_binary.fit(df[['type']]) \n",
    "\n",
    "# Display the detected categories\n",
    "print(f\"The categories detected by the OneHotEncoder are {ohe_binary.categories_}\")\n",
    "\n",
    "# Display the generated names\n",
    "print(f\"The column names for the encoded values are {ohe_binary.get_feature_names_out()}\")\n",
    "\n",
    "# Transform the current \"Street\" column\n",
    "df[ohe_binary.get_feature_names_out()] = ohe_binary.transform(df[['type']])\n",
    "\n",
    "# Drop the column \"Street\" which has been encoded\n",
    "df.drop(columns = [\"type\"], inplace = True)"
   ]
  },
  {
   "cell_type": "code",
   "execution_count": 5,
   "id": "d8e34482",
   "metadata": {},
   "outputs": [],
   "source": [
    "from sklearn.preprocessing import LabelEncoder\n",
    "# create a label encoder object\n",
    "le = LabelEncoder()\n",
    "\n",
    "# apply the label encoder to non-numeric columns\n",
    "df['nameOrig'] = le.fit_transform(df['nameOrig'])\n",
    "df['nameDest'] = le.fit_transform(df['nameDest'])"
   ]
  },
  {
   "cell_type": "code",
   "execution_count": 6,
   "id": "b7a760e7",
   "metadata": {},
   "outputs": [
    {
     "data": {
      "text/html": [
       "<div>\n",
       "<style scoped>\n",
       "    .dataframe tbody tr th:only-of-type {\n",
       "        vertical-align: middle;\n",
       "    }\n",
       "\n",
       "    .dataframe tbody tr th {\n",
       "        vertical-align: top;\n",
       "    }\n",
       "\n",
       "    .dataframe thead th {\n",
       "        text-align: right;\n",
       "    }\n",
       "</style>\n",
       "<table border=\"1\" class=\"dataframe\">\n",
       "  <thead>\n",
       "    <tr style=\"text-align: right;\">\n",
       "      <th></th>\n",
       "      <th>step</th>\n",
       "      <th>amount</th>\n",
       "      <th>nameOrig</th>\n",
       "      <th>oldBalanceOrig</th>\n",
       "      <th>newBalanceOrig</th>\n",
       "      <th>nameDest</th>\n",
       "      <th>oldBalanceDest</th>\n",
       "      <th>newBalanceDest</th>\n",
       "      <th>isFraud</th>\n",
       "      <th>isFlaggedFraud</th>\n",
       "      <th>errorBalanceOrig</th>\n",
       "      <th>errorBalanceDest</th>\n",
       "      <th>type_CASH_IN</th>\n",
       "      <th>type_CASH_OUT</th>\n",
       "      <th>type_DEBIT</th>\n",
       "      <th>type_PAYMENT</th>\n",
       "      <th>type_TRANSFER</th>\n",
       "    </tr>\n",
       "  </thead>\n",
       "  <tbody>\n",
       "    <tr>\n",
       "      <th>0</th>\n",
       "      <td>1</td>\n",
       "      <td>9839.64</td>\n",
       "      <td>757869</td>\n",
       "      <td>170136.0</td>\n",
       "      <td>160296.36</td>\n",
       "      <td>1662094</td>\n",
       "      <td>0.0</td>\n",
       "      <td>0.0</td>\n",
       "      <td>0</td>\n",
       "      <td>0</td>\n",
       "      <td>0.0</td>\n",
       "      <td>9839.64</td>\n",
       "      <td>0.0</td>\n",
       "      <td>0.0</td>\n",
       "      <td>0.0</td>\n",
       "      <td>1.0</td>\n",
       "      <td>0.0</td>\n",
       "    </tr>\n",
       "    <tr>\n",
       "      <th>1</th>\n",
       "      <td>1</td>\n",
       "      <td>1864.28</td>\n",
       "      <td>2188998</td>\n",
       "      <td>21249.0</td>\n",
       "      <td>19384.72</td>\n",
       "      <td>1733924</td>\n",
       "      <td>0.0</td>\n",
       "      <td>0.0</td>\n",
       "      <td>0</td>\n",
       "      <td>0</td>\n",
       "      <td>0.0</td>\n",
       "      <td>1864.28</td>\n",
       "      <td>0.0</td>\n",
       "      <td>0.0</td>\n",
       "      <td>0.0</td>\n",
       "      <td>1.0</td>\n",
       "      <td>0.0</td>\n",
       "    </tr>\n",
       "    <tr>\n",
       "      <th>2</th>\n",
       "      <td>1</td>\n",
       "      <td>181.00</td>\n",
       "      <td>1002156</td>\n",
       "      <td>181.0</td>\n",
       "      <td>0.00</td>\n",
       "      <td>439685</td>\n",
       "      <td>0.0</td>\n",
       "      <td>0.0</td>\n",
       "      <td>1</td>\n",
       "      <td>0</td>\n",
       "      <td>0.0</td>\n",
       "      <td>181.00</td>\n",
       "      <td>0.0</td>\n",
       "      <td>0.0</td>\n",
       "      <td>0.0</td>\n",
       "      <td>0.0</td>\n",
       "      <td>1.0</td>\n",
       "    </tr>\n",
       "    <tr>\n",
       "      <th>3</th>\n",
       "      <td>1</td>\n",
       "      <td>181.00</td>\n",
       "      <td>5828262</td>\n",
       "      <td>181.0</td>\n",
       "      <td>0.00</td>\n",
       "      <td>391696</td>\n",
       "      <td>21182.0</td>\n",
       "      <td>0.0</td>\n",
       "      <td>1</td>\n",
       "      <td>0</td>\n",
       "      <td>0.0</td>\n",
       "      <td>-21001.00</td>\n",
       "      <td>0.0</td>\n",
       "      <td>1.0</td>\n",
       "      <td>0.0</td>\n",
       "      <td>0.0</td>\n",
       "      <td>0.0</td>\n",
       "    </tr>\n",
       "    <tr>\n",
       "      <th>4</th>\n",
       "      <td>1</td>\n",
       "      <td>11668.14</td>\n",
       "      <td>3445981</td>\n",
       "      <td>41554.0</td>\n",
       "      <td>29885.86</td>\n",
       "      <td>828919</td>\n",
       "      <td>0.0</td>\n",
       "      <td>0.0</td>\n",
       "      <td>0</td>\n",
       "      <td>0</td>\n",
       "      <td>0.0</td>\n",
       "      <td>11668.14</td>\n",
       "      <td>0.0</td>\n",
       "      <td>0.0</td>\n",
       "      <td>0.0</td>\n",
       "      <td>1.0</td>\n",
       "      <td>0.0</td>\n",
       "    </tr>\n",
       "  </tbody>\n",
       "</table>\n",
       "</div>"
      ],
      "text/plain": [
       "   step    amount  nameOrig  oldBalanceOrig  newBalanceOrig  nameDest  \\\n",
       "0     1   9839.64    757869        170136.0       160296.36   1662094   \n",
       "1     1   1864.28   2188998         21249.0        19384.72   1733924   \n",
       "2     1    181.00   1002156           181.0            0.00    439685   \n",
       "3     1    181.00   5828262           181.0            0.00    391696   \n",
       "4     1  11668.14   3445981         41554.0        29885.86    828919   \n",
       "\n",
       "   oldBalanceDest  newBalanceDest  isFraud  isFlaggedFraud  errorBalanceOrig  \\\n",
       "0             0.0             0.0        0               0               0.0   \n",
       "1             0.0             0.0        0               0               0.0   \n",
       "2             0.0             0.0        1               0               0.0   \n",
       "3         21182.0             0.0        1               0               0.0   \n",
       "4             0.0             0.0        0               0               0.0   \n",
       "\n",
       "   errorBalanceDest  type_CASH_IN  type_CASH_OUT  type_DEBIT  type_PAYMENT  \\\n",
       "0           9839.64           0.0            0.0         0.0           1.0   \n",
       "1           1864.28           0.0            0.0         0.0           1.0   \n",
       "2            181.00           0.0            0.0         0.0           0.0   \n",
       "3         -21001.00           0.0            1.0         0.0           0.0   \n",
       "4          11668.14           0.0            0.0         0.0           1.0   \n",
       "\n",
       "   type_TRANSFER  \n",
       "0            0.0  \n",
       "1            0.0  \n",
       "2            1.0  \n",
       "3            0.0  \n",
       "4            0.0  "
      ]
     },
     "execution_count": 6,
     "metadata": {},
     "output_type": "execute_result"
    }
   ],
   "source": [
    "df.head()"
   ]
  },
  {
   "cell_type": "markdown",
   "id": "938c2060",
   "metadata": {},
   "source": [
    "### Split data"
   ]
  },
  {
   "cell_type": "code",
   "execution_count": 7,
   "id": "9ba74df6",
   "metadata": {},
   "outputs": [],
   "source": [
    "# Separate the features and target variable\n",
    "X = df.drop('isFraud', axis=1)\n",
    "y = df['isFraud']"
   ]
  },
  {
   "cell_type": "code",
   "execution_count": 8,
   "id": "63031dca",
   "metadata": {},
   "outputs": [],
   "source": [
    "X_train, X_test, y_train, y_test = train_test_split(X, y, test_size=0.2, random_state=42)"
   ]
  },
  {
   "cell_type": "markdown",
   "id": "1096ef6f",
   "metadata": {},
   "source": [
    "## Balancing data"
   ]
  },
  {
   "cell_type": "markdown",
   "id": "7f7582d5",
   "metadata": {},
   "source": [
    "### SMOTE - Training Set"
   ]
  },
  {
   "cell_type": "code",
   "execution_count": 9,
   "id": "eff675f0",
   "metadata": {
    "scrolled": true
   },
   "outputs": [
    {
     "data": {
      "text/plain": [
       "([<matplotlib.patches.Wedge at 0x14d3e6200>,\n",
       "  <matplotlib.patches.Wedge at 0x14d3e6590>],\n",
       " [Text(-1.099990955625572, 0.004460666087110192, 'Not Fraud'),\n",
       "  Text(1.0999909559371663, -0.004460589247970448, 'Fraud')])"
      ]
     },
     "execution_count": 9,
     "metadata": {},
     "output_type": "execute_result"
    },
    {
     "data": {
      "image/png": "[encoded data removed]",
      "text/plain": [
       "<Figure size 640x480 with 1 Axes>"
      ]
     },
     "metadata": {},
     "output_type": "display_data"
    }
   ],
   "source": [
    "#Check if data is balanced before SMOTE\n",
    "labels = 'Not Fraud','Fraud'\n",
    "values=df['isFraud'].value_counts()\n",
    "fig, ax = plt.subplots()\n",
    "ax.pie(values, labels=labels)"
   ]
  },
  {
   "cell_type": "code",
   "execution_count": 10,
   "id": "e815e806",
   "metadata": {},
   "outputs": [
    {
     "name": "stdout",
     "output_type": "stream",
     "text": [
      "0.9.1\n"
     ]
    }
   ],
   "source": [
    "print(imblearn.__version__)"
   ]
  },
  {
   "cell_type": "code",
   "execution_count": 11,
   "id": "69b0e5ee",
   "metadata": {},
   "outputs": [
    {
     "name": "stdout",
     "output_type": "stream",
     "text": [
      "Counter({0: 6354407, 1: 8213})\n"
     ]
    }
   ],
   "source": [
    "# summarize class distribution\n",
    "counter = collections.Counter(y)\n",
    "print(counter)"
   ]
  },
  {
   "cell_type": "code",
   "execution_count": 12,
   "id": "16944088",
   "metadata": {
    "scrolled": true
   },
   "outputs": [
    {
     "data": {
      "text/plain": [
       "((5090096, 16), (5090096,))"
      ]
     },
     "execution_count": 12,
     "metadata": {},
     "output_type": "execute_result"
    }
   ],
   "source": [
    "X_train.shape, y_train.shape"
   ]
  },
  {
   "cell_type": "code",
   "execution_count": 13,
   "id": "785e0a8e",
   "metadata": {},
   "outputs": [],
   "source": [
    "X_resampled, y_resampled = SMOTE().fit_resample(X_train, y_train)"
   ]
  },
  {
   "cell_type": "code",
   "execution_count": 14,
   "id": "7657a793",
   "metadata": {},
   "outputs": [
    {
     "data": {
      "text/html": [
       "<div>\n",
       "<style scoped>\n",
       "    .dataframe tbody tr th:only-of-type {\n",
       "        vertical-align: middle;\n",
       "    }\n",
       "\n",
       "    .dataframe tbody tr th {\n",
       "        vertical-align: top;\n",
       "    }\n",
       "\n",
       "    .dataframe thead th {\n",
       "        text-align: right;\n",
       "    }\n",
       "</style>\n",
       "<table border=\"1\" class=\"dataframe\">\n",
       "  <thead>\n",
       "    <tr style=\"text-align: right;\">\n",
       "      <th></th>\n",
       "      <th>step</th>\n",
       "      <th>amount</th>\n",
       "      <th>nameOrig</th>\n",
       "      <th>oldBalanceOrig</th>\n",
       "      <th>newBalanceOrig</th>\n",
       "      <th>nameDest</th>\n",
       "      <th>oldBalanceDest</th>\n",
       "      <th>newBalanceDest</th>\n",
       "      <th>isFlaggedFraud</th>\n",
       "      <th>errorBalanceOrig</th>\n",
       "      <th>errorBalanceDest</th>\n",
       "      <th>type_CASH_IN</th>\n",
       "      <th>type_CASH_OUT</th>\n",
       "      <th>type_DEBIT</th>\n",
       "      <th>type_PAYMENT</th>\n",
       "      <th>type_TRANSFER</th>\n",
       "    </tr>\n",
       "  </thead>\n",
       "  <tbody>\n",
       "    <tr>\n",
       "      <th>0</th>\n",
       "      <td>619</td>\n",
       "      <td>386385.08</td>\n",
       "      <td>4449199</td>\n",
       "      <td>4669568.85</td>\n",
       "      <td>5055953.92</td>\n",
       "      <td>289167</td>\n",
       "      <td>506035.06</td>\n",
       "      <td>119649.98</td>\n",
       "      <td>0</td>\n",
       "      <td>772770.15</td>\n",
       "      <td>0.00</td>\n",
       "      <td>1.0</td>\n",
       "      <td>0.0</td>\n",
       "      <td>0.0</td>\n",
       "      <td>0.0</td>\n",
       "      <td>0.0</td>\n",
       "    </tr>\n",
       "    <tr>\n",
       "      <th>1</th>\n",
       "      <td>164</td>\n",
       "      <td>212458.78</td>\n",
       "      <td>5813773</td>\n",
       "      <td>234635.00</td>\n",
       "      <td>447093.78</td>\n",
       "      <td>204382</td>\n",
       "      <td>806037.88</td>\n",
       "      <td>593579.10</td>\n",
       "      <td>0</td>\n",
       "      <td>424917.56</td>\n",
       "      <td>0.00</td>\n",
       "      <td>1.0</td>\n",
       "      <td>0.0</td>\n",
       "      <td>0.0</td>\n",
       "      <td>0.0</td>\n",
       "      <td>0.0</td>\n",
       "    </tr>\n",
       "    <tr>\n",
       "      <th>2</th>\n",
       "      <td>382</td>\n",
       "      <td>19967.60</td>\n",
       "      <td>5870502</td>\n",
       "      <td>3634.00</td>\n",
       "      <td>0.00</td>\n",
       "      <td>1346491</td>\n",
       "      <td>0.00</td>\n",
       "      <td>0.00</td>\n",
       "      <td>0</td>\n",
       "      <td>16333.60</td>\n",
       "      <td>19967.60</td>\n",
       "      <td>0.0</td>\n",
       "      <td>0.0</td>\n",
       "      <td>0.0</td>\n",
       "      <td>1.0</td>\n",
       "      <td>0.0</td>\n",
       "    </tr>\n",
       "    <tr>\n",
       "      <th>3</th>\n",
       "      <td>180</td>\n",
       "      <td>527616.51</td>\n",
       "      <td>5095916</td>\n",
       "      <td>180216.00</td>\n",
       "      <td>0.00</td>\n",
       "      <td>446948</td>\n",
       "      <td>92157.10</td>\n",
       "      <td>619773.61</td>\n",
       "      <td>0</td>\n",
       "      <td>347400.51</td>\n",
       "      <td>1055233.02</td>\n",
       "      <td>0.0</td>\n",
       "      <td>1.0</td>\n",
       "      <td>0.0</td>\n",
       "      <td>0.0</td>\n",
       "      <td>0.0</td>\n",
       "    </tr>\n",
       "    <tr>\n",
       "      <th>4</th>\n",
       "      <td>36</td>\n",
       "      <td>206067.85</td>\n",
       "      <td>5557736</td>\n",
       "      <td>0.00</td>\n",
       "      <td>0.00</td>\n",
       "      <td>338417</td>\n",
       "      <td>2131494.48</td>\n",
       "      <td>2337562.32</td>\n",
       "      <td>0</td>\n",
       "      <td>206067.85</td>\n",
       "      <td>412135.69</td>\n",
       "      <td>0.0</td>\n",
       "      <td>0.0</td>\n",
       "      <td>0.0</td>\n",
       "      <td>0.0</td>\n",
       "      <td>1.0</td>\n",
       "    </tr>\n",
       "  </tbody>\n",
       "</table>\n",
       "</div>"
      ],
      "text/plain": [
       "   step     amount  nameOrig  oldBalanceOrig  newBalanceOrig  nameDest  \\\n",
       "0   619  386385.08   4449199      4669568.85      5055953.92    289167   \n",
       "1   164  212458.78   5813773       234635.00       447093.78    204382   \n",
       "2   382   19967.60   5870502         3634.00            0.00   1346491   \n",
       "3   180  527616.51   5095916       180216.00            0.00    446948   \n",
       "4    36  206067.85   5557736            0.00            0.00    338417   \n",
       "\n",
       "   oldBalanceDest  newBalanceDest  isFlaggedFraud  errorBalanceOrig  \\\n",
       "0       506035.06       119649.98               0         772770.15   \n",
       "1       806037.88       593579.10               0         424917.56   \n",
       "2            0.00            0.00               0          16333.60   \n",
       "3        92157.10       619773.61               0         347400.51   \n",
       "4      2131494.48      2337562.32               0         206067.85   \n",
       "\n",
       "   errorBalanceDest  type_CASH_IN  type_CASH_OUT  type_DEBIT  type_PAYMENT  \\\n",
       "0              0.00           1.0            0.0         0.0           0.0   \n",
       "1              0.00           1.0            0.0         0.0           0.0   \n",
       "2          19967.60           0.0            0.0         0.0           1.0   \n",
       "3        1055233.02           0.0            1.0         0.0           0.0   \n",
       "4         412135.69           0.0            0.0         0.0           0.0   \n",
       "\n",
       "   type_TRANSFER  \n",
       "0            0.0  \n",
       "1            0.0  \n",
       "2            0.0  \n",
       "3            0.0  \n",
       "4            1.0  "
      ]
     },
     "execution_count": 14,
     "metadata": {},
     "output_type": "execute_result"
    }
   ],
   "source": [
    "X_resampled.head()"
   ]
  },
  {
   "cell_type": "code",
   "execution_count": 15,
   "id": "0ac534fa",
   "metadata": {},
   "outputs": [
    {
     "data": {
      "text/plain": [
       "((10167006, 16), (10167006,))"
      ]
     },
     "execution_count": 15,
     "metadata": {},
     "output_type": "execute_result"
    }
   ],
   "source": [
    "X_resampled.shape, y_resampled.shape"
   ]
  },
  {
   "cell_type": "code",
   "execution_count": 16,
   "id": "18725aac",
   "metadata": {
    "scrolled": true
   },
   "outputs": [
    {
     "data": {
      "text/html": [
       "<div>\n",
       "<style scoped>\n",
       "    .dataframe tbody tr th:only-of-type {\n",
       "        vertical-align: middle;\n",
       "    }\n",
       "\n",
       "    .dataframe tbody tr th {\n",
       "        vertical-align: top;\n",
       "    }\n",
       "\n",
       "    .dataframe thead th {\n",
       "        text-align: right;\n",
       "    }\n",
       "</style>\n",
       "<table border=\"1\" class=\"dataframe\">\n",
       "  <thead>\n",
       "    <tr style=\"text-align: right;\">\n",
       "      <th></th>\n",
       "      <th>isFraud</th>\n",
       "    </tr>\n",
       "  </thead>\n",
       "  <tbody>\n",
       "    <tr>\n",
       "      <th>0</th>\n",
       "      <td>0</td>\n",
       "    </tr>\n",
       "    <tr>\n",
       "      <th>1</th>\n",
       "      <td>0</td>\n",
       "    </tr>\n",
       "    <tr>\n",
       "      <th>2</th>\n",
       "      <td>0</td>\n",
       "    </tr>\n",
       "    <tr>\n",
       "      <th>3</th>\n",
       "      <td>0</td>\n",
       "    </tr>\n",
       "    <tr>\n",
       "      <th>4</th>\n",
       "      <td>0</td>\n",
       "    </tr>\n",
       "    <tr>\n",
       "      <th>...</th>\n",
       "      <td>...</td>\n",
       "    </tr>\n",
       "    <tr>\n",
       "      <th>10167001</th>\n",
       "      <td>1</td>\n",
       "    </tr>\n",
       "    <tr>\n",
       "      <th>10167002</th>\n",
       "      <td>1</td>\n",
       "    </tr>\n",
       "    <tr>\n",
       "      <th>10167003</th>\n",
       "      <td>1</td>\n",
       "    </tr>\n",
       "    <tr>\n",
       "      <th>10167004</th>\n",
       "      <td>1</td>\n",
       "    </tr>\n",
       "    <tr>\n",
       "      <th>10167005</th>\n",
       "      <td>1</td>\n",
       "    </tr>\n",
       "  </tbody>\n",
       "</table>\n",
       "<p>10167006 rows × 1 columns</p>\n",
       "</div>"
      ],
      "text/plain": [
       "          isFraud\n",
       "0               0\n",
       "1               0\n",
       "2               0\n",
       "3               0\n",
       "4               0\n",
       "...           ...\n",
       "10167001        1\n",
       "10167002        1\n",
       "10167003        1\n",
       "10167004        1\n",
       "10167005        1\n",
       "\n",
       "[10167006 rows x 1 columns]"
      ]
     },
     "execution_count": 16,
     "metadata": {},
     "output_type": "execute_result"
    }
   ],
   "source": [
    "pd.DataFrame(y_resampled)"
   ]
  },
  {
   "cell_type": "code",
   "execution_count": 17,
   "id": "68e017e8",
   "metadata": {},
   "outputs": [],
   "source": [
    "X_resampled['isFraud'] = y_resampled"
   ]
  },
  {
   "cell_type": "code",
   "execution_count": 18,
   "id": "ab6b096e",
   "metadata": {},
   "outputs": [
    {
     "data": {
      "text/plain": [
       "([<matplotlib.patches.Wedge at 0x133fc1d20>,\n",
       "  <matplotlib.patches.Wedge at 0x133fc3af0>],\n",
       " [Text(6.735557395310444e-17, 1.1, 'Not Fraud'),\n",
       "  Text(-2.0206672185931328e-16, -1.1, 'Fraud')])"
      ]
     },
     "execution_count": 18,
     "metadata": {},
     "output_type": "execute_result"
    },
    {
     "data": {
      "image/png": "[encoded data removed]",
      "text/plain": [
       "<Figure size 640x480 with 1 Axes>"
      ]
     },
     "metadata": {},
     "output_type": "display_data"
    }
   ],
   "source": [
    "#Check if data is balanced after SMOTE balancing\n",
    "labels = 'Not Fraud','Fraud'\n",
    "values= X_resampled['isFraud'].value_counts()\n",
    "fig, ax = plt.subplots()\n",
    "ax.pie(values, labels=labels)"
   ]
  },
  {
   "cell_type": "code",
   "execution_count": 19,
   "id": "0d9b4f60",
   "metadata": {},
   "outputs": [
    {
     "data": {
      "text/plain": [
       "([<matplotlib.patches.Wedge at 0x14a7b6a40>,\n",
       "  <matplotlib.patches.Wedge at 0x14a7b7f40>],\n",
       " [Text(6.735557395310444e-17, 1.1, 'Not Fraud'),\n",
       "  Text(-2.0206672185931328e-16, -1.1, 'Fraud')])"
      ]
     },
     "execution_count": 19,
     "metadata": {},
     "output_type": "execute_result"
    },
    {
     "data": {
      "image/png": "[encoded data removed]",
      "text/plain": [
       "<Figure size 640x480 with 1 Axes>"
      ]
     },
     "metadata": {},
     "output_type": "display_data"
    }
   ],
   "source": [
    "#Check if data is balanced after SMOTE balancing\n",
    "import matplotlib.pyplot as plt\n",
    "labels = 'Not Fraud','Fraud'\n",
    "values=X_resampled['isFraud'].value_counts()\n",
    "fig, ax = plt.subplots()\n",
    "ax.pie(values, labels=labels)"
   ]
  },
  {
   "cell_type": "markdown",
   "id": "9c264f0e",
   "metadata": {},
   "source": [
    "#### Getting a sample of the training data "
   ]
  },
  {
   "cell_type": "code",
   "execution_count": 20,
   "id": "8199e51d",
   "metadata": {},
   "outputs": [
    {
     "data": {
      "text/html": [
       "<div>\n",
       "<style scoped>\n",
       "    .dataframe tbody tr th:only-of-type {\n",
       "        vertical-align: middle;\n",
       "    }\n",
       "\n",
       "    .dataframe tbody tr th {\n",
       "        vertical-align: top;\n",
       "    }\n",
       "\n",
       "    .dataframe thead th {\n",
       "        text-align: right;\n",
       "    }\n",
       "</style>\n",
       "<table border=\"1\" class=\"dataframe\">\n",
       "  <thead>\n",
       "    <tr style=\"text-align: right;\">\n",
       "      <th></th>\n",
       "      <th>step</th>\n",
       "      <th>amount</th>\n",
       "      <th>nameOrig</th>\n",
       "      <th>oldBalanceOrig</th>\n",
       "      <th>newBalanceOrig</th>\n",
       "      <th>nameDest</th>\n",
       "      <th>oldBalanceDest</th>\n",
       "      <th>newBalanceDest</th>\n",
       "      <th>isFlaggedFraud</th>\n",
       "      <th>errorBalanceOrig</th>\n",
       "      <th>errorBalanceDest</th>\n",
       "      <th>type_CASH_IN</th>\n",
       "      <th>type_CASH_OUT</th>\n",
       "      <th>type_DEBIT</th>\n",
       "      <th>type_PAYMENT</th>\n",
       "      <th>type_TRANSFER</th>\n",
       "      <th>isFraud</th>\n",
       "    </tr>\n",
       "  </thead>\n",
       "  <tbody>\n",
       "    <tr>\n",
       "      <th>7008208</th>\n",
       "      <td>478</td>\n",
       "      <td>1.509662e+06</td>\n",
       "      <td>5437015</td>\n",
       "      <td>1.509662e+06</td>\n",
       "      <td>0.0</td>\n",
       "      <td>131516</td>\n",
       "      <td>0.000000e+00</td>\n",
       "      <td>1.509662e+06</td>\n",
       "      <td>0</td>\n",
       "      <td>0.0</td>\n",
       "      <td>3.019324e+06</td>\n",
       "      <td>0.0</td>\n",
       "      <td>1.0</td>\n",
       "      <td>0.0</td>\n",
       "      <td>0.0</td>\n",
       "      <td>0.0</td>\n",
       "      <td>1</td>\n",
       "    </tr>\n",
       "    <tr>\n",
       "      <th>8118055</th>\n",
       "      <td>127</td>\n",
       "      <td>8.765806e+06</td>\n",
       "      <td>1040942</td>\n",
       "      <td>8.765806e+06</td>\n",
       "      <td>0.0</td>\n",
       "      <td>320185</td>\n",
       "      <td>1.218009e+05</td>\n",
       "      <td>8.887607e+06</td>\n",
       "      <td>0</td>\n",
       "      <td>0.0</td>\n",
       "      <td>1.753161e+07</td>\n",
       "      <td>0.0</td>\n",
       "      <td>1.0</td>\n",
       "      <td>0.0</td>\n",
       "      <td>0.0</td>\n",
       "      <td>0.0</td>\n",
       "      <td>1</td>\n",
       "    </tr>\n",
       "    <tr>\n",
       "      <th>6596205</th>\n",
       "      <td>221</td>\n",
       "      <td>7.025545e+04</td>\n",
       "      <td>3789923</td>\n",
       "      <td>7.025545e+04</td>\n",
       "      <td>0.0</td>\n",
       "      <td>228032</td>\n",
       "      <td>0.000000e+00</td>\n",
       "      <td>7.025545e+04</td>\n",
       "      <td>0</td>\n",
       "      <td>0.0</td>\n",
       "      <td>1.405109e+05</td>\n",
       "      <td>0.0</td>\n",
       "      <td>1.0</td>\n",
       "      <td>0.0</td>\n",
       "      <td>0.0</td>\n",
       "      <td>0.0</td>\n",
       "      <td>1</td>\n",
       "    </tr>\n",
       "    <tr>\n",
       "      <th>5182152</th>\n",
       "      <td>469</td>\n",
       "      <td>2.380166e+04</td>\n",
       "      <td>3151837</td>\n",
       "      <td>2.380166e+04</td>\n",
       "      <td>0.0</td>\n",
       "      <td>511358</td>\n",
       "      <td>3.363827e+06</td>\n",
       "      <td>3.387629e+06</td>\n",
       "      <td>0</td>\n",
       "      <td>0.0</td>\n",
       "      <td>4.760333e+04</td>\n",
       "      <td>0.0</td>\n",
       "      <td>1.0</td>\n",
       "      <td>0.0</td>\n",
       "      <td>0.0</td>\n",
       "      <td>0.0</td>\n",
       "      <td>1</td>\n",
       "    </tr>\n",
       "    <tr>\n",
       "      <th>6214172</th>\n",
       "      <td>475</td>\n",
       "      <td>1.725549e+05</td>\n",
       "      <td>2902082</td>\n",
       "      <td>1.725549e+05</td>\n",
       "      <td>0.0</td>\n",
       "      <td>493687</td>\n",
       "      <td>0.000000e+00</td>\n",
       "      <td>0.000000e+00</td>\n",
       "      <td>0</td>\n",
       "      <td>0.0</td>\n",
       "      <td>1.725549e+05</td>\n",
       "      <td>0.0</td>\n",
       "      <td>0.0</td>\n",
       "      <td>0.0</td>\n",
       "      <td>0.0</td>\n",
       "      <td>1.0</td>\n",
       "      <td>1</td>\n",
       "    </tr>\n",
       "  </tbody>\n",
       "</table>\n",
       "</div>"
      ],
      "text/plain": [
       "         step        amount  nameOrig  oldBalanceOrig  newBalanceOrig  \\\n",
       "7008208   478  1.509662e+06   5437015    1.509662e+06             0.0   \n",
       "8118055   127  8.765806e+06   1040942    8.765806e+06             0.0   \n",
       "6596205   221  7.025545e+04   3789923    7.025545e+04             0.0   \n",
       "5182152   469  2.380166e+04   3151837    2.380166e+04             0.0   \n",
       "6214172   475  1.725549e+05   2902082    1.725549e+05             0.0   \n",
       "\n",
       "         nameDest  oldBalanceDest  newBalanceDest  isFlaggedFraud  \\\n",
       "7008208    131516    0.000000e+00    1.509662e+06               0   \n",
       "8118055    320185    1.218009e+05    8.887607e+06               0   \n",
       "6596205    228032    0.000000e+00    7.025545e+04               0   \n",
       "5182152    511358    3.363827e+06    3.387629e+06               0   \n",
       "6214172    493687    0.000000e+00    0.000000e+00               0   \n",
       "\n",
       "         errorBalanceOrig  errorBalanceDest  type_CASH_IN  type_CASH_OUT  \\\n",
       "7008208               0.0      3.019324e+06           0.0            1.0   \n",
       "8118055               0.0      1.753161e+07           0.0            1.0   \n",
       "6596205               0.0      1.405109e+05           0.0            1.0   \n",
       "5182152               0.0      4.760333e+04           0.0            1.0   \n",
       "6214172               0.0      1.725549e+05           0.0            0.0   \n",
       "\n",
       "         type_DEBIT  type_PAYMENT  type_TRANSFER  isFraud  \n",
       "7008208         0.0           0.0            0.0        1  \n",
       "8118055         0.0           0.0            0.0        1  \n",
       "6596205         0.0           0.0            0.0        1  \n",
       "5182152         0.0           0.0            0.0        1  \n",
       "6214172         0.0           0.0            1.0        1  "
      ]
     },
     "execution_count": 20,
     "metadata": {},
     "output_type": "execute_result"
    }
   ],
   "source": [
    "fraud = X_resampled[X_resampled.isFraud == 1].sample(100000)\n",
    "fraud.head()"
   ]
  },
  {
   "cell_type": "code",
   "execution_count": 21,
   "id": "248d0931",
   "metadata": {},
   "outputs": [],
   "source": [
    "notfraud = X_resampled[X_resampled.isFraud == 0].sample(100000)"
   ]
  },
  {
   "cell_type": "code",
   "execution_count": 22,
   "id": "14060da2",
   "metadata": {},
   "outputs": [
    {
     "data": {
      "text/html": [
       "<div>\n",
       "<style scoped>\n",
       "    .dataframe tbody tr th:only-of-type {\n",
       "        vertical-align: middle;\n",
       "    }\n",
       "\n",
       "    .dataframe tbody tr th {\n",
       "        vertical-align: top;\n",
       "    }\n",
       "\n",
       "    .dataframe thead th {\n",
       "        text-align: right;\n",
       "    }\n",
       "</style>\n",
       "<table border=\"1\" class=\"dataframe\">\n",
       "  <thead>\n",
       "    <tr style=\"text-align: right;\">\n",
       "      <th></th>\n",
       "      <th>step</th>\n",
       "      <th>amount</th>\n",
       "      <th>nameOrig</th>\n",
       "      <th>oldBalanceOrig</th>\n",
       "      <th>newBalanceOrig</th>\n",
       "      <th>nameDest</th>\n",
       "      <th>oldBalanceDest</th>\n",
       "      <th>newBalanceDest</th>\n",
       "      <th>isFlaggedFraud</th>\n",
       "      <th>errorBalanceOrig</th>\n",
       "      <th>errorBalanceDest</th>\n",
       "      <th>type_CASH_IN</th>\n",
       "      <th>type_CASH_OUT</th>\n",
       "      <th>type_DEBIT</th>\n",
       "      <th>type_PAYMENT</th>\n",
       "      <th>type_TRANSFER</th>\n",
       "      <th>isFraud</th>\n",
       "    </tr>\n",
       "  </thead>\n",
       "  <tbody>\n",
       "    <tr>\n",
       "      <th>7008208</th>\n",
       "      <td>478</td>\n",
       "      <td>1.509662e+06</td>\n",
       "      <td>5437015</td>\n",
       "      <td>1.509662e+06</td>\n",
       "      <td>0.00</td>\n",
       "      <td>131516</td>\n",
       "      <td>0.000000e+00</td>\n",
       "      <td>1.509662e+06</td>\n",
       "      <td>0</td>\n",
       "      <td>0.00</td>\n",
       "      <td>3.019324e+06</td>\n",
       "      <td>0.0</td>\n",
       "      <td>1.0</td>\n",
       "      <td>0.0</td>\n",
       "      <td>0.0</td>\n",
       "      <td>0.0</td>\n",
       "      <td>1</td>\n",
       "    </tr>\n",
       "    <tr>\n",
       "      <th>8118055</th>\n",
       "      <td>127</td>\n",
       "      <td>8.765806e+06</td>\n",
       "      <td>1040942</td>\n",
       "      <td>8.765806e+06</td>\n",
       "      <td>0.00</td>\n",
       "      <td>320185</td>\n",
       "      <td>1.218009e+05</td>\n",
       "      <td>8.887607e+06</td>\n",
       "      <td>0</td>\n",
       "      <td>0.00</td>\n",
       "      <td>1.753161e+07</td>\n",
       "      <td>0.0</td>\n",
       "      <td>1.0</td>\n",
       "      <td>0.0</td>\n",
       "      <td>0.0</td>\n",
       "      <td>0.0</td>\n",
       "      <td>1</td>\n",
       "    </tr>\n",
       "    <tr>\n",
       "      <th>6596205</th>\n",
       "      <td>221</td>\n",
       "      <td>7.025545e+04</td>\n",
       "      <td>3789923</td>\n",
       "      <td>7.025545e+04</td>\n",
       "      <td>0.00</td>\n",
       "      <td>228032</td>\n",
       "      <td>0.000000e+00</td>\n",
       "      <td>7.025545e+04</td>\n",
       "      <td>0</td>\n",
       "      <td>0.00</td>\n",
       "      <td>1.405109e+05</td>\n",
       "      <td>0.0</td>\n",
       "      <td>1.0</td>\n",
       "      <td>0.0</td>\n",
       "      <td>0.0</td>\n",
       "      <td>0.0</td>\n",
       "      <td>1</td>\n",
       "    </tr>\n",
       "    <tr>\n",
       "      <th>5182152</th>\n",
       "      <td>469</td>\n",
       "      <td>2.380166e+04</td>\n",
       "      <td>3151837</td>\n",
       "      <td>2.380166e+04</td>\n",
       "      <td>0.00</td>\n",
       "      <td>511358</td>\n",
       "      <td>3.363827e+06</td>\n",
       "      <td>3.387629e+06</td>\n",
       "      <td>0</td>\n",
       "      <td>0.00</td>\n",
       "      <td>4.760333e+04</td>\n",
       "      <td>0.0</td>\n",
       "      <td>1.0</td>\n",
       "      <td>0.0</td>\n",
       "      <td>0.0</td>\n",
       "      <td>0.0</td>\n",
       "      <td>1</td>\n",
       "    </tr>\n",
       "    <tr>\n",
       "      <th>6214172</th>\n",
       "      <td>475</td>\n",
       "      <td>1.725549e+05</td>\n",
       "      <td>2902082</td>\n",
       "      <td>1.725549e+05</td>\n",
       "      <td>0.00</td>\n",
       "      <td>493687</td>\n",
       "      <td>0.000000e+00</td>\n",
       "      <td>0.000000e+00</td>\n",
       "      <td>0</td>\n",
       "      <td>0.00</td>\n",
       "      <td>1.725549e+05</td>\n",
       "      <td>0.0</td>\n",
       "      <td>0.0</td>\n",
       "      <td>0.0</td>\n",
       "      <td>0.0</td>\n",
       "      <td>1.0</td>\n",
       "      <td>1</td>\n",
       "    </tr>\n",
       "    <tr>\n",
       "      <th>...</th>\n",
       "      <td>...</td>\n",
       "      <td>...</td>\n",
       "      <td>...</td>\n",
       "      <td>...</td>\n",
       "      <td>...</td>\n",
       "      <td>...</td>\n",
       "      <td>...</td>\n",
       "      <td>...</td>\n",
       "      <td>...</td>\n",
       "      <td>...</td>\n",
       "      <td>...</td>\n",
       "      <td>...</td>\n",
       "      <td>...</td>\n",
       "      <td>...</td>\n",
       "      <td>...</td>\n",
       "      <td>...</td>\n",
       "      <td>...</td>\n",
       "    </tr>\n",
       "    <tr>\n",
       "      <th>3979193</th>\n",
       "      <td>161</td>\n",
       "      <td>7.602611e+04</td>\n",
       "      <td>3484596</td>\n",
       "      <td>0.000000e+00</td>\n",
       "      <td>76026.11</td>\n",
       "      <td>207107</td>\n",
       "      <td>2.697268e+05</td>\n",
       "      <td>1.937007e+05</td>\n",
       "      <td>0</td>\n",
       "      <td>152052.22</td>\n",
       "      <td>0.000000e+00</td>\n",
       "      <td>1.0</td>\n",
       "      <td>0.0</td>\n",
       "      <td>0.0</td>\n",
       "      <td>0.0</td>\n",
       "      <td>0.0</td>\n",
       "      <td>0</td>\n",
       "    </tr>\n",
       "    <tr>\n",
       "      <th>2697451</th>\n",
       "      <td>210</td>\n",
       "      <td>2.154797e+05</td>\n",
       "      <td>803932</td>\n",
       "      <td>1.423129e+07</td>\n",
       "      <td>14446765.72</td>\n",
       "      <td>21171</td>\n",
       "      <td>8.458871e+05</td>\n",
       "      <td>6.304074e+05</td>\n",
       "      <td>0</td>\n",
       "      <td>430959.40</td>\n",
       "      <td>1.164153e-10</td>\n",
       "      <td>1.0</td>\n",
       "      <td>0.0</td>\n",
       "      <td>0.0</td>\n",
       "      <td>0.0</td>\n",
       "      <td>0.0</td>\n",
       "      <td>0</td>\n",
       "    </tr>\n",
       "    <tr>\n",
       "      <th>177841</th>\n",
       "      <td>305</td>\n",
       "      <td>1.278952e+04</td>\n",
       "      <td>3439542</td>\n",
       "      <td>2.011300e+04</td>\n",
       "      <td>7323.48</td>\n",
       "      <td>1000577</td>\n",
       "      <td>0.000000e+00</td>\n",
       "      <td>0.000000e+00</td>\n",
       "      <td>0</td>\n",
       "      <td>0.00</td>\n",
       "      <td>1.278952e+04</td>\n",
       "      <td>0.0</td>\n",
       "      <td>0.0</td>\n",
       "      <td>0.0</td>\n",
       "      <td>1.0</td>\n",
       "      <td>0.0</td>\n",
       "      <td>0</td>\n",
       "    </tr>\n",
       "    <tr>\n",
       "      <th>3336653</th>\n",
       "      <td>276</td>\n",
       "      <td>2.362120e+04</td>\n",
       "      <td>411405</td>\n",
       "      <td>4.110000e+02</td>\n",
       "      <td>0.00</td>\n",
       "      <td>417558</td>\n",
       "      <td>2.677128e+06</td>\n",
       "      <td>2.700750e+06</td>\n",
       "      <td>0</td>\n",
       "      <td>23210.20</td>\n",
       "      <td>4.724240e+04</td>\n",
       "      <td>0.0</td>\n",
       "      <td>1.0</td>\n",
       "      <td>0.0</td>\n",
       "      <td>0.0</td>\n",
       "      <td>0.0</td>\n",
       "      <td>0</td>\n",
       "    </tr>\n",
       "    <tr>\n",
       "      <th>1156181</th>\n",
       "      <td>161</td>\n",
       "      <td>2.305911e+05</td>\n",
       "      <td>6300598</td>\n",
       "      <td>2.668810e+06</td>\n",
       "      <td>2899400.97</td>\n",
       "      <td>254383</td>\n",
       "      <td>6.912812e+06</td>\n",
       "      <td>6.682221e+06</td>\n",
       "      <td>0</td>\n",
       "      <td>461182.31</td>\n",
       "      <td>-9.999999e-03</td>\n",
       "      <td>1.0</td>\n",
       "      <td>0.0</td>\n",
       "      <td>0.0</td>\n",
       "      <td>0.0</td>\n",
       "      <td>0.0</td>\n",
       "      <td>0</td>\n",
       "    </tr>\n",
       "  </tbody>\n",
       "</table>\n",
       "<p>200000 rows × 17 columns</p>\n",
       "</div>"
      ],
      "text/plain": [
       "         step        amount  nameOrig  oldBalanceOrig  newBalanceOrig  \\\n",
       "7008208   478  1.509662e+06   5437015    1.509662e+06            0.00   \n",
       "8118055   127  8.765806e+06   1040942    8.765806e+06            0.00   \n",
       "6596205   221  7.025545e+04   3789923    7.025545e+04            0.00   \n",
       "5182152   469  2.380166e+04   3151837    2.380166e+04            0.00   \n",
       "6214172   475  1.725549e+05   2902082    1.725549e+05            0.00   \n",
       "...       ...           ...       ...             ...             ...   \n",
       "3979193   161  7.602611e+04   3484596    0.000000e+00        76026.11   \n",
       "2697451   210  2.154797e+05    803932    1.423129e+07     14446765.72   \n",
       "177841    305  1.278952e+04   3439542    2.011300e+04         7323.48   \n",
       "3336653   276  2.362120e+04    411405    4.110000e+02            0.00   \n",
       "1156181   161  2.305911e+05   6300598    2.668810e+06      2899400.97   \n",
       "\n",
       "         nameDest  oldBalanceDest  newBalanceDest  isFlaggedFraud  \\\n",
       "7008208    131516    0.000000e+00    1.509662e+06               0   \n",
       "8118055    320185    1.218009e+05    8.887607e+06               0   \n",
       "6596205    228032    0.000000e+00    7.025545e+04               0   \n",
       "5182152    511358    3.363827e+06    3.387629e+06               0   \n",
       "6214172    493687    0.000000e+00    0.000000e+00               0   \n",
       "...           ...             ...             ...             ...   \n",
       "3979193    207107    2.697268e+05    1.937007e+05               0   \n",
       "2697451     21171    8.458871e+05    6.304074e+05               0   \n",
       "177841    1000577    0.000000e+00    0.000000e+00               0   \n",
       "3336653    417558    2.677128e+06    2.700750e+06               0   \n",
       "1156181    254383    6.912812e+06    6.682221e+06               0   \n",
       "\n",
       "         errorBalanceOrig  errorBalanceDest  type_CASH_IN  type_CASH_OUT  \\\n",
       "7008208              0.00      3.019324e+06           0.0            1.0   \n",
       "8118055              0.00      1.753161e+07           0.0            1.0   \n",
       "6596205              0.00      1.405109e+05           0.0            1.0   \n",
       "5182152              0.00      4.760333e+04           0.0            1.0   \n",
       "6214172              0.00      1.725549e+05           0.0            0.0   \n",
       "...                   ...               ...           ...            ...   \n",
       "3979193         152052.22      0.000000e+00           1.0            0.0   \n",
       "2697451         430959.40      1.164153e-10           1.0            0.0   \n",
       "177841               0.00      1.278952e+04           0.0            0.0   \n",
       "3336653          23210.20      4.724240e+04           0.0            1.0   \n",
       "1156181         461182.31     -9.999999e-03           1.0            0.0   \n",
       "\n",
       "         type_DEBIT  type_PAYMENT  type_TRANSFER  isFraud  \n",
       "7008208         0.0           0.0            0.0        1  \n",
       "8118055         0.0           0.0            0.0        1  \n",
       "6596205         0.0           0.0            0.0        1  \n",
       "5182152         0.0           0.0            0.0        1  \n",
       "6214172         0.0           0.0            1.0        1  \n",
       "...             ...           ...            ...      ...  \n",
       "3979193         0.0           0.0            0.0        0  \n",
       "2697451         0.0           0.0            0.0        0  \n",
       "177841          0.0           1.0            0.0        0  \n",
       "3336653         0.0           0.0            0.0        0  \n",
       "1156181         0.0           0.0            0.0        0  \n",
       "\n",
       "[200000 rows x 17 columns]"
      ]
     },
     "execution_count": 22,
     "metadata": {},
     "output_type": "execute_result"
    }
   ],
   "source": [
    "data_new = pd.concat([fraud, notfraud], axis=0)\n",
    "data_new"
   ]
  },
  {
   "cell_type": "markdown",
   "id": "5e58295d",
   "metadata": {},
   "source": [
    "### SMOTE - Test test 50/50"
   ]
  },
  {
   "cell_type": "code",
   "execution_count": 23,
   "id": "96764ac6",
   "metadata": {},
   "outputs": [],
   "source": [
    "Xtest_resampled50, ytest_resampled50 = SMOTE().fit_resample(X_test, y_test)"
   ]
  },
  {
   "cell_type": "code",
   "execution_count": 24,
   "id": "2d0ac0d3",
   "metadata": {},
   "outputs": [
    {
     "data": {
      "text/plain": [
       "((2541808, 16), (2541808,))"
      ]
     },
     "execution_count": 24,
     "metadata": {},
     "output_type": "execute_result"
    }
   ],
   "source": [
    "Xtest_resampled50.shape, ytest_resampled50.shape"
   ]
  },
  {
   "cell_type": "code",
   "execution_count": 25,
   "id": "6578afc5",
   "metadata": {},
   "outputs": [
    {
     "data": {
      "text/html": [
       "<div>\n",
       "<style scoped>\n",
       "    .dataframe tbody tr th:only-of-type {\n",
       "        vertical-align: middle;\n",
       "    }\n",
       "\n",
       "    .dataframe tbody tr th {\n",
       "        vertical-align: top;\n",
       "    }\n",
       "\n",
       "    .dataframe thead th {\n",
       "        text-align: right;\n",
       "    }\n",
       "</style>\n",
       "<table border=\"1\" class=\"dataframe\">\n",
       "  <thead>\n",
       "    <tr style=\"text-align: right;\">\n",
       "      <th></th>\n",
       "      <th>step</th>\n",
       "      <th>amount</th>\n",
       "      <th>nameOrig</th>\n",
       "      <th>oldBalanceOrig</th>\n",
       "      <th>newBalanceOrig</th>\n",
       "      <th>nameDest</th>\n",
       "      <th>oldBalanceDest</th>\n",
       "      <th>newBalanceDest</th>\n",
       "      <th>isFlaggedFraud</th>\n",
       "      <th>errorBalanceOrig</th>\n",
       "      <th>errorBalanceDest</th>\n",
       "      <th>type_CASH_IN</th>\n",
       "      <th>type_CASH_OUT</th>\n",
       "      <th>type_DEBIT</th>\n",
       "      <th>type_PAYMENT</th>\n",
       "      <th>type_TRANSFER</th>\n",
       "    </tr>\n",
       "  </thead>\n",
       "  <tbody>\n",
       "    <tr>\n",
       "      <th>0</th>\n",
       "      <td>278</td>\n",
       "      <td>330218.42</td>\n",
       "      <td>5144186</td>\n",
       "      <td>20866.00</td>\n",
       "      <td>351084.42</td>\n",
       "      <td>523341</td>\n",
       "      <td>452419.57</td>\n",
       "      <td>122201.15</td>\n",
       "      <td>0</td>\n",
       "      <td>660436.84</td>\n",
       "      <td>-5.820766e-11</td>\n",
       "      <td>1.0</td>\n",
       "      <td>0.0</td>\n",
       "      <td>0.0</td>\n",
       "      <td>0.0</td>\n",
       "      <td>0.0</td>\n",
       "    </tr>\n",
       "    <tr>\n",
       "      <th>1</th>\n",
       "      <td>15</td>\n",
       "      <td>11647.08</td>\n",
       "      <td>868156</td>\n",
       "      <td>30370.00</td>\n",
       "      <td>18722.92</td>\n",
       "      <td>1849210</td>\n",
       "      <td>0.00</td>\n",
       "      <td>0.00</td>\n",
       "      <td>0</td>\n",
       "      <td>0.00</td>\n",
       "      <td>1.164708e+04</td>\n",
       "      <td>0.0</td>\n",
       "      <td>0.0</td>\n",
       "      <td>0.0</td>\n",
       "      <td>1.0</td>\n",
       "      <td>0.0</td>\n",
       "    </tr>\n",
       "    <tr>\n",
       "      <th>2</th>\n",
       "      <td>10</td>\n",
       "      <td>152264.21</td>\n",
       "      <td>2453021</td>\n",
       "      <td>106589.00</td>\n",
       "      <td>258853.21</td>\n",
       "      <td>179836</td>\n",
       "      <td>201303.01</td>\n",
       "      <td>49038.80</td>\n",
       "      <td>0</td>\n",
       "      <td>304528.42</td>\n",
       "      <td>0.000000e+00</td>\n",
       "      <td>1.0</td>\n",
       "      <td>0.0</td>\n",
       "      <td>0.0</td>\n",
       "      <td>0.0</td>\n",
       "      <td>0.0</td>\n",
       "    </tr>\n",
       "    <tr>\n",
       "      <th>3</th>\n",
       "      <td>403</td>\n",
       "      <td>1551760.63</td>\n",
       "      <td>4162339</td>\n",
       "      <td>0.00</td>\n",
       "      <td>0.00</td>\n",
       "      <td>167013</td>\n",
       "      <td>3198359.45</td>\n",
       "      <td>4750120.08</td>\n",
       "      <td>0</td>\n",
       "      <td>1551760.63</td>\n",
       "      <td>3.103521e+06</td>\n",
       "      <td>0.0</td>\n",
       "      <td>0.0</td>\n",
       "      <td>0.0</td>\n",
       "      <td>0.0</td>\n",
       "      <td>1.0</td>\n",
       "    </tr>\n",
       "    <tr>\n",
       "      <th>4</th>\n",
       "      <td>206</td>\n",
       "      <td>78172.30</td>\n",
       "      <td>5740614</td>\n",
       "      <td>2921331.58</td>\n",
       "      <td>2999503.88</td>\n",
       "      <td>27202</td>\n",
       "      <td>415821.90</td>\n",
       "      <td>337649.60</td>\n",
       "      <td>0</td>\n",
       "      <td>156344.60</td>\n",
       "      <td>-5.820766e-11</td>\n",
       "      <td>1.0</td>\n",
       "      <td>0.0</td>\n",
       "      <td>0.0</td>\n",
       "      <td>0.0</td>\n",
       "      <td>0.0</td>\n",
       "    </tr>\n",
       "  </tbody>\n",
       "</table>\n",
       "</div>"
      ],
      "text/plain": [
       "   step      amount  nameOrig  oldBalanceOrig  newBalanceOrig  nameDest  \\\n",
       "0   278   330218.42   5144186        20866.00       351084.42    523341   \n",
       "1    15    11647.08    868156        30370.00        18722.92   1849210   \n",
       "2    10   152264.21   2453021       106589.00       258853.21    179836   \n",
       "3   403  1551760.63   4162339            0.00            0.00    167013   \n",
       "4   206    78172.30   5740614      2921331.58      2999503.88     27202   \n",
       "\n",
       "   oldBalanceDest  newBalanceDest  isFlaggedFraud  errorBalanceOrig  \\\n",
       "0       452419.57       122201.15               0         660436.84   \n",
       "1            0.00            0.00               0              0.00   \n",
       "2       201303.01        49038.80               0         304528.42   \n",
       "3      3198359.45      4750120.08               0        1551760.63   \n",
       "4       415821.90       337649.60               0         156344.60   \n",
       "\n",
       "   errorBalanceDest  type_CASH_IN  type_CASH_OUT  type_DEBIT  type_PAYMENT  \\\n",
       "0     -5.820766e-11           1.0            0.0         0.0           0.0   \n",
       "1      1.164708e+04           0.0            0.0         0.0           1.0   \n",
       "2      0.000000e+00           1.0            0.0         0.0           0.0   \n",
       "3      3.103521e+06           0.0            0.0         0.0           0.0   \n",
       "4     -5.820766e-11           1.0            0.0         0.0           0.0   \n",
       "\n",
       "   type_TRANSFER  \n",
       "0            0.0  \n",
       "1            0.0  \n",
       "2            0.0  \n",
       "3            1.0  \n",
       "4            0.0  "
      ]
     },
     "execution_count": 25,
     "metadata": {},
     "output_type": "execute_result"
    }
   ],
   "source": [
    "Xtest_resampled50.head()"
   ]
  },
  {
   "cell_type": "code",
   "execution_count": 26,
   "id": "1032532e",
   "metadata": {},
   "outputs": [],
   "source": [
    "Xtest_resampled50['isFraud'] = ytest_resampled50"
   ]
  },
  {
   "cell_type": "markdown",
   "id": "572950b7",
   "metadata": {},
   "source": [
    "### SMOTE - Test 70/30"
   ]
  },
  {
   "cell_type": "code",
   "execution_count": 27,
   "id": "6cf940c6",
   "metadata": {},
   "outputs": [],
   "source": [
    "Xtest_resampled70, ytest_resampled30 = SMOTE(sampling_strategy = 0.3).fit_resample(X_test, y_test)"
   ]
  },
  {
   "cell_type": "code",
   "execution_count": 28,
   "id": "27a5af91",
   "metadata": {},
   "outputs": [
    {
     "data": {
      "text/plain": [
       "((1652175, 16), (1652175,))"
      ]
     },
     "execution_count": 28,
     "metadata": {},
     "output_type": "execute_result"
    }
   ],
   "source": [
    "Xtest_resampled70.shape, ytest_resampled30.shape"
   ]
  },
  {
   "cell_type": "code",
   "execution_count": 29,
   "id": "8968a9f3",
   "metadata": {},
   "outputs": [
    {
     "data": {
      "text/html": [
       "<div>\n",
       "<style scoped>\n",
       "    .dataframe tbody tr th:only-of-type {\n",
       "        vertical-align: middle;\n",
       "    }\n",
       "\n",
       "    .dataframe tbody tr th {\n",
       "        vertical-align: top;\n",
       "    }\n",
       "\n",
       "    .dataframe thead th {\n",
       "        text-align: right;\n",
       "    }\n",
       "</style>\n",
       "<table border=\"1\" class=\"dataframe\">\n",
       "  <thead>\n",
       "    <tr style=\"text-align: right;\">\n",
       "      <th></th>\n",
       "      <th>step</th>\n",
       "      <th>amount</th>\n",
       "      <th>nameOrig</th>\n",
       "      <th>oldBalanceOrig</th>\n",
       "      <th>newBalanceOrig</th>\n",
       "      <th>nameDest</th>\n",
       "      <th>oldBalanceDest</th>\n",
       "      <th>newBalanceDest</th>\n",
       "      <th>isFlaggedFraud</th>\n",
       "      <th>errorBalanceOrig</th>\n",
       "      <th>errorBalanceDest</th>\n",
       "      <th>type_CASH_IN</th>\n",
       "      <th>type_CASH_OUT</th>\n",
       "      <th>type_DEBIT</th>\n",
       "      <th>type_PAYMENT</th>\n",
       "      <th>type_TRANSFER</th>\n",
       "    </tr>\n",
       "  </thead>\n",
       "  <tbody>\n",
       "    <tr>\n",
       "      <th>0</th>\n",
       "      <td>278</td>\n",
       "      <td>330218.42</td>\n",
       "      <td>5144186</td>\n",
       "      <td>20866.00</td>\n",
       "      <td>351084.42</td>\n",
       "      <td>523341</td>\n",
       "      <td>452419.57</td>\n",
       "      <td>122201.15</td>\n",
       "      <td>0</td>\n",
       "      <td>660436.84</td>\n",
       "      <td>-5.820766e-11</td>\n",
       "      <td>1.0</td>\n",
       "      <td>0.0</td>\n",
       "      <td>0.0</td>\n",
       "      <td>0.0</td>\n",
       "      <td>0.0</td>\n",
       "    </tr>\n",
       "    <tr>\n",
       "      <th>1</th>\n",
       "      <td>15</td>\n",
       "      <td>11647.08</td>\n",
       "      <td>868156</td>\n",
       "      <td>30370.00</td>\n",
       "      <td>18722.92</td>\n",
       "      <td>1849210</td>\n",
       "      <td>0.00</td>\n",
       "      <td>0.00</td>\n",
       "      <td>0</td>\n",
       "      <td>0.00</td>\n",
       "      <td>1.164708e+04</td>\n",
       "      <td>0.0</td>\n",
       "      <td>0.0</td>\n",
       "      <td>0.0</td>\n",
       "      <td>1.0</td>\n",
       "      <td>0.0</td>\n",
       "    </tr>\n",
       "    <tr>\n",
       "      <th>2</th>\n",
       "      <td>10</td>\n",
       "      <td>152264.21</td>\n",
       "      <td>2453021</td>\n",
       "      <td>106589.00</td>\n",
       "      <td>258853.21</td>\n",
       "      <td>179836</td>\n",
       "      <td>201303.01</td>\n",
       "      <td>49038.80</td>\n",
       "      <td>0</td>\n",
       "      <td>304528.42</td>\n",
       "      <td>0.000000e+00</td>\n",
       "      <td>1.0</td>\n",
       "      <td>0.0</td>\n",
       "      <td>0.0</td>\n",
       "      <td>0.0</td>\n",
       "      <td>0.0</td>\n",
       "    </tr>\n",
       "    <tr>\n",
       "      <th>3</th>\n",
       "      <td>403</td>\n",
       "      <td>1551760.63</td>\n",
       "      <td>4162339</td>\n",
       "      <td>0.00</td>\n",
       "      <td>0.00</td>\n",
       "      <td>167013</td>\n",
       "      <td>3198359.45</td>\n",
       "      <td>4750120.08</td>\n",
       "      <td>0</td>\n",
       "      <td>1551760.63</td>\n",
       "      <td>3.103521e+06</td>\n",
       "      <td>0.0</td>\n",
       "      <td>0.0</td>\n",
       "      <td>0.0</td>\n",
       "      <td>0.0</td>\n",
       "      <td>1.0</td>\n",
       "    </tr>\n",
       "    <tr>\n",
       "      <th>4</th>\n",
       "      <td>206</td>\n",
       "      <td>78172.30</td>\n",
       "      <td>5740614</td>\n",
       "      <td>2921331.58</td>\n",
       "      <td>2999503.88</td>\n",
       "      <td>27202</td>\n",
       "      <td>415821.90</td>\n",
       "      <td>337649.60</td>\n",
       "      <td>0</td>\n",
       "      <td>156344.60</td>\n",
       "      <td>-5.820766e-11</td>\n",
       "      <td>1.0</td>\n",
       "      <td>0.0</td>\n",
       "      <td>0.0</td>\n",
       "      <td>0.0</td>\n",
       "      <td>0.0</td>\n",
       "    </tr>\n",
       "  </tbody>\n",
       "</table>\n",
       "</div>"
      ],
      "text/plain": [
       "   step      amount  nameOrig  oldBalanceOrig  newBalanceOrig  nameDest  \\\n",
       "0   278   330218.42   5144186        20866.00       351084.42    523341   \n",
       "1    15    11647.08    868156        30370.00        18722.92   1849210   \n",
       "2    10   152264.21   2453021       106589.00       258853.21    179836   \n",
       "3   403  1551760.63   4162339            0.00            0.00    167013   \n",
       "4   206    78172.30   5740614      2921331.58      2999503.88     27202   \n",
       "\n",
       "   oldBalanceDest  newBalanceDest  isFlaggedFraud  errorBalanceOrig  \\\n",
       "0       452419.57       122201.15               0         660436.84   \n",
       "1            0.00            0.00               0              0.00   \n",
       "2       201303.01        49038.80               0         304528.42   \n",
       "3      3198359.45      4750120.08               0        1551760.63   \n",
       "4       415821.90       337649.60               0         156344.60   \n",
       "\n",
       "   errorBalanceDest  type_CASH_IN  type_CASH_OUT  type_DEBIT  type_PAYMENT  \\\n",
       "0     -5.820766e-11           1.0            0.0         0.0           0.0   \n",
       "1      1.164708e+04           0.0            0.0         0.0           1.0   \n",
       "2      0.000000e+00           1.0            0.0         0.0           0.0   \n",
       "3      3.103521e+06           0.0            0.0         0.0           0.0   \n",
       "4     -5.820766e-11           1.0            0.0         0.0           0.0   \n",
       "\n",
       "   type_TRANSFER  \n",
       "0            0.0  \n",
       "1            0.0  \n",
       "2            0.0  \n",
       "3            1.0  \n",
       "4            0.0  "
      ]
     },
     "execution_count": 29,
     "metadata": {},
     "output_type": "execute_result"
    }
   ],
   "source": [
    "Xtest_resampled70.head()"
   ]
  },
  {
   "cell_type": "code",
   "execution_count": 30,
   "id": "9b590c05",
   "metadata": {},
   "outputs": [],
   "source": [
    "Xtest_resampled70['isFraud'] = ytest_resampled30"
   ]
  },
  {
   "cell_type": "markdown",
   "id": "31b3166f",
   "metadata": {},
   "source": [
    "### 50/50 Getting a sample of the test data "
   ]
  },
  {
   "cell_type": "code",
   "execution_count": 31,
   "id": "1fad2b08",
   "metadata": {},
   "outputs": [],
   "source": [
    "fraud_test = Xtest_resampled50[Xtest_resampled50.isFraud == 1].sample(17500)"
   ]
  },
  {
   "cell_type": "code",
   "execution_count": 32,
   "id": "cacd0138",
   "metadata": {},
   "outputs": [],
   "source": [
    "notfraud_test = Xtest_resampled50[Xtest_resampled50.isFraud == 0].sample(17500)"
   ]
  },
  {
   "cell_type": "code",
   "execution_count": 33,
   "id": "311cb4d9",
   "metadata": {},
   "outputs": [
    {
     "data": {
      "text/html": [
       "<div>\n",
       "<style scoped>\n",
       "    .dataframe tbody tr th:only-of-type {\n",
       "        vertical-align: middle;\n",
       "    }\n",
       "\n",
       "    .dataframe tbody tr th {\n",
       "        vertical-align: top;\n",
       "    }\n",
       "\n",
       "    .dataframe thead th {\n",
       "        text-align: right;\n",
       "    }\n",
       "</style>\n",
       "<table border=\"1\" class=\"dataframe\">\n",
       "  <thead>\n",
       "    <tr style=\"text-align: right;\">\n",
       "      <th></th>\n",
       "      <th>step</th>\n",
       "      <th>amount</th>\n",
       "      <th>nameOrig</th>\n",
       "      <th>oldBalanceOrig</th>\n",
       "      <th>newBalanceOrig</th>\n",
       "      <th>nameDest</th>\n",
       "      <th>oldBalanceDest</th>\n",
       "      <th>newBalanceDest</th>\n",
       "      <th>isFlaggedFraud</th>\n",
       "      <th>errorBalanceOrig</th>\n",
       "      <th>errorBalanceDest</th>\n",
       "      <th>type_CASH_IN</th>\n",
       "      <th>type_CASH_OUT</th>\n",
       "      <th>type_DEBIT</th>\n",
       "      <th>type_PAYMENT</th>\n",
       "      <th>type_TRANSFER</th>\n",
       "      <th>isFraud</th>\n",
       "    </tr>\n",
       "  </thead>\n",
       "  <tbody>\n",
       "    <tr>\n",
       "      <th>1386811</th>\n",
       "      <td>596</td>\n",
       "      <td>7.752761e+05</td>\n",
       "      <td>6252224</td>\n",
       "      <td>775276.090475</td>\n",
       "      <td>0.00</td>\n",
       "      <td>444209</td>\n",
       "      <td>0.000000e+00</td>\n",
       "      <td>0.000000e+00</td>\n",
       "      <td>0</td>\n",
       "      <td>0.00</td>\n",
       "      <td>7.752761e+05</td>\n",
       "      <td>0.0</td>\n",
       "      <td>0.0</td>\n",
       "      <td>0.0</td>\n",
       "      <td>0.0</td>\n",
       "      <td>1.0</td>\n",
       "      <td>1</td>\n",
       "    </tr>\n",
       "    <tr>\n",
       "      <th>1955573</th>\n",
       "      <td>383</td>\n",
       "      <td>1.905197e+05</td>\n",
       "      <td>1896197</td>\n",
       "      <td>190519.690301</td>\n",
       "      <td>0.00</td>\n",
       "      <td>376424</td>\n",
       "      <td>0.000000e+00</td>\n",
       "      <td>1.905197e+05</td>\n",
       "      <td>0</td>\n",
       "      <td>0.00</td>\n",
       "      <td>3.810394e+05</td>\n",
       "      <td>0.0</td>\n",
       "      <td>1.0</td>\n",
       "      <td>0.0</td>\n",
       "      <td>0.0</td>\n",
       "      <td>0.0</td>\n",
       "      <td>1</td>\n",
       "    </tr>\n",
       "    <tr>\n",
       "      <th>2391992</th>\n",
       "      <td>186</td>\n",
       "      <td>1.897911e+05</td>\n",
       "      <td>2849453</td>\n",
       "      <td>189791.128707</td>\n",
       "      <td>0.00</td>\n",
       "      <td>43397</td>\n",
       "      <td>0.000000e+00</td>\n",
       "      <td>0.000000e+00</td>\n",
       "      <td>0</td>\n",
       "      <td>0.00</td>\n",
       "      <td>1.897911e+05</td>\n",
       "      <td>0.0</td>\n",
       "      <td>0.0</td>\n",
       "      <td>0.0</td>\n",
       "      <td>0.0</td>\n",
       "      <td>1.0</td>\n",
       "      <td>1</td>\n",
       "    </tr>\n",
       "    <tr>\n",
       "      <th>2109001</th>\n",
       "      <td>58</td>\n",
       "      <td>3.802472e+05</td>\n",
       "      <td>3565671</td>\n",
       "      <td>380247.162809</td>\n",
       "      <td>0.00</td>\n",
       "      <td>46130</td>\n",
       "      <td>0.000000e+00</td>\n",
       "      <td>0.000000e+00</td>\n",
       "      <td>0</td>\n",
       "      <td>0.00</td>\n",
       "      <td>3.802472e+05</td>\n",
       "      <td>0.0</td>\n",
       "      <td>0.0</td>\n",
       "      <td>0.0</td>\n",
       "      <td>0.0</td>\n",
       "      <td>1.0</td>\n",
       "      <td>1</td>\n",
       "    </tr>\n",
       "    <tr>\n",
       "      <th>1437117</th>\n",
       "      <td>165</td>\n",
       "      <td>1.677435e+04</td>\n",
       "      <td>1906816</td>\n",
       "      <td>16774.345266</td>\n",
       "      <td>0.00</td>\n",
       "      <td>244402</td>\n",
       "      <td>1.145198e+06</td>\n",
       "      <td>1.161973e+06</td>\n",
       "      <td>0</td>\n",
       "      <td>0.00</td>\n",
       "      <td>3.354869e+04</td>\n",
       "      <td>0.0</td>\n",
       "      <td>1.0</td>\n",
       "      <td>0.0</td>\n",
       "      <td>0.0</td>\n",
       "      <td>0.0</td>\n",
       "      <td>1</td>\n",
       "    </tr>\n",
       "    <tr>\n",
       "      <th>...</th>\n",
       "      <td>...</td>\n",
       "      <td>...</td>\n",
       "      <td>...</td>\n",
       "      <td>...</td>\n",
       "      <td>...</td>\n",
       "      <td>...</td>\n",
       "      <td>...</td>\n",
       "      <td>...</td>\n",
       "      <td>...</td>\n",
       "      <td>...</td>\n",
       "      <td>...</td>\n",
       "      <td>...</td>\n",
       "      <td>...</td>\n",
       "      <td>...</td>\n",
       "      <td>...</td>\n",
       "      <td>...</td>\n",
       "      <td>...</td>\n",
       "    </tr>\n",
       "    <tr>\n",
       "      <th>555168</th>\n",
       "      <td>590</td>\n",
       "      <td>7.558318e+06</td>\n",
       "      <td>5199042</td>\n",
       "      <td>0.000000</td>\n",
       "      <td>0.00</td>\n",
       "      <td>106427</td>\n",
       "      <td>1.176055e+07</td>\n",
       "      <td>1.931886e+07</td>\n",
       "      <td>0</td>\n",
       "      <td>7558318.04</td>\n",
       "      <td>1.511664e+07</td>\n",
       "      <td>0.0</td>\n",
       "      <td>0.0</td>\n",
       "      <td>0.0</td>\n",
       "      <td>0.0</td>\n",
       "      <td>1.0</td>\n",
       "      <td>0</td>\n",
       "    </tr>\n",
       "    <tr>\n",
       "      <th>97206</th>\n",
       "      <td>322</td>\n",
       "      <td>7.124278e+04</td>\n",
       "      <td>1790768</td>\n",
       "      <td>40922.000000</td>\n",
       "      <td>112164.78</td>\n",
       "      <td>399895</td>\n",
       "      <td>0.000000e+00</td>\n",
       "      <td>0.000000e+00</td>\n",
       "      <td>0</td>\n",
       "      <td>142485.56</td>\n",
       "      <td>7.124278e+04</td>\n",
       "      <td>1.0</td>\n",
       "      <td>0.0</td>\n",
       "      <td>0.0</td>\n",
       "      <td>0.0</td>\n",
       "      <td>0.0</td>\n",
       "      <td>0</td>\n",
       "    </tr>\n",
       "    <tr>\n",
       "      <th>630556</th>\n",
       "      <td>306</td>\n",
       "      <td>1.485045e+05</td>\n",
       "      <td>795183</td>\n",
       "      <td>0.000000</td>\n",
       "      <td>0.00</td>\n",
       "      <td>7465</td>\n",
       "      <td>9.808027e+05</td>\n",
       "      <td>1.129307e+06</td>\n",
       "      <td>0</td>\n",
       "      <td>148504.50</td>\n",
       "      <td>2.970090e+05</td>\n",
       "      <td>0.0</td>\n",
       "      <td>1.0</td>\n",
       "      <td>0.0</td>\n",
       "      <td>0.0</td>\n",
       "      <td>0.0</td>\n",
       "      <td>0</td>\n",
       "    </tr>\n",
       "    <tr>\n",
       "      <th>1215759</th>\n",
       "      <td>307</td>\n",
       "      <td>1.497098e+04</td>\n",
       "      <td>5804723</td>\n",
       "      <td>24455.280000</td>\n",
       "      <td>9484.30</td>\n",
       "      <td>2102336</td>\n",
       "      <td>0.000000e+00</td>\n",
       "      <td>0.000000e+00</td>\n",
       "      <td>0</td>\n",
       "      <td>0.00</td>\n",
       "      <td>1.497098e+04</td>\n",
       "      <td>0.0</td>\n",
       "      <td>0.0</td>\n",
       "      <td>0.0</td>\n",
       "      <td>1.0</td>\n",
       "      <td>0.0</td>\n",
       "      <td>0</td>\n",
       "    </tr>\n",
       "    <tr>\n",
       "      <th>325604</th>\n",
       "      <td>210</td>\n",
       "      <td>2.075377e+05</td>\n",
       "      <td>2142530</td>\n",
       "      <td>22115.500000</td>\n",
       "      <td>0.00</td>\n",
       "      <td>229878</td>\n",
       "      <td>3.608142e+06</td>\n",
       "      <td>3.815680e+06</td>\n",
       "      <td>0</td>\n",
       "      <td>185422.17</td>\n",
       "      <td>4.150753e+05</td>\n",
       "      <td>0.0</td>\n",
       "      <td>1.0</td>\n",
       "      <td>0.0</td>\n",
       "      <td>0.0</td>\n",
       "      <td>0.0</td>\n",
       "      <td>0</td>\n",
       "    </tr>\n",
       "  </tbody>\n",
       "</table>\n",
       "<p>35000 rows × 17 columns</p>\n",
       "</div>"
      ],
      "text/plain": [
       "         step        amount  nameOrig  oldBalanceOrig  newBalanceOrig  \\\n",
       "1386811   596  7.752761e+05   6252224   775276.090475            0.00   \n",
       "1955573   383  1.905197e+05   1896197   190519.690301            0.00   \n",
       "2391992   186  1.897911e+05   2849453   189791.128707            0.00   \n",
       "2109001    58  3.802472e+05   3565671   380247.162809            0.00   \n",
       "1437117   165  1.677435e+04   1906816    16774.345266            0.00   \n",
       "...       ...           ...       ...             ...             ...   \n",
       "555168    590  7.558318e+06   5199042        0.000000            0.00   \n",
       "97206     322  7.124278e+04   1790768    40922.000000       112164.78   \n",
       "630556    306  1.485045e+05    795183        0.000000            0.00   \n",
       "1215759   307  1.497098e+04   5804723    24455.280000         9484.30   \n",
       "325604    210  2.075377e+05   2142530    22115.500000            0.00   \n",
       "\n",
       "         nameDest  oldBalanceDest  newBalanceDest  isFlaggedFraud  \\\n",
       "1386811    444209    0.000000e+00    0.000000e+00               0   \n",
       "1955573    376424    0.000000e+00    1.905197e+05               0   \n",
       "2391992     43397    0.000000e+00    0.000000e+00               0   \n",
       "2109001     46130    0.000000e+00    0.000000e+00               0   \n",
       "1437117    244402    1.145198e+06    1.161973e+06               0   \n",
       "...           ...             ...             ...             ...   \n",
       "555168     106427    1.176055e+07    1.931886e+07               0   \n",
       "97206      399895    0.000000e+00    0.000000e+00               0   \n",
       "630556       7465    9.808027e+05    1.129307e+06               0   \n",
       "1215759   2102336    0.000000e+00    0.000000e+00               0   \n",
       "325604     229878    3.608142e+06    3.815680e+06               0   \n",
       "\n",
       "         errorBalanceOrig  errorBalanceDest  type_CASH_IN  type_CASH_OUT  \\\n",
       "1386811              0.00      7.752761e+05           0.0            0.0   \n",
       "1955573              0.00      3.810394e+05           0.0            1.0   \n",
       "2391992              0.00      1.897911e+05           0.0            0.0   \n",
       "2109001              0.00      3.802472e+05           0.0            0.0   \n",
       "1437117              0.00      3.354869e+04           0.0            1.0   \n",
       "...                   ...               ...           ...            ...   \n",
       "555168         7558318.04      1.511664e+07           0.0            0.0   \n",
       "97206           142485.56      7.124278e+04           1.0            0.0   \n",
       "630556          148504.50      2.970090e+05           0.0            1.0   \n",
       "1215759              0.00      1.497098e+04           0.0            0.0   \n",
       "325604          185422.17      4.150753e+05           0.0            1.0   \n",
       "\n",
       "         type_DEBIT  type_PAYMENT  type_TRANSFER  isFraud  \n",
       "1386811         0.0           0.0            1.0        1  \n",
       "1955573         0.0           0.0            0.0        1  \n",
       "2391992         0.0           0.0            1.0        1  \n",
       "2109001         0.0           0.0            1.0        1  \n",
       "1437117         0.0           0.0            0.0        1  \n",
       "...             ...           ...            ...      ...  \n",
       "555168          0.0           0.0            1.0        0  \n",
       "97206           0.0           0.0            0.0        0  \n",
       "630556          0.0           0.0            0.0        0  \n",
       "1215759         0.0           1.0            0.0        0  \n",
       "325604          0.0           0.0            0.0        0  \n",
       "\n",
       "[35000 rows x 17 columns]"
      ]
     },
     "execution_count": 33,
     "metadata": {},
     "output_type": "execute_result"
    }
   ],
   "source": [
    "data_new_test = pd.concat([fraud_test, notfraud_test], axis=0)\n",
    "data_new_test"
   ]
  },
  {
   "cell_type": "code",
   "execution_count": 34,
   "id": "44e3bccd",
   "metadata": {},
   "outputs": [],
   "source": [
    "X_test_SMOTE50 = data_new_test.drop('isFraud', axis=1)\n",
    "y_test_SMOTE50 = data_new_test['isFraud']"
   ]
  },
  {
   "cell_type": "markdown",
   "id": "06ce1f06",
   "metadata": {},
   "source": [
    "### 70/30 getting a sample of the data"
   ]
  },
  {
   "cell_type": "code",
   "execution_count": 35,
   "id": "6667f1a8",
   "metadata": {},
   "outputs": [],
   "source": [
    "fraud_test7_3 = Xtest_resampled70[Xtest_resampled70.isFraud == 1].sample(10500)"
   ]
  },
  {
   "cell_type": "code",
   "execution_count": 36,
   "id": "27485923",
   "metadata": {},
   "outputs": [],
   "source": [
    "notfraud_test7_3 = Xtest_resampled70[Xtest_resampled70.isFraud == 0].sample(24500)"
   ]
  },
  {
   "cell_type": "code",
   "execution_count": 37,
   "id": "12a12cc2",
   "metadata": {},
   "outputs": [],
   "source": [
    "X_test_SMOTE70 = data_new_test.drop('isFraud', axis=1)\n",
    "y_test_SMOTE30 = data_new_test['isFraud']"
   ]
  },
  {
   "cell_type": "markdown",
   "id": "245fdebf",
   "metadata": {},
   "source": [
    "## Modelling with SMOTE"
   ]
  },
  {
   "cell_type": "markdown",
   "id": "2b6acfe7",
   "metadata": {},
   "source": [
    "### 50/50 Instantiate the Random Forest Classifier model"
   ]
  },
  {
   "cell_type": "code",
   "execution_count": 38,
   "id": "e073f3cc",
   "metadata": {},
   "outputs": [],
   "source": [
    "X_train1 = data_new.drop('isFraud', axis = 1)\n",
    "y_train1 = data_new['isFraud']"
   ]
  },
  {
   "cell_type": "code",
   "execution_count": 39,
   "id": "8cbf6537",
   "metadata": {},
   "outputs": [],
   "source": [
    "from sklearn.ensemble import RandomForestClassifier\n",
    "model = RandomForestClassifier()"
   ]
  },
  {
   "cell_type": "code",
   "execution_count": 40,
   "id": "8e4d9175",
   "metadata": {},
   "outputs": [
    {
     "data": {
      "text/html": [
       "<style>#sk-container-id-1 {color: black;background-color: white;}#sk-container-id-1 pre{padding: 0;}#sk-container-id-1 div.sk-toggleable {background-color: white;}#sk-container-id-1 label.sk-toggleable__label {cursor: pointer;display: block;width: 100%;margin-bottom: 0;padding: 0.3em;box-sizing: border-box;text-align: center;}#sk-container-id-1 label.sk-toggleable__label-arrow:before {content: \"▸\";float: left;margin-right: 0.25em;color: #696969;}#sk-container-id-1 label.sk-toggleable__label-arrow:hover:before {color: black;}#sk-container-id-1 div.sk-estimator:hover label.sk-toggleable__label-arrow:before {color: black;}#sk-container-id-1 div.sk-toggleable__content {max-height: 0;max-width: 0;overflow: hidden;text-align: left;background-color: #f0f8ff;}#sk-container-id-1 div.sk-toggleable__content pre {margin: 0.2em;color: black;border-radius: 0.25em;background-color: #f0f8ff;}#sk-container-id-1 input.sk-toggleable__control:checked~div.sk-toggleable__content {max-height: 200px;max-width: 100%;overflow: auto;}#sk-container-id-1 input.sk-toggleable__control:checked~label.sk-toggleable__label-arrow:before {content: \"▾\";}#sk-container-id-1 div.sk-estimator input.sk-toggleable__control:checked~label.sk-toggleable__label {background-color: #d4ebff;}#sk-container-id-1 div.sk-label input.sk-toggleable__control:checked~label.sk-toggleable__label {background-color: #d4ebff;}#sk-container-id-1 input.sk-hidden--visually {border: 0;clip: rect(1px 1px 1px 1px);clip: rect(1px, 1px, 1px, 1px);height: 1px;margin: -1px;overflow: hidden;padding: 0;position: absolute;width: 1px;}#sk-container-id-1 div.sk-estimator {font-family: monospace;background-color: #f0f8ff;border: 1px dotted black;border-radius: 0.25em;box-sizing: border-box;margin-bottom: 0.5em;}#sk-container-id-1 div.sk-estimator:hover {background-color: #d4ebff;}#sk-container-id-1 div.sk-parallel-item::after {content: \"\";width: 100%;border-bottom: 1px solid gray;flex-grow: 1;}#sk-container-id-1 div.sk-label:hover label.sk-toggleable__label {background-color: #d4ebff;}#sk-container-id-1 div.sk-serial::before {content: \"\";position: absolute;border-left: 1px solid gray;box-sizing: border-box;top: 0;bottom: 0;left: 50%;z-index: 0;}#sk-container-id-1 div.sk-serial {display: flex;flex-direction: column;align-items: center;background-color: white;padding-right: 0.2em;padding-left: 0.2em;position: relative;}#sk-container-id-1 div.sk-item {position: relative;z-index: 1;}#sk-container-id-1 div.sk-parallel {display: flex;align-items: stretch;justify-content: center;background-color: white;position: relative;}#sk-container-id-1 div.sk-item::before, #sk-container-id-1 div.sk-parallel-item::before {content: \"\";position: absolute;border-left: 1px solid gray;box-sizing: border-box;top: 0;bottom: 0;left: 50%;z-index: -1;}#sk-container-id-1 div.sk-parallel-item {display: flex;flex-direction: column;z-index: 1;position: relative;background-color: white;}#sk-container-id-1 div.sk-parallel-item:first-child::after {align-self: flex-end;width: 50%;}#sk-container-id-1 div.sk-parallel-item:last-child::after {align-self: flex-start;width: 50%;}#sk-container-id-1 div.sk-parallel-item:only-child::after {width: 0;}#sk-container-id-1 div.sk-dashed-wrapped {border: 1px dashed gray;margin: 0 0.4em 0.5em 0.4em;box-sizing: border-box;padding-bottom: 0.4em;background-color: white;}#sk-container-id-1 div.sk-label label {font-family: monospace;font-weight: bold;display: inline-block;line-height: 1.2em;}#sk-container-id-1 div.sk-label-container {text-align: center;}#sk-container-id-1 div.sk-container {/* jupyter's `normalize.less` sets `[hidden] { display: none; }` but bootstrap.min.css set `[hidden] { display: none !important; }` so we also need the `!important` here to be able to override the default hidden behavior on the sphinx rendered scikit-learn.org. See: https://github.com/scikit-learn/scikit-learn/issues/21755 */display: inline-block !important;position: relative;}#sk-container-id-1 div.sk-text-repr-fallback {display: none;}</style><div id=\"sk-container-id-1\" class=\"sk-top-container\"><div class=\"sk-text-repr-fallback\"><pre>RandomForestClassifier()</pre><b>In a Jupyter environment, please rerun this cell to show the HTML representation or trust the notebook. <br />On GitHub, the HTML representation is unable to render, please try loading this page with nbviewer.org.</b></div><div class=\"sk-container\" hidden><div class=\"sk-item\"><div class=\"sk-estimator sk-toggleable\"><input class=\"sk-toggleable__control sk-hidden--visually\" id=\"sk-estimator-id-1\" type=\"checkbox\" checked><label for=\"sk-estimator-id-1\" class=\"sk-toggleable__label sk-toggleable__label-arrow\">RandomForestClassifier</label><div class=\"sk-toggleable__content\"><pre>RandomForestClassifier()</pre></div></div></div></div></div>"
      ],
      "text/plain": [
       "RandomForestClassifier()"
      ]
     },
     "execution_count": 40,
     "metadata": {},
     "output_type": "execute_result"
    }
   ],
   "source": [
    "#Train the model on the Training Data = X_resampled and y_resampled\n",
    "model.fit(X_train1, y_train1)"
   ]
  },
  {
   "cell_type": "code",
   "execution_count": 41,
   "id": "eaabdb28",
   "metadata": {},
   "outputs": [],
   "source": [
    "y_pred = model.predict(X_test_SMOTE50)"
   ]
  },
  {
   "cell_type": "markdown",
   "id": "f16d0092",
   "metadata": {},
   "source": [
    "### 70/30 Instantiate the Random Forest Classifier model"
   ]
  },
  {
   "cell_type": "code",
   "execution_count": 42,
   "id": "f5491779",
   "metadata": {},
   "outputs": [],
   "source": [
    "y_pred_7_3 = model.predict(X_test_SMOTE70)"
   ]
  },
  {
   "cell_type": "markdown",
   "id": "b5091f56",
   "metadata": {},
   "source": [
    "### 50/50 Score model on test data"
   ]
  },
  {
   "cell_type": "code",
   "execution_count": 43,
   "id": "47a1a438",
   "metadata": {},
   "outputs": [
    {
     "name": "stdout",
     "output_type": "stream",
     "text": [
      "Recall: 0.9971428571428571\n"
     ]
    }
   ],
   "source": [
    "# Score the model on the Test data\n",
    "from sklearn.metrics import recall_score\n",
    "recall = recall_score(y_test_SMOTE50, y_pred)\n",
    "print(\"Recall:\", recall)"
   ]
  },
  {
   "cell_type": "markdown",
   "id": "99fde890",
   "metadata": {},
   "source": [
    "### 70/30 Score model on test data"
   ]
  },
  {
   "cell_type": "code",
   "execution_count": 44,
   "id": "b726c51c",
   "metadata": {},
   "outputs": [
    {
     "name": "stdout",
     "output_type": "stream",
     "text": [
      "Recall: 0.9971428571428571\n"
     ]
    }
   ],
   "source": [
    "recall = recall_score(y_test_SMOTE30, y_pred_7_3)\n",
    "print(\"Recall:\", recall)"
   ]
  },
  {
   "cell_type": "markdown",
   "id": "33fc34e3",
   "metadata": {},
   "source": [
    "## Rebalancing with ADASYN"
   ]
  },
  {
   "cell_type": "code",
   "execution_count": null,
   "id": "5d52068f",
   "metadata": {},
   "outputs": [],
   "source": [
    "X_resampled_ADASYN, y_resampled_ADASYN = ADASYN().fit_resample(X_train, y_train)"
   ]
  },
  {
   "cell_type": "code",
   "execution_count": null,
   "id": "4c86d7fc",
   "metadata": {},
   "outputs": [],
   "source": [
    "X_resampled_ADASYN['isFraud'] = y_resampled_ADASYN"
   ]
  },
  {
   "cell_type": "code",
   "execution_count": null,
   "id": "7197ddef",
   "metadata": {},
   "outputs": [],
   "source": [
    "#Check if data is balanced after ADASYN balancing\n",
    "import matplotlib.pyplot as plt\n",
    "labels = 'Not Fraud','Fraud'\n",
    "values=X_resampled_ADASYN['isFraud'].value_counts()\n",
    "fig, ax = plt.subplots()\n",
    "ax.pie(values, labels=labels)"
   ]
  },
  {
   "cell_type": "markdown",
   "id": "aa30720e",
   "metadata": {},
   "source": [
    "### Getting a sample"
   ]
  },
  {
   "cell_type": "code",
   "execution_count": null,
   "id": "aa05365f",
   "metadata": {},
   "outputs": [],
   "source": [
    "fraud_A = X_resampled_ADASYN[X_resampled_ADASYN.isFraud == 1].sample(100000)\n",
    "notfraud_A =X_resampled_ADASYN[X_resampled_ADASYN.isFraud == 0].sample(100000)"
   ]
  },
  {
   "cell_type": "code",
   "execution_count": null,
   "id": "dfe1cad9",
   "metadata": {},
   "outputs": [],
   "source": [
    "data_new_A = pd.concat([fraud, notfraud], axis=0)"
   ]
  },
  {
   "cell_type": "markdown",
   "id": "21187a35",
   "metadata": {
    "heading_collapsed": true
   },
   "source": [
    "## Modelling with ADASYN"
   ]
  },
  {
   "cell_type": "markdown",
   "id": "3c8396c9",
   "metadata": {
    "hidden": true
   },
   "source": [
    "### Intantiate the Random Forest Classifier model"
   ]
  },
  {
   "cell_type": "code",
   "execution_count": null,
   "id": "4a49c0d9",
   "metadata": {
    "hidden": true
   },
   "outputs": [],
   "source": [
    "X_train_A = data_new_A.drop('isFraud', axis = 1)\n",
    "y_train_A = data_new_A['isFraud']"
   ]
  },
  {
   "cell_type": "code",
   "execution_count": null,
   "id": "09f5afcb",
   "metadata": {
    "hidden": true
   },
   "outputs": [],
   "source": [
    "model = RandomForestClassifier()"
   ]
  },
  {
   "cell_type": "code",
   "execution_count": null,
   "id": "b3621070",
   "metadata": {
    "hidden": true
   },
   "outputs": [],
   "source": [
    "model.fit(X_train_A, y_train_A)"
   ]
  },
  {
   "cell_type": "code",
   "execution_count": null,
   "id": "9c0e9fae",
   "metadata": {
    "hidden": true
   },
   "outputs": [],
   "source": [
    "y_pred_A = model.predict(X_test)"
   ]
  },
  {
   "cell_type": "markdown",
   "id": "f254600f",
   "metadata": {
    "hidden": true
   },
   "source": [
    "### Score model on test data"
   ]
  },
  {
   "cell_type": "code",
   "execution_count": null,
   "id": "87de5002",
   "metadata": {
    "hidden": true
   },
   "outputs": [],
   "source": [
    "# Score the model on the Test data\n",
    "recall_A = recall_score(y_test, y_pred)\n",
    "print(\"Recall:\", recall)"
   ]
  },
  {
   "cell_type": "markdown",
   "id": "67b48961",
   "metadata": {
    "heading_collapsed": true
   },
   "source": [
    "## Feature Importance"
   ]
  },
  {
   "cell_type": "markdown",
   "id": "95814f63",
   "metadata": {
    "hidden": true
   },
   "source": [
    "### SMOTE"
   ]
  },
  {
   "cell_type": "code",
   "execution_count": null,
   "id": "0f6cad82",
   "metadata": {
    "hidden": true
   },
   "outputs": [],
   "source": [
    "from sklearn.inspection import permutation_importance\n",
    "RFC_model = RandomForestClassifier().fit(X_train1, y_train1) # Fit model\n",
    "permutation_score = permutation_importance(RFC_model, X_train1, y_train1, n_repeats=10, scoring = 'recall') # Perform Permutation\"\n",
    "importance_df = pd.DataFrame(np.vstack((X.columns, permutation_score.importances_mean)).T) # Unstack results\"\n",
    "importance_df.columns=['feature','score_decrease']\n",
    "importance_df.sort_values(by='score_decrease', ascending = False) # Order by importance\""
   ]
  },
  {
   "cell_type": "markdown",
   "id": "f09d4518",
   "metadata": {
    "heading_collapsed": true,
    "hidden": true
   },
   "source": [
    "### ADYSN"
   ]
  },
  {
   "cell_type": "code",
   "execution_count": null,
   "id": "21fb759d",
   "metadata": {
    "hidden": true
   },
   "outputs": [],
   "source": [
    "RFC_model = RandomForestClassifier().fit(X_train1, y_train1) # Fit model\n",
    "permutation_score = permutation_importance(RFC_model, X_train_A, y_train_A, n_repeats=10, scoring = 'recall') # Perform Permutation\"\n",
    "importance_df = pd.DataFrame(np.vstack((X.columns, permutation_score.importances_mean)).T) # Unstack results\"\n",
    "importance_df.columns=['feature','score_decrease']\n",
    "importance_df.sort_values(by='score_decrease', ascending = False) # Order by importance\""
   ]
  }
 ],
 "metadata": {
  "kernelspec": {
   "display_name": "Python 3 (ipykernel)",
   "language": "python",
   "name": "python3"
  },
  "language_info": {
   "codemirror_mode": {
    "name": "ipython",
    "version": 3
   },
   "file_extension": ".py",
   "mimetype": "text/x-python",
   "name": "python",
   "nbconvert_exporter": "python",
   "pygments_lexer": "ipython3",
   "version": "3.10.6"
  },
  "toc": {
   "base_numbering": 1,
   "nav_menu": {},
   "number_sections": true,
   "sideBar": true,
   "skip_h1_title": false,
   "title_cell": "Table of Contents",
   "title_sidebar": "Contents",
   "toc_cell": false,
   "toc_position": {
    "height": "calc(100% - 180px)",
    "left": "10px",
    "top": "150px",
    "width": "288px"
   },
   "toc_section_display": true,
   "toc_window_display": true
  }
 },
 "nbformat": 4,
 "nbformat_minor": 5
}
