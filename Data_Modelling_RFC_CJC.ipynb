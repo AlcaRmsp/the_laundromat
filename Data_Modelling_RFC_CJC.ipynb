{
 "cells": [
  {
   "cell_type": "markdown",
   "id": "ff3fdd55",
   "metadata": {},
   "source": [
    "## Data"
   ]
  },
  {
   "cell_type": "code",
   "execution_count": 2,
   "id": "9b4d5c0b",
   "metadata": {},
   "outputs": [],
   "source": [
    "%load_ext autoreload\n",
    "%autoreload 2\n",
    "import matplotlib\n",
    "import numpy as np\n",
    "import pandas as pd\n",
    "import matplotlib.pyplot as plt\n",
    "import seaborn as sns\n",
    "from sklearn.linear_model import LogisticRegression\n",
    "from sklearn.model_selection import train_test_split\n",
    "import imblearn\n",
    "import collections\n",
    "from imblearn.over_sampling import SMOTE\n",
    "from sklearn.svm import LinearSVC\n",
    "from imblearn.over_sampling import ADASYN"
   ]
  },
  {
   "cell_type": "code",
   "execution_count": 3,
   "id": "c231e526",
   "metadata": {},
   "outputs": [],
   "source": [
    "df = pd.read_csv('/Users/claudiajovellar/code/AlcaRmsp/the_laundromat/raw_data/data.csv')\n",
    "\n",
    "df = df.rename(columns={'oldbalanceOrg':'oldBalanceOrig', 'newbalanceOrig':'newBalanceOrig', \\\n",
    "                        'oldbalanceDest':'oldBalanceDest', 'newbalanceDest':'newBalanceDest'})"
   ]
  },
  {
   "cell_type": "code",
   "execution_count": 4,
   "id": "54b47fa7",
   "metadata": {},
   "outputs": [],
   "source": [
    "df['errorBalanceOrig']=df['newBalanceOrig'] + df['amount'] - df['oldBalanceOrig']\n",
    "df['errorBalanceDest']=df['newBalanceDest'] + df['amount'] - df['oldBalanceDest']"
   ]
  },
  {
   "cell_type": "code",
   "execution_count": 5,
   "id": "9fa5a286",
   "metadata": {},
   "outputs": [
    {
     "name": "stdout",
     "output_type": "stream",
     "text": [
      "The unique values for 'type' are ['PAYMENT' 'TRANSFER' 'CASH_OUT' 'DEBIT' 'CASH_IN']\n"
     ]
    },
    {
     "name": "stderr",
     "output_type": "stream",
     "text": [
      "/Users/claudiajovellar/.pyenv/versions/3.10.6/envs/lewagon/lib/python3.10/site-packages/sklearn/preprocessing/_encoders.py:808: FutureWarning: `sparse` was renamed to `sparse_output` in version 1.2 and will be removed in 1.4. `sparse_output` is ignored unless you leave `sparse` to its default value.\n",
      "  warnings.warn(\n"
     ]
    },
    {
     "name": "stdout",
     "output_type": "stream",
     "text": [
      "The categories detected by the OneHotEncoder are [array(['CASH_IN', 'CASH_OUT', 'DEBIT', 'PAYMENT', 'TRANSFER'],\n",
      "      dtype=object)]\n",
      "The column names for the encoded values are ['type_CASH_IN' 'type_CASH_OUT' 'type_DEBIT' 'type_PAYMENT'\n",
      " 'type_TRANSFER']\n"
     ]
    }
   ],
   "source": [
    "from sklearn.preprocessing import OneHotEncoder\n",
    "\n",
    "# Check unique values for streets (2)\n",
    "print(f\"The unique values for 'type' are {df.type.unique()}\")\n",
    "\n",
    "# Instantiate the OneHotEncoder\n",
    "ohe_binary = OneHotEncoder(sparse = False, drop=\"if_binary\") \n",
    "\n",
    "# Fit encoder\n",
    "ohe_binary.fit(df[['type']]) \n",
    "\n",
    "# Display the detected categories\n",
    "print(f\"The categories detected by the OneHotEncoder are {ohe_binary.categories_}\")\n",
    "\n",
    "# Display the generated names\n",
    "print(f\"The column names for the encoded values are {ohe_binary.get_feature_names_out()}\")\n",
    "\n",
    "# Transform the current \"Street\" column\n",
    "df[ohe_binary.get_feature_names_out()] = ohe_binary.transform(df[['type']])\n",
    "\n",
    "# Drop the column \"Street\" which has been encoded\n",
    "df.drop(columns = [\"type\"], inplace = True)"
   ]
  },
  {
   "cell_type": "code",
   "execution_count": 6,
   "id": "d8e34482",
   "metadata": {},
   "outputs": [],
   "source": [
    "from sklearn.preprocessing import LabelEncoder\n",
    "# create a label encoder object\n",
    "le = LabelEncoder()\n",
    "\n",
    "# apply the label encoder to non-numeric columns\n",
    "df['nameOrig'] = le.fit_transform(df['nameOrig'])\n",
    "df['nameDest'] = le.fit_transform(df['nameDest'])"
   ]
  },
  {
   "cell_type": "code",
   "execution_count": 12,
   "id": "8cc18a8c",
   "metadata": {},
   "outputs": [],
   "source": [
    "dffraud = df[df.isFraud == 1]"
   ]
  },
  {
   "cell_type": "code",
   "execution_count": 19,
   "id": "f5f72f41",
   "metadata": {},
   "outputs": [
    {
     "data": {
      "text/html": [
       "<div>\n",
       "<style scoped>\n",
       "    .dataframe tbody tr th:only-of-type {\n",
       "        vertical-align: middle;\n",
       "    }\n",
       "\n",
       "    .dataframe tbody tr th {\n",
       "        vertical-align: top;\n",
       "    }\n",
       "\n",
       "    .dataframe thead th {\n",
       "        text-align: right;\n",
       "    }\n",
       "</style>\n",
       "<table border=\"1\" class=\"dataframe\">\n",
       "  <thead>\n",
       "    <tr style=\"text-align: right;\">\n",
       "      <th></th>\n",
       "      <th>step</th>\n",
       "      <th>amount</th>\n",
       "      <th>nameOrig</th>\n",
       "      <th>oldBalanceOrig</th>\n",
       "      <th>newBalanceOrig</th>\n",
       "      <th>nameDest</th>\n",
       "      <th>oldBalanceDest</th>\n",
       "      <th>newBalanceDest</th>\n",
       "      <th>isFraud</th>\n",
       "      <th>isFlaggedFraud</th>\n",
       "      <th>errorBalanceOrig</th>\n",
       "      <th>errorBalanceDest</th>\n",
       "      <th>type_CASH_IN</th>\n",
       "      <th>type_CASH_OUT</th>\n",
       "      <th>type_DEBIT</th>\n",
       "      <th>type_PAYMENT</th>\n",
       "      <th>type_TRANSFER</th>\n",
       "    </tr>\n",
       "  </thead>\n",
       "  <tbody>\n",
       "    <tr>\n",
       "      <th>2</th>\n",
       "      <td>1</td>\n",
       "      <td>181.0</td>\n",
       "      <td>1002156</td>\n",
       "      <td>181.0</td>\n",
       "      <td>0.0</td>\n",
       "      <td>439685</td>\n",
       "      <td>0.0</td>\n",
       "      <td>0.0</td>\n",
       "      <td>1</td>\n",
       "      <td>0</td>\n",
       "      <td>0.0</td>\n",
       "      <td>181.0</td>\n",
       "      <td>0.0</td>\n",
       "      <td>0.0</td>\n",
       "      <td>0.0</td>\n",
       "      <td>0.0</td>\n",
       "      <td>1.0</td>\n",
       "    </tr>\n",
       "    <tr>\n",
       "      <th>3</th>\n",
       "      <td>1</td>\n",
       "      <td>181.0</td>\n",
       "      <td>5828262</td>\n",
       "      <td>181.0</td>\n",
       "      <td>0.0</td>\n",
       "      <td>391696</td>\n",
       "      <td>21182.0</td>\n",
       "      <td>0.0</td>\n",
       "      <td>1</td>\n",
       "      <td>0</td>\n",
       "      <td>0.0</td>\n",
       "      <td>-21001.0</td>\n",
       "      <td>0.0</td>\n",
       "      <td>1.0</td>\n",
       "      <td>0.0</td>\n",
       "      <td>0.0</td>\n",
       "      <td>0.0</td>\n",
       "    </tr>\n",
       "    <tr>\n",
       "      <th>251</th>\n",
       "      <td>1</td>\n",
       "      <td>2806.0</td>\n",
       "      <td>1379875</td>\n",
       "      <td>2806.0</td>\n",
       "      <td>0.0</td>\n",
       "      <td>563886</td>\n",
       "      <td>0.0</td>\n",
       "      <td>0.0</td>\n",
       "      <td>1</td>\n",
       "      <td>0</td>\n",
       "      <td>0.0</td>\n",
       "      <td>2806.0</td>\n",
       "      <td>0.0</td>\n",
       "      <td>0.0</td>\n",
       "      <td>0.0</td>\n",
       "      <td>0.0</td>\n",
       "      <td>1.0</td>\n",
       "    </tr>\n",
       "    <tr>\n",
       "      <th>252</th>\n",
       "      <td>1</td>\n",
       "      <td>2806.0</td>\n",
       "      <td>3619815</td>\n",
       "      <td>2806.0</td>\n",
       "      <td>0.0</td>\n",
       "      <td>2134</td>\n",
       "      <td>26202.0</td>\n",
       "      <td>0.0</td>\n",
       "      <td>1</td>\n",
       "      <td>0</td>\n",
       "      <td>0.0</td>\n",
       "      <td>-23396.0</td>\n",
       "      <td>0.0</td>\n",
       "      <td>1.0</td>\n",
       "      <td>0.0</td>\n",
       "      <td>0.0</td>\n",
       "      <td>0.0</td>\n",
       "    </tr>\n",
       "    <tr>\n",
       "      <th>680</th>\n",
       "      <td>1</td>\n",
       "      <td>20128.0</td>\n",
       "      <td>1232211</td>\n",
       "      <td>20128.0</td>\n",
       "      <td>0.0</td>\n",
       "      <td>251089</td>\n",
       "      <td>0.0</td>\n",
       "      <td>0.0</td>\n",
       "      <td>1</td>\n",
       "      <td>0</td>\n",
       "      <td>0.0</td>\n",
       "      <td>20128.0</td>\n",
       "      <td>0.0</td>\n",
       "      <td>0.0</td>\n",
       "      <td>0.0</td>\n",
       "      <td>0.0</td>\n",
       "      <td>1.0</td>\n",
       "    </tr>\n",
       "  </tbody>\n",
       "</table>\n",
       "</div>"
      ],
      "text/plain": [
       "     step   amount  nameOrig  oldBalanceOrig  newBalanceOrig  nameDest  \\\n",
       "2       1    181.0   1002156           181.0             0.0    439685   \n",
       "3       1    181.0   5828262           181.0             0.0    391696   \n",
       "251     1   2806.0   1379875          2806.0             0.0    563886   \n",
       "252     1   2806.0   3619815          2806.0             0.0      2134   \n",
       "680     1  20128.0   1232211         20128.0             0.0    251089   \n",
       "\n",
       "     oldBalanceDest  newBalanceDest  isFraud  isFlaggedFraud  \\\n",
       "2               0.0             0.0        1               0   \n",
       "3           21182.0             0.0        1               0   \n",
       "251             0.0             0.0        1               0   \n",
       "252         26202.0             0.0        1               0   \n",
       "680             0.0             0.0        1               0   \n",
       "\n",
       "     errorBalanceOrig  errorBalanceDest  type_CASH_IN  type_CASH_OUT  \\\n",
       "2                 0.0             181.0           0.0            0.0   \n",
       "3                 0.0          -21001.0           0.0            1.0   \n",
       "251               0.0            2806.0           0.0            0.0   \n",
       "252               0.0          -23396.0           0.0            1.0   \n",
       "680               0.0           20128.0           0.0            0.0   \n",
       "\n",
       "     type_DEBIT  type_PAYMENT  type_TRANSFER  \n",
       "2           0.0           0.0            1.0  \n",
       "3           0.0           0.0            0.0  \n",
       "251         0.0           0.0            1.0  \n",
       "252         0.0           0.0            0.0  \n",
       "680         0.0           0.0            1.0  "
      ]
     },
     "execution_count": 19,
     "metadata": {},
     "output_type": "execute_result"
    }
   ],
   "source": [
    "dffraud.head()"
   ]
  },
  {
   "cell_type": "code",
   "execution_count": 15,
   "id": "b7a760e7",
   "metadata": {
    "scrolled": true
   },
   "outputs": [
    {
     "data": {
      "text/plain": [
       "(8213, 17)"
      ]
     },
     "execution_count": 15,
     "metadata": {},
     "output_type": "execute_result"
    }
   ],
   "source": [
    "dffraud.shape"
   ]
  },
  {
   "cell_type": "markdown",
   "id": "938c2060",
   "metadata": {},
   "source": [
    "### Split data"
   ]
  },
  {
   "cell_type": "code",
   "execution_count": 7,
   "id": "9ba74df6",
   "metadata": {},
   "outputs": [],
   "source": [
    "# Separate the features and target variable\n",
    "X = df.drop('isFraud', axis=1)\n",
    "y = df['isFraud']"
   ]
  },
  {
   "cell_type": "code",
   "execution_count": 8,
   "id": "63031dca",
   "metadata": {},
   "outputs": [],
   "source": [
    "X_train, X_test, y_train, y_test = train_test_split(X, y, test_size=0.3, random_state=42)"
   ]
  },
  {
   "cell_type": "markdown",
   "id": "1096ef6f",
   "metadata": {},
   "source": [
    "## Balancing data"
   ]
  },
  {
   "cell_type": "markdown",
   "id": "7f7582d5",
   "metadata": {},
   "source": [
    "### SMOTE - Training Set"
   ]
  },
  {
   "cell_type": "code",
   "execution_count": 9,
   "id": "eff675f0",
   "metadata": {
    "scrolled": true
   },
   "outputs": [
    {
     "data": {
      "text/plain": [
       "([<matplotlib.patches.Wedge at 0x12ad66290>,\n",
       "  <matplotlib.patches.Wedge at 0x12ad66620>],\n",
       " [Text(-1.099990955625572, 0.004460666087110192, 'Not Fraud'),\n",
       "  Text(1.0999909559371663, -0.004460589247970448, 'Fraud')])"
      ]
     },
     "execution_count": 9,
     "metadata": {},
     "output_type": "execute_result"
    },
    {
     "data": {
      "image/png": "[encoded data removed]",
      "text/plain": [
       "<Figure size 640x480 with 1 Axes>"
      ]
     },
     "metadata": {},
     "output_type": "display_data"
    }
   ],
   "source": [
    "#Check if data is balanced before SMOTE\n",
    "labels = 'Not Fraud','Fraud'\n",
    "values=df['isFraud'].value_counts()\n",
    "fig, ax = plt.subplots()\n",
    "ax.pie(values, labels=labels)"
   ]
  },
  {
   "cell_type": "code",
   "execution_count": 10,
   "id": "e815e806",
   "metadata": {},
   "outputs": [
    {
     "name": "stdout",
     "output_type": "stream",
     "text": [
      "0.9.1\n"
     ]
    }
   ],
   "source": [
    "print(imblearn.__version__)"
   ]
  },
  {
   "cell_type": "code",
   "execution_count": 11,
   "id": "69b0e5ee",
   "metadata": {},
   "outputs": [
    {
     "name": "stdout",
     "output_type": "stream",
     "text": [
      "Counter({0: 6354407, 1: 8213})\n"
     ]
    }
   ],
   "source": [
    "# summarize class distribution\n",
    "counter = collections.Counter(y)\n",
    "print(counter)"
   ]
  },
  {
   "cell_type": "code",
   "execution_count": 12,
   "id": "16944088",
   "metadata": {
    "scrolled": true
   },
   "outputs": [
    {
     "data": {
      "text/plain": [
       "((4453834, 16), (4453834,))"
      ]
     },
     "execution_count": 12,
     "metadata": {},
     "output_type": "execute_result"
    }
   ],
   "source": [
    "X_train.shape, y_train.shape"
   ]
  },
  {
   "cell_type": "code",
   "execution_count": 13,
   "id": "785e0a8e",
   "metadata": {},
   "outputs": [],
   "source": [
    "X_resampled, y_resampled = SMOTE().fit_resample(X_train, y_train)"
   ]
  },
  {
   "cell_type": "code",
   "execution_count": 14,
   "id": "7657a793",
   "metadata": {},
   "outputs": [
    {
     "data": {
      "text/html": [
       "<div>\n",
       "<style scoped>\n",
       "    .dataframe tbody tr th:only-of-type {\n",
       "        vertical-align: middle;\n",
       "    }\n",
       "\n",
       "    .dataframe tbody tr th {\n",
       "        vertical-align: top;\n",
       "    }\n",
       "\n",
       "    .dataframe thead th {\n",
       "        text-align: right;\n",
       "    }\n",
       "</style>\n",
       "<table border=\"1\" class=\"dataframe\">\n",
       "  <thead>\n",
       "    <tr style=\"text-align: right;\">\n",
       "      <th></th>\n",
       "      <th>step</th>\n",
       "      <th>amount</th>\n",
       "      <th>nameOrig</th>\n",
       "      <th>oldBalanceOrig</th>\n",
       "      <th>newBalanceOrig</th>\n",
       "      <th>nameDest</th>\n",
       "      <th>oldBalanceDest</th>\n",
       "      <th>newBalanceDest</th>\n",
       "      <th>isFlaggedFraud</th>\n",
       "      <th>errorBalanceOrig</th>\n",
       "      <th>errorBalanceDest</th>\n",
       "      <th>type_CASH_IN</th>\n",
       "      <th>type_CASH_OUT</th>\n",
       "      <th>type_DEBIT</th>\n",
       "      <th>type_PAYMENT</th>\n",
       "      <th>type_TRANSFER</th>\n",
       "    </tr>\n",
       "  </thead>\n",
       "  <tbody>\n",
       "    <tr>\n",
       "      <th>0</th>\n",
       "      <td>202</td>\n",
       "      <td>26771.98</td>\n",
       "      <td>2487575</td>\n",
       "      <td>27521.00</td>\n",
       "      <td>54292.98</td>\n",
       "      <td>18776</td>\n",
       "      <td>7175503.03</td>\n",
       "      <td>7148731.05</td>\n",
       "      <td>0</td>\n",
       "      <td>53543.96</td>\n",
       "      <td>0.00</td>\n",
       "      <td>1.0</td>\n",
       "      <td>0.0</td>\n",
       "      <td>0.0</td>\n",
       "      <td>0.0</td>\n",
       "      <td>0.0</td>\n",
       "    </tr>\n",
       "    <tr>\n",
       "      <th>1</th>\n",
       "      <td>36</td>\n",
       "      <td>344879.65</td>\n",
       "      <td>1909142</td>\n",
       "      <td>0.00</td>\n",
       "      <td>0.00</td>\n",
       "      <td>125492</td>\n",
       "      <td>3731846.57</td>\n",
       "      <td>4076726.22</td>\n",
       "      <td>0</td>\n",
       "      <td>344879.65</td>\n",
       "      <td>689759.30</td>\n",
       "      <td>0.0</td>\n",
       "      <td>1.0</td>\n",
       "      <td>0.0</td>\n",
       "      <td>0.0</td>\n",
       "      <td>0.0</td>\n",
       "    </tr>\n",
       "    <tr>\n",
       "      <th>2</th>\n",
       "      <td>20</td>\n",
       "      <td>1862607.84</td>\n",
       "      <td>4401349</td>\n",
       "      <td>0.00</td>\n",
       "      <td>0.00</td>\n",
       "      <td>317835</td>\n",
       "      <td>3329828.01</td>\n",
       "      <td>4913631.27</td>\n",
       "      <td>0</td>\n",
       "      <td>1862607.84</td>\n",
       "      <td>3446411.10</td>\n",
       "      <td>0.0</td>\n",
       "      <td>0.0</td>\n",
       "      <td>0.0</td>\n",
       "      <td>0.0</td>\n",
       "      <td>1.0</td>\n",
       "    </tr>\n",
       "    <tr>\n",
       "      <th>3</th>\n",
       "      <td>354</td>\n",
       "      <td>37739.35</td>\n",
       "      <td>5203756</td>\n",
       "      <td>66684.93</td>\n",
       "      <td>28945.58</td>\n",
       "      <td>604220</td>\n",
       "      <td>0.00</td>\n",
       "      <td>0.00</td>\n",
       "      <td>0</td>\n",
       "      <td>0.00</td>\n",
       "      <td>37739.35</td>\n",
       "      <td>0.0</td>\n",
       "      <td>0.0</td>\n",
       "      <td>0.0</td>\n",
       "      <td>1.0</td>\n",
       "      <td>0.0</td>\n",
       "    </tr>\n",
       "    <tr>\n",
       "      <th>4</th>\n",
       "      <td>38</td>\n",
       "      <td>376055.13</td>\n",
       "      <td>2337985</td>\n",
       "      <td>22501.00</td>\n",
       "      <td>0.00</td>\n",
       "      <td>26843</td>\n",
       "      <td>182350.43</td>\n",
       "      <td>558405.55</td>\n",
       "      <td>0</td>\n",
       "      <td>353554.13</td>\n",
       "      <td>752110.25</td>\n",
       "      <td>0.0</td>\n",
       "      <td>1.0</td>\n",
       "      <td>0.0</td>\n",
       "      <td>0.0</td>\n",
       "      <td>0.0</td>\n",
       "    </tr>\n",
       "  </tbody>\n",
       "</table>\n",
       "</div>"
      ],
      "text/plain": [
       "   step      amount  nameOrig  oldBalanceOrig  newBalanceOrig  nameDest  \\\n",
       "0   202    26771.98   2487575        27521.00        54292.98     18776   \n",
       "1    36   344879.65   1909142            0.00            0.00    125492   \n",
       "2    20  1862607.84   4401349            0.00            0.00    317835   \n",
       "3   354    37739.35   5203756        66684.93        28945.58    604220   \n",
       "4    38   376055.13   2337985        22501.00            0.00     26843   \n",
       "\n",
       "   oldBalanceDest  newBalanceDest  isFlaggedFraud  errorBalanceOrig  \\\n",
       "0      7175503.03      7148731.05               0          53543.96   \n",
       "1      3731846.57      4076726.22               0         344879.65   \n",
       "2      3329828.01      4913631.27               0        1862607.84   \n",
       "3            0.00            0.00               0              0.00   \n",
       "4       182350.43       558405.55               0         353554.13   \n",
       "\n",
       "   errorBalanceDest  type_CASH_IN  type_CASH_OUT  type_DEBIT  type_PAYMENT  \\\n",
       "0              0.00           1.0            0.0         0.0           0.0   \n",
       "1         689759.30           0.0            1.0         0.0           0.0   \n",
       "2        3446411.10           0.0            0.0         0.0           0.0   \n",
       "3          37739.35           0.0            0.0         0.0           1.0   \n",
       "4         752110.25           0.0            1.0         0.0           0.0   \n",
       "\n",
       "   type_TRANSFER  \n",
       "0            0.0  \n",
       "1            0.0  \n",
       "2            1.0  \n",
       "3            0.0  \n",
       "4            0.0  "
      ]
     },
     "execution_count": 14,
     "metadata": {},
     "output_type": "execute_result"
    }
   ],
   "source": [
    "X_resampled.head()"
   ]
  },
  {
   "cell_type": "code",
   "execution_count": 15,
   "id": "0ac534fa",
   "metadata": {},
   "outputs": [
    {
     "data": {
      "text/plain": [
       "((8896112, 16), (8896112,))"
      ]
     },
     "execution_count": 15,
     "metadata": {},
     "output_type": "execute_result"
    }
   ],
   "source": [
    "X_resampled.shape, y_resampled.shape"
   ]
  },
  {
   "cell_type": "code",
   "execution_count": 16,
   "id": "18725aac",
   "metadata": {
    "scrolled": true
   },
   "outputs": [
    {
     "data": {
      "text/html": [
       "<div>\n",
       "<style scoped>\n",
       "    .dataframe tbody tr th:only-of-type {\n",
       "        vertical-align: middle;\n",
       "    }\n",
       "\n",
       "    .dataframe tbody tr th {\n",
       "        vertical-align: top;\n",
       "    }\n",
       "\n",
       "    .dataframe thead th {\n",
       "        text-align: right;\n",
       "    }\n",
       "</style>\n",
       "<table border=\"1\" class=\"dataframe\">\n",
       "  <thead>\n",
       "    <tr style=\"text-align: right;\">\n",
       "      <th></th>\n",
       "      <th>isFraud</th>\n",
       "    </tr>\n",
       "  </thead>\n",
       "  <tbody>\n",
       "    <tr>\n",
       "      <th>0</th>\n",
       "      <td>0</td>\n",
       "    </tr>\n",
       "    <tr>\n",
       "      <th>1</th>\n",
       "      <td>0</td>\n",
       "    </tr>\n",
       "    <tr>\n",
       "      <th>2</th>\n",
       "      <td>0</td>\n",
       "    </tr>\n",
       "    <tr>\n",
       "      <th>3</th>\n",
       "      <td>0</td>\n",
       "    </tr>\n",
       "    <tr>\n",
       "      <th>4</th>\n",
       "      <td>0</td>\n",
       "    </tr>\n",
       "    <tr>\n",
       "      <th>...</th>\n",
       "      <td>...</td>\n",
       "    </tr>\n",
       "    <tr>\n",
       "      <th>8896107</th>\n",
       "      <td>1</td>\n",
       "    </tr>\n",
       "    <tr>\n",
       "      <th>8896108</th>\n",
       "      <td>1</td>\n",
       "    </tr>\n",
       "    <tr>\n",
       "      <th>8896109</th>\n",
       "      <td>1</td>\n",
       "    </tr>\n",
       "    <tr>\n",
       "      <th>8896110</th>\n",
       "      <td>1</td>\n",
       "    </tr>\n",
       "    <tr>\n",
       "      <th>8896111</th>\n",
       "      <td>1</td>\n",
       "    </tr>\n",
       "  </tbody>\n",
       "</table>\n",
       "<p>8896112 rows × 1 columns</p>\n",
       "</div>"
      ],
      "text/plain": [
       "         isFraud\n",
       "0              0\n",
       "1              0\n",
       "2              0\n",
       "3              0\n",
       "4              0\n",
       "...          ...\n",
       "8896107        1\n",
       "8896108        1\n",
       "8896109        1\n",
       "8896110        1\n",
       "8896111        1\n",
       "\n",
       "[8896112 rows x 1 columns]"
      ]
     },
     "execution_count": 16,
     "metadata": {},
     "output_type": "execute_result"
    }
   ],
   "source": [
    "pd.DataFrame(y_resampled)"
   ]
  },
  {
   "cell_type": "code",
   "execution_count": 17,
   "id": "68e017e8",
   "metadata": {},
   "outputs": [],
   "source": [
    "X_resampled['isFraud'] = y_resampled"
   ]
  },
  {
   "cell_type": "code",
   "execution_count": 18,
   "id": "ab6b096e",
   "metadata": {},
   "outputs": [
    {
     "data": {
      "text/plain": [
       "([<matplotlib.patches.Wedge at 0x14c949db0>,\n",
       "  <matplotlib.patches.Wedge at 0x14c94bb80>],\n",
       " [Text(6.735557395310444e-17, 1.1, 'Not Fraud'),\n",
       "  Text(-2.0206672185931328e-16, -1.1, 'Fraud')])"
      ]
     },
     "execution_count": 18,
     "metadata": {},
     "output_type": "execute_result"
    },
    {
     "data": {
      "image/png": "[encoded data removed]",
      "text/plain": [
       "<Figure size 640x480 with 1 Axes>"
      ]
     },
     "metadata": {},
     "output_type": "display_data"
    }
   ],
   "source": [
    "#Check if data is balanced after SMOTE balancing\n",
    "labels = 'Not Fraud','Fraud'\n",
    "values= X_resampled['isFraud'].value_counts()\n",
    "fig, ax = plt.subplots()\n",
    "ax.pie(values, labels=labels)"
   ]
  },
  {
   "cell_type": "code",
   "execution_count": 19,
   "id": "0d9b4f60",
   "metadata": {},
   "outputs": [
    {
     "data": {
      "text/plain": [
       "([<matplotlib.patches.Wedge at 0x124a86b30>,\n",
       "  <matplotlib.patches.Wedge at 0x124d40070>],\n",
       " [Text(6.735557395310444e-17, 1.1, 'Not Fraud'),\n",
       "  Text(-2.0206672185931328e-16, -1.1, 'Fraud')])"
      ]
     },
     "execution_count": 19,
     "metadata": {},
     "output_type": "execute_result"
    },
    {
     "data": {
      "image/png": "[encoded data removed]",
      "text/plain": [
       "<Figure size 640x480 with 1 Axes>"
      ]
     },
     "metadata": {},
     "output_type": "display_data"
    }
   ],
   "source": [
    "#Check if data is balanced after SMOTE balancing\n",
    "import matplotlib.pyplot as plt\n",
    "labels = 'Not Fraud','Fraud'\n",
    "values=X_resampled['isFraud'].value_counts()\n",
    "fig, ax = plt.subplots()\n",
    "ax.pie(values, labels=labels)"
   ]
  },
  {
   "cell_type": "markdown",
   "id": "9c264f0e",
   "metadata": {},
   "source": [
    "#### Getting a sample of the training data "
   ]
  },
  {
   "cell_type": "code",
   "execution_count": 20,
   "id": "8199e51d",
   "metadata": {},
   "outputs": [
    {
     "data": {
      "text/html": [
       "<div>\n",
       "<style scoped>\n",
       "    .dataframe tbody tr th:only-of-type {\n",
       "        vertical-align: middle;\n",
       "    }\n",
       "\n",
       "    .dataframe tbody tr th {\n",
       "        vertical-align: top;\n",
       "    }\n",
       "\n",
       "    .dataframe thead th {\n",
       "        text-align: right;\n",
       "    }\n",
       "</style>\n",
       "<table border=\"1\" class=\"dataframe\">\n",
       "  <thead>\n",
       "    <tr style=\"text-align: right;\">\n",
       "      <th></th>\n",
       "      <th>step</th>\n",
       "      <th>amount</th>\n",
       "      <th>nameOrig</th>\n",
       "      <th>oldBalanceOrig</th>\n",
       "      <th>newBalanceOrig</th>\n",
       "      <th>nameDest</th>\n",
       "      <th>oldBalanceDest</th>\n",
       "      <th>newBalanceDest</th>\n",
       "      <th>isFlaggedFraud</th>\n",
       "      <th>errorBalanceOrig</th>\n",
       "      <th>errorBalanceDest</th>\n",
       "      <th>type_CASH_IN</th>\n",
       "      <th>type_CASH_OUT</th>\n",
       "      <th>type_DEBIT</th>\n",
       "      <th>type_PAYMENT</th>\n",
       "      <th>type_TRANSFER</th>\n",
       "      <th>isFraud</th>\n",
       "    </tr>\n",
       "  </thead>\n",
       "  <tbody>\n",
       "    <tr>\n",
       "      <th>8740263</th>\n",
       "      <td>295</td>\n",
       "      <td>3.777543e+06</td>\n",
       "      <td>90008</td>\n",
       "      <td>3.777543e+06</td>\n",
       "      <td>0.0</td>\n",
       "      <td>310803</td>\n",
       "      <td>23962.946992</td>\n",
       "      <td>3.801506e+06</td>\n",
       "      <td>0</td>\n",
       "      <td>0.0</td>\n",
       "      <td>7.555085e+06</td>\n",
       "      <td>0.0</td>\n",
       "      <td>1.0</td>\n",
       "      <td>0.0</td>\n",
       "      <td>0.0</td>\n",
       "      <td>0.0</td>\n",
       "      <td>1</td>\n",
       "    </tr>\n",
       "    <tr>\n",
       "      <th>7351144</th>\n",
       "      <td>345</td>\n",
       "      <td>1.402863e+06</td>\n",
       "      <td>731032</td>\n",
       "      <td>1.402863e+06</td>\n",
       "      <td>0.0</td>\n",
       "      <td>376499</td>\n",
       "      <td>0.000000</td>\n",
       "      <td>0.000000e+00</td>\n",
       "      <td>0</td>\n",
       "      <td>0.0</td>\n",
       "      <td>1.402863e+06</td>\n",
       "      <td>0.0</td>\n",
       "      <td>0.0</td>\n",
       "      <td>0.0</td>\n",
       "      <td>0.0</td>\n",
       "      <td>1.0</td>\n",
       "      <td>1</td>\n",
       "    </tr>\n",
       "    <tr>\n",
       "      <th>6486346</th>\n",
       "      <td>542</td>\n",
       "      <td>8.903105e+04</td>\n",
       "      <td>501154</td>\n",
       "      <td>8.903105e+04</td>\n",
       "      <td>0.0</td>\n",
       "      <td>248969</td>\n",
       "      <td>923728.708512</td>\n",
       "      <td>1.012760e+06</td>\n",
       "      <td>0</td>\n",
       "      <td>0.0</td>\n",
       "      <td>1.780621e+05</td>\n",
       "      <td>0.0</td>\n",
       "      <td>1.0</td>\n",
       "      <td>0.0</td>\n",
       "      <td>0.0</td>\n",
       "      <td>0.0</td>\n",
       "      <td>1</td>\n",
       "    </tr>\n",
       "    <tr>\n",
       "      <th>6279774</th>\n",
       "      <td>236</td>\n",
       "      <td>4.544690e+06</td>\n",
       "      <td>1558796</td>\n",
       "      <td>4.544690e+06</td>\n",
       "      <td>0.0</td>\n",
       "      <td>158785</td>\n",
       "      <td>40522.715208</td>\n",
       "      <td>4.585212e+06</td>\n",
       "      <td>0</td>\n",
       "      <td>0.0</td>\n",
       "      <td>9.089379e+06</td>\n",
       "      <td>0.0</td>\n",
       "      <td>1.0</td>\n",
       "      <td>0.0</td>\n",
       "      <td>0.0</td>\n",
       "      <td>0.0</td>\n",
       "      <td>1</td>\n",
       "    </tr>\n",
       "    <tr>\n",
       "      <th>5995637</th>\n",
       "      <td>528</td>\n",
       "      <td>7.118095e+04</td>\n",
       "      <td>2636350</td>\n",
       "      <td>7.118095e+04</td>\n",
       "      <td>0.0</td>\n",
       "      <td>75781</td>\n",
       "      <td>0.000000</td>\n",
       "      <td>0.000000e+00</td>\n",
       "      <td>0</td>\n",
       "      <td>0.0</td>\n",
       "      <td>7.118095e+04</td>\n",
       "      <td>0.0</td>\n",
       "      <td>0.0</td>\n",
       "      <td>0.0</td>\n",
       "      <td>0.0</td>\n",
       "      <td>1.0</td>\n",
       "      <td>1</td>\n",
       "    </tr>\n",
       "  </tbody>\n",
       "</table>\n",
       "</div>"
      ],
      "text/plain": [
       "         step        amount  nameOrig  oldBalanceOrig  newBalanceOrig  \\\n",
       "8740263   295  3.777543e+06     90008    3.777543e+06             0.0   \n",
       "7351144   345  1.402863e+06    731032    1.402863e+06             0.0   \n",
       "6486346   542  8.903105e+04    501154    8.903105e+04             0.0   \n",
       "6279774   236  4.544690e+06   1558796    4.544690e+06             0.0   \n",
       "5995637   528  7.118095e+04   2636350    7.118095e+04             0.0   \n",
       "\n",
       "         nameDest  oldBalanceDest  newBalanceDest  isFlaggedFraud  \\\n",
       "8740263    310803    23962.946992    3.801506e+06               0   \n",
       "7351144    376499        0.000000    0.000000e+00               0   \n",
       "6486346    248969   923728.708512    1.012760e+06               0   \n",
       "6279774    158785    40522.715208    4.585212e+06               0   \n",
       "5995637     75781        0.000000    0.000000e+00               0   \n",
       "\n",
       "         errorBalanceOrig  errorBalanceDest  type_CASH_IN  type_CASH_OUT  \\\n",
       "8740263               0.0      7.555085e+06           0.0            1.0   \n",
       "7351144               0.0      1.402863e+06           0.0            0.0   \n",
       "6486346               0.0      1.780621e+05           0.0            1.0   \n",
       "6279774               0.0      9.089379e+06           0.0            1.0   \n",
       "5995637               0.0      7.118095e+04           0.0            0.0   \n",
       "\n",
       "         type_DEBIT  type_PAYMENT  type_TRANSFER  isFraud  \n",
       "8740263         0.0           0.0            0.0        1  \n",
       "7351144         0.0           0.0            1.0        1  \n",
       "6486346         0.0           0.0            0.0        1  \n",
       "6279774         0.0           0.0            0.0        1  \n",
       "5995637         0.0           0.0            1.0        1  "
      ]
     },
     "execution_count": 20,
     "metadata": {},
     "output_type": "execute_result"
    }
   ],
   "source": [
    "fraud = X_resampled[X_resampled.isFraud == 1].sample(100000)\n",
    "fraud.head()"
   ]
  },
  {
   "cell_type": "code",
   "execution_count": 21,
   "id": "248d0931",
   "metadata": {},
   "outputs": [],
   "source": [
    "notfraud = X_resampled[X_resampled.isFraud == 0].sample(100000)"
   ]
  },
  {
   "cell_type": "code",
   "execution_count": 22,
   "id": "23759c3d",
   "metadata": {},
   "outputs": [
    {
     "data": {
      "text/html": [
       "<div>\n",
       "<style scoped>\n",
       "    .dataframe tbody tr th:only-of-type {\n",
       "        vertical-align: middle;\n",
       "    }\n",
       "\n",
       "    .dataframe tbody tr th {\n",
       "        vertical-align: top;\n",
       "    }\n",
       "\n",
       "    .dataframe thead th {\n",
       "        text-align: right;\n",
       "    }\n",
       "</style>\n",
       "<table border=\"1\" class=\"dataframe\">\n",
       "  <thead>\n",
       "    <tr style=\"text-align: right;\">\n",
       "      <th></th>\n",
       "      <th>step</th>\n",
       "      <th>amount</th>\n",
       "      <th>nameOrig</th>\n",
       "      <th>oldBalanceOrig</th>\n",
       "      <th>newBalanceOrig</th>\n",
       "      <th>nameDest</th>\n",
       "      <th>oldBalanceDest</th>\n",
       "      <th>newBalanceDest</th>\n",
       "      <th>isFlaggedFraud</th>\n",
       "      <th>errorBalanceOrig</th>\n",
       "      <th>errorBalanceDest</th>\n",
       "      <th>type_CASH_IN</th>\n",
       "      <th>type_CASH_OUT</th>\n",
       "      <th>type_DEBIT</th>\n",
       "      <th>type_PAYMENT</th>\n",
       "      <th>type_TRANSFER</th>\n",
       "      <th>isFraud</th>\n",
       "    </tr>\n",
       "  </thead>\n",
       "  <tbody>\n",
       "    <tr>\n",
       "      <th>8740263</th>\n",
       "      <td>295</td>\n",
       "      <td>3.777543e+06</td>\n",
       "      <td>90008</td>\n",
       "      <td>3.777543e+06</td>\n",
       "      <td>0.00</td>\n",
       "      <td>310803</td>\n",
       "      <td>2.396295e+04</td>\n",
       "      <td>3.801506e+06</td>\n",
       "      <td>0</td>\n",
       "      <td>0.00</td>\n",
       "      <td>7.555085e+06</td>\n",
       "      <td>0.0</td>\n",
       "      <td>1.0</td>\n",
       "      <td>0.0</td>\n",
       "      <td>0.0</td>\n",
       "      <td>0.0</td>\n",
       "      <td>1</td>\n",
       "    </tr>\n",
       "    <tr>\n",
       "      <th>7351144</th>\n",
       "      <td>345</td>\n",
       "      <td>1.402863e+06</td>\n",
       "      <td>731032</td>\n",
       "      <td>1.402863e+06</td>\n",
       "      <td>0.00</td>\n",
       "      <td>376499</td>\n",
       "      <td>0.000000e+00</td>\n",
       "      <td>0.000000e+00</td>\n",
       "      <td>0</td>\n",
       "      <td>0.00</td>\n",
       "      <td>1.402863e+06</td>\n",
       "      <td>0.0</td>\n",
       "      <td>0.0</td>\n",
       "      <td>0.0</td>\n",
       "      <td>0.0</td>\n",
       "      <td>1.0</td>\n",
       "      <td>1</td>\n",
       "    </tr>\n",
       "    <tr>\n",
       "      <th>6486346</th>\n",
       "      <td>542</td>\n",
       "      <td>8.903105e+04</td>\n",
       "      <td>501154</td>\n",
       "      <td>8.903105e+04</td>\n",
       "      <td>0.00</td>\n",
       "      <td>248969</td>\n",
       "      <td>9.237287e+05</td>\n",
       "      <td>1.012760e+06</td>\n",
       "      <td>0</td>\n",
       "      <td>0.00</td>\n",
       "      <td>1.780621e+05</td>\n",
       "      <td>0.0</td>\n",
       "      <td>1.0</td>\n",
       "      <td>0.0</td>\n",
       "      <td>0.0</td>\n",
       "      <td>0.0</td>\n",
       "      <td>1</td>\n",
       "    </tr>\n",
       "    <tr>\n",
       "      <th>6279774</th>\n",
       "      <td>236</td>\n",
       "      <td>4.544690e+06</td>\n",
       "      <td>1558796</td>\n",
       "      <td>4.544690e+06</td>\n",
       "      <td>0.00</td>\n",
       "      <td>158785</td>\n",
       "      <td>4.052272e+04</td>\n",
       "      <td>4.585212e+06</td>\n",
       "      <td>0</td>\n",
       "      <td>0.00</td>\n",
       "      <td>9.089379e+06</td>\n",
       "      <td>0.0</td>\n",
       "      <td>1.0</td>\n",
       "      <td>0.0</td>\n",
       "      <td>0.0</td>\n",
       "      <td>0.0</td>\n",
       "      <td>1</td>\n",
       "    </tr>\n",
       "    <tr>\n",
       "      <th>5995637</th>\n",
       "      <td>528</td>\n",
       "      <td>7.118095e+04</td>\n",
       "      <td>2636350</td>\n",
       "      <td>7.118095e+04</td>\n",
       "      <td>0.00</td>\n",
       "      <td>75781</td>\n",
       "      <td>0.000000e+00</td>\n",
       "      <td>0.000000e+00</td>\n",
       "      <td>0</td>\n",
       "      <td>0.00</td>\n",
       "      <td>7.118095e+04</td>\n",
       "      <td>0.0</td>\n",
       "      <td>0.0</td>\n",
       "      <td>0.0</td>\n",
       "      <td>0.0</td>\n",
       "      <td>1.0</td>\n",
       "      <td>1</td>\n",
       "    </tr>\n",
       "    <tr>\n",
       "      <th>...</th>\n",
       "      <td>...</td>\n",
       "      <td>...</td>\n",
       "      <td>...</td>\n",
       "      <td>...</td>\n",
       "      <td>...</td>\n",
       "      <td>...</td>\n",
       "      <td>...</td>\n",
       "      <td>...</td>\n",
       "      <td>...</td>\n",
       "      <td>...</td>\n",
       "      <td>...</td>\n",
       "      <td>...</td>\n",
       "      <td>...</td>\n",
       "      <td>...</td>\n",
       "      <td>...</td>\n",
       "      <td>...</td>\n",
       "      <td>...</td>\n",
       "    </tr>\n",
       "    <tr>\n",
       "      <th>93029</th>\n",
       "      <td>188</td>\n",
       "      <td>1.193504e+04</td>\n",
       "      <td>2051670</td>\n",
       "      <td>1.194900e+04</td>\n",
       "      <td>13.96</td>\n",
       "      <td>1988295</td>\n",
       "      <td>0.000000e+00</td>\n",
       "      <td>0.000000e+00</td>\n",
       "      <td>0</td>\n",
       "      <td>0.00</td>\n",
       "      <td>1.193504e+04</td>\n",
       "      <td>0.0</td>\n",
       "      <td>0.0</td>\n",
       "      <td>0.0</td>\n",
       "      <td>1.0</td>\n",
       "      <td>0.0</td>\n",
       "      <td>0</td>\n",
       "    </tr>\n",
       "    <tr>\n",
       "      <th>2614193</th>\n",
       "      <td>262</td>\n",
       "      <td>1.179766e+05</td>\n",
       "      <td>3547735</td>\n",
       "      <td>0.000000e+00</td>\n",
       "      <td>0.00</td>\n",
       "      <td>540547</td>\n",
       "      <td>9.213339e+05</td>\n",
       "      <td>1.039311e+06</td>\n",
       "      <td>0</td>\n",
       "      <td>117976.64</td>\n",
       "      <td>2.359533e+05</td>\n",
       "      <td>0.0</td>\n",
       "      <td>0.0</td>\n",
       "      <td>0.0</td>\n",
       "      <td>0.0</td>\n",
       "      <td>1.0</td>\n",
       "      <td>0</td>\n",
       "    </tr>\n",
       "    <tr>\n",
       "      <th>2362161</th>\n",
       "      <td>514</td>\n",
       "      <td>2.033946e+05</td>\n",
       "      <td>3597139</td>\n",
       "      <td>0.000000e+00</td>\n",
       "      <td>0.00</td>\n",
       "      <td>228904</td>\n",
       "      <td>3.297669e+06</td>\n",
       "      <td>3.501063e+06</td>\n",
       "      <td>0</td>\n",
       "      <td>203394.61</td>\n",
       "      <td>4.067892e+05</td>\n",
       "      <td>0.0</td>\n",
       "      <td>1.0</td>\n",
       "      <td>0.0</td>\n",
       "      <td>0.0</td>\n",
       "      <td>0.0</td>\n",
       "      <td>0</td>\n",
       "    </tr>\n",
       "    <tr>\n",
       "      <th>3287942</th>\n",
       "      <td>20</td>\n",
       "      <td>8.063450e+03</td>\n",
       "      <td>3537952</td>\n",
       "      <td>1.657000e+03</td>\n",
       "      <td>0.00</td>\n",
       "      <td>1300241</td>\n",
       "      <td>0.000000e+00</td>\n",
       "      <td>0.000000e+00</td>\n",
       "      <td>0</td>\n",
       "      <td>6406.45</td>\n",
       "      <td>8.063450e+03</td>\n",
       "      <td>0.0</td>\n",
       "      <td>0.0</td>\n",
       "      <td>0.0</td>\n",
       "      <td>1.0</td>\n",
       "      <td>0.0</td>\n",
       "      <td>0</td>\n",
       "    </tr>\n",
       "    <tr>\n",
       "      <th>238109</th>\n",
       "      <td>36</td>\n",
       "      <td>5.061450e+05</td>\n",
       "      <td>6181255</td>\n",
       "      <td>2.279518e+05</td>\n",
       "      <td>0.00</td>\n",
       "      <td>215150</td>\n",
       "      <td>7.632071e+05</td>\n",
       "      <td>1.269352e+06</td>\n",
       "      <td>0</td>\n",
       "      <td>278193.23</td>\n",
       "      <td>1.012290e+06</td>\n",
       "      <td>0.0</td>\n",
       "      <td>1.0</td>\n",
       "      <td>0.0</td>\n",
       "      <td>0.0</td>\n",
       "      <td>0.0</td>\n",
       "      <td>0</td>\n",
       "    </tr>\n",
       "  </tbody>\n",
       "</table>\n",
       "<p>200000 rows × 17 columns</p>\n",
       "</div>"
      ],
      "text/plain": [
       "         step        amount  nameOrig  oldBalanceOrig  newBalanceOrig  \\\n",
       "8740263   295  3.777543e+06     90008    3.777543e+06            0.00   \n",
       "7351144   345  1.402863e+06    731032    1.402863e+06            0.00   \n",
       "6486346   542  8.903105e+04    501154    8.903105e+04            0.00   \n",
       "6279774   236  4.544690e+06   1558796    4.544690e+06            0.00   \n",
       "5995637   528  7.118095e+04   2636350    7.118095e+04            0.00   \n",
       "...       ...           ...       ...             ...             ...   \n",
       "93029     188  1.193504e+04   2051670    1.194900e+04           13.96   \n",
       "2614193   262  1.179766e+05   3547735    0.000000e+00            0.00   \n",
       "2362161   514  2.033946e+05   3597139    0.000000e+00            0.00   \n",
       "3287942    20  8.063450e+03   3537952    1.657000e+03            0.00   \n",
       "238109     36  5.061450e+05   6181255    2.279518e+05            0.00   \n",
       "\n",
       "         nameDest  oldBalanceDest  newBalanceDest  isFlaggedFraud  \\\n",
       "8740263    310803    2.396295e+04    3.801506e+06               0   \n",
       "7351144    376499    0.000000e+00    0.000000e+00               0   \n",
       "6486346    248969    9.237287e+05    1.012760e+06               0   \n",
       "6279774    158785    4.052272e+04    4.585212e+06               0   \n",
       "5995637     75781    0.000000e+00    0.000000e+00               0   \n",
       "...           ...             ...             ...             ...   \n",
       "93029     1988295    0.000000e+00    0.000000e+00               0   \n",
       "2614193    540547    9.213339e+05    1.039311e+06               0   \n",
       "2362161    228904    3.297669e+06    3.501063e+06               0   \n",
       "3287942   1300241    0.000000e+00    0.000000e+00               0   \n",
       "238109     215150    7.632071e+05    1.269352e+06               0   \n",
       "\n",
       "         errorBalanceOrig  errorBalanceDest  type_CASH_IN  type_CASH_OUT  \\\n",
       "8740263              0.00      7.555085e+06           0.0            1.0   \n",
       "7351144              0.00      1.402863e+06           0.0            0.0   \n",
       "6486346              0.00      1.780621e+05           0.0            1.0   \n",
       "6279774              0.00      9.089379e+06           0.0            1.0   \n",
       "5995637              0.00      7.118095e+04           0.0            0.0   \n",
       "...                   ...               ...           ...            ...   \n",
       "93029                0.00      1.193504e+04           0.0            0.0   \n",
       "2614193         117976.64      2.359533e+05           0.0            0.0   \n",
       "2362161         203394.61      4.067892e+05           0.0            1.0   \n",
       "3287942           6406.45      8.063450e+03           0.0            0.0   \n",
       "238109          278193.23      1.012290e+06           0.0            1.0   \n",
       "\n",
       "         type_DEBIT  type_PAYMENT  type_TRANSFER  isFraud  \n",
       "8740263         0.0           0.0            0.0        1  \n",
       "7351144         0.0           0.0            1.0        1  \n",
       "6486346         0.0           0.0            0.0        1  \n",
       "6279774         0.0           0.0            0.0        1  \n",
       "5995637         0.0           0.0            1.0        1  \n",
       "...             ...           ...            ...      ...  \n",
       "93029           0.0           1.0            0.0        0  \n",
       "2614193         0.0           0.0            1.0        0  \n",
       "2362161         0.0           0.0            0.0        0  \n",
       "3287942         0.0           1.0            0.0        0  \n",
       "238109          0.0           0.0            0.0        0  \n",
       "\n",
       "[200000 rows x 17 columns]"
      ]
     },
     "execution_count": 22,
     "metadata": {},
     "output_type": "execute_result"
    }
   ],
   "source": [
    "data_new = pd.concat([fraud, notfraud], axis=0)\n",
    "data_new"
   ]
  },
  {
   "cell_type": "markdown",
   "id": "e21a3e5d",
   "metadata": {},
   "source": [
    "### SMOTE - Test test 50/50"
   ]
  },
  {
   "cell_type": "code",
   "execution_count": 23,
   "id": "111abf2c",
   "metadata": {},
   "outputs": [],
   "source": [
    "Xtest_resampled50, ytest_resampled50 = SMOTE().fit_resample(X_test, y_test)"
   ]
  },
  {
   "cell_type": "code",
   "execution_count": 24,
   "id": "74a45a5c",
   "metadata": {},
   "outputs": [
    {
     "data": {
      "text/plain": [
       "((3812702, 16), (3812702,))"
      ]
     },
     "execution_count": 24,
     "metadata": {},
     "output_type": "execute_result"
    }
   ],
   "source": [
    "Xtest_resampled50.shape, ytest_resampled50.shape"
   ]
  },
  {
   "cell_type": "code",
   "execution_count": 25,
   "id": "b11f8231",
   "metadata": {},
   "outputs": [
    {
     "data": {
      "text/html": [
       "<div>\n",
       "<style scoped>\n",
       "    .dataframe tbody tr th:only-of-type {\n",
       "        vertical-align: middle;\n",
       "    }\n",
       "\n",
       "    .dataframe tbody tr th {\n",
       "        vertical-align: top;\n",
       "    }\n",
       "\n",
       "    .dataframe thead th {\n",
       "        text-align: right;\n",
       "    }\n",
       "</style>\n",
       "<table border=\"1\" class=\"dataframe\">\n",
       "  <thead>\n",
       "    <tr style=\"text-align: right;\">\n",
       "      <th></th>\n",
       "      <th>step</th>\n",
       "      <th>amount</th>\n",
       "      <th>nameOrig</th>\n",
       "      <th>oldBalanceOrig</th>\n",
       "      <th>newBalanceOrig</th>\n",
       "      <th>nameDest</th>\n",
       "      <th>oldBalanceDest</th>\n",
       "      <th>newBalanceDest</th>\n",
       "      <th>isFlaggedFraud</th>\n",
       "      <th>errorBalanceOrig</th>\n",
       "      <th>errorBalanceDest</th>\n",
       "      <th>type_CASH_IN</th>\n",
       "      <th>type_CASH_OUT</th>\n",
       "      <th>type_DEBIT</th>\n",
       "      <th>type_PAYMENT</th>\n",
       "      <th>type_TRANSFER</th>\n",
       "    </tr>\n",
       "  </thead>\n",
       "  <tbody>\n",
       "    <tr>\n",
       "      <th>0</th>\n",
       "      <td>278</td>\n",
       "      <td>330218.42</td>\n",
       "      <td>5144186</td>\n",
       "      <td>20866.00</td>\n",
       "      <td>351084.42</td>\n",
       "      <td>523341</td>\n",
       "      <td>452419.57</td>\n",
       "      <td>122201.15</td>\n",
       "      <td>0</td>\n",
       "      <td>660436.84</td>\n",
       "      <td>-5.820766e-11</td>\n",
       "      <td>1.0</td>\n",
       "      <td>0.0</td>\n",
       "      <td>0.0</td>\n",
       "      <td>0.0</td>\n",
       "      <td>0.0</td>\n",
       "    </tr>\n",
       "    <tr>\n",
       "      <th>1</th>\n",
       "      <td>15</td>\n",
       "      <td>11647.08</td>\n",
       "      <td>868156</td>\n",
       "      <td>30370.00</td>\n",
       "      <td>18722.92</td>\n",
       "      <td>1849210</td>\n",
       "      <td>0.00</td>\n",
       "      <td>0.00</td>\n",
       "      <td>0</td>\n",
       "      <td>0.00</td>\n",
       "      <td>1.164708e+04</td>\n",
       "      <td>0.0</td>\n",
       "      <td>0.0</td>\n",
       "      <td>0.0</td>\n",
       "      <td>1.0</td>\n",
       "      <td>0.0</td>\n",
       "    </tr>\n",
       "    <tr>\n",
       "      <th>2</th>\n",
       "      <td>10</td>\n",
       "      <td>152264.21</td>\n",
       "      <td>2453021</td>\n",
       "      <td>106589.00</td>\n",
       "      <td>258853.21</td>\n",
       "      <td>179836</td>\n",
       "      <td>201303.01</td>\n",
       "      <td>49038.80</td>\n",
       "      <td>0</td>\n",
       "      <td>304528.42</td>\n",
       "      <td>0.000000e+00</td>\n",
       "      <td>1.0</td>\n",
       "      <td>0.0</td>\n",
       "      <td>0.0</td>\n",
       "      <td>0.0</td>\n",
       "      <td>0.0</td>\n",
       "    </tr>\n",
       "    <tr>\n",
       "      <th>3</th>\n",
       "      <td>403</td>\n",
       "      <td>1551760.63</td>\n",
       "      <td>4162339</td>\n",
       "      <td>0.00</td>\n",
       "      <td>0.00</td>\n",
       "      <td>167013</td>\n",
       "      <td>3198359.45</td>\n",
       "      <td>4750120.08</td>\n",
       "      <td>0</td>\n",
       "      <td>1551760.63</td>\n",
       "      <td>3.103521e+06</td>\n",
       "      <td>0.0</td>\n",
       "      <td>0.0</td>\n",
       "      <td>0.0</td>\n",
       "      <td>0.0</td>\n",
       "      <td>1.0</td>\n",
       "    </tr>\n",
       "    <tr>\n",
       "      <th>4</th>\n",
       "      <td>206</td>\n",
       "      <td>78172.30</td>\n",
       "      <td>5740614</td>\n",
       "      <td>2921331.58</td>\n",
       "      <td>2999503.88</td>\n",
       "      <td>27202</td>\n",
       "      <td>415821.90</td>\n",
       "      <td>337649.60</td>\n",
       "      <td>0</td>\n",
       "      <td>156344.60</td>\n",
       "      <td>-5.820766e-11</td>\n",
       "      <td>1.0</td>\n",
       "      <td>0.0</td>\n",
       "      <td>0.0</td>\n",
       "      <td>0.0</td>\n",
       "      <td>0.0</td>\n",
       "    </tr>\n",
       "  </tbody>\n",
       "</table>\n",
       "</div>"
      ],
      "text/plain": [
       "   step      amount  nameOrig  oldBalanceOrig  newBalanceOrig  nameDest  \\\n",
       "0   278   330218.42   5144186        20866.00       351084.42    523341   \n",
       "1    15    11647.08    868156        30370.00        18722.92   1849210   \n",
       "2    10   152264.21   2453021       106589.00       258853.21    179836   \n",
       "3   403  1551760.63   4162339            0.00            0.00    167013   \n",
       "4   206    78172.30   5740614      2921331.58      2999503.88     27202   \n",
       "\n",
       "   oldBalanceDest  newBalanceDest  isFlaggedFraud  errorBalanceOrig  \\\n",
       "0       452419.57       122201.15               0         660436.84   \n",
       "1            0.00            0.00               0              0.00   \n",
       "2       201303.01        49038.80               0         304528.42   \n",
       "3      3198359.45      4750120.08               0        1551760.63   \n",
       "4       415821.90       337649.60               0         156344.60   \n",
       "\n",
       "   errorBalanceDest  type_CASH_IN  type_CASH_OUT  type_DEBIT  type_PAYMENT  \\\n",
       "0     -5.820766e-11           1.0            0.0         0.0           0.0   \n",
       "1      1.164708e+04           0.0            0.0         0.0           1.0   \n",
       "2      0.000000e+00           1.0            0.0         0.0           0.0   \n",
       "3      3.103521e+06           0.0            0.0         0.0           0.0   \n",
       "4     -5.820766e-11           1.0            0.0         0.0           0.0   \n",
       "\n",
       "   type_TRANSFER  \n",
       "0            0.0  \n",
       "1            0.0  \n",
       "2            0.0  \n",
       "3            1.0  \n",
       "4            0.0  "
      ]
     },
     "execution_count": 25,
     "metadata": {},
     "output_type": "execute_result"
    }
   ],
   "source": [
    "Xtest_resampled50.head()"
   ]
  },
  {
   "cell_type": "code",
   "execution_count": 26,
   "id": "d5feb851",
   "metadata": {},
   "outputs": [],
   "source": [
    "Xtest_resampled50['isFraud'] = ytest_resampled50"
   ]
  },
  {
   "cell_type": "markdown",
   "id": "08c79059",
   "metadata": {},
   "source": [
    "### SMOTE - Test 70/30"
   ]
  },
  {
   "cell_type": "code",
   "execution_count": 27,
   "id": "f6b4bf8a",
   "metadata": {},
   "outputs": [],
   "source": [
    "Xtest_resampled70, ytest_resampled30 = SMOTE(sampling_strategy = 0.3).fit_resample(X_test, y_test)"
   ]
  },
  {
   "cell_type": "code",
   "execution_count": 28,
   "id": "be447dda",
   "metadata": {},
   "outputs": [
    {
     "data": {
      "text/plain": [
       "((2478256, 16), (2478256,))"
      ]
     },
     "execution_count": 28,
     "metadata": {},
     "output_type": "execute_result"
    }
   ],
   "source": [
    "Xtest_resampled70.shape, ytest_resampled30.shape"
   ]
  },
  {
   "cell_type": "code",
   "execution_count": 29,
   "id": "2320563a",
   "metadata": {},
   "outputs": [
    {
     "data": {
      "text/html": [
       "<div>\n",
       "<style scoped>\n",
       "    .dataframe tbody tr th:only-of-type {\n",
       "        vertical-align: middle;\n",
       "    }\n",
       "\n",
       "    .dataframe tbody tr th {\n",
       "        vertical-align: top;\n",
       "    }\n",
       "\n",
       "    .dataframe thead th {\n",
       "        text-align: right;\n",
       "    }\n",
       "</style>\n",
       "<table border=\"1\" class=\"dataframe\">\n",
       "  <thead>\n",
       "    <tr style=\"text-align: right;\">\n",
       "      <th></th>\n",
       "      <th>step</th>\n",
       "      <th>amount</th>\n",
       "      <th>nameOrig</th>\n",
       "      <th>oldBalanceOrig</th>\n",
       "      <th>newBalanceOrig</th>\n",
       "      <th>nameDest</th>\n",
       "      <th>oldBalanceDest</th>\n",
       "      <th>newBalanceDest</th>\n",
       "      <th>isFlaggedFraud</th>\n",
       "      <th>errorBalanceOrig</th>\n",
       "      <th>errorBalanceDest</th>\n",
       "      <th>type_CASH_IN</th>\n",
       "      <th>type_CASH_OUT</th>\n",
       "      <th>type_DEBIT</th>\n",
       "      <th>type_PAYMENT</th>\n",
       "      <th>type_TRANSFER</th>\n",
       "    </tr>\n",
       "  </thead>\n",
       "  <tbody>\n",
       "    <tr>\n",
       "      <th>0</th>\n",
       "      <td>278</td>\n",
       "      <td>330218.42</td>\n",
       "      <td>5144186</td>\n",
       "      <td>20866.00</td>\n",
       "      <td>351084.42</td>\n",
       "      <td>523341</td>\n",
       "      <td>452419.57</td>\n",
       "      <td>122201.15</td>\n",
       "      <td>0</td>\n",
       "      <td>660436.84</td>\n",
       "      <td>-5.820766e-11</td>\n",
       "      <td>1.0</td>\n",
       "      <td>0.0</td>\n",
       "      <td>0.0</td>\n",
       "      <td>0.0</td>\n",
       "      <td>0.0</td>\n",
       "    </tr>\n",
       "    <tr>\n",
       "      <th>1</th>\n",
       "      <td>15</td>\n",
       "      <td>11647.08</td>\n",
       "      <td>868156</td>\n",
       "      <td>30370.00</td>\n",
       "      <td>18722.92</td>\n",
       "      <td>1849210</td>\n",
       "      <td>0.00</td>\n",
       "      <td>0.00</td>\n",
       "      <td>0</td>\n",
       "      <td>0.00</td>\n",
       "      <td>1.164708e+04</td>\n",
       "      <td>0.0</td>\n",
       "      <td>0.0</td>\n",
       "      <td>0.0</td>\n",
       "      <td>1.0</td>\n",
       "      <td>0.0</td>\n",
       "    </tr>\n",
       "    <tr>\n",
       "      <th>2</th>\n",
       "      <td>10</td>\n",
       "      <td>152264.21</td>\n",
       "      <td>2453021</td>\n",
       "      <td>106589.00</td>\n",
       "      <td>258853.21</td>\n",
       "      <td>179836</td>\n",
       "      <td>201303.01</td>\n",
       "      <td>49038.80</td>\n",
       "      <td>0</td>\n",
       "      <td>304528.42</td>\n",
       "      <td>0.000000e+00</td>\n",
       "      <td>1.0</td>\n",
       "      <td>0.0</td>\n",
       "      <td>0.0</td>\n",
       "      <td>0.0</td>\n",
       "      <td>0.0</td>\n",
       "    </tr>\n",
       "    <tr>\n",
       "      <th>3</th>\n",
       "      <td>403</td>\n",
       "      <td>1551760.63</td>\n",
       "      <td>4162339</td>\n",
       "      <td>0.00</td>\n",
       "      <td>0.00</td>\n",
       "      <td>167013</td>\n",
       "      <td>3198359.45</td>\n",
       "      <td>4750120.08</td>\n",
       "      <td>0</td>\n",
       "      <td>1551760.63</td>\n",
       "      <td>3.103521e+06</td>\n",
       "      <td>0.0</td>\n",
       "      <td>0.0</td>\n",
       "      <td>0.0</td>\n",
       "      <td>0.0</td>\n",
       "      <td>1.0</td>\n",
       "    </tr>\n",
       "    <tr>\n",
       "      <th>4</th>\n",
       "      <td>206</td>\n",
       "      <td>78172.30</td>\n",
       "      <td>5740614</td>\n",
       "      <td>2921331.58</td>\n",
       "      <td>2999503.88</td>\n",
       "      <td>27202</td>\n",
       "      <td>415821.90</td>\n",
       "      <td>337649.60</td>\n",
       "      <td>0</td>\n",
       "      <td>156344.60</td>\n",
       "      <td>-5.820766e-11</td>\n",
       "      <td>1.0</td>\n",
       "      <td>0.0</td>\n",
       "      <td>0.0</td>\n",
       "      <td>0.0</td>\n",
       "      <td>0.0</td>\n",
       "    </tr>\n",
       "  </tbody>\n",
       "</table>\n",
       "</div>"
      ],
      "text/plain": [
       "   step      amount  nameOrig  oldBalanceOrig  newBalanceOrig  nameDest  \\\n",
       "0   278   330218.42   5144186        20866.00       351084.42    523341   \n",
       "1    15    11647.08    868156        30370.00        18722.92   1849210   \n",
       "2    10   152264.21   2453021       106589.00       258853.21    179836   \n",
       "3   403  1551760.63   4162339            0.00            0.00    167013   \n",
       "4   206    78172.30   5740614      2921331.58      2999503.88     27202   \n",
       "\n",
       "   oldBalanceDest  newBalanceDest  isFlaggedFraud  errorBalanceOrig  \\\n",
       "0       452419.57       122201.15               0         660436.84   \n",
       "1            0.00            0.00               0              0.00   \n",
       "2       201303.01        49038.80               0         304528.42   \n",
       "3      3198359.45      4750120.08               0        1551760.63   \n",
       "4       415821.90       337649.60               0         156344.60   \n",
       "\n",
       "   errorBalanceDest  type_CASH_IN  type_CASH_OUT  type_DEBIT  type_PAYMENT  \\\n",
       "0     -5.820766e-11           1.0            0.0         0.0           0.0   \n",
       "1      1.164708e+04           0.0            0.0         0.0           1.0   \n",
       "2      0.000000e+00           1.0            0.0         0.0           0.0   \n",
       "3      3.103521e+06           0.0            0.0         0.0           0.0   \n",
       "4     -5.820766e-11           1.0            0.0         0.0           0.0   \n",
       "\n",
       "   type_TRANSFER  \n",
       "0            0.0  \n",
       "1            0.0  \n",
       "2            0.0  \n",
       "3            1.0  \n",
       "4            0.0  "
      ]
     },
     "execution_count": 29,
     "metadata": {},
     "output_type": "execute_result"
    }
   ],
   "source": [
    "Xtest_resampled70.head()"
   ]
  },
  {
   "cell_type": "code",
   "execution_count": 30,
   "id": "9d8c848d",
   "metadata": {},
   "outputs": [],
   "source": [
    "Xtest_resampled70['isFraud'] = ytest_resampled30"
   ]
  },
  {
   "cell_type": "markdown",
   "id": "274d9118",
   "metadata": {},
   "source": [
    "### 50/50 Getting a sample of the test data "
   ]
  },
  {
   "cell_type": "code",
   "execution_count": 31,
   "id": "98ca2a72",
   "metadata": {},
   "outputs": [],
   "source": [
    "fraud_test = Xtest_resampled50[Xtest_resampled50.isFraud == 1].sample(17500)"
   ]
  },
  {
   "cell_type": "code",
   "execution_count": 32,
   "id": "64adfba7",
   "metadata": {},
   "outputs": [],
   "source": [
    "notfraud_test = Xtest_resampled50[Xtest_resampled50.isFraud == 0].sample(17500)"
   ]
  },
  {
   "cell_type": "code",
   "execution_count": 33,
   "id": "981997f1",
   "metadata": {},
   "outputs": [
    {
     "data": {
      "text/html": [
       "<div>\n",
       "<style scoped>\n",
       "    .dataframe tbody tr th:only-of-type {\n",
       "        vertical-align: middle;\n",
       "    }\n",
       "\n",
       "    .dataframe tbody tr th {\n",
       "        vertical-align: top;\n",
       "    }\n",
       "\n",
       "    .dataframe thead th {\n",
       "        text-align: right;\n",
       "    }\n",
       "</style>\n",
       "<table border=\"1\" class=\"dataframe\">\n",
       "  <thead>\n",
       "    <tr style=\"text-align: right;\">\n",
       "      <th></th>\n",
       "      <th>step</th>\n",
       "      <th>amount</th>\n",
       "      <th>nameOrig</th>\n",
       "      <th>oldBalanceOrig</th>\n",
       "      <th>newBalanceOrig</th>\n",
       "      <th>nameDest</th>\n",
       "      <th>oldBalanceDest</th>\n",
       "      <th>newBalanceDest</th>\n",
       "      <th>isFlaggedFraud</th>\n",
       "      <th>errorBalanceOrig</th>\n",
       "      <th>errorBalanceDest</th>\n",
       "      <th>type_CASH_IN</th>\n",
       "      <th>type_CASH_OUT</th>\n",
       "      <th>type_DEBIT</th>\n",
       "      <th>type_PAYMENT</th>\n",
       "      <th>type_TRANSFER</th>\n",
       "      <th>isFraud</th>\n",
       "    </tr>\n",
       "  </thead>\n",
       "  <tbody>\n",
       "    <tr>\n",
       "      <th>2494625</th>\n",
       "      <td>279</td>\n",
       "      <td>1.118239e+06</td>\n",
       "      <td>1805131</td>\n",
       "      <td>1.118239e+06</td>\n",
       "      <td>0.00</td>\n",
       "      <td>446341</td>\n",
       "      <td>0.000000e+00</td>\n",
       "      <td>0.000000e+00</td>\n",
       "      <td>0</td>\n",
       "      <td>0.00</td>\n",
       "      <td>1.118239e+06</td>\n",
       "      <td>0.0</td>\n",
       "      <td>0.0</td>\n",
       "      <td>0.0</td>\n",
       "      <td>0.0</td>\n",
       "      <td>1.0</td>\n",
       "      <td>1</td>\n",
       "    </tr>\n",
       "    <tr>\n",
       "      <th>2351921</th>\n",
       "      <td>301</td>\n",
       "      <td>5.132665e+06</td>\n",
       "      <td>4470190</td>\n",
       "      <td>5.132665e+06</td>\n",
       "      <td>0.00</td>\n",
       "      <td>92892</td>\n",
       "      <td>0.000000e+00</td>\n",
       "      <td>0.000000e+00</td>\n",
       "      <td>0</td>\n",
       "      <td>0.00</td>\n",
       "      <td>5.132665e+06</td>\n",
       "      <td>0.0</td>\n",
       "      <td>0.0</td>\n",
       "      <td>0.0</td>\n",
       "      <td>0.0</td>\n",
       "      <td>1.0</td>\n",
       "      <td>1</td>\n",
       "    </tr>\n",
       "    <tr>\n",
       "      <th>2889363</th>\n",
       "      <td>328</td>\n",
       "      <td>3.028501e+05</td>\n",
       "      <td>2617402</td>\n",
       "      <td>3.028501e+05</td>\n",
       "      <td>0.00</td>\n",
       "      <td>248561</td>\n",
       "      <td>2.427778e+05</td>\n",
       "      <td>5.456279e+05</td>\n",
       "      <td>0</td>\n",
       "      <td>0.00</td>\n",
       "      <td>6.057003e+05</td>\n",
       "      <td>0.0</td>\n",
       "      <td>1.0</td>\n",
       "      <td>0.0</td>\n",
       "      <td>0.0</td>\n",
       "      <td>0.0</td>\n",
       "      <td>1</td>\n",
       "    </tr>\n",
       "    <tr>\n",
       "      <th>2082807</th>\n",
       "      <td>429</td>\n",
       "      <td>1.255073e+06</td>\n",
       "      <td>3989547</td>\n",
       "      <td>1.255073e+06</td>\n",
       "      <td>0.00</td>\n",
       "      <td>557365</td>\n",
       "      <td>1.377940e+05</td>\n",
       "      <td>1.392867e+06</td>\n",
       "      <td>0</td>\n",
       "      <td>0.00</td>\n",
       "      <td>2.510146e+06</td>\n",
       "      <td>0.0</td>\n",
       "      <td>1.0</td>\n",
       "      <td>0.0</td>\n",
       "      <td>0.0</td>\n",
       "      <td>0.0</td>\n",
       "      <td>1</td>\n",
       "    </tr>\n",
       "    <tr>\n",
       "      <th>2467234</th>\n",
       "      <td>363</td>\n",
       "      <td>2.985994e+05</td>\n",
       "      <td>3058181</td>\n",
       "      <td>2.985994e+05</td>\n",
       "      <td>0.00</td>\n",
       "      <td>136008</td>\n",
       "      <td>0.000000e+00</td>\n",
       "      <td>0.000000e+00</td>\n",
       "      <td>0</td>\n",
       "      <td>0.00</td>\n",
       "      <td>2.985994e+05</td>\n",
       "      <td>0.0</td>\n",
       "      <td>0.0</td>\n",
       "      <td>0.0</td>\n",
       "      <td>0.0</td>\n",
       "      <td>1.0</td>\n",
       "      <td>1</td>\n",
       "    </tr>\n",
       "    <tr>\n",
       "      <th>...</th>\n",
       "      <td>...</td>\n",
       "      <td>...</td>\n",
       "      <td>...</td>\n",
       "      <td>...</td>\n",
       "      <td>...</td>\n",
       "      <td>...</td>\n",
       "      <td>...</td>\n",
       "      <td>...</td>\n",
       "      <td>...</td>\n",
       "      <td>...</td>\n",
       "      <td>...</td>\n",
       "      <td>...</td>\n",
       "      <td>...</td>\n",
       "      <td>...</td>\n",
       "      <td>...</td>\n",
       "      <td>...</td>\n",
       "      <td>...</td>\n",
       "    </tr>\n",
       "    <tr>\n",
       "      <th>1883680</th>\n",
       "      <td>236</td>\n",
       "      <td>2.021091e+05</td>\n",
       "      <td>3220048</td>\n",
       "      <td>5.053254e+05</td>\n",
       "      <td>707434.50</td>\n",
       "      <td>30979</td>\n",
       "      <td>3.285775e+06</td>\n",
       "      <td>3.083666e+06</td>\n",
       "      <td>0</td>\n",
       "      <td>404218.14</td>\n",
       "      <td>-4.656613e-10</td>\n",
       "      <td>1.0</td>\n",
       "      <td>0.0</td>\n",
       "      <td>0.0</td>\n",
       "      <td>0.0</td>\n",
       "      <td>0.0</td>\n",
       "      <td>0</td>\n",
       "    </tr>\n",
       "    <tr>\n",
       "      <th>694061</th>\n",
       "      <td>303</td>\n",
       "      <td>1.000329e+05</td>\n",
       "      <td>126658</td>\n",
       "      <td>0.000000e+00</td>\n",
       "      <td>0.00</td>\n",
       "      <td>244917</td>\n",
       "      <td>4.088102e+05</td>\n",
       "      <td>5.088431e+05</td>\n",
       "      <td>0</td>\n",
       "      <td>100032.90</td>\n",
       "      <td>2.000658e+05</td>\n",
       "      <td>0.0</td>\n",
       "      <td>1.0</td>\n",
       "      <td>0.0</td>\n",
       "      <td>0.0</td>\n",
       "      <td>0.0</td>\n",
       "      <td>0</td>\n",
       "    </tr>\n",
       "    <tr>\n",
       "      <th>338478</th>\n",
       "      <td>348</td>\n",
       "      <td>2.186818e+05</td>\n",
       "      <td>3461548</td>\n",
       "      <td>9.438000e+03</td>\n",
       "      <td>228119.78</td>\n",
       "      <td>465056</td>\n",
       "      <td>5.707541e+06</td>\n",
       "      <td>6.097489e+06</td>\n",
       "      <td>0</td>\n",
       "      <td>437363.56</td>\n",
       "      <td>6.086295e+05</td>\n",
       "      <td>1.0</td>\n",
       "      <td>0.0</td>\n",
       "      <td>0.0</td>\n",
       "      <td>0.0</td>\n",
       "      <td>0.0</td>\n",
       "      <td>0</td>\n",
       "    </tr>\n",
       "    <tr>\n",
       "      <th>704756</th>\n",
       "      <td>353</td>\n",
       "      <td>9.499791e+05</td>\n",
       "      <td>437596</td>\n",
       "      <td>1.775000e+03</td>\n",
       "      <td>0.00</td>\n",
       "      <td>217765</td>\n",
       "      <td>0.000000e+00</td>\n",
       "      <td>9.499791e+05</td>\n",
       "      <td>0</td>\n",
       "      <td>948204.11</td>\n",
       "      <td>1.899958e+06</td>\n",
       "      <td>0.0</td>\n",
       "      <td>0.0</td>\n",
       "      <td>0.0</td>\n",
       "      <td>0.0</td>\n",
       "      <td>1.0</td>\n",
       "      <td>0</td>\n",
       "    </tr>\n",
       "    <tr>\n",
       "      <th>1386891</th>\n",
       "      <td>164</td>\n",
       "      <td>2.387200e+02</td>\n",
       "      <td>5979827</td>\n",
       "      <td>2.142000e+03</td>\n",
       "      <td>1903.28</td>\n",
       "      <td>2672917</td>\n",
       "      <td>0.000000e+00</td>\n",
       "      <td>0.000000e+00</td>\n",
       "      <td>0</td>\n",
       "      <td>0.00</td>\n",
       "      <td>2.387200e+02</td>\n",
       "      <td>0.0</td>\n",
       "      <td>0.0</td>\n",
       "      <td>0.0</td>\n",
       "      <td>1.0</td>\n",
       "      <td>0.0</td>\n",
       "      <td>0</td>\n",
       "    </tr>\n",
       "  </tbody>\n",
       "</table>\n",
       "<p>35000 rows × 17 columns</p>\n",
       "</div>"
      ],
      "text/plain": [
       "         step        amount  nameOrig  oldBalanceOrig  newBalanceOrig  \\\n",
       "2494625   279  1.118239e+06   1805131    1.118239e+06            0.00   \n",
       "2351921   301  5.132665e+06   4470190    5.132665e+06            0.00   \n",
       "2889363   328  3.028501e+05   2617402    3.028501e+05            0.00   \n",
       "2082807   429  1.255073e+06   3989547    1.255073e+06            0.00   \n",
       "2467234   363  2.985994e+05   3058181    2.985994e+05            0.00   \n",
       "...       ...           ...       ...             ...             ...   \n",
       "1883680   236  2.021091e+05   3220048    5.053254e+05       707434.50   \n",
       "694061    303  1.000329e+05    126658    0.000000e+00            0.00   \n",
       "338478    348  2.186818e+05   3461548    9.438000e+03       228119.78   \n",
       "704756    353  9.499791e+05    437596    1.775000e+03            0.00   \n",
       "1386891   164  2.387200e+02   5979827    2.142000e+03         1903.28   \n",
       "\n",
       "         nameDest  oldBalanceDest  newBalanceDest  isFlaggedFraud  \\\n",
       "2494625    446341    0.000000e+00    0.000000e+00               0   \n",
       "2351921     92892    0.000000e+00    0.000000e+00               0   \n",
       "2889363    248561    2.427778e+05    5.456279e+05               0   \n",
       "2082807    557365    1.377940e+05    1.392867e+06               0   \n",
       "2467234    136008    0.000000e+00    0.000000e+00               0   \n",
       "...           ...             ...             ...             ...   \n",
       "1883680     30979    3.285775e+06    3.083666e+06               0   \n",
       "694061     244917    4.088102e+05    5.088431e+05               0   \n",
       "338478     465056    5.707541e+06    6.097489e+06               0   \n",
       "704756     217765    0.000000e+00    9.499791e+05               0   \n",
       "1386891   2672917    0.000000e+00    0.000000e+00               0   \n",
       "\n",
       "         errorBalanceOrig  errorBalanceDest  type_CASH_IN  type_CASH_OUT  \\\n",
       "2494625              0.00      1.118239e+06           0.0            0.0   \n",
       "2351921              0.00      5.132665e+06           0.0            0.0   \n",
       "2889363              0.00      6.057003e+05           0.0            1.0   \n",
       "2082807              0.00      2.510146e+06           0.0            1.0   \n",
       "2467234              0.00      2.985994e+05           0.0            0.0   \n",
       "...                   ...               ...           ...            ...   \n",
       "1883680         404218.14     -4.656613e-10           1.0            0.0   \n",
       "694061          100032.90      2.000658e+05           0.0            1.0   \n",
       "338478          437363.56      6.086295e+05           1.0            0.0   \n",
       "704756          948204.11      1.899958e+06           0.0            0.0   \n",
       "1386891              0.00      2.387200e+02           0.0            0.0   \n",
       "\n",
       "         type_DEBIT  type_PAYMENT  type_TRANSFER  isFraud  \n",
       "2494625         0.0           0.0            1.0        1  \n",
       "2351921         0.0           0.0            1.0        1  \n",
       "2889363         0.0           0.0            0.0        1  \n",
       "2082807         0.0           0.0            0.0        1  \n",
       "2467234         0.0           0.0            1.0        1  \n",
       "...             ...           ...            ...      ...  \n",
       "1883680         0.0           0.0            0.0        0  \n",
       "694061          0.0           0.0            0.0        0  \n",
       "338478          0.0           0.0            0.0        0  \n",
       "704756          0.0           0.0            1.0        0  \n",
       "1386891         0.0           1.0            0.0        0  \n",
       "\n",
       "[35000 rows x 17 columns]"
      ]
     },
     "execution_count": 33,
     "metadata": {},
     "output_type": "execute_result"
    }
   ],
   "source": [
    "data_new_test = pd.concat([fraud_test, notfraud_test], axis=0)\n",
    "data_new_test"
   ]
  },
  {
   "cell_type": "code",
   "execution_count": 34,
   "id": "95226e46",
   "metadata": {},
   "outputs": [],
   "source": [
    "X_test_SMOTE50 = data_new_test.drop('isFraud', axis=1)\n",
    "y_test_SMOTE50 = data_new_test['isFraud']"
   ]
  },
  {
   "cell_type": "markdown",
   "id": "a5d3c909",
   "metadata": {},
   "source": [
    "### 70/30 getting a sample of the data"
   ]
  },
  {
   "cell_type": "code",
   "execution_count": 35,
   "id": "9de2db3e",
   "metadata": {},
   "outputs": [],
   "source": [
    "fraud_test7_3 = Xtest_resampled70[Xtest_resampled70.isFraud == 1].sample(10500)"
   ]
  },
  {
   "cell_type": "code",
   "execution_count": 36,
   "id": "f37226a3",
   "metadata": {},
   "outputs": [],
   "source": [
    "notfraud_test7_3 = Xtest_resampled70[Xtest_resampled70.isFraud == 0].sample(24500)"
   ]
  },
  {
   "cell_type": "code",
   "execution_count": 37,
   "id": "f1c717f6",
   "metadata": {},
   "outputs": [
    {
     "data": {
      "text/html": [
       "<div>\n",
       "<style scoped>\n",
       "    .dataframe tbody tr th:only-of-type {\n",
       "        vertical-align: middle;\n",
       "    }\n",
       "\n",
       "    .dataframe tbody tr th {\n",
       "        vertical-align: top;\n",
       "    }\n",
       "\n",
       "    .dataframe thead th {\n",
       "        text-align: right;\n",
       "    }\n",
       "</style>\n",
       "<table border=\"1\" class=\"dataframe\">\n",
       "  <thead>\n",
       "    <tr style=\"text-align: right;\">\n",
       "      <th></th>\n",
       "      <th>step</th>\n",
       "      <th>amount</th>\n",
       "      <th>nameOrig</th>\n",
       "      <th>oldBalanceOrig</th>\n",
       "      <th>newBalanceOrig</th>\n",
       "      <th>nameDest</th>\n",
       "      <th>oldBalanceDest</th>\n",
       "      <th>newBalanceDest</th>\n",
       "      <th>isFlaggedFraud</th>\n",
       "      <th>errorBalanceOrig</th>\n",
       "      <th>errorBalanceDest</th>\n",
       "      <th>type_CASH_IN</th>\n",
       "      <th>type_CASH_OUT</th>\n",
       "      <th>type_DEBIT</th>\n",
       "      <th>type_PAYMENT</th>\n",
       "      <th>type_TRANSFER</th>\n",
       "      <th>isFraud</th>\n",
       "    </tr>\n",
       "  </thead>\n",
       "  <tbody>\n",
       "    <tr>\n",
       "      <th>2310101</th>\n",
       "      <td>568</td>\n",
       "      <td>5.551132e+06</td>\n",
       "      <td>6135998</td>\n",
       "      <td>5.551132e+06</td>\n",
       "      <td>0.00</td>\n",
       "      <td>343392</td>\n",
       "      <td>0.000000e+00</td>\n",
       "      <td>0.000000e+00</td>\n",
       "      <td>0</td>\n",
       "      <td>0.00</td>\n",
       "      <td>5.551132e+06</td>\n",
       "      <td>0.0</td>\n",
       "      <td>0.000000</td>\n",
       "      <td>0.0</td>\n",
       "      <td>0.0</td>\n",
       "      <td>1.000000</td>\n",
       "      <td>1</td>\n",
       "    </tr>\n",
       "    <tr>\n",
       "      <th>2035113</th>\n",
       "      <td>367</td>\n",
       "      <td>7.038849e+05</td>\n",
       "      <td>4904971</td>\n",
       "      <td>7.038849e+05</td>\n",
       "      <td>0.00</td>\n",
       "      <td>110894</td>\n",
       "      <td>0.000000e+00</td>\n",
       "      <td>0.000000e+00</td>\n",
       "      <td>0</td>\n",
       "      <td>0.00</td>\n",
       "      <td>7.038849e+05</td>\n",
       "      <td>0.0</td>\n",
       "      <td>0.000000</td>\n",
       "      <td>0.0</td>\n",
       "      <td>0.0</td>\n",
       "      <td>1.000000</td>\n",
       "      <td>1</td>\n",
       "    </tr>\n",
       "    <tr>\n",
       "      <th>1979409</th>\n",
       "      <td>282</td>\n",
       "      <td>1.628572e+04</td>\n",
       "      <td>339105</td>\n",
       "      <td>1.628572e+04</td>\n",
       "      <td>0.00</td>\n",
       "      <td>42195</td>\n",
       "      <td>1.406711e+07</td>\n",
       "      <td>1.408340e+07</td>\n",
       "      <td>0</td>\n",
       "      <td>0.00</td>\n",
       "      <td>3.257142e+04</td>\n",
       "      <td>0.0</td>\n",
       "      <td>1.000000</td>\n",
       "      <td>0.0</td>\n",
       "      <td>0.0</td>\n",
       "      <td>0.000000</td>\n",
       "      <td>1</td>\n",
       "    </tr>\n",
       "    <tr>\n",
       "      <th>2282341</th>\n",
       "      <td>584</td>\n",
       "      <td>9.928844e+06</td>\n",
       "      <td>1507905</td>\n",
       "      <td>9.928844e+06</td>\n",
       "      <td>0.00</td>\n",
       "      <td>428184</td>\n",
       "      <td>6.217345e+05</td>\n",
       "      <td>1.055058e+07</td>\n",
       "      <td>0</td>\n",
       "      <td>0.00</td>\n",
       "      <td>1.985769e+07</td>\n",
       "      <td>0.0</td>\n",
       "      <td>1.000000</td>\n",
       "      <td>0.0</td>\n",
       "      <td>0.0</td>\n",
       "      <td>0.000000</td>\n",
       "      <td>1</td>\n",
       "    </tr>\n",
       "    <tr>\n",
       "      <th>2379430</th>\n",
       "      <td>680</td>\n",
       "      <td>7.309132e+04</td>\n",
       "      <td>1502431</td>\n",
       "      <td>7.309132e+04</td>\n",
       "      <td>0.00</td>\n",
       "      <td>259687</td>\n",
       "      <td>9.432801e+04</td>\n",
       "      <td>1.578058e+05</td>\n",
       "      <td>0</td>\n",
       "      <td>0.00</td>\n",
       "      <td>1.365691e+05</td>\n",
       "      <td>0.0</td>\n",
       "      <td>0.888549</td>\n",
       "      <td>0.0</td>\n",
       "      <td>0.0</td>\n",
       "      <td>0.111451</td>\n",
       "      <td>1</td>\n",
       "    </tr>\n",
       "    <tr>\n",
       "      <th>...</th>\n",
       "      <td>...</td>\n",
       "      <td>...</td>\n",
       "      <td>...</td>\n",
       "      <td>...</td>\n",
       "      <td>...</td>\n",
       "      <td>...</td>\n",
       "      <td>...</td>\n",
       "      <td>...</td>\n",
       "      <td>...</td>\n",
       "      <td>...</td>\n",
       "      <td>...</td>\n",
       "      <td>...</td>\n",
       "      <td>...</td>\n",
       "      <td>...</td>\n",
       "      <td>...</td>\n",
       "      <td>...</td>\n",
       "      <td>...</td>\n",
       "    </tr>\n",
       "    <tr>\n",
       "      <th>1135753</th>\n",
       "      <td>306</td>\n",
       "      <td>3.373202e+04</td>\n",
       "      <td>2809985</td>\n",
       "      <td>1.042910e+05</td>\n",
       "      <td>70558.98</td>\n",
       "      <td>171248</td>\n",
       "      <td>8.891497e+05</td>\n",
       "      <td>9.228817e+05</td>\n",
       "      <td>0</td>\n",
       "      <td>0.00</td>\n",
       "      <td>6.746403e+04</td>\n",
       "      <td>0.0</td>\n",
       "      <td>1.000000</td>\n",
       "      <td>0.0</td>\n",
       "      <td>0.0</td>\n",
       "      <td>0.000000</td>\n",
       "      <td>0</td>\n",
       "    </tr>\n",
       "    <tr>\n",
       "      <th>657444</th>\n",
       "      <td>19</td>\n",
       "      <td>2.710026e+05</td>\n",
       "      <td>652200</td>\n",
       "      <td>0.000000e+00</td>\n",
       "      <td>0.00</td>\n",
       "      <td>181035</td>\n",
       "      <td>2.170452e+06</td>\n",
       "      <td>2.441455e+06</td>\n",
       "      <td>0</td>\n",
       "      <td>271002.63</td>\n",
       "      <td>5.420053e+05</td>\n",
       "      <td>0.0</td>\n",
       "      <td>1.000000</td>\n",
       "      <td>0.0</td>\n",
       "      <td>0.0</td>\n",
       "      <td>0.000000</td>\n",
       "      <td>0</td>\n",
       "    </tr>\n",
       "    <tr>\n",
       "      <th>1902116</th>\n",
       "      <td>38</td>\n",
       "      <td>2.049653e+05</td>\n",
       "      <td>2073916</td>\n",
       "      <td>2.060910e+05</td>\n",
       "      <td>1125.71</td>\n",
       "      <td>63580</td>\n",
       "      <td>2.828038e+05</td>\n",
       "      <td>4.877691e+05</td>\n",
       "      <td>0</td>\n",
       "      <td>0.00</td>\n",
       "      <td>4.099306e+05</td>\n",
       "      <td>0.0</td>\n",
       "      <td>1.000000</td>\n",
       "      <td>0.0</td>\n",
       "      <td>0.0</td>\n",
       "      <td>0.000000</td>\n",
       "      <td>0</td>\n",
       "    </tr>\n",
       "    <tr>\n",
       "      <th>1217712</th>\n",
       "      <td>35</td>\n",
       "      <td>2.288777e+04</td>\n",
       "      <td>1629014</td>\n",
       "      <td>0.000000e+00</td>\n",
       "      <td>0.00</td>\n",
       "      <td>1572080</td>\n",
       "      <td>0.000000e+00</td>\n",
       "      <td>0.000000e+00</td>\n",
       "      <td>0</td>\n",
       "      <td>22887.77</td>\n",
       "      <td>2.288777e+04</td>\n",
       "      <td>0.0</td>\n",
       "      <td>0.000000</td>\n",
       "      <td>0.0</td>\n",
       "      <td>1.0</td>\n",
       "      <td>0.000000</td>\n",
       "      <td>0</td>\n",
       "    </tr>\n",
       "    <tr>\n",
       "      <th>1819147</th>\n",
       "      <td>137</td>\n",
       "      <td>9.677330e+03</td>\n",
       "      <td>2383969</td>\n",
       "      <td>0.000000e+00</td>\n",
       "      <td>0.00</td>\n",
       "      <td>210187</td>\n",
       "      <td>3.605204e+04</td>\n",
       "      <td>4.572937e+04</td>\n",
       "      <td>0</td>\n",
       "      <td>9677.33</td>\n",
       "      <td>1.935466e+04</td>\n",
       "      <td>0.0</td>\n",
       "      <td>1.000000</td>\n",
       "      <td>0.0</td>\n",
       "      <td>0.0</td>\n",
       "      <td>0.000000</td>\n",
       "      <td>0</td>\n",
       "    </tr>\n",
       "  </tbody>\n",
       "</table>\n",
       "<p>35000 rows × 17 columns</p>\n",
       "</div>"
      ],
      "text/plain": [
       "         step        amount  nameOrig  oldBalanceOrig  newBalanceOrig  \\\n",
       "2310101   568  5.551132e+06   6135998    5.551132e+06            0.00   \n",
       "2035113   367  7.038849e+05   4904971    7.038849e+05            0.00   \n",
       "1979409   282  1.628572e+04    339105    1.628572e+04            0.00   \n",
       "2282341   584  9.928844e+06   1507905    9.928844e+06            0.00   \n",
       "2379430   680  7.309132e+04   1502431    7.309132e+04            0.00   \n",
       "...       ...           ...       ...             ...             ...   \n",
       "1135753   306  3.373202e+04   2809985    1.042910e+05        70558.98   \n",
       "657444     19  2.710026e+05    652200    0.000000e+00            0.00   \n",
       "1902116    38  2.049653e+05   2073916    2.060910e+05         1125.71   \n",
       "1217712    35  2.288777e+04   1629014    0.000000e+00            0.00   \n",
       "1819147   137  9.677330e+03   2383969    0.000000e+00            0.00   \n",
       "\n",
       "         nameDest  oldBalanceDest  newBalanceDest  isFlaggedFraud  \\\n",
       "2310101    343392    0.000000e+00    0.000000e+00               0   \n",
       "2035113    110894    0.000000e+00    0.000000e+00               0   \n",
       "1979409     42195    1.406711e+07    1.408340e+07               0   \n",
       "2282341    428184    6.217345e+05    1.055058e+07               0   \n",
       "2379430    259687    9.432801e+04    1.578058e+05               0   \n",
       "...           ...             ...             ...             ...   \n",
       "1135753    171248    8.891497e+05    9.228817e+05               0   \n",
       "657444     181035    2.170452e+06    2.441455e+06               0   \n",
       "1902116     63580    2.828038e+05    4.877691e+05               0   \n",
       "1217712   1572080    0.000000e+00    0.000000e+00               0   \n",
       "1819147    210187    3.605204e+04    4.572937e+04               0   \n",
       "\n",
       "         errorBalanceOrig  errorBalanceDest  type_CASH_IN  type_CASH_OUT  \\\n",
       "2310101              0.00      5.551132e+06           0.0       0.000000   \n",
       "2035113              0.00      7.038849e+05           0.0       0.000000   \n",
       "1979409              0.00      3.257142e+04           0.0       1.000000   \n",
       "2282341              0.00      1.985769e+07           0.0       1.000000   \n",
       "2379430              0.00      1.365691e+05           0.0       0.888549   \n",
       "...                   ...               ...           ...            ...   \n",
       "1135753              0.00      6.746403e+04           0.0       1.000000   \n",
       "657444          271002.63      5.420053e+05           0.0       1.000000   \n",
       "1902116              0.00      4.099306e+05           0.0       1.000000   \n",
       "1217712          22887.77      2.288777e+04           0.0       0.000000   \n",
       "1819147           9677.33      1.935466e+04           0.0       1.000000   \n",
       "\n",
       "         type_DEBIT  type_PAYMENT  type_TRANSFER  isFraud  \n",
       "2310101         0.0           0.0       1.000000        1  \n",
       "2035113         0.0           0.0       1.000000        1  \n",
       "1979409         0.0           0.0       0.000000        1  \n",
       "2282341         0.0           0.0       0.000000        1  \n",
       "2379430         0.0           0.0       0.111451        1  \n",
       "...             ...           ...            ...      ...  \n",
       "1135753         0.0           0.0       0.000000        0  \n",
       "657444          0.0           0.0       0.000000        0  \n",
       "1902116         0.0           0.0       0.000000        0  \n",
       "1217712         0.0           1.0       0.000000        0  \n",
       "1819147         0.0           0.0       0.000000        0  \n",
       "\n",
       "[35000 rows x 17 columns]"
      ]
     },
     "execution_count": 37,
     "metadata": {},
     "output_type": "execute_result"
    }
   ],
   "source": [
    "data_new_test7_3 = pd.concat([fraud_test7_3, notfraud_test7_3], axis=0)\n",
    "data_new_test7_3"
   ]
  },
  {
   "cell_type": "code",
   "execution_count": 38,
   "id": "e772c822",
   "metadata": {},
   "outputs": [],
   "source": [
    "X_test_SMOTE70 = data_new_test7_3.drop('isFraud', axis=1)\n",
    "y_test_SMOTE30 = data_new_test7_3['isFraud']"
   ]
  },
  {
   "cell_type": "markdown",
   "id": "245fdebf",
   "metadata": {},
   "source": [
    "## Modelling with SMOTE + RFC"
   ]
  },
  {
   "cell_type": "markdown",
   "id": "2b6acfe7",
   "metadata": {},
   "source": [
    "### 50/50 Instantiate the Random Forest Classifier model"
   ]
  },
  {
   "cell_type": "code",
   "execution_count": 39,
   "id": "e073f3cc",
   "metadata": {},
   "outputs": [],
   "source": [
    "X_train1 = data_new.drop('isFraud', axis = 1)\n",
    "y_train1 = data_new['isFraud']"
   ]
  },
  {
   "cell_type": "code",
   "execution_count": 40,
   "id": "8cbf6537",
   "metadata": {},
   "outputs": [],
   "source": [
    "from sklearn.ensemble import RandomForestClassifier\n",
    "model = RandomForestClassifier()"
   ]
  },
  {
   "cell_type": "code",
   "execution_count": 41,
   "id": "8e4d9175",
   "metadata": {},
   "outputs": [
    {
     "data": {
      "text/html": [
       "<style>#sk-container-id-1 {color: black;background-color: white;}#sk-container-id-1 pre{padding: 0;}#sk-container-id-1 div.sk-toggleable {background-color: white;}#sk-container-id-1 label.sk-toggleable__label {cursor: pointer;display: block;width: 100%;margin-bottom: 0;padding: 0.3em;box-sizing: border-box;text-align: center;}#sk-container-id-1 label.sk-toggleable__label-arrow:before {content: \"▸\";float: left;margin-right: 0.25em;color: #696969;}#sk-container-id-1 label.sk-toggleable__label-arrow:hover:before {color: black;}#sk-container-id-1 div.sk-estimator:hover label.sk-toggleable__label-arrow:before {color: black;}#sk-container-id-1 div.sk-toggleable__content {max-height: 0;max-width: 0;overflow: hidden;text-align: left;background-color: #f0f8ff;}#sk-container-id-1 div.sk-toggleable__content pre {margin: 0.2em;color: black;border-radius: 0.25em;background-color: #f0f8ff;}#sk-container-id-1 input.sk-toggleable__control:checked~div.sk-toggleable__content {max-height: 200px;max-width: 100%;overflow: auto;}#sk-container-id-1 input.sk-toggleable__control:checked~label.sk-toggleable__label-arrow:before {content: \"▾\";}#sk-container-id-1 div.sk-estimator input.sk-toggleable__control:checked~label.sk-toggleable__label {background-color: #d4ebff;}#sk-container-id-1 div.sk-label input.sk-toggleable__control:checked~label.sk-toggleable__label {background-color: #d4ebff;}#sk-container-id-1 input.sk-hidden--visually {border: 0;clip: rect(1px 1px 1px 1px);clip: rect(1px, 1px, 1px, 1px);height: 1px;margin: -1px;overflow: hidden;padding: 0;position: absolute;width: 1px;}#sk-container-id-1 div.sk-estimator {font-family: monospace;background-color: #f0f8ff;border: 1px dotted black;border-radius: 0.25em;box-sizing: border-box;margin-bottom: 0.5em;}#sk-container-id-1 div.sk-estimator:hover {background-color: #d4ebff;}#sk-container-id-1 div.sk-parallel-item::after {content: \"\";width: 100%;border-bottom: 1px solid gray;flex-grow: 1;}#sk-container-id-1 div.sk-label:hover label.sk-toggleable__label {background-color: #d4ebff;}#sk-container-id-1 div.sk-serial::before {content: \"\";position: absolute;border-left: 1px solid gray;box-sizing: border-box;top: 0;bottom: 0;left: 50%;z-index: 0;}#sk-container-id-1 div.sk-serial {display: flex;flex-direction: column;align-items: center;background-color: white;padding-right: 0.2em;padding-left: 0.2em;position: relative;}#sk-container-id-1 div.sk-item {position: relative;z-index: 1;}#sk-container-id-1 div.sk-parallel {display: flex;align-items: stretch;justify-content: center;background-color: white;position: relative;}#sk-container-id-1 div.sk-item::before, #sk-container-id-1 div.sk-parallel-item::before {content: \"\";position: absolute;border-left: 1px solid gray;box-sizing: border-box;top: 0;bottom: 0;left: 50%;z-index: -1;}#sk-container-id-1 div.sk-parallel-item {display: flex;flex-direction: column;z-index: 1;position: relative;background-color: white;}#sk-container-id-1 div.sk-parallel-item:first-child::after {align-self: flex-end;width: 50%;}#sk-container-id-1 div.sk-parallel-item:last-child::after {align-self: flex-start;width: 50%;}#sk-container-id-1 div.sk-parallel-item:only-child::after {width: 0;}#sk-container-id-1 div.sk-dashed-wrapped {border: 1px dashed gray;margin: 0 0.4em 0.5em 0.4em;box-sizing: border-box;padding-bottom: 0.4em;background-color: white;}#sk-container-id-1 div.sk-label label {font-family: monospace;font-weight: bold;display: inline-block;line-height: 1.2em;}#sk-container-id-1 div.sk-label-container {text-align: center;}#sk-container-id-1 div.sk-container {/* jupyter's `normalize.less` sets `[hidden] { display: none; }` but bootstrap.min.css set `[hidden] { display: none !important; }` so we also need the `!important` here to be able to override the default hidden behavior on the sphinx rendered scikit-learn.org. See: https://github.com/scikit-learn/scikit-learn/issues/21755 */display: inline-block !important;position: relative;}#sk-container-id-1 div.sk-text-repr-fallback {display: none;}</style><div id=\"sk-container-id-1\" class=\"sk-top-container\"><div class=\"sk-text-repr-fallback\"><pre>RandomForestClassifier()</pre><b>In a Jupyter environment, please rerun this cell to show the HTML representation or trust the notebook. <br />On GitHub, the HTML representation is unable to render, please try loading this page with nbviewer.org.</b></div><div class=\"sk-container\" hidden><div class=\"sk-item\"><div class=\"sk-estimator sk-toggleable\"><input class=\"sk-toggleable__control sk-hidden--visually\" id=\"sk-estimator-id-1\" type=\"checkbox\" checked><label for=\"sk-estimator-id-1\" class=\"sk-toggleable__label sk-toggleable__label-arrow\">RandomForestClassifier</label><div class=\"sk-toggleable__content\"><pre>RandomForestClassifier()</pre></div></div></div></div></div>"
      ],
      "text/plain": [
       "RandomForestClassifier()"
      ]
     },
     "execution_count": 41,
     "metadata": {},
     "output_type": "execute_result"
    }
   ],
   "source": [
    "#Train the model on the Training Data = X_resampled and y_resampled\n",
    "model.fit(X_train1, y_train1)"
   ]
  },
  {
   "cell_type": "code",
   "execution_count": 42,
   "id": "eaabdb28",
   "metadata": {},
   "outputs": [],
   "source": [
    "y_pred = model.predict(X_test_SMOTE50)"
   ]
  },
  {
   "cell_type": "markdown",
   "id": "9178a0e8",
   "metadata": {},
   "source": [
    "### 70/30 Instantiate the Random Forest Classifier model"
   ]
  },
  {
   "cell_type": "code",
   "execution_count": 43,
   "id": "793a3073",
   "metadata": {},
   "outputs": [],
   "source": [
    "y_pred7_3 = model.predict(X_test_SMOTE70)"
   ]
  },
  {
   "cell_type": "markdown",
   "id": "b5091f56",
   "metadata": {},
   "source": [
    "### 50/50 Score model on test data"
   ]
  },
  {
   "cell_type": "code",
   "execution_count": 49,
   "id": "47a1a438",
   "metadata": {},
   "outputs": [
    {
     "name": "stdout",
     "output_type": "stream",
     "text": [
      "RFC Recall: 0.9948\n"
     ]
    }
   ],
   "source": [
    "# Score the model on the Test data\n",
    "from sklearn.metrics import recall_score\n",
    "recall50 = recall_score(y_test_SMOTE50, y_pred)\n",
    "print(\"RFC Recall:\", recall50)"
   ]
  },
  {
   "cell_type": "code",
   "execution_count": 50,
   "id": "d3ca5f61",
   "metadata": {},
   "outputs": [
    {
     "name": "stdout",
     "output_type": "stream",
     "text": [
      "RFC Model accuracy: 0.9974\n"
     ]
    }
   ],
   "source": [
    "from sklearn.metrics import accuracy_score\n",
    "accuracy=accuracy_score(y_test_SMOTE50, y_pred)\n",
    "print('RFC Model accuracy: {0:0.4f}'.format(accuracy_score(y_test_SMOTE50, y_pred)))"
   ]
  },
  {
   "cell_type": "code",
   "execution_count": 51,
   "id": "15911f32",
   "metadata": {},
   "outputs": [
    {
     "name": "stdout",
     "output_type": "stream",
     "text": [
      "Confusion matrix\n",
      "\n",
      " [[17500     0]\n",
      " [   91 17409]]\n",
      "\n",
      "True Positives(TP) =  17500\n",
      "\n",
      "True Negatives(TN) =  17409\n",
      "\n",
      "False Positives(FP) =  0\n",
      "\n",
      "False Negatives(FN) =  91\n"
     ]
    }
   ],
   "source": [
    "from sklearn.metrics import confusion_matrix\n",
    "cm = confusion_matrix(y_test_SMOTE50, y_pred)\n",
    "print('Confusion matrix\\n\\n', cm)\n",
    "print('\\nTrue Positives(TP) = ', cm[0,0])\n",
    "print('\\nTrue Negatives(TN) = ', cm[1,1])\n",
    "print('\\nFalse Positives(FP) = ', cm[0,1])\n",
    "print('\\nFalse Negatives(FN) = ', cm[1,0])"
   ]
  },
  {
   "cell_type": "code",
   "execution_count": 52,
   "id": "79418f74",
   "metadata": {},
   "outputs": [
    {
     "data": {
      "text/plain": [
       "<AxesSubplot:>"
      ]
     },
     "execution_count": 52,
     "metadata": {},
     "output_type": "execute_result"
    },
    {
     "data": {
      "image/png": "[encoded data removed]",
      "text/plain": [
       "<Figure size 500x500 with 2 Axes>"
      ]
     },
     "metadata": {},
     "output_type": "display_data"
    }
   ],
   "source": [
    "confusion_matrix = pd.DataFrame(data=cm, columns=['Actual Positive:1', 'Actual Negative:0'], \n",
    "                                 index=['Predict Positive:1', 'Predict Negative:0'])\n",
    "\n",
    "fig, ax = plt.subplots(figsize=(5,5)) \n",
    "sns.heatmap(confusion_matrix, annot=True, fmt='d', cmap = 'PuBu', ax = ax)"
   ]
  },
  {
   "cell_type": "code",
   "execution_count": 53,
   "id": "52faf5b8",
   "metadata": {},
   "outputs": [
    {
     "data": {
      "image/png": "[encoded data removed]",
      "text/plain": [
       "<Figure size 640x480 with 1 Axes>"
      ]
     },
     "metadata": {},
     "output_type": "display_data"
    }
   ],
   "source": [
    "from sklearn.metrics import RocCurveDisplay\n",
    "RocCurveDisplay.from_estimator(model, X_test_SMOTE50, y_test_SMOTE50)\n",
    "plt.show()"
   ]
  },
  {
   "cell_type": "markdown",
   "id": "57f2723a",
   "metadata": {
    "heading_collapsed": true
   },
   "source": [
    "### Trying the above model dropping two features"
   ]
  },
  {
   "cell_type": "code",
   "execution_count": null,
   "id": "4906ef0c",
   "metadata": {
    "hidden": true
   },
   "outputs": [],
   "source": [
    "X_train1_df = X_train1.drop('errorBalanceOrig', axis = 1)\n",
    "X_train1_df1 = X_train1_df.drop('newBalanceOrig', axis = 1)\n",
    "X_train1_df1.head()"
   ]
  },
  {
   "cell_type": "code",
   "execution_count": null,
   "id": "81a8684e",
   "metadata": {
    "hidden": true
   },
   "outputs": [],
   "source": [
    "model.fit(X_train1_df1, y_train1)"
   ]
  },
  {
   "cell_type": "code",
   "execution_count": null,
   "id": "59a2bb12",
   "metadata": {
    "hidden": true
   },
   "outputs": [],
   "source": [
    "X_test_df = X_test_SMOTE50.drop('errorBalanceOrig', axis = 1)\n",
    "X_test_df1 = X_test_df.drop('newBalanceOrig', axis = 1)"
   ]
  },
  {
   "cell_type": "code",
   "execution_count": null,
   "id": "1ff47b24",
   "metadata": {
    "hidden": true
   },
   "outputs": [],
   "source": [
    "y_pred_df1 = model.predict(X_test_df1)"
   ]
  },
  {
   "cell_type": "code",
   "execution_count": null,
   "id": "d931b4ff",
   "metadata": {
    "hidden": true
   },
   "outputs": [],
   "source": [
    "recall50_df1 = recall_score(y_test_SMOTE50, y_pred_df1)\n",
    "print(\"Recall:\", recall50_df1)"
   ]
  },
  {
   "cell_type": "markdown",
   "id": "23c71d3c",
   "metadata": {},
   "source": [
    "### 70/30 Score model on test data"
   ]
  },
  {
   "cell_type": "code",
   "execution_count": 55,
   "id": "1d72b5ed",
   "metadata": {},
   "outputs": [
    {
     "name": "stdout",
     "output_type": "stream",
     "text": [
      "Recall: 0.9951428571428571\n"
     ]
    }
   ],
   "source": [
    "recall70 = recall_score(y_test_SMOTE30, y_pred7_3)\n",
    "print(\"Recall:\", recall70)"
   ]
  },
  {
   "cell_type": "code",
   "execution_count": 56,
   "id": "fe8ccfa7",
   "metadata": {},
   "outputs": [
    {
     "name": "stdout",
     "output_type": "stream",
     "text": [
      "RFC Model accuracy: 0.9985\n"
     ]
    }
   ],
   "source": [
    "accuracy1 =accuracy_score(y_test_SMOTE30, y_pred7_3)\n",
    "print('RFC Model accuracy: {0:0.4f}'.format(accuracy_score(y_test_SMOTE30, y_pred7_3)))"
   ]
  },
  {
   "cell_type": "code",
   "execution_count": 57,
   "id": "9423e203",
   "metadata": {},
   "outputs": [
    {
     "name": "stdout",
     "output_type": "stream",
     "text": [
      "(35000,)\n",
      "(35000,)\n"
     ]
    }
   ],
   "source": [
    "print(y_test_SMOTE30.shape)\n",
    "print(y_pred7_3.shape)"
   ]
  },
  {
   "cell_type": "code",
   "execution_count": 58,
   "id": "f1bfc1bf",
   "metadata": {},
   "outputs": [
    {
     "name": "stdout",
     "output_type": "stream",
     "text": [
      "Confusion matrix\n",
      "\n",
      " [[24498     2]\n",
      " [   51 10449]]\n",
      "\n",
      "True Positives(TP) =  24498\n",
      "\n",
      "True Negatives(TN) =  10449\n",
      "\n",
      "False Positives(FP) =  2\n",
      "\n",
      "False Negatives(FN) =  51\n"
     ]
    }
   ],
   "source": [
    "from sklearn.metrics import confusion_matrix\n",
    "cm = confusion_matrix(y_test_SMOTE30, y_pred7_3)\n",
    "print('Confusion matrix\\n\\n', cm)\n",
    "print('\\nTrue Positives(TP) = ', cm[0,0])\n",
    "print('\\nTrue Negatives(TN) = ', cm[1,1])\n",
    "print('\\nFalse Positives(FP) = ', cm[0,1])\n",
    "print('\\nFalse Negatives(FN) = ', cm[1,0])"
   ]
  },
  {
   "cell_type": "code",
   "execution_count": 59,
   "id": "94e64a05",
   "metadata": {},
   "outputs": [
    {
     "data": {
      "text/plain": [
       "<AxesSubplot:>"
      ]
     },
     "execution_count": 59,
     "metadata": {},
     "output_type": "execute_result"
    },
    {
     "data": {
      "image/png": "[encoded data removed]",
      "text/plain": [
       "<Figure size 500x500 with 2 Axes>"
      ]
     },
     "metadata": {},
     "output_type": "display_data"
    }
   ],
   "source": [
    "confusion_matrix = pd.DataFrame(data=cm, columns=['Actual Positive:1', 'Actual Negative:0'], \n",
    "                                 index=['Predict Positive:1', 'Predict Negative:0'])\n",
    "\n",
    "fig, ax = plt.subplots(figsize=(5,5)) \n",
    "sns.heatmap(confusion_matrix, annot=True, fmt='d', cmap = 'PuBu', ax = ax)"
   ]
  },
  {
   "cell_type": "code",
   "execution_count": 60,
   "id": "c2e713e0",
   "metadata": {},
   "outputs": [
    {
     "data": {
      "image/png": "[encoded data removed]",
      "text/plain": [
       "<Figure size 640x480 with 1 Axes>"
      ]
     },
     "metadata": {},
     "output_type": "display_data"
    }
   ],
   "source": [
    "RocCurveDisplay.from_estimator(model, X_test_SMOTE70, y_test_SMOTE30)\n",
    "plt.show()"
   ]
  },
  {
   "cell_type": "markdown",
   "id": "0c622dc4",
   "metadata": {},
   "source": [
    "## Modelling with SMOTE + XGBClassifier"
   ]
  },
  {
   "cell_type": "markdown",
   "id": "dc3ebdd3",
   "metadata": {},
   "source": [
    "### 50/50 Instantiate the XGBC Model"
   ]
  },
  {
   "cell_type": "code",
   "execution_count": 61,
   "id": "1260ce49",
   "metadata": {},
   "outputs": [
    {
     "data": {
      "text/html": [
       "<style>#sk-container-id-2 {color: black;background-color: white;}#sk-container-id-2 pre{padding: 0;}#sk-container-id-2 div.sk-toggleable {background-color: white;}#sk-container-id-2 label.sk-toggleable__label {cursor: pointer;display: block;width: 100%;margin-bottom: 0;padding: 0.3em;box-sizing: border-box;text-align: center;}#sk-container-id-2 label.sk-toggleable__label-arrow:before {content: \"▸\";float: left;margin-right: 0.25em;color: #696969;}#sk-container-id-2 label.sk-toggleable__label-arrow:hover:before {color: black;}#sk-container-id-2 div.sk-estimator:hover label.sk-toggleable__label-arrow:before {color: black;}#sk-container-id-2 div.sk-toggleable__content {max-height: 0;max-width: 0;overflow: hidden;text-align: left;background-color: #f0f8ff;}#sk-container-id-2 div.sk-toggleable__content pre {margin: 0.2em;color: black;border-radius: 0.25em;background-color: #f0f8ff;}#sk-container-id-2 input.sk-toggleable__control:checked~div.sk-toggleable__content {max-height: 200px;max-width: 100%;overflow: auto;}#sk-container-id-2 input.sk-toggleable__control:checked~label.sk-toggleable__label-arrow:before {content: \"▾\";}#sk-container-id-2 div.sk-estimator input.sk-toggleable__control:checked~label.sk-toggleable__label {background-color: #d4ebff;}#sk-container-id-2 div.sk-label input.sk-toggleable__control:checked~label.sk-toggleable__label {background-color: #d4ebff;}#sk-container-id-2 input.sk-hidden--visually {border: 0;clip: rect(1px 1px 1px 1px);clip: rect(1px, 1px, 1px, 1px);height: 1px;margin: -1px;overflow: hidden;padding: 0;position: absolute;width: 1px;}#sk-container-id-2 div.sk-estimator {font-family: monospace;background-color: #f0f8ff;border: 1px dotted black;border-radius: 0.25em;box-sizing: border-box;margin-bottom: 0.5em;}#sk-container-id-2 div.sk-estimator:hover {background-color: #d4ebff;}#sk-container-id-2 div.sk-parallel-item::after {content: \"\";width: 100%;border-bottom: 1px solid gray;flex-grow: 1;}#sk-container-id-2 div.sk-label:hover label.sk-toggleable__label {background-color: #d4ebff;}#sk-container-id-2 div.sk-serial::before {content: \"\";position: absolute;border-left: 1px solid gray;box-sizing: border-box;top: 0;bottom: 0;left: 50%;z-index: 0;}#sk-container-id-2 div.sk-serial {display: flex;flex-direction: column;align-items: center;background-color: white;padding-right: 0.2em;padding-left: 0.2em;position: relative;}#sk-container-id-2 div.sk-item {position: relative;z-index: 1;}#sk-container-id-2 div.sk-parallel {display: flex;align-items: stretch;justify-content: center;background-color: white;position: relative;}#sk-container-id-2 div.sk-item::before, #sk-container-id-2 div.sk-parallel-item::before {content: \"\";position: absolute;border-left: 1px solid gray;box-sizing: border-box;top: 0;bottom: 0;left: 50%;z-index: -1;}#sk-container-id-2 div.sk-parallel-item {display: flex;flex-direction: column;z-index: 1;position: relative;background-color: white;}#sk-container-id-2 div.sk-parallel-item:first-child::after {align-self: flex-end;width: 50%;}#sk-container-id-2 div.sk-parallel-item:last-child::after {align-self: flex-start;width: 50%;}#sk-container-id-2 div.sk-parallel-item:only-child::after {width: 0;}#sk-container-id-2 div.sk-dashed-wrapped {border: 1px dashed gray;margin: 0 0.4em 0.5em 0.4em;box-sizing: border-box;padding-bottom: 0.4em;background-color: white;}#sk-container-id-2 div.sk-label label {font-family: monospace;font-weight: bold;display: inline-block;line-height: 1.2em;}#sk-container-id-2 div.sk-label-container {text-align: center;}#sk-container-id-2 div.sk-container {/* jupyter's `normalize.less` sets `[hidden] { display: none; }` but bootstrap.min.css set `[hidden] { display: none !important; }` so we also need the `!important` here to be able to override the default hidden behavior on the sphinx rendered scikit-learn.org. See: https://github.com/scikit-learn/scikit-learn/issues/21755 */display: inline-block !important;position: relative;}#sk-container-id-2 div.sk-text-repr-fallback {display: none;}</style><div id=\"sk-container-id-2\" class=\"sk-top-container\"><div class=\"sk-text-repr-fallback\"><pre>XGBClassifier(base_score=0.5, booster=&#x27;gbtree&#x27;, callbacks=None,\n",
       "              colsample_bylevel=1, colsample_bynode=1, colsample_bytree=1,\n",
       "              early_stopping_rounds=None, enable_categorical=False,\n",
       "              eval_metric=None, gamma=0, gpu_id=-1, grow_policy=&#x27;depthwise&#x27;,\n",
       "              importance_type=None, interaction_constraints=&#x27;&#x27;,\n",
       "              learning_rate=0.300000012, max_bin=256, max_cat_to_onehot=4,\n",
       "              max_delta_step=0, max_depth=6, max_leaves=0, min_child_weight=1,\n",
       "              missing=nan, monotone_constraints=&#x27;()&#x27;, n_estimators=100,\n",
       "              n_jobs=0, num_parallel_tree=1, predictor=&#x27;auto&#x27;, random_state=0,\n",
       "              reg_alpha=0, reg_lambda=1, ...)</pre><b>In a Jupyter environment, please rerun this cell to show the HTML representation or trust the notebook. <br />On GitHub, the HTML representation is unable to render, please try loading this page with nbviewer.org.</b></div><div class=\"sk-container\" hidden><div class=\"sk-item\"><div class=\"sk-estimator sk-toggleable\"><input class=\"sk-toggleable__control sk-hidden--visually\" id=\"sk-estimator-id-2\" type=\"checkbox\" checked><label for=\"sk-estimator-id-2\" class=\"sk-toggleable__label sk-toggleable__label-arrow\">XGBClassifier</label><div class=\"sk-toggleable__content\"><pre>XGBClassifier(base_score=0.5, booster=&#x27;gbtree&#x27;, callbacks=None,\n",
       "              colsample_bylevel=1, colsample_bynode=1, colsample_bytree=1,\n",
       "              early_stopping_rounds=None, enable_categorical=False,\n",
       "              eval_metric=None, gamma=0, gpu_id=-1, grow_policy=&#x27;depthwise&#x27;,\n",
       "              importance_type=None, interaction_constraints=&#x27;&#x27;,\n",
       "              learning_rate=0.300000012, max_bin=256, max_cat_to_onehot=4,\n",
       "              max_delta_step=0, max_depth=6, max_leaves=0, min_child_weight=1,\n",
       "              missing=nan, monotone_constraints=&#x27;()&#x27;, n_estimators=100,\n",
       "              n_jobs=0, num_parallel_tree=1, predictor=&#x27;auto&#x27;, random_state=0,\n",
       "              reg_alpha=0, reg_lambda=1, ...)</pre></div></div></div></div></div>"
      ],
      "text/plain": [
       "XGBClassifier(base_score=0.5, booster='gbtree', callbacks=None,\n",
       "              colsample_bylevel=1, colsample_bynode=1, colsample_bytree=1,\n",
       "              early_stopping_rounds=None, enable_categorical=False,\n",
       "              eval_metric=None, gamma=0, gpu_id=-1, grow_policy='depthwise',\n",
       "              importance_type=None, interaction_constraints='',\n",
       "              learning_rate=0.300000012, max_bin=256, max_cat_to_onehot=4,\n",
       "              max_delta_step=0, max_depth=6, max_leaves=0, min_child_weight=1,\n",
       "              missing=nan, monotone_constraints='()', n_estimators=100,\n",
       "              n_jobs=0, num_parallel_tree=1, predictor='auto', random_state=0,\n",
       "              reg_alpha=0, reg_lambda=1, ...)"
      ]
     },
     "execution_count": 61,
     "metadata": {},
     "output_type": "execute_result"
    }
   ],
   "source": [
    "# Extreme Gradient Boosting algorithm\n",
    "from xgboost import XGBClassifier\n",
    "from sklearn.metrics import accuracy_score\n",
    "\n",
    "modelXGBC = XGBClassifier()\n",
    "\n",
    "modelXGBC.fit(X_train1, y_train1)"
   ]
  },
  {
   "cell_type": "code",
   "execution_count": 62,
   "id": "1fa3dd20",
   "metadata": {},
   "outputs": [],
   "source": [
    "y_pred_50XGBC = modelXGBC.predict(X_test_SMOTE50)"
   ]
  },
  {
   "cell_type": "code",
   "execution_count": 63,
   "id": "bfe728ee",
   "metadata": {},
   "outputs": [
    {
     "name": "stdout",
     "output_type": "stream",
     "text": [
      "Recall: 0.9949142857142858\n"
     ]
    }
   ],
   "source": [
    "recall50XGBC = recall_score(y_test_SMOTE50, y_pred_50XGBC)\n",
    "print(\"Recall:\", recall50XGBC)"
   ]
  },
  {
   "cell_type": "code",
   "execution_count": 64,
   "id": "47bfd861",
   "metadata": {},
   "outputs": [
    {
     "name": "stdout",
     "output_type": "stream",
     "text": [
      "XGBC Model accuracy: 0.9973\n"
     ]
    }
   ],
   "source": [
    "accuracy2 =accuracy_score(y_test_SMOTE50, y_pred_50XGBC)\n",
    "print('XGBC Model accuracy: {0:0.4f}'.format(accuracy_score(y_test_SMOTE50, y_pred_50XGBC)))"
   ]
  },
  {
   "cell_type": "code",
   "execution_count": 65,
   "id": "1dd97baa",
   "metadata": {},
   "outputs": [
    {
     "name": "stdout",
     "output_type": "stream",
     "text": [
      "Confusion matrix\n",
      "\n",
      " [[17494     6]\n",
      " [   89 17411]]\n",
      "\n",
      "True Positives(TP) =  17494\n",
      "\n",
      "True Negatives(TN) =  17411\n",
      "\n",
      "False Positives(FP) =  6\n",
      "\n",
      "False Negatives(FN) =  89\n"
     ]
    }
   ],
   "source": [
    "from sklearn.metrics import confusion_matrix\n",
    "cm = confusion_matrix(y_test_SMOTE50, y_pred_50XGBC)\n",
    "print('Confusion matrix\\n\\n', cm)\n",
    "print('\\nTrue Positives(TP) = ', cm[0,0])\n",
    "print('\\nTrue Negatives(TN) = ', cm[1,1])\n",
    "print('\\nFalse Positives(FP) = ', cm[0,1])\n",
    "print('\\nFalse Negatives(FN) = ', cm[1,0])"
   ]
  },
  {
   "cell_type": "code",
   "execution_count": 66,
   "id": "4b3d8aa8",
   "metadata": {},
   "outputs": [
    {
     "data": {
      "text/plain": [
       "<AxesSubplot:>"
      ]
     },
     "execution_count": 66,
     "metadata": {},
     "output_type": "execute_result"
    },
    {
     "data": {
      "image/png": "[encoded data removed]",
      "text/plain": [
       "<Figure size 500x500 with 2 Axes>"
      ]
     },
     "metadata": {},
     "output_type": "display_data"
    }
   ],
   "source": [
    "confusion_matrix = pd.DataFrame(data=cm, columns=['Actual Positive:1', 'Actual Negative:0'], \n",
    "                                 index=['Predict Positive:1', 'Predict Negative:0'])\n",
    "\n",
    "fig, ax = plt.subplots(figsize=(5,5)) \n",
    "sns.heatmap(confusion_matrix, annot=True, fmt='d', cmap = 'PuBu', ax = ax)"
   ]
  },
  {
   "cell_type": "code",
   "execution_count": 67,
   "id": "30a56062",
   "metadata": {},
   "outputs": [
    {
     "data": {
      "image/png": "[encoded data removed]",
      "text/plain": [
       "<Figure size 640x480 with 1 Axes>"
      ]
     },
     "metadata": {},
     "output_type": "display_data"
    }
   ],
   "source": [
    "RocCurveDisplay.from_estimator(modelXGBC, X_test_SMOTE50, y_test_SMOTE50)\n",
    "plt.show()"
   ]
  },
  {
   "cell_type": "markdown",
   "id": "a2b1737d",
   "metadata": {},
   "source": [
    "### 70/30 Instantiate the XGBC Model"
   ]
  },
  {
   "cell_type": "code",
   "execution_count": 68,
   "id": "0c6a1d19",
   "metadata": {},
   "outputs": [],
   "source": [
    "y_pred_30XGBC = modelXGBC.predict(X_test_SMOTE70)"
   ]
  },
  {
   "cell_type": "code",
   "execution_count": 69,
   "id": "fd9c34ba",
   "metadata": {},
   "outputs": [
    {
     "name": "stdout",
     "output_type": "stream",
     "text": [
      "Recall: 0.9949523809523809\n"
     ]
    }
   ],
   "source": [
    "recall30XGBC = recall_score(y_test_SMOTE30, y_pred_30XGBC)\n",
    "print(\"Recall:\", recall30XGBC)"
   ]
  },
  {
   "cell_type": "code",
   "execution_count": 70,
   "id": "06ed53f8",
   "metadata": {},
   "outputs": [
    {
     "name": "stdout",
     "output_type": "stream",
     "text": [
      "XGBC Model accuracy: 0.9984\n"
     ]
    }
   ],
   "source": [
    "accuracy3 =accuracy_score(y_test_SMOTE30, y_pred_30XGBC)\n",
    "print('XGBC Model accuracy: {0:0.4f}'.format(accuracy_score(y_test_SMOTE30, y_pred_30XGBC)))"
   ]
  },
  {
   "cell_type": "code",
   "execution_count": 71,
   "id": "e037df1c",
   "metadata": {},
   "outputs": [
    {
     "name": "stdout",
     "output_type": "stream",
     "text": [
      "Confusion matrix\n",
      "\n",
      " [[24496     4]\n",
      " [   53 10447]]\n",
      "\n",
      "True Positives(TP) =  24496\n",
      "\n",
      "True Negatives(TN) =  10447\n",
      "\n",
      "False Positives(FP) =  4\n",
      "\n",
      "False Negatives(FN) =  53\n"
     ]
    }
   ],
   "source": [
    "from sklearn.metrics import confusion_matrix\n",
    "cm = confusion_matrix(y_test_SMOTE30, y_pred_30XGBC)\n",
    "print('Confusion matrix\\n\\n', cm)\n",
    "print('\\nTrue Positives(TP) = ', cm[0,0])\n",
    "print('\\nTrue Negatives(TN) = ', cm[1,1])\n",
    "print('\\nFalse Positives(FP) = ', cm[0,1])\n",
    "print('\\nFalse Negatives(FN) = ', cm[1,0])"
   ]
  },
  {
   "cell_type": "code",
   "execution_count": 72,
   "id": "87c65ac5",
   "metadata": {},
   "outputs": [
    {
     "data": {
      "text/plain": [
       "<AxesSubplot:>"
      ]
     },
     "execution_count": 72,
     "metadata": {},
     "output_type": "execute_result"
    },
    {
     "data": {
      "image/png": "[encoded data removed]",
      "text/plain": [
       "<Figure size 500x500 with 2 Axes>"
      ]
     },
     "metadata": {},
     "output_type": "display_data"
    }
   ],
   "source": [
    "confusion_matrix = pd.DataFrame(data=cm, columns=['Actual Positive:1', 'Actual Negative:0'], \n",
    "                                 index=['Predict Positive:1', 'Predict Negative:0'])\n",
    "\n",
    "fig, ax = plt.subplots(figsize=(5,5)) \n",
    "sns.heatmap(confusion_matrix, annot=True, fmt='d', cmap = 'PuBu', ax = ax)"
   ]
  },
  {
   "cell_type": "code",
   "execution_count": 73,
   "id": "1aa0c706",
   "metadata": {},
   "outputs": [
    {
     "data": {
      "image/png": "[encoded data removed]",
      "text/plain": [
       "<Figure size 640x480 with 1 Axes>"
      ]
     },
     "metadata": {},
     "output_type": "display_data"
    }
   ],
   "source": [
    "RocCurveDisplay.from_estimator(modelXGBC, X_test_SMOTE70, y_test_SMOTE30)\n",
    "plt.show()"
   ]
  },
  {
   "cell_type": "markdown",
   "id": "33fc34e3",
   "metadata": {
    "heading_collapsed": true
   },
   "source": [
    "## Rebalancing with ADASYN"
   ]
  },
  {
   "cell_type": "code",
   "execution_count": null,
   "id": "5d52068f",
   "metadata": {
    "hidden": true
   },
   "outputs": [],
   "source": [
    "X_resampled_ADASYN, y_resampled_ADASYN = ADASYN().fit_resample(X_train, y_train)"
   ]
  },
  {
   "cell_type": "code",
   "execution_count": null,
   "id": "4c86d7fc",
   "metadata": {
    "hidden": true
   },
   "outputs": [],
   "source": [
    "X_resampled_ADASYN['isFraud'] = y_resampled_ADASYN"
   ]
  },
  {
   "cell_type": "code",
   "execution_count": null,
   "id": "7197ddef",
   "metadata": {
    "hidden": true
   },
   "outputs": [],
   "source": [
    "#Check if data is balanced after ADASYN balancing\n",
    "import matplotlib.pyplot as plt\n",
    "labels = 'Not Fraud','Fraud'\n",
    "values=X_resampled_ADASYN['isFraud'].value_counts()\n",
    "fig, ax = plt.subplots()\n",
    "ax.pie(values, labels=labels)"
   ]
  },
  {
   "cell_type": "markdown",
   "id": "6060af8c",
   "metadata": {
    "hidden": true
   },
   "source": [
    "### Getting a sample"
   ]
  },
  {
   "cell_type": "code",
   "execution_count": null,
   "id": "e61a01f9",
   "metadata": {
    "hidden": true
   },
   "outputs": [],
   "source": [
    "fraud_A = X_resampled_ADASYN[X_resampled_ADASYN.isFraud == 1].sample(100000)\n",
    "notfraud_A =X_resampled_ADASYN[X_resampled_ADASYN.isFraud == 0].sample(100000)"
   ]
  },
  {
   "cell_type": "code",
   "execution_count": null,
   "id": "75ac5b79",
   "metadata": {
    "hidden": true
   },
   "outputs": [],
   "source": [
    "data_new_A = pd.concat([fraud, notfraud], axis=0)"
   ]
  },
  {
   "cell_type": "markdown",
   "id": "21187a35",
   "metadata": {
    "heading_collapsed": true
   },
   "source": [
    "## Modelling with ADASYN"
   ]
  },
  {
   "cell_type": "markdown",
   "id": "3c8396c9",
   "metadata": {
    "hidden": true
   },
   "source": [
    "### Intantiate the Random Forest Classifier model"
   ]
  },
  {
   "cell_type": "code",
   "execution_count": null,
   "id": "4a49c0d9",
   "metadata": {
    "hidden": true
   },
   "outputs": [],
   "source": [
    "X_train_A = data_new_A.drop('isFraud', axis = 1)\n",
    "y_train_A = data_new_A['isFraud']"
   ]
  },
  {
   "cell_type": "code",
   "execution_count": null,
   "id": "09f5afcb",
   "metadata": {
    "hidden": true
   },
   "outputs": [],
   "source": [
    "model = RandomForestClassifier()"
   ]
  },
  {
   "cell_type": "code",
   "execution_count": null,
   "id": "b3621070",
   "metadata": {
    "hidden": true
   },
   "outputs": [],
   "source": [
    "model.fit(X_train_A, y_train_A)"
   ]
  },
  {
   "cell_type": "code",
   "execution_count": null,
   "id": "9c0e9fae",
   "metadata": {
    "hidden": true
   },
   "outputs": [],
   "source": [
    "y_pred_A = model.predict(X_test)"
   ]
  },
  {
   "cell_type": "markdown",
   "id": "f254600f",
   "metadata": {
    "hidden": true
   },
   "source": [
    "### Score model on test data"
   ]
  },
  {
   "cell_type": "code",
   "execution_count": null,
   "id": "87de5002",
   "metadata": {
    "hidden": true
   },
   "outputs": [],
   "source": [
    "# Score the model on the Test data\n",
    "recall_A = recall_score(y_test, y_pred)\n",
    "print(\"Recall:\", recall)"
   ]
  },
  {
   "cell_type": "markdown",
   "id": "67b48961",
   "metadata": {},
   "source": [
    "## Feature Importance"
   ]
  },
  {
   "cell_type": "markdown",
   "id": "95814f63",
   "metadata": {},
   "source": [
    "### SMOTE"
   ]
  },
  {
   "cell_type": "markdown",
   "id": "cf8db6ec",
   "metadata": {},
   "source": [
    "### 50/50 RFC"
   ]
  },
  {
   "cell_type": "code",
   "execution_count": null,
   "id": "0f6cad82",
   "metadata": {},
   "outputs": [],
   "source": [
    "from sklearn.inspection import permutation_importance\n",
    "RFC_model50 = RandomForestClassifier().fit(X_train1, y_train1) # Fit model\n",
    "permutation_score = permutation_importance(RFC_model50, X_train1, y_train1, n_repeats=10, scoring = 'recall') # Perform Permutation\"\n",
    "importance_df50 = pd.DataFrame(np.vstack((X.columns, permutation_score.importances_mean)).T) # Unstack results\"\n",
    "importance_df50.columns=['feature','score_decrease']\n",
    "importance_df50.sort_values(by='score_decrease', ascending = False) # Order by importance\""
   ]
  },
  {
   "cell_type": "markdown",
   "id": "7508658a",
   "metadata": {},
   "source": [
    "### 50/50 XGBC"
   ]
  },
  {
   "cell_type": "code",
   "execution_count": null,
   "id": "92725740",
   "metadata": {},
   "outputs": [],
   "source": [
    "XGBC_model = XGBClassifier().fit(X_train1, y_train1) # Fit model\n",
    "permutation_score = permutation_importance(XGBC_model, X_train1, y_train1, n_repeats=10, scoring = 'recall') # Perform Permutation\"\n",
    "importance_xgbc = pd.DataFrame(np.vstack((X.columns, permutation_score.importances_mean)).T) # Unstack results\"\n",
    "importance_xgbc.columns=['feature','score_decrease']\n",
    "importance_xgbc.sort_values(by='score_decrease', ascending = False) # Order by importance\""
   ]
  },
  {
   "cell_type": "markdown",
   "id": "a5c6cfe7",
   "metadata": {
    "heading_collapsed": true
   },
   "source": [
    "### ADYSN"
   ]
  },
  {
   "cell_type": "code",
   "execution_count": null,
   "id": "95e782d9",
   "metadata": {
    "hidden": true
   },
   "outputs": [],
   "source": [
    "RFC_model = RandomForestClassifier().fit(X_train1, y_train1) # Fit model\n",
    "permutation_score = permutation_importance(RFC_model, X_train_A, y_train_A, n_repeats=10, scoring = 'recall') # Perform Permutation\"\n",
    "importance_df = pd.DataFrame(np.vstack((X.columns, permutation_score.importances_mean)).T) # Unstack results\"\n",
    "importance_df.columns=['feature','score_decrease']\n",
    "importance_df.sort_values(by='score_decrease', ascending = False) # Order by importance\""
   ]
  }
 ],
 "metadata": {
  "kernelspec": {
   "display_name": "Python 3 (ipykernel)",
   "language": "python",
   "name": "python3"
  },
  "language_info": {
   "codemirror_mode": {
    "name": "ipython",
    "version": 3
   },
   "file_extension": ".py",
   "mimetype": "text/x-python",
   "name": "python",
   "nbconvert_exporter": "python",
   "pygments_lexer": "ipython3",
   "version": "3.10.6"
  },
  "toc": {
   "base_numbering": 1,
   "nav_menu": {},
   "number_sections": true,
   "sideBar": true,
   "skip_h1_title": false,
   "title_cell": "Table of Contents",
   "title_sidebar": "Contents",
   "toc_cell": false,
   "toc_position": {
    "height": "calc(100% - 180px)",
    "left": "10px",
    "top": "150px",
    "width": "288px"
   },
   "toc_section_display": true,
   "toc_window_display": true
  }
 },
 "nbformat": 4,
 "nbformat_minor": 5
}
