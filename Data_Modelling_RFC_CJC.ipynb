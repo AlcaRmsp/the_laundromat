{
 "cells": [
  {
   "cell_type": "markdown",
   "id": "ff3fdd55",
   "metadata": {},
   "source": [
    "## Data"
   ]
  },
  {
   "cell_type": "code",
   "execution_count": 1,
   "id": "9b4d5c0b",
   "metadata": {},
   "outputs": [],
   "source": [
    "%load_ext autoreload\n",
    "%autoreload 2\n",
    "import matplotlib\n",
    "import numpy as np\n",
    "import pandas as pd\n",
    "import matplotlib.pyplot as plt\n",
    "import seaborn as sns\n",
    "from sklearn.linear_model import LogisticRegression\n",
    "from sklearn.model_selection import train_test_split\n",
    "import imblearn\n",
    "import collections\n",
    "from imblearn.over_sampling import SMOTE\n",
    "from sklearn.svm import LinearSVC\n",
    "from imblearn.over_sampling import ADASYN"
   ]
  },
  {
   "cell_type": "code",
   "execution_count": 2,
   "id": "c231e526",
   "metadata": {},
   "outputs": [],
   "source": [
    "df = pd.read_csv('/Users/claudiajovellar/code/AlcaRmsp/the_laundromat/raw_data/data.csv')\n",
    "\n",
    "df = df.rename(columns={'oldbalanceOrg':'oldBalanceOrig', 'newbalanceOrig':'newBalanceOrig', \\\n",
    "                        'oldbalanceDest':'oldBalanceDest', 'newbalanceDest':'newBalanceDest'})"
   ]
  },
  {
   "cell_type": "code",
   "execution_count": 3,
   "id": "54b47fa7",
   "metadata": {},
   "outputs": [],
   "source": [
    "df['errorBalanceOrig']=df['newBalanceOrig'] + df['amount'] - df['oldBalanceOrig']\n",
    "df['errorBalanceDest']=df['newBalanceDest'] + df['amount'] - df['oldBalanceDest']"
   ]
  },
  {
   "cell_type": "code",
   "execution_count": 4,
   "id": "9fa5a286",
   "metadata": {},
   "outputs": [
    {
     "name": "stdout",
     "output_type": "stream",
     "text": [
      "The unique values for 'type' are ['PAYMENT' 'TRANSFER' 'CASH_OUT' 'DEBIT' 'CASH_IN']\n"
     ]
    },
    {
     "name": "stderr",
     "output_type": "stream",
     "text": [
      "/Users/claudiajovellar/.pyenv/versions/3.10.6/envs/lewagon/lib/python3.10/site-packages/sklearn/preprocessing/_encoders.py:808: FutureWarning: `sparse` was renamed to `sparse_output` in version 1.2 and will be removed in 1.4. `sparse_output` is ignored unless you leave `sparse` to its default value.\n",
      "  warnings.warn(\n"
     ]
    },
    {
     "name": "stdout",
     "output_type": "stream",
     "text": [
      "The categories detected by the OneHotEncoder are [array(['CASH_IN', 'CASH_OUT', 'DEBIT', 'PAYMENT', 'TRANSFER'],\n",
      "      dtype=object)]\n",
      "The column names for the encoded values are ['type_CASH_IN' 'type_CASH_OUT' 'type_DEBIT' 'type_PAYMENT'\n",
      " 'type_TRANSFER']\n"
     ]
    }
   ],
   "source": [
    "from sklearn.preprocessing import OneHotEncoder\n",
    "\n",
    "# Check unique values for streets (2)\n",
    "print(f\"The unique values for 'type' are {df.type.unique()}\")\n",
    "\n",
    "# Instantiate the OneHotEncoder\n",
    "ohe_binary = OneHotEncoder(sparse = False, drop=\"if_binary\") \n",
    "\n",
    "# Fit encoder\n",
    "ohe_binary.fit(df[['type']]) \n",
    "\n",
    "# Display the detected categories\n",
    "print(f\"The categories detected by the OneHotEncoder are {ohe_binary.categories_}\")\n",
    "\n",
    "# Display the generated names\n",
    "print(f\"The column names for the encoded values are {ohe_binary.get_feature_names_out()}\")\n",
    "\n",
    "# Transform the current \"Street\" column\n",
    "df[ohe_binary.get_feature_names_out()] = ohe_binary.transform(df[['type']])\n",
    "\n",
    "# Drop the column \"Street\" which has been encoded\n",
    "df.drop(columns = [\"type\"], inplace = True)"
   ]
  },
  {
   "cell_type": "code",
   "execution_count": 5,
   "id": "d8e34482",
   "metadata": {},
   "outputs": [],
   "source": [
    "from sklearn.preprocessing import LabelEncoder\n",
    "# create a label encoder object\n",
    "le = LabelEncoder()\n",
    "\n",
    "# apply the label encoder to non-numeric columns\n",
    "df['nameOrig'] = le.fit_transform(df['nameOrig'])\n",
    "df['nameDest'] = le.fit_transform(df['nameDest'])"
   ]
  },
  {
   "cell_type": "code",
   "execution_count": 6,
   "id": "a28dadc0",
   "metadata": {},
   "outputs": [],
   "source": [
    "dffraud = df[df.isFraud == 1]"
   ]
  },
  {
   "cell_type": "code",
   "execution_count": 7,
   "id": "bcb23856",
   "metadata": {},
   "outputs": [
    {
     "data": {
      "text/html": [
       "<div>\n",
       "<style scoped>\n",
       "    .dataframe tbody tr th:only-of-type {\n",
       "        vertical-align: middle;\n",
       "    }\n",
       "\n",
       "    .dataframe tbody tr th {\n",
       "        vertical-align: top;\n",
       "    }\n",
       "\n",
       "    .dataframe thead th {\n",
       "        text-align: right;\n",
       "    }\n",
       "</style>\n",
       "<table border=\"1\" class=\"dataframe\">\n",
       "  <thead>\n",
       "    <tr style=\"text-align: right;\">\n",
       "      <th></th>\n",
       "      <th>step</th>\n",
       "      <th>amount</th>\n",
       "      <th>nameOrig</th>\n",
       "      <th>oldBalanceOrig</th>\n",
       "      <th>newBalanceOrig</th>\n",
       "      <th>nameDest</th>\n",
       "      <th>oldBalanceDest</th>\n",
       "      <th>newBalanceDest</th>\n",
       "      <th>isFraud</th>\n",
       "      <th>isFlaggedFraud</th>\n",
       "      <th>errorBalanceOrig</th>\n",
       "      <th>errorBalanceDest</th>\n",
       "      <th>type_CASH_IN</th>\n",
       "      <th>type_CASH_OUT</th>\n",
       "      <th>type_DEBIT</th>\n",
       "      <th>type_PAYMENT</th>\n",
       "      <th>type_TRANSFER</th>\n",
       "    </tr>\n",
       "  </thead>\n",
       "  <tbody>\n",
       "    <tr>\n",
       "      <th>2</th>\n",
       "      <td>1</td>\n",
       "      <td>181.0</td>\n",
       "      <td>1002156</td>\n",
       "      <td>181.0</td>\n",
       "      <td>0.0</td>\n",
       "      <td>439685</td>\n",
       "      <td>0.0</td>\n",
       "      <td>0.0</td>\n",
       "      <td>1</td>\n",
       "      <td>0</td>\n",
       "      <td>0.0</td>\n",
       "      <td>181.0</td>\n",
       "      <td>0.0</td>\n",
       "      <td>0.0</td>\n",
       "      <td>0.0</td>\n",
       "      <td>0.0</td>\n",
       "      <td>1.0</td>\n",
       "    </tr>\n",
       "    <tr>\n",
       "      <th>3</th>\n",
       "      <td>1</td>\n",
       "      <td>181.0</td>\n",
       "      <td>5828262</td>\n",
       "      <td>181.0</td>\n",
       "      <td>0.0</td>\n",
       "      <td>391696</td>\n",
       "      <td>21182.0</td>\n",
       "      <td>0.0</td>\n",
       "      <td>1</td>\n",
       "      <td>0</td>\n",
       "      <td>0.0</td>\n",
       "      <td>-21001.0</td>\n",
       "      <td>0.0</td>\n",
       "      <td>1.0</td>\n",
       "      <td>0.0</td>\n",
       "      <td>0.0</td>\n",
       "      <td>0.0</td>\n",
       "    </tr>\n",
       "    <tr>\n",
       "      <th>251</th>\n",
       "      <td>1</td>\n",
       "      <td>2806.0</td>\n",
       "      <td>1379875</td>\n",
       "      <td>2806.0</td>\n",
       "      <td>0.0</td>\n",
       "      <td>563886</td>\n",
       "      <td>0.0</td>\n",
       "      <td>0.0</td>\n",
       "      <td>1</td>\n",
       "      <td>0</td>\n",
       "      <td>0.0</td>\n",
       "      <td>2806.0</td>\n",
       "      <td>0.0</td>\n",
       "      <td>0.0</td>\n",
       "      <td>0.0</td>\n",
       "      <td>0.0</td>\n",
       "      <td>1.0</td>\n",
       "    </tr>\n",
       "    <tr>\n",
       "      <th>252</th>\n",
       "      <td>1</td>\n",
       "      <td>2806.0</td>\n",
       "      <td>3619815</td>\n",
       "      <td>2806.0</td>\n",
       "      <td>0.0</td>\n",
       "      <td>2134</td>\n",
       "      <td>26202.0</td>\n",
       "      <td>0.0</td>\n",
       "      <td>1</td>\n",
       "      <td>0</td>\n",
       "      <td>0.0</td>\n",
       "      <td>-23396.0</td>\n",
       "      <td>0.0</td>\n",
       "      <td>1.0</td>\n",
       "      <td>0.0</td>\n",
       "      <td>0.0</td>\n",
       "      <td>0.0</td>\n",
       "    </tr>\n",
       "    <tr>\n",
       "      <th>680</th>\n",
       "      <td>1</td>\n",
       "      <td>20128.0</td>\n",
       "      <td>1232211</td>\n",
       "      <td>20128.0</td>\n",
       "      <td>0.0</td>\n",
       "      <td>251089</td>\n",
       "      <td>0.0</td>\n",
       "      <td>0.0</td>\n",
       "      <td>1</td>\n",
       "      <td>0</td>\n",
       "      <td>0.0</td>\n",
       "      <td>20128.0</td>\n",
       "      <td>0.0</td>\n",
       "      <td>0.0</td>\n",
       "      <td>0.0</td>\n",
       "      <td>0.0</td>\n",
       "      <td>1.0</td>\n",
       "    </tr>\n",
       "  </tbody>\n",
       "</table>\n",
       "</div>"
      ],
      "text/plain": [
       "     step   amount  nameOrig  oldBalanceOrig  newBalanceOrig  nameDest  \\\n",
       "2       1    181.0   1002156           181.0             0.0    439685   \n",
       "3       1    181.0   5828262           181.0             0.0    391696   \n",
       "251     1   2806.0   1379875          2806.0             0.0    563886   \n",
       "252     1   2806.0   3619815          2806.0             0.0      2134   \n",
       "680     1  20128.0   1232211         20128.0             0.0    251089   \n",
       "\n",
       "     oldBalanceDest  newBalanceDest  isFraud  isFlaggedFraud  \\\n",
       "2               0.0             0.0        1               0   \n",
       "3           21182.0             0.0        1               0   \n",
       "251             0.0             0.0        1               0   \n",
       "252         26202.0             0.0        1               0   \n",
       "680             0.0             0.0        1               0   \n",
       "\n",
       "     errorBalanceOrig  errorBalanceDest  type_CASH_IN  type_CASH_OUT  \\\n",
       "2                 0.0             181.0           0.0            0.0   \n",
       "3                 0.0          -21001.0           0.0            1.0   \n",
       "251               0.0            2806.0           0.0            0.0   \n",
       "252               0.0          -23396.0           0.0            1.0   \n",
       "680               0.0           20128.0           0.0            0.0   \n",
       "\n",
       "     type_DEBIT  type_PAYMENT  type_TRANSFER  \n",
       "2           0.0           0.0            1.0  \n",
       "3           0.0           0.0            0.0  \n",
       "251         0.0           0.0            1.0  \n",
       "252         0.0           0.0            0.0  \n",
       "680         0.0           0.0            1.0  "
      ]
     },
     "execution_count": 7,
     "metadata": {},
     "output_type": "execute_result"
    }
   ],
   "source": [
    "dffraud.head()"
   ]
  },
  {
   "cell_type": "code",
   "execution_count": 8,
   "id": "b7a760e7",
   "metadata": {
    "scrolled": true
   },
   "outputs": [
    {
     "data": {
      "text/plain": [
       "(8213, 17)"
      ]
     },
     "execution_count": 8,
     "metadata": {},
     "output_type": "execute_result"
    }
   ],
   "source": [
    "dffraud.shape"
   ]
  },
  {
   "cell_type": "markdown",
   "id": "938c2060",
   "metadata": {},
   "source": [
    "### Split data"
   ]
  },
  {
   "cell_type": "code",
   "execution_count": 9,
   "id": "9ba74df6",
   "metadata": {},
   "outputs": [],
   "source": [
    "# Separate the features and target variable\n",
    "X = df.drop('isFraud', axis=1)\n",
    "y = df['isFraud']"
   ]
  },
  {
   "cell_type": "code",
   "execution_count": 10,
   "id": "63031dca",
   "metadata": {},
   "outputs": [],
   "source": [
    "X_train, X_test, y_train, y_test = train_test_split(X, y, test_size=0.3, random_state=42)"
   ]
  },
  {
   "cell_type": "markdown",
   "id": "1096ef6f",
   "metadata": {},
   "source": [
    "## Balancing data"
   ]
  },
  {
   "cell_type": "markdown",
   "id": "7f7582d5",
   "metadata": {},
   "source": [
    "### SMOTE - Training Set"
   ]
  },
  {
   "cell_type": "code",
   "execution_count": 11,
   "id": "eff675f0",
   "metadata": {
    "scrolled": true
   },
   "outputs": [
    {
     "data": {
      "text/plain": [
       "([<matplotlib.patches.Wedge at 0x1398f2560>,\n",
       "  <matplotlib.patches.Wedge at 0x1398f28f0>],\n",
       " [Text(-1.099990955625572, 0.004460666087110192, 'Not Fraud'),\n",
       "  Text(1.0999909559371663, -0.004460589247970448, 'Fraud')])"
      ]
     },
     "execution_count": 11,
     "metadata": {},
     "output_type": "execute_result"
    },
    {
     "data": {
      "image/png": "[encoded data removed]",
      "text/plain": [
       "<Figure size 640x480 with 1 Axes>"
      ]
     },
     "metadata": {},
     "output_type": "display_data"
    }
   ],
   "source": [
    "#Check if data is balanced before SMOTE\n",
    "labels = 'Not Fraud','Fraud'\n",
    "values=df['isFraud'].value_counts()\n",
    "fig, ax = plt.subplots()\n",
    "ax.pie(values, labels=labels)"
   ]
  },
  {
   "cell_type": "code",
   "execution_count": 12,
   "id": "e815e806",
   "metadata": {},
   "outputs": [
    {
     "name": "stdout",
     "output_type": "stream",
     "text": [
      "0.9.1\n"
     ]
    }
   ],
   "source": [
    "print(imblearn.__version__)"
   ]
  },
  {
   "cell_type": "code",
   "execution_count": 13,
   "id": "69b0e5ee",
   "metadata": {},
   "outputs": [
    {
     "name": "stdout",
     "output_type": "stream",
     "text": [
      "Counter({0: 6354407, 1: 8213})\n"
     ]
    }
   ],
   "source": [
    "# summarize class distribution\n",
    "counter = collections.Counter(y)\n",
    "print(counter)"
   ]
  },
  {
   "cell_type": "code",
   "execution_count": 14,
   "id": "16944088",
   "metadata": {
    "scrolled": true
   },
   "outputs": [
    {
     "data": {
      "text/plain": [
       "((4453834, 16), (4453834,))"
      ]
     },
     "execution_count": 14,
     "metadata": {},
     "output_type": "execute_result"
    }
   ],
   "source": [
    "X_train.shape, y_train.shape"
   ]
  },
  {
   "cell_type": "code",
   "execution_count": 15,
   "id": "785e0a8e",
   "metadata": {},
   "outputs": [],
   "source": [
    "X_resampled, y_resampled = SMOTE().fit_resample(X_train, y_train)"
   ]
  },
  {
   "cell_type": "code",
   "execution_count": 16,
   "id": "7657a793",
   "metadata": {},
   "outputs": [
    {
     "data": {
      "text/html": [
       "<div>\n",
       "<style scoped>\n",
       "    .dataframe tbody tr th:only-of-type {\n",
       "        vertical-align: middle;\n",
       "    }\n",
       "\n",
       "    .dataframe tbody tr th {\n",
       "        vertical-align: top;\n",
       "    }\n",
       "\n",
       "    .dataframe thead th {\n",
       "        text-align: right;\n",
       "    }\n",
       "</style>\n",
       "<table border=\"1\" class=\"dataframe\">\n",
       "  <thead>\n",
       "    <tr style=\"text-align: right;\">\n",
       "      <th></th>\n",
       "      <th>step</th>\n",
       "      <th>amount</th>\n",
       "      <th>nameOrig</th>\n",
       "      <th>oldBalanceOrig</th>\n",
       "      <th>newBalanceOrig</th>\n",
       "      <th>nameDest</th>\n",
       "      <th>oldBalanceDest</th>\n",
       "      <th>newBalanceDest</th>\n",
       "      <th>isFlaggedFraud</th>\n",
       "      <th>errorBalanceOrig</th>\n",
       "      <th>errorBalanceDest</th>\n",
       "      <th>type_CASH_IN</th>\n",
       "      <th>type_CASH_OUT</th>\n",
       "      <th>type_DEBIT</th>\n",
       "      <th>type_PAYMENT</th>\n",
       "      <th>type_TRANSFER</th>\n",
       "    </tr>\n",
       "  </thead>\n",
       "  <tbody>\n",
       "    <tr>\n",
       "      <th>0</th>\n",
       "      <td>202</td>\n",
       "      <td>26771.98</td>\n",
       "      <td>2487575</td>\n",
       "      <td>27521.00</td>\n",
       "      <td>54292.98</td>\n",
       "      <td>18776</td>\n",
       "      <td>7175503.03</td>\n",
       "      <td>7148731.05</td>\n",
       "      <td>0</td>\n",
       "      <td>53543.96</td>\n",
       "      <td>0.00</td>\n",
       "      <td>1.0</td>\n",
       "      <td>0.0</td>\n",
       "      <td>0.0</td>\n",
       "      <td>0.0</td>\n",
       "      <td>0.0</td>\n",
       "    </tr>\n",
       "    <tr>\n",
       "      <th>1</th>\n",
       "      <td>36</td>\n",
       "      <td>344879.65</td>\n",
       "      <td>1909142</td>\n",
       "      <td>0.00</td>\n",
       "      <td>0.00</td>\n",
       "      <td>125492</td>\n",
       "      <td>3731846.57</td>\n",
       "      <td>4076726.22</td>\n",
       "      <td>0</td>\n",
       "      <td>344879.65</td>\n",
       "      <td>689759.30</td>\n",
       "      <td>0.0</td>\n",
       "      <td>1.0</td>\n",
       "      <td>0.0</td>\n",
       "      <td>0.0</td>\n",
       "      <td>0.0</td>\n",
       "    </tr>\n",
       "    <tr>\n",
       "      <th>2</th>\n",
       "      <td>20</td>\n",
       "      <td>1862607.84</td>\n",
       "      <td>4401349</td>\n",
       "      <td>0.00</td>\n",
       "      <td>0.00</td>\n",
       "      <td>317835</td>\n",
       "      <td>3329828.01</td>\n",
       "      <td>4913631.27</td>\n",
       "      <td>0</td>\n",
       "      <td>1862607.84</td>\n",
       "      <td>3446411.10</td>\n",
       "      <td>0.0</td>\n",
       "      <td>0.0</td>\n",
       "      <td>0.0</td>\n",
       "      <td>0.0</td>\n",
       "      <td>1.0</td>\n",
       "    </tr>\n",
       "    <tr>\n",
       "      <th>3</th>\n",
       "      <td>354</td>\n",
       "      <td>37739.35</td>\n",
       "      <td>5203756</td>\n",
       "      <td>66684.93</td>\n",
       "      <td>28945.58</td>\n",
       "      <td>604220</td>\n",
       "      <td>0.00</td>\n",
       "      <td>0.00</td>\n",
       "      <td>0</td>\n",
       "      <td>0.00</td>\n",
       "      <td>37739.35</td>\n",
       "      <td>0.0</td>\n",
       "      <td>0.0</td>\n",
       "      <td>0.0</td>\n",
       "      <td>1.0</td>\n",
       "      <td>0.0</td>\n",
       "    </tr>\n",
       "    <tr>\n",
       "      <th>4</th>\n",
       "      <td>38</td>\n",
       "      <td>376055.13</td>\n",
       "      <td>2337985</td>\n",
       "      <td>22501.00</td>\n",
       "      <td>0.00</td>\n",
       "      <td>26843</td>\n",
       "      <td>182350.43</td>\n",
       "      <td>558405.55</td>\n",
       "      <td>0</td>\n",
       "      <td>353554.13</td>\n",
       "      <td>752110.25</td>\n",
       "      <td>0.0</td>\n",
       "      <td>1.0</td>\n",
       "      <td>0.0</td>\n",
       "      <td>0.0</td>\n",
       "      <td>0.0</td>\n",
       "    </tr>\n",
       "  </tbody>\n",
       "</table>\n",
       "</div>"
      ],
      "text/plain": [
       "   step      amount  nameOrig  oldBalanceOrig  newBalanceOrig  nameDest  \\\n",
       "0   202    26771.98   2487575        27521.00        54292.98     18776   \n",
       "1    36   344879.65   1909142            0.00            0.00    125492   \n",
       "2    20  1862607.84   4401349            0.00            0.00    317835   \n",
       "3   354    37739.35   5203756        66684.93        28945.58    604220   \n",
       "4    38   376055.13   2337985        22501.00            0.00     26843   \n",
       "\n",
       "   oldBalanceDest  newBalanceDest  isFlaggedFraud  errorBalanceOrig  \\\n",
       "0      7175503.03      7148731.05               0          53543.96   \n",
       "1      3731846.57      4076726.22               0         344879.65   \n",
       "2      3329828.01      4913631.27               0        1862607.84   \n",
       "3            0.00            0.00               0              0.00   \n",
       "4       182350.43       558405.55               0         353554.13   \n",
       "\n",
       "   errorBalanceDest  type_CASH_IN  type_CASH_OUT  type_DEBIT  type_PAYMENT  \\\n",
       "0              0.00           1.0            0.0         0.0           0.0   \n",
       "1         689759.30           0.0            1.0         0.0           0.0   \n",
       "2        3446411.10           0.0            0.0         0.0           0.0   \n",
       "3          37739.35           0.0            0.0         0.0           1.0   \n",
       "4         752110.25           0.0            1.0         0.0           0.0   \n",
       "\n",
       "   type_TRANSFER  \n",
       "0            0.0  \n",
       "1            0.0  \n",
       "2            1.0  \n",
       "3            0.0  \n",
       "4            0.0  "
      ]
     },
     "execution_count": 16,
     "metadata": {},
     "output_type": "execute_result"
    }
   ],
   "source": [
    "X_resampled.head()"
   ]
  },
  {
   "cell_type": "code",
   "execution_count": 17,
   "id": "0ac534fa",
   "metadata": {},
   "outputs": [
    {
     "data": {
      "text/plain": [
       "((8896112, 16), (8896112,))"
      ]
     },
     "execution_count": 17,
     "metadata": {},
     "output_type": "execute_result"
    }
   ],
   "source": [
    "X_resampled.shape, y_resampled.shape"
   ]
  },
  {
   "cell_type": "code",
   "execution_count": 18,
   "id": "18725aac",
   "metadata": {
    "scrolled": true
   },
   "outputs": [
    {
     "data": {
      "text/html": [
       "<div>\n",
       "<style scoped>\n",
       "    .dataframe tbody tr th:only-of-type {\n",
       "        vertical-align: middle;\n",
       "    }\n",
       "\n",
       "    .dataframe tbody tr th {\n",
       "        vertical-align: top;\n",
       "    }\n",
       "\n",
       "    .dataframe thead th {\n",
       "        text-align: right;\n",
       "    }\n",
       "</style>\n",
       "<table border=\"1\" class=\"dataframe\">\n",
       "  <thead>\n",
       "    <tr style=\"text-align: right;\">\n",
       "      <th></th>\n",
       "      <th>isFraud</th>\n",
       "    </tr>\n",
       "  </thead>\n",
       "  <tbody>\n",
       "    <tr>\n",
       "      <th>0</th>\n",
       "      <td>0</td>\n",
       "    </tr>\n",
       "    <tr>\n",
       "      <th>1</th>\n",
       "      <td>0</td>\n",
       "    </tr>\n",
       "    <tr>\n",
       "      <th>2</th>\n",
       "      <td>0</td>\n",
       "    </tr>\n",
       "    <tr>\n",
       "      <th>3</th>\n",
       "      <td>0</td>\n",
       "    </tr>\n",
       "    <tr>\n",
       "      <th>4</th>\n",
       "      <td>0</td>\n",
       "    </tr>\n",
       "    <tr>\n",
       "      <th>...</th>\n",
       "      <td>...</td>\n",
       "    </tr>\n",
       "    <tr>\n",
       "      <th>8896107</th>\n",
       "      <td>1</td>\n",
       "    </tr>\n",
       "    <tr>\n",
       "      <th>8896108</th>\n",
       "      <td>1</td>\n",
       "    </tr>\n",
       "    <tr>\n",
       "      <th>8896109</th>\n",
       "      <td>1</td>\n",
       "    </tr>\n",
       "    <tr>\n",
       "      <th>8896110</th>\n",
       "      <td>1</td>\n",
       "    </tr>\n",
       "    <tr>\n",
       "      <th>8896111</th>\n",
       "      <td>1</td>\n",
       "    </tr>\n",
       "  </tbody>\n",
       "</table>\n",
       "<p>8896112 rows × 1 columns</p>\n",
       "</div>"
      ],
      "text/plain": [
       "         isFraud\n",
       "0              0\n",
       "1              0\n",
       "2              0\n",
       "3              0\n",
       "4              0\n",
       "...          ...\n",
       "8896107        1\n",
       "8896108        1\n",
       "8896109        1\n",
       "8896110        1\n",
       "8896111        1\n",
       "\n",
       "[8896112 rows x 1 columns]"
      ]
     },
     "execution_count": 18,
     "metadata": {},
     "output_type": "execute_result"
    }
   ],
   "source": [
    "pd.DataFrame(y_resampled)"
   ]
  },
  {
   "cell_type": "code",
   "execution_count": 19,
   "id": "68e017e8",
   "metadata": {},
   "outputs": [],
   "source": [
    "X_resampled['isFraud'] = y_resampled"
   ]
  },
  {
   "cell_type": "code",
   "execution_count": 20,
   "id": "ab6b096e",
   "metadata": {},
   "outputs": [
    {
     "data": {
      "text/plain": [
       "([<matplotlib.patches.Wedge at 0x12e9219c0>,\n",
       "  <matplotlib.patches.Wedge at 0x12e9237f0>],\n",
       " [Text(6.735557395310444e-17, 1.1, 'Not Fraud'),\n",
       "  Text(-2.0206672185931328e-16, -1.1, 'Fraud')])"
      ]
     },
     "execution_count": 20,
     "metadata": {},
     "output_type": "execute_result"
    },
    {
     "data": {
      "image/png": "[encoded data removed]",
      "text/plain": [
       "<Figure size 640x480 with 1 Axes>"
      ]
     },
     "metadata": {},
     "output_type": "display_data"
    }
   ],
   "source": [
    "#Check if data is balanced after SMOTE balancing\n",
    "labels = 'Not Fraud','Fraud'\n",
    "values= X_resampled['isFraud'].value_counts()\n",
    "fig, ax = plt.subplots()\n",
    "ax.pie(values, labels=labels)"
   ]
  },
  {
   "cell_type": "code",
   "execution_count": 21,
   "id": "0d9b4f60",
   "metadata": {},
   "outputs": [
    {
     "data": {
      "text/plain": [
       "([<matplotlib.patches.Wedge at 0x131f16590>,\n",
       "  <matplotlib.patches.Wedge at 0x131f17a90>],\n",
       " [Text(6.735557395310444e-17, 1.1, 'Not Fraud'),\n",
       "  Text(-2.0206672185931328e-16, -1.1, 'Fraud')])"
      ]
     },
     "execution_count": 21,
     "metadata": {},
     "output_type": "execute_result"
    },
    {
     "data": {
      "image/png": "[encoded data removed]",
      "text/plain": [
       "<Figure size 640x480 with 1 Axes>"
      ]
     },
     "metadata": {},
     "output_type": "display_data"
    }
   ],
   "source": [
    "#Check if data is balanced after SMOTE balancing\n",
    "import matplotlib.pyplot as plt\n",
    "labels = 'Not Fraud','Fraud'\n",
    "values=X_resampled['isFraud'].value_counts()\n",
    "fig, ax = plt.subplots()\n",
    "ax.pie(values, labels=labels)"
   ]
  },
  {
   "cell_type": "markdown",
   "id": "9c264f0e",
   "metadata": {},
   "source": [
    "#### Getting a sample of the training data "
   ]
  },
  {
   "cell_type": "code",
   "execution_count": 22,
   "id": "8199e51d",
   "metadata": {},
   "outputs": [
    {
     "data": {
      "text/html": [
       "<div>\n",
       "<style scoped>\n",
       "    .dataframe tbody tr th:only-of-type {\n",
       "        vertical-align: middle;\n",
       "    }\n",
       "\n",
       "    .dataframe tbody tr th {\n",
       "        vertical-align: top;\n",
       "    }\n",
       "\n",
       "    .dataframe thead th {\n",
       "        text-align: right;\n",
       "    }\n",
       "</style>\n",
       "<table border=\"1\" class=\"dataframe\">\n",
       "  <thead>\n",
       "    <tr style=\"text-align: right;\">\n",
       "      <th></th>\n",
       "      <th>step</th>\n",
       "      <th>amount</th>\n",
       "      <th>nameOrig</th>\n",
       "      <th>oldBalanceOrig</th>\n",
       "      <th>newBalanceOrig</th>\n",
       "      <th>nameDest</th>\n",
       "      <th>oldBalanceDest</th>\n",
       "      <th>newBalanceDest</th>\n",
       "      <th>isFlaggedFraud</th>\n",
       "      <th>errorBalanceOrig</th>\n",
       "      <th>errorBalanceDest</th>\n",
       "      <th>type_CASH_IN</th>\n",
       "      <th>type_CASH_OUT</th>\n",
       "      <th>type_DEBIT</th>\n",
       "      <th>type_PAYMENT</th>\n",
       "      <th>type_TRANSFER</th>\n",
       "      <th>isFraud</th>\n",
       "    </tr>\n",
       "  </thead>\n",
       "  <tbody>\n",
       "    <tr>\n",
       "      <th>7112723</th>\n",
       "      <td>371</td>\n",
       "      <td>7.412906e+06</td>\n",
       "      <td>2658915</td>\n",
       "      <td>7.412906e+06</td>\n",
       "      <td>0.0</td>\n",
       "      <td>511140</td>\n",
       "      <td>0.000000e+00</td>\n",
       "      <td>0.000000e+00</td>\n",
       "      <td>0</td>\n",
       "      <td>0.0</td>\n",
       "      <td>7.412906e+06</td>\n",
       "      <td>0.0</td>\n",
       "      <td>0.0</td>\n",
       "      <td>0.0</td>\n",
       "      <td>0.0</td>\n",
       "      <td>1.0</td>\n",
       "      <td>1</td>\n",
       "    </tr>\n",
       "    <tr>\n",
       "      <th>7876312</th>\n",
       "      <td>156</td>\n",
       "      <td>3.162194e+05</td>\n",
       "      <td>4005128</td>\n",
       "      <td>3.162194e+05</td>\n",
       "      <td>0.0</td>\n",
       "      <td>471232</td>\n",
       "      <td>0.000000e+00</td>\n",
       "      <td>0.000000e+00</td>\n",
       "      <td>0</td>\n",
       "      <td>0.0</td>\n",
       "      <td>3.162194e+05</td>\n",
       "      <td>0.0</td>\n",
       "      <td>0.0</td>\n",
       "      <td>0.0</td>\n",
       "      <td>0.0</td>\n",
       "      <td>1.0</td>\n",
       "      <td>1</td>\n",
       "    </tr>\n",
       "    <tr>\n",
       "      <th>8798511</th>\n",
       "      <td>309</td>\n",
       "      <td>3.672462e+06</td>\n",
       "      <td>4868182</td>\n",
       "      <td>3.672462e+06</td>\n",
       "      <td>0.0</td>\n",
       "      <td>366028</td>\n",
       "      <td>1.357129e+04</td>\n",
       "      <td>3.686033e+06</td>\n",
       "      <td>0</td>\n",
       "      <td>0.0</td>\n",
       "      <td>7.344924e+06</td>\n",
       "      <td>0.0</td>\n",
       "      <td>1.0</td>\n",
       "      <td>0.0</td>\n",
       "      <td>0.0</td>\n",
       "      <td>0.0</td>\n",
       "      <td>1</td>\n",
       "    </tr>\n",
       "    <tr>\n",
       "      <th>7122583</th>\n",
       "      <td>296</td>\n",
       "      <td>1.147084e+06</td>\n",
       "      <td>3055430</td>\n",
       "      <td>1.147084e+06</td>\n",
       "      <td>0.0</td>\n",
       "      <td>263768</td>\n",
       "      <td>5.078204e+05</td>\n",
       "      <td>1.654905e+06</td>\n",
       "      <td>0</td>\n",
       "      <td>0.0</td>\n",
       "      <td>2.294168e+06</td>\n",
       "      <td>0.0</td>\n",
       "      <td>1.0</td>\n",
       "      <td>0.0</td>\n",
       "      <td>0.0</td>\n",
       "      <td>0.0</td>\n",
       "      <td>1</td>\n",
       "    </tr>\n",
       "    <tr>\n",
       "      <th>6665910</th>\n",
       "      <td>288</td>\n",
       "      <td>3.144813e+06</td>\n",
       "      <td>4038775</td>\n",
       "      <td>3.144813e+06</td>\n",
       "      <td>0.0</td>\n",
       "      <td>499610</td>\n",
       "      <td>2.897465e+06</td>\n",
       "      <td>6.042278e+06</td>\n",
       "      <td>0</td>\n",
       "      <td>0.0</td>\n",
       "      <td>6.289626e+06</td>\n",
       "      <td>0.0</td>\n",
       "      <td>1.0</td>\n",
       "      <td>0.0</td>\n",
       "      <td>0.0</td>\n",
       "      <td>0.0</td>\n",
       "      <td>1</td>\n",
       "    </tr>\n",
       "  </tbody>\n",
       "</table>\n",
       "</div>"
      ],
      "text/plain": [
       "         step        amount  nameOrig  oldBalanceOrig  newBalanceOrig  \\\n",
       "7112723   371  7.412906e+06   2658915    7.412906e+06             0.0   \n",
       "7876312   156  3.162194e+05   4005128    3.162194e+05             0.0   \n",
       "8798511   309  3.672462e+06   4868182    3.672462e+06             0.0   \n",
       "7122583   296  1.147084e+06   3055430    1.147084e+06             0.0   \n",
       "6665910   288  3.144813e+06   4038775    3.144813e+06             0.0   \n",
       "\n",
       "         nameDest  oldBalanceDest  newBalanceDest  isFlaggedFraud  \\\n",
       "7112723    511140    0.000000e+00    0.000000e+00               0   \n",
       "7876312    471232    0.000000e+00    0.000000e+00               0   \n",
       "8798511    366028    1.357129e+04    3.686033e+06               0   \n",
       "7122583    263768    5.078204e+05    1.654905e+06               0   \n",
       "6665910    499610    2.897465e+06    6.042278e+06               0   \n",
       "\n",
       "         errorBalanceOrig  errorBalanceDest  type_CASH_IN  type_CASH_OUT  \\\n",
       "7112723               0.0      7.412906e+06           0.0            0.0   \n",
       "7876312               0.0      3.162194e+05           0.0            0.0   \n",
       "8798511               0.0      7.344924e+06           0.0            1.0   \n",
       "7122583               0.0      2.294168e+06           0.0            1.0   \n",
       "6665910               0.0      6.289626e+06           0.0            1.0   \n",
       "\n",
       "         type_DEBIT  type_PAYMENT  type_TRANSFER  isFraud  \n",
       "7112723         0.0           0.0            1.0        1  \n",
       "7876312         0.0           0.0            1.0        1  \n",
       "8798511         0.0           0.0            0.0        1  \n",
       "7122583         0.0           0.0            0.0        1  \n",
       "6665910         0.0           0.0            0.0        1  "
      ]
     },
     "execution_count": 22,
     "metadata": {},
     "output_type": "execute_result"
    }
   ],
   "source": [
    "fraud = X_resampled[X_resampled.isFraud == 1].sample(100000)\n",
    "fraud.head()"
   ]
  },
  {
   "cell_type": "code",
   "execution_count": 23,
   "id": "248d0931",
   "metadata": {},
   "outputs": [],
   "source": [
    "notfraud = X_resampled[X_resampled.isFraud == 0].sample(100000)"
   ]
  },
  {
   "cell_type": "code",
   "execution_count": 24,
   "id": "23759c3d",
   "metadata": {},
   "outputs": [
    {
     "data": {
      "text/html": [
       "<div>\n",
       "<style scoped>\n",
       "    .dataframe tbody tr th:only-of-type {\n",
       "        vertical-align: middle;\n",
       "    }\n",
       "\n",
       "    .dataframe tbody tr th {\n",
       "        vertical-align: top;\n",
       "    }\n",
       "\n",
       "    .dataframe thead th {\n",
       "        text-align: right;\n",
       "    }\n",
       "</style>\n",
       "<table border=\"1\" class=\"dataframe\">\n",
       "  <thead>\n",
       "    <tr style=\"text-align: right;\">\n",
       "      <th></th>\n",
       "      <th>step</th>\n",
       "      <th>amount</th>\n",
       "      <th>nameOrig</th>\n",
       "      <th>oldBalanceOrig</th>\n",
       "      <th>newBalanceOrig</th>\n",
       "      <th>nameDest</th>\n",
       "      <th>oldBalanceDest</th>\n",
       "      <th>newBalanceDest</th>\n",
       "      <th>isFlaggedFraud</th>\n",
       "      <th>errorBalanceOrig</th>\n",
       "      <th>errorBalanceDest</th>\n",
       "      <th>type_CASH_IN</th>\n",
       "      <th>type_CASH_OUT</th>\n",
       "      <th>type_DEBIT</th>\n",
       "      <th>type_PAYMENT</th>\n",
       "      <th>type_TRANSFER</th>\n",
       "      <th>isFraud</th>\n",
       "    </tr>\n",
       "  </thead>\n",
       "  <tbody>\n",
       "    <tr>\n",
       "      <th>7112723</th>\n",
       "      <td>371</td>\n",
       "      <td>7.412906e+06</td>\n",
       "      <td>2658915</td>\n",
       "      <td>7.412906e+06</td>\n",
       "      <td>0.00</td>\n",
       "      <td>511140</td>\n",
       "      <td>0.000000e+00</td>\n",
       "      <td>0.000000e+00</td>\n",
       "      <td>0</td>\n",
       "      <td>0.00</td>\n",
       "      <td>7.412906e+06</td>\n",
       "      <td>0.0</td>\n",
       "      <td>0.0</td>\n",
       "      <td>0.0</td>\n",
       "      <td>0.0</td>\n",
       "      <td>1.0</td>\n",
       "      <td>1</td>\n",
       "    </tr>\n",
       "    <tr>\n",
       "      <th>7876312</th>\n",
       "      <td>156</td>\n",
       "      <td>3.162194e+05</td>\n",
       "      <td>4005128</td>\n",
       "      <td>3.162194e+05</td>\n",
       "      <td>0.00</td>\n",
       "      <td>471232</td>\n",
       "      <td>0.000000e+00</td>\n",
       "      <td>0.000000e+00</td>\n",
       "      <td>0</td>\n",
       "      <td>0.00</td>\n",
       "      <td>3.162194e+05</td>\n",
       "      <td>0.0</td>\n",
       "      <td>0.0</td>\n",
       "      <td>0.0</td>\n",
       "      <td>0.0</td>\n",
       "      <td>1.0</td>\n",
       "      <td>1</td>\n",
       "    </tr>\n",
       "    <tr>\n",
       "      <th>8798511</th>\n",
       "      <td>309</td>\n",
       "      <td>3.672462e+06</td>\n",
       "      <td>4868182</td>\n",
       "      <td>3.672462e+06</td>\n",
       "      <td>0.00</td>\n",
       "      <td>366028</td>\n",
       "      <td>1.357129e+04</td>\n",
       "      <td>3.686033e+06</td>\n",
       "      <td>0</td>\n",
       "      <td>0.00</td>\n",
       "      <td>7.344924e+06</td>\n",
       "      <td>0.0</td>\n",
       "      <td>1.0</td>\n",
       "      <td>0.0</td>\n",
       "      <td>0.0</td>\n",
       "      <td>0.0</td>\n",
       "      <td>1</td>\n",
       "    </tr>\n",
       "    <tr>\n",
       "      <th>7122583</th>\n",
       "      <td>296</td>\n",
       "      <td>1.147084e+06</td>\n",
       "      <td>3055430</td>\n",
       "      <td>1.147084e+06</td>\n",
       "      <td>0.00</td>\n",
       "      <td>263768</td>\n",
       "      <td>5.078204e+05</td>\n",
       "      <td>1.654905e+06</td>\n",
       "      <td>0</td>\n",
       "      <td>0.00</td>\n",
       "      <td>2.294168e+06</td>\n",
       "      <td>0.0</td>\n",
       "      <td>1.0</td>\n",
       "      <td>0.0</td>\n",
       "      <td>0.0</td>\n",
       "      <td>0.0</td>\n",
       "      <td>1</td>\n",
       "    </tr>\n",
       "    <tr>\n",
       "      <th>6665910</th>\n",
       "      <td>288</td>\n",
       "      <td>3.144813e+06</td>\n",
       "      <td>4038775</td>\n",
       "      <td>3.144813e+06</td>\n",
       "      <td>0.00</td>\n",
       "      <td>499610</td>\n",
       "      <td>2.897465e+06</td>\n",
       "      <td>6.042278e+06</td>\n",
       "      <td>0</td>\n",
       "      <td>0.00</td>\n",
       "      <td>6.289626e+06</td>\n",
       "      <td>0.0</td>\n",
       "      <td>1.0</td>\n",
       "      <td>0.0</td>\n",
       "      <td>0.0</td>\n",
       "      <td>0.0</td>\n",
       "      <td>1</td>\n",
       "    </tr>\n",
       "    <tr>\n",
       "      <th>...</th>\n",
       "      <td>...</td>\n",
       "      <td>...</td>\n",
       "      <td>...</td>\n",
       "      <td>...</td>\n",
       "      <td>...</td>\n",
       "      <td>...</td>\n",
       "      <td>...</td>\n",
       "      <td>...</td>\n",
       "      <td>...</td>\n",
       "      <td>...</td>\n",
       "      <td>...</td>\n",
       "      <td>...</td>\n",
       "      <td>...</td>\n",
       "      <td>...</td>\n",
       "      <td>...</td>\n",
       "      <td>...</td>\n",
       "      <td>...</td>\n",
       "    </tr>\n",
       "    <tr>\n",
       "      <th>3397663</th>\n",
       "      <td>336</td>\n",
       "      <td>1.608656e+06</td>\n",
       "      <td>3725846</td>\n",
       "      <td>0.000000e+00</td>\n",
       "      <td>0.00</td>\n",
       "      <td>85345</td>\n",
       "      <td>1.974574e+06</td>\n",
       "      <td>3.583229e+06</td>\n",
       "      <td>0</td>\n",
       "      <td>1608655.69</td>\n",
       "      <td>3.217311e+06</td>\n",
       "      <td>0.0</td>\n",
       "      <td>0.0</td>\n",
       "      <td>0.0</td>\n",
       "      <td>0.0</td>\n",
       "      <td>1.0</td>\n",
       "      <td>0</td>\n",
       "    </tr>\n",
       "    <tr>\n",
       "      <th>1758227</th>\n",
       "      <td>374</td>\n",
       "      <td>2.348554e+05</td>\n",
       "      <td>6073009</td>\n",
       "      <td>0.000000e+00</td>\n",
       "      <td>0.00</td>\n",
       "      <td>245226</td>\n",
       "      <td>3.651245e+05</td>\n",
       "      <td>5.999798e+05</td>\n",
       "      <td>0</td>\n",
       "      <td>234855.39</td>\n",
       "      <td>4.697108e+05</td>\n",
       "      <td>0.0</td>\n",
       "      <td>1.0</td>\n",
       "      <td>0.0</td>\n",
       "      <td>0.0</td>\n",
       "      <td>0.0</td>\n",
       "      <td>0</td>\n",
       "    </tr>\n",
       "    <tr>\n",
       "      <th>4405416</th>\n",
       "      <td>324</td>\n",
       "      <td>1.074029e+06</td>\n",
       "      <td>4909316</td>\n",
       "      <td>0.000000e+00</td>\n",
       "      <td>0.00</td>\n",
       "      <td>263836</td>\n",
       "      <td>1.601845e+06</td>\n",
       "      <td>2.675874e+06</td>\n",
       "      <td>0</td>\n",
       "      <td>1074029.15</td>\n",
       "      <td>2.148058e+06</td>\n",
       "      <td>0.0</td>\n",
       "      <td>0.0</td>\n",
       "      <td>0.0</td>\n",
       "      <td>0.0</td>\n",
       "      <td>1.0</td>\n",
       "      <td>0</td>\n",
       "    </tr>\n",
       "    <tr>\n",
       "      <th>177262</th>\n",
       "      <td>181</td>\n",
       "      <td>2.655998e+04</td>\n",
       "      <td>887613</td>\n",
       "      <td>3.059713e+05</td>\n",
       "      <td>279411.29</td>\n",
       "      <td>1788811</td>\n",
       "      <td>0.000000e+00</td>\n",
       "      <td>0.000000e+00</td>\n",
       "      <td>0</td>\n",
       "      <td>-0.01</td>\n",
       "      <td>2.655998e+04</td>\n",
       "      <td>0.0</td>\n",
       "      <td>0.0</td>\n",
       "      <td>0.0</td>\n",
       "      <td>1.0</td>\n",
       "      <td>0.0</td>\n",
       "      <td>0</td>\n",
       "    </tr>\n",
       "    <tr>\n",
       "      <th>3066146</th>\n",
       "      <td>350</td>\n",
       "      <td>8.350767e+04</td>\n",
       "      <td>1213042</td>\n",
       "      <td>5.755630e+05</td>\n",
       "      <td>659070.71</td>\n",
       "      <td>422595</td>\n",
       "      <td>5.391841e+06</td>\n",
       "      <td>5.308334e+06</td>\n",
       "      <td>0</td>\n",
       "      <td>167015.34</td>\n",
       "      <td>0.000000e+00</td>\n",
       "      <td>1.0</td>\n",
       "      <td>0.0</td>\n",
       "      <td>0.0</td>\n",
       "      <td>0.0</td>\n",
       "      <td>0.0</td>\n",
       "      <td>0</td>\n",
       "    </tr>\n",
       "  </tbody>\n",
       "</table>\n",
       "<p>200000 rows × 17 columns</p>\n",
       "</div>"
      ],
      "text/plain": [
       "         step        amount  nameOrig  oldBalanceOrig  newBalanceOrig  \\\n",
       "7112723   371  7.412906e+06   2658915    7.412906e+06            0.00   \n",
       "7876312   156  3.162194e+05   4005128    3.162194e+05            0.00   \n",
       "8798511   309  3.672462e+06   4868182    3.672462e+06            0.00   \n",
       "7122583   296  1.147084e+06   3055430    1.147084e+06            0.00   \n",
       "6665910   288  3.144813e+06   4038775    3.144813e+06            0.00   \n",
       "...       ...           ...       ...             ...             ...   \n",
       "3397663   336  1.608656e+06   3725846    0.000000e+00            0.00   \n",
       "1758227   374  2.348554e+05   6073009    0.000000e+00            0.00   \n",
       "4405416   324  1.074029e+06   4909316    0.000000e+00            0.00   \n",
       "177262    181  2.655998e+04    887613    3.059713e+05       279411.29   \n",
       "3066146   350  8.350767e+04   1213042    5.755630e+05       659070.71   \n",
       "\n",
       "         nameDest  oldBalanceDest  newBalanceDest  isFlaggedFraud  \\\n",
       "7112723    511140    0.000000e+00    0.000000e+00               0   \n",
       "7876312    471232    0.000000e+00    0.000000e+00               0   \n",
       "8798511    366028    1.357129e+04    3.686033e+06               0   \n",
       "7122583    263768    5.078204e+05    1.654905e+06               0   \n",
       "6665910    499610    2.897465e+06    6.042278e+06               0   \n",
       "...           ...             ...             ...             ...   \n",
       "3397663     85345    1.974574e+06    3.583229e+06               0   \n",
       "1758227    245226    3.651245e+05    5.999798e+05               0   \n",
       "4405416    263836    1.601845e+06    2.675874e+06               0   \n",
       "177262    1788811    0.000000e+00    0.000000e+00               0   \n",
       "3066146    422595    5.391841e+06    5.308334e+06               0   \n",
       "\n",
       "         errorBalanceOrig  errorBalanceDest  type_CASH_IN  type_CASH_OUT  \\\n",
       "7112723              0.00      7.412906e+06           0.0            0.0   \n",
       "7876312              0.00      3.162194e+05           0.0            0.0   \n",
       "8798511              0.00      7.344924e+06           0.0            1.0   \n",
       "7122583              0.00      2.294168e+06           0.0            1.0   \n",
       "6665910              0.00      6.289626e+06           0.0            1.0   \n",
       "...                   ...               ...           ...            ...   \n",
       "3397663        1608655.69      3.217311e+06           0.0            0.0   \n",
       "1758227         234855.39      4.697108e+05           0.0            1.0   \n",
       "4405416        1074029.15      2.148058e+06           0.0            0.0   \n",
       "177262              -0.01      2.655998e+04           0.0            0.0   \n",
       "3066146         167015.34      0.000000e+00           1.0            0.0   \n",
       "\n",
       "         type_DEBIT  type_PAYMENT  type_TRANSFER  isFraud  \n",
       "7112723         0.0           0.0            1.0        1  \n",
       "7876312         0.0           0.0            1.0        1  \n",
       "8798511         0.0           0.0            0.0        1  \n",
       "7122583         0.0           0.0            0.0        1  \n",
       "6665910         0.0           0.0            0.0        1  \n",
       "...             ...           ...            ...      ...  \n",
       "3397663         0.0           0.0            1.0        0  \n",
       "1758227         0.0           0.0            0.0        0  \n",
       "4405416         0.0           0.0            1.0        0  \n",
       "177262          0.0           1.0            0.0        0  \n",
       "3066146         0.0           0.0            0.0        0  \n",
       "\n",
       "[200000 rows x 17 columns]"
      ]
     },
     "execution_count": 24,
     "metadata": {},
     "output_type": "execute_result"
    }
   ],
   "source": [
    "data_new = pd.concat([fraud, notfraud], axis=0)\n",
    "data_new"
   ]
  },
  {
   "cell_type": "code",
   "execution_count": 26,
   "id": "3018c7b8",
   "metadata": {},
   "outputs": [
    {
     "name": "stdout",
     "output_type": "stream",
     "text": [
      "/Users/claudiajovellar/code/AlcaRmsp/the_laundromat\r\n"
     ]
    }
   ],
   "source": [
    "!pwd"
   ]
  },
  {
   "cell_type": "code",
   "execution_count": 27,
   "id": "611df260",
   "metadata": {},
   "outputs": [],
   "source": [
    "from ml_logic.model import new_x_train_y_train, modellingRFC "
   ]
  },
  {
   "cell_type": "code",
   "execution_count": 29,
   "id": "e5b9fda3",
   "metadata": {},
   "outputs": [],
   "source": [
    "X, y = new_x_train_y_train(data_new)"
   ]
  },
  {
   "cell_type": "code",
   "execution_count": 30,
   "id": "e66e7686",
   "metadata": {},
   "outputs": [
    {
     "data": {
      "text/html": [
       "<div>\n",
       "<style scoped>\n",
       "    .dataframe tbody tr th:only-of-type {\n",
       "        vertical-align: middle;\n",
       "    }\n",
       "\n",
       "    .dataframe tbody tr th {\n",
       "        vertical-align: top;\n",
       "    }\n",
       "\n",
       "    .dataframe thead th {\n",
       "        text-align: right;\n",
       "    }\n",
       "</style>\n",
       "<table border=\"1\" class=\"dataframe\">\n",
       "  <thead>\n",
       "    <tr style=\"text-align: right;\">\n",
       "      <th></th>\n",
       "      <th>step</th>\n",
       "      <th>amount</th>\n",
       "      <th>nameOrig</th>\n",
       "      <th>oldBalanceOrig</th>\n",
       "      <th>newBalanceOrig</th>\n",
       "      <th>nameDest</th>\n",
       "      <th>oldBalanceDest</th>\n",
       "      <th>newBalanceDest</th>\n",
       "      <th>isFlaggedFraud</th>\n",
       "      <th>errorBalanceOrig</th>\n",
       "      <th>errorBalanceDest</th>\n",
       "      <th>type_CASH_IN</th>\n",
       "      <th>type_CASH_OUT</th>\n",
       "      <th>type_DEBIT</th>\n",
       "      <th>type_PAYMENT</th>\n",
       "      <th>type_TRANSFER</th>\n",
       "    </tr>\n",
       "  </thead>\n",
       "  <tbody>\n",
       "    <tr>\n",
       "      <th>7112723</th>\n",
       "      <td>371</td>\n",
       "      <td>7.412906e+06</td>\n",
       "      <td>2658915</td>\n",
       "      <td>7.412906e+06</td>\n",
       "      <td>0.00</td>\n",
       "      <td>511140</td>\n",
       "      <td>0.000000e+00</td>\n",
       "      <td>0.000000e+00</td>\n",
       "      <td>0</td>\n",
       "      <td>0.00</td>\n",
       "      <td>7.412906e+06</td>\n",
       "      <td>0.0</td>\n",
       "      <td>0.0</td>\n",
       "      <td>0.0</td>\n",
       "      <td>0.0</td>\n",
       "      <td>1.0</td>\n",
       "    </tr>\n",
       "    <tr>\n",
       "      <th>7876312</th>\n",
       "      <td>156</td>\n",
       "      <td>3.162194e+05</td>\n",
       "      <td>4005128</td>\n",
       "      <td>3.162194e+05</td>\n",
       "      <td>0.00</td>\n",
       "      <td>471232</td>\n",
       "      <td>0.000000e+00</td>\n",
       "      <td>0.000000e+00</td>\n",
       "      <td>0</td>\n",
       "      <td>0.00</td>\n",
       "      <td>3.162194e+05</td>\n",
       "      <td>0.0</td>\n",
       "      <td>0.0</td>\n",
       "      <td>0.0</td>\n",
       "      <td>0.0</td>\n",
       "      <td>1.0</td>\n",
       "    </tr>\n",
       "    <tr>\n",
       "      <th>8798511</th>\n",
       "      <td>309</td>\n",
       "      <td>3.672462e+06</td>\n",
       "      <td>4868182</td>\n",
       "      <td>3.672462e+06</td>\n",
       "      <td>0.00</td>\n",
       "      <td>366028</td>\n",
       "      <td>1.357129e+04</td>\n",
       "      <td>3.686033e+06</td>\n",
       "      <td>0</td>\n",
       "      <td>0.00</td>\n",
       "      <td>7.344924e+06</td>\n",
       "      <td>0.0</td>\n",
       "      <td>1.0</td>\n",
       "      <td>0.0</td>\n",
       "      <td>0.0</td>\n",
       "      <td>0.0</td>\n",
       "    </tr>\n",
       "    <tr>\n",
       "      <th>7122583</th>\n",
       "      <td>296</td>\n",
       "      <td>1.147084e+06</td>\n",
       "      <td>3055430</td>\n",
       "      <td>1.147084e+06</td>\n",
       "      <td>0.00</td>\n",
       "      <td>263768</td>\n",
       "      <td>5.078204e+05</td>\n",
       "      <td>1.654905e+06</td>\n",
       "      <td>0</td>\n",
       "      <td>0.00</td>\n",
       "      <td>2.294168e+06</td>\n",
       "      <td>0.0</td>\n",
       "      <td>1.0</td>\n",
       "      <td>0.0</td>\n",
       "      <td>0.0</td>\n",
       "      <td>0.0</td>\n",
       "    </tr>\n",
       "    <tr>\n",
       "      <th>6665910</th>\n",
       "      <td>288</td>\n",
       "      <td>3.144813e+06</td>\n",
       "      <td>4038775</td>\n",
       "      <td>3.144813e+06</td>\n",
       "      <td>0.00</td>\n",
       "      <td>499610</td>\n",
       "      <td>2.897465e+06</td>\n",
       "      <td>6.042278e+06</td>\n",
       "      <td>0</td>\n",
       "      <td>0.00</td>\n",
       "      <td>6.289626e+06</td>\n",
       "      <td>0.0</td>\n",
       "      <td>1.0</td>\n",
       "      <td>0.0</td>\n",
       "      <td>0.0</td>\n",
       "      <td>0.0</td>\n",
       "    </tr>\n",
       "    <tr>\n",
       "      <th>...</th>\n",
       "      <td>...</td>\n",
       "      <td>...</td>\n",
       "      <td>...</td>\n",
       "      <td>...</td>\n",
       "      <td>...</td>\n",
       "      <td>...</td>\n",
       "      <td>...</td>\n",
       "      <td>...</td>\n",
       "      <td>...</td>\n",
       "      <td>...</td>\n",
       "      <td>...</td>\n",
       "      <td>...</td>\n",
       "      <td>...</td>\n",
       "      <td>...</td>\n",
       "      <td>...</td>\n",
       "      <td>...</td>\n",
       "    </tr>\n",
       "    <tr>\n",
       "      <th>3397663</th>\n",
       "      <td>336</td>\n",
       "      <td>1.608656e+06</td>\n",
       "      <td>3725846</td>\n",
       "      <td>0.000000e+00</td>\n",
       "      <td>0.00</td>\n",
       "      <td>85345</td>\n",
       "      <td>1.974574e+06</td>\n",
       "      <td>3.583229e+06</td>\n",
       "      <td>0</td>\n",
       "      <td>1608655.69</td>\n",
       "      <td>3.217311e+06</td>\n",
       "      <td>0.0</td>\n",
       "      <td>0.0</td>\n",
       "      <td>0.0</td>\n",
       "      <td>0.0</td>\n",
       "      <td>1.0</td>\n",
       "    </tr>\n",
       "    <tr>\n",
       "      <th>1758227</th>\n",
       "      <td>374</td>\n",
       "      <td>2.348554e+05</td>\n",
       "      <td>6073009</td>\n",
       "      <td>0.000000e+00</td>\n",
       "      <td>0.00</td>\n",
       "      <td>245226</td>\n",
       "      <td>3.651245e+05</td>\n",
       "      <td>5.999798e+05</td>\n",
       "      <td>0</td>\n",
       "      <td>234855.39</td>\n",
       "      <td>4.697108e+05</td>\n",
       "      <td>0.0</td>\n",
       "      <td>1.0</td>\n",
       "      <td>0.0</td>\n",
       "      <td>0.0</td>\n",
       "      <td>0.0</td>\n",
       "    </tr>\n",
       "    <tr>\n",
       "      <th>4405416</th>\n",
       "      <td>324</td>\n",
       "      <td>1.074029e+06</td>\n",
       "      <td>4909316</td>\n",
       "      <td>0.000000e+00</td>\n",
       "      <td>0.00</td>\n",
       "      <td>263836</td>\n",
       "      <td>1.601845e+06</td>\n",
       "      <td>2.675874e+06</td>\n",
       "      <td>0</td>\n",
       "      <td>1074029.15</td>\n",
       "      <td>2.148058e+06</td>\n",
       "      <td>0.0</td>\n",
       "      <td>0.0</td>\n",
       "      <td>0.0</td>\n",
       "      <td>0.0</td>\n",
       "      <td>1.0</td>\n",
       "    </tr>\n",
       "    <tr>\n",
       "      <th>177262</th>\n",
       "      <td>181</td>\n",
       "      <td>2.655998e+04</td>\n",
       "      <td>887613</td>\n",
       "      <td>3.059713e+05</td>\n",
       "      <td>279411.29</td>\n",
       "      <td>1788811</td>\n",
       "      <td>0.000000e+00</td>\n",
       "      <td>0.000000e+00</td>\n",
       "      <td>0</td>\n",
       "      <td>-0.01</td>\n",
       "      <td>2.655998e+04</td>\n",
       "      <td>0.0</td>\n",
       "      <td>0.0</td>\n",
       "      <td>0.0</td>\n",
       "      <td>1.0</td>\n",
       "      <td>0.0</td>\n",
       "    </tr>\n",
       "    <tr>\n",
       "      <th>3066146</th>\n",
       "      <td>350</td>\n",
       "      <td>8.350767e+04</td>\n",
       "      <td>1213042</td>\n",
       "      <td>5.755630e+05</td>\n",
       "      <td>659070.71</td>\n",
       "      <td>422595</td>\n",
       "      <td>5.391841e+06</td>\n",
       "      <td>5.308334e+06</td>\n",
       "      <td>0</td>\n",
       "      <td>167015.34</td>\n",
       "      <td>0.000000e+00</td>\n",
       "      <td>1.0</td>\n",
       "      <td>0.0</td>\n",
       "      <td>0.0</td>\n",
       "      <td>0.0</td>\n",
       "      <td>0.0</td>\n",
       "    </tr>\n",
       "  </tbody>\n",
       "</table>\n",
       "<p>200000 rows × 16 columns</p>\n",
       "</div>"
      ],
      "text/plain": [
       "         step        amount  nameOrig  oldBalanceOrig  newBalanceOrig  \\\n",
       "7112723   371  7.412906e+06   2658915    7.412906e+06            0.00   \n",
       "7876312   156  3.162194e+05   4005128    3.162194e+05            0.00   \n",
       "8798511   309  3.672462e+06   4868182    3.672462e+06            0.00   \n",
       "7122583   296  1.147084e+06   3055430    1.147084e+06            0.00   \n",
       "6665910   288  3.144813e+06   4038775    3.144813e+06            0.00   \n",
       "...       ...           ...       ...             ...             ...   \n",
       "3397663   336  1.608656e+06   3725846    0.000000e+00            0.00   \n",
       "1758227   374  2.348554e+05   6073009    0.000000e+00            0.00   \n",
       "4405416   324  1.074029e+06   4909316    0.000000e+00            0.00   \n",
       "177262    181  2.655998e+04    887613    3.059713e+05       279411.29   \n",
       "3066146   350  8.350767e+04   1213042    5.755630e+05       659070.71   \n",
       "\n",
       "         nameDest  oldBalanceDest  newBalanceDest  isFlaggedFraud  \\\n",
       "7112723    511140    0.000000e+00    0.000000e+00               0   \n",
       "7876312    471232    0.000000e+00    0.000000e+00               0   \n",
       "8798511    366028    1.357129e+04    3.686033e+06               0   \n",
       "7122583    263768    5.078204e+05    1.654905e+06               0   \n",
       "6665910    499610    2.897465e+06    6.042278e+06               0   \n",
       "...           ...             ...             ...             ...   \n",
       "3397663     85345    1.974574e+06    3.583229e+06               0   \n",
       "1758227    245226    3.651245e+05    5.999798e+05               0   \n",
       "4405416    263836    1.601845e+06    2.675874e+06               0   \n",
       "177262    1788811    0.000000e+00    0.000000e+00               0   \n",
       "3066146    422595    5.391841e+06    5.308334e+06               0   \n",
       "\n",
       "         errorBalanceOrig  errorBalanceDest  type_CASH_IN  type_CASH_OUT  \\\n",
       "7112723              0.00      7.412906e+06           0.0            0.0   \n",
       "7876312              0.00      3.162194e+05           0.0            0.0   \n",
       "8798511              0.00      7.344924e+06           0.0            1.0   \n",
       "7122583              0.00      2.294168e+06           0.0            1.0   \n",
       "6665910              0.00      6.289626e+06           0.0            1.0   \n",
       "...                   ...               ...           ...            ...   \n",
       "3397663        1608655.69      3.217311e+06           0.0            0.0   \n",
       "1758227         234855.39      4.697108e+05           0.0            1.0   \n",
       "4405416        1074029.15      2.148058e+06           0.0            0.0   \n",
       "177262              -0.01      2.655998e+04           0.0            0.0   \n",
       "3066146         167015.34      0.000000e+00           1.0            0.0   \n",
       "\n",
       "         type_DEBIT  type_PAYMENT  type_TRANSFER  \n",
       "7112723         0.0           0.0            1.0  \n",
       "7876312         0.0           0.0            1.0  \n",
       "8798511         0.0           0.0            0.0  \n",
       "7122583         0.0           0.0            0.0  \n",
       "6665910         0.0           0.0            0.0  \n",
       "...             ...           ...            ...  \n",
       "3397663         0.0           0.0            1.0  \n",
       "1758227         0.0           0.0            0.0  \n",
       "4405416         0.0           0.0            1.0  \n",
       "177262          0.0           1.0            0.0  \n",
       "3066146         0.0           0.0            0.0  \n",
       "\n",
       "[200000 rows x 16 columns]"
      ]
     },
     "execution_count": 30,
     "metadata": {},
     "output_type": "execute_result"
    }
   ],
   "source": [
    "X"
   ]
  },
  {
   "cell_type": "code",
   "execution_count": 31,
   "id": "d6ffd9a0",
   "metadata": {},
   "outputs": [
    {
     "data": {
      "text/plain": [
       "7112723    1\n",
       "7876312    1\n",
       "8798511    1\n",
       "7122583    1\n",
       "6665910    1\n",
       "          ..\n",
       "3397663    0\n",
       "1758227    0\n",
       "4405416    0\n",
       "177262     0\n",
       "3066146    0\n",
       "Name: isFraud, Length: 200000, dtype: int64"
      ]
     },
     "execution_count": 31,
     "metadata": {},
     "output_type": "execute_result"
    }
   ],
   "source": [
    "y"
   ]
  },
  {
   "cell_type": "code",
   "execution_count": 32,
   "id": "b26a9440",
   "metadata": {},
   "outputs": [
    {
     "data": {
      "text/plain": [
       "(RandomForestClassifier(), 0.9958932238193019, 0.9999612319034192)"
      ]
     },
     "execution_count": 32,
     "metadata": {},
     "output_type": "execute_result"
    },
    {
     "data": {
      "image/png": "[encoded data removed]",
      "text/plain": [
       "<Figure size 500x500 with 2 Axes>"
      ]
     },
     "metadata": {},
     "output_type": "display_data"
    }
   ],
   "source": [
    "modellingRFC(X, y, X_test, y_test)"
   ]
  },
  {
   "cell_type": "code",
   "execution_count": 33,
   "id": "1451b4d3",
   "metadata": {},
   "outputs": [],
   "source": [
    "from ml_logic.model import modellingLR, modellingDTC, modellingXGBC, modellingSVM"
   ]
  },
  {
   "cell_type": "code",
   "execution_count": 34,
   "id": "64f9f533",
   "metadata": {},
   "outputs": [
    {
     "name": "stderr",
     "output_type": "stream",
     "text": [
      "/Users/claudiajovellar/.pyenv/versions/3.10.6/envs/lewagon/lib/python3.10/site-packages/sklearn/linear_model/_logistic.py:458: ConvergenceWarning: lbfgs failed to converge (status=1):\n",
      "STOP: TOTAL NO. of ITERATIONS REACHED LIMIT.\n",
      "\n",
      "Increase the number of iterations (max_iter) or scale the data as shown in:\n",
      "    https://scikit-learn.org/stable/modules/preprocessing.html\n",
      "Please also refer to the documentation for alternative solver options:\n",
      "    https://scikit-learn.org/stable/modules/linear_model.html#logistic-regression\n",
      "  n_iter_i = _check_optimize_result(\n"
     ]
    },
    {
     "data": {
      "text/plain": [
       "(LogisticRegression(), 0.9322381930184805, 0.950153133981494)"
      ]
     },
     "execution_count": 34,
     "metadata": {},
     "output_type": "execute_result"
    },
    {
     "data": {
      "image/png": "[encoded data removed]",
      "text/plain": [
       "<Figure size 500x500 with 2 Axes>"
      ]
     },
     "metadata": {},
     "output_type": "display_data"
    }
   ],
   "source": [
    "modellingLR(X, y, X_test, y_test)"
   ]
  },
  {
   "cell_type": "code",
   "execution_count": 35,
   "id": "c7c5ee59",
   "metadata": {},
   "outputs": [
    {
     "data": {
      "text/plain": [
       "(DecisionTreeClassifier(max_depth=2, random_state=2),\n",
       " 0.9806981519507186,\n",
       " 0.9999638513694045)"
      ]
     },
     "execution_count": 35,
     "metadata": {},
     "output_type": "execute_result"
    },
    {
     "data": {
      "image/png": "[encoded data removed]",
      "text/plain": [
       "<Figure size 500x500 with 2 Axes>"
      ]
     },
     "metadata": {},
     "output_type": "display_data"
    }
   ],
   "source": [
    "modellingDTC(X, y, X_test, y_test)"
   ]
  },
  {
   "cell_type": "code",
   "execution_count": 36,
   "id": "ddf7f07e",
   "metadata": {},
   "outputs": [
    {
     "data": {
      "text/plain": [
       "(XGBClassifier(base_score=0.5, booster='gbtree', callbacks=None,\n",
       "               colsample_bylevel=1, colsample_bynode=1, colsample_bytree=1,\n",
       "               early_stopping_rounds=None, enable_categorical=False,\n",
       "               eval_metric=None, gamma=0, gpu_id=-1, grow_policy='depthwise',\n",
       "               importance_type=None, interaction_constraints='',\n",
       "               learning_rate=0.300000012, max_bin=256, max_cat_to_onehot=4,\n",
       "               max_delta_step=0, max_depth=6, max_leaves=0, min_child_weight=1,\n",
       "               missing=nan, monotone_constraints='()', n_estimators=100,\n",
       "               n_jobs=0, num_parallel_tree=1, predictor='auto', random_state=0,\n",
       "               reg_alpha=0, reg_lambda=1, ...),\n",
       " 0.9958932238193019,\n",
       " 0.9998763612054992)"
      ]
     },
     "execution_count": 36,
     "metadata": {},
     "output_type": "execute_result"
    },
    {
     "data": {
      "image/png": "[encoded data removed]",
      "text/plain": [
       "<Figure size 500x500 with 2 Axes>"
      ]
     },
     "metadata": {},
     "output_type": "display_data"
    }
   ],
   "source": [
    "modellingXGBC(X, y, X_test, y_test)"
   ]
  },
  {
   "cell_type": "code",
   "execution_count": null,
   "id": "8f158a1b",
   "metadata": {},
   "outputs": [],
   "source": [
    "modellingSVM(X, y, X_test, y_test)"
   ]
  },
  {
   "cell_type": "markdown",
   "id": "e21a3e5d",
   "metadata": {
    "heading_collapsed": true
   },
   "source": [
    "### SMOTE - Test test 50/50"
   ]
  },
  {
   "cell_type": "code",
   "execution_count": 25,
   "id": "111abf2c",
   "metadata": {
    "hidden": true
   },
   "outputs": [],
   "source": [
    "Xtest_resampled50, ytest_resampled50 = SMOTE().fit_resample(X_test, y_test)"
   ]
  },
  {
   "cell_type": "code",
   "execution_count": 26,
   "id": "74a45a5c",
   "metadata": {
    "hidden": true
   },
   "outputs": [
    {
     "data": {
      "text/plain": [
       "((3812702, 16), (3812702,))"
      ]
     },
     "execution_count": 26,
     "metadata": {},
     "output_type": "execute_result"
    }
   ],
   "source": [
    "Xtest_resampled50.shape, ytest_resampled50.shape"
   ]
  },
  {
   "cell_type": "code",
   "execution_count": 27,
   "id": "b11f8231",
   "metadata": {
    "hidden": true
   },
   "outputs": [
    {
     "data": {
      "text/html": [
       "<div>\n",
       "<style scoped>\n",
       "    .dataframe tbody tr th:only-of-type {\n",
       "        vertical-align: middle;\n",
       "    }\n",
       "\n",
       "    .dataframe tbody tr th {\n",
       "        vertical-align: top;\n",
       "    }\n",
       "\n",
       "    .dataframe thead th {\n",
       "        text-align: right;\n",
       "    }\n",
       "</style>\n",
       "<table border=\"1\" class=\"dataframe\">\n",
       "  <thead>\n",
       "    <tr style=\"text-align: right;\">\n",
       "      <th></th>\n",
       "      <th>step</th>\n",
       "      <th>amount</th>\n",
       "      <th>nameOrig</th>\n",
       "      <th>oldBalanceOrig</th>\n",
       "      <th>newBalanceOrig</th>\n",
       "      <th>nameDest</th>\n",
       "      <th>oldBalanceDest</th>\n",
       "      <th>newBalanceDest</th>\n",
       "      <th>isFlaggedFraud</th>\n",
       "      <th>errorBalanceOrig</th>\n",
       "      <th>errorBalanceDest</th>\n",
       "      <th>type_CASH_IN</th>\n",
       "      <th>type_CASH_OUT</th>\n",
       "      <th>type_DEBIT</th>\n",
       "      <th>type_PAYMENT</th>\n",
       "      <th>type_TRANSFER</th>\n",
       "    </tr>\n",
       "  </thead>\n",
       "  <tbody>\n",
       "    <tr>\n",
       "      <th>0</th>\n",
       "      <td>278</td>\n",
       "      <td>330218.42</td>\n",
       "      <td>5144186</td>\n",
       "      <td>20866.00</td>\n",
       "      <td>351084.42</td>\n",
       "      <td>523341</td>\n",
       "      <td>452419.57</td>\n",
       "      <td>122201.15</td>\n",
       "      <td>0</td>\n",
       "      <td>660436.84</td>\n",
       "      <td>-5.820766e-11</td>\n",
       "      <td>1.0</td>\n",
       "      <td>0.0</td>\n",
       "      <td>0.0</td>\n",
       "      <td>0.0</td>\n",
       "      <td>0.0</td>\n",
       "    </tr>\n",
       "    <tr>\n",
       "      <th>1</th>\n",
       "      <td>15</td>\n",
       "      <td>11647.08</td>\n",
       "      <td>868156</td>\n",
       "      <td>30370.00</td>\n",
       "      <td>18722.92</td>\n",
       "      <td>1849210</td>\n",
       "      <td>0.00</td>\n",
       "      <td>0.00</td>\n",
       "      <td>0</td>\n",
       "      <td>0.00</td>\n",
       "      <td>1.164708e+04</td>\n",
       "      <td>0.0</td>\n",
       "      <td>0.0</td>\n",
       "      <td>0.0</td>\n",
       "      <td>1.0</td>\n",
       "      <td>0.0</td>\n",
       "    </tr>\n",
       "    <tr>\n",
       "      <th>2</th>\n",
       "      <td>10</td>\n",
       "      <td>152264.21</td>\n",
       "      <td>2453021</td>\n",
       "      <td>106589.00</td>\n",
       "      <td>258853.21</td>\n",
       "      <td>179836</td>\n",
       "      <td>201303.01</td>\n",
       "      <td>49038.80</td>\n",
       "      <td>0</td>\n",
       "      <td>304528.42</td>\n",
       "      <td>0.000000e+00</td>\n",
       "      <td>1.0</td>\n",
       "      <td>0.0</td>\n",
       "      <td>0.0</td>\n",
       "      <td>0.0</td>\n",
       "      <td>0.0</td>\n",
       "    </tr>\n",
       "    <tr>\n",
       "      <th>3</th>\n",
       "      <td>403</td>\n",
       "      <td>1551760.63</td>\n",
       "      <td>4162339</td>\n",
       "      <td>0.00</td>\n",
       "      <td>0.00</td>\n",
       "      <td>167013</td>\n",
       "      <td>3198359.45</td>\n",
       "      <td>4750120.08</td>\n",
       "      <td>0</td>\n",
       "      <td>1551760.63</td>\n",
       "      <td>3.103521e+06</td>\n",
       "      <td>0.0</td>\n",
       "      <td>0.0</td>\n",
       "      <td>0.0</td>\n",
       "      <td>0.0</td>\n",
       "      <td>1.0</td>\n",
       "    </tr>\n",
       "    <tr>\n",
       "      <th>4</th>\n",
       "      <td>206</td>\n",
       "      <td>78172.30</td>\n",
       "      <td>5740614</td>\n",
       "      <td>2921331.58</td>\n",
       "      <td>2999503.88</td>\n",
       "      <td>27202</td>\n",
       "      <td>415821.90</td>\n",
       "      <td>337649.60</td>\n",
       "      <td>0</td>\n",
       "      <td>156344.60</td>\n",
       "      <td>-5.820766e-11</td>\n",
       "      <td>1.0</td>\n",
       "      <td>0.0</td>\n",
       "      <td>0.0</td>\n",
       "      <td>0.0</td>\n",
       "      <td>0.0</td>\n",
       "    </tr>\n",
       "  </tbody>\n",
       "</table>\n",
       "</div>"
      ],
      "text/plain": [
       "   step      amount  nameOrig  oldBalanceOrig  newBalanceOrig  nameDest  \\\n",
       "0   278   330218.42   5144186        20866.00       351084.42    523341   \n",
       "1    15    11647.08    868156        30370.00        18722.92   1849210   \n",
       "2    10   152264.21   2453021       106589.00       258853.21    179836   \n",
       "3   403  1551760.63   4162339            0.00            0.00    167013   \n",
       "4   206    78172.30   5740614      2921331.58      2999503.88     27202   \n",
       "\n",
       "   oldBalanceDest  newBalanceDest  isFlaggedFraud  errorBalanceOrig  \\\n",
       "0       452419.57       122201.15               0         660436.84   \n",
       "1            0.00            0.00               0              0.00   \n",
       "2       201303.01        49038.80               0         304528.42   \n",
       "3      3198359.45      4750120.08               0        1551760.63   \n",
       "4       415821.90       337649.60               0         156344.60   \n",
       "\n",
       "   errorBalanceDest  type_CASH_IN  type_CASH_OUT  type_DEBIT  type_PAYMENT  \\\n",
       "0     -5.820766e-11           1.0            0.0         0.0           0.0   \n",
       "1      1.164708e+04           0.0            0.0         0.0           1.0   \n",
       "2      0.000000e+00           1.0            0.0         0.0           0.0   \n",
       "3      3.103521e+06           0.0            0.0         0.0           0.0   \n",
       "4     -5.820766e-11           1.0            0.0         0.0           0.0   \n",
       "\n",
       "   type_TRANSFER  \n",
       "0            0.0  \n",
       "1            0.0  \n",
       "2            0.0  \n",
       "3            1.0  \n",
       "4            0.0  "
      ]
     },
     "execution_count": 27,
     "metadata": {},
     "output_type": "execute_result"
    }
   ],
   "source": [
    "Xtest_resampled50.head()"
   ]
  },
  {
   "cell_type": "code",
   "execution_count": 28,
   "id": "d5feb851",
   "metadata": {
    "hidden": true
   },
   "outputs": [],
   "source": [
    "Xtest_resampled50['isFraud'] = ytest_resampled50"
   ]
  },
  {
   "cell_type": "markdown",
   "id": "08c79059",
   "metadata": {
    "heading_collapsed": true
   },
   "source": [
    "### SMOTE - Test 70/30"
   ]
  },
  {
   "cell_type": "code",
   "execution_count": 29,
   "id": "f6b4bf8a",
   "metadata": {
    "hidden": true
   },
   "outputs": [],
   "source": [
    "Xtest_resampled70, ytest_resampled30 = SMOTE(sampling_strategy = 0.3).fit_resample(X_test, y_test)"
   ]
  },
  {
   "cell_type": "code",
   "execution_count": 30,
   "id": "be447dda",
   "metadata": {
    "hidden": true
   },
   "outputs": [
    {
     "data": {
      "text/plain": [
       "((2478256, 16), (2478256,))"
      ]
     },
     "execution_count": 30,
     "metadata": {},
     "output_type": "execute_result"
    }
   ],
   "source": [
    "Xtest_resampled70.shape, ytest_resampled30.shape"
   ]
  },
  {
   "cell_type": "code",
   "execution_count": 31,
   "id": "2320563a",
   "metadata": {
    "hidden": true
   },
   "outputs": [
    {
     "data": {
      "text/html": [
       "<div>\n",
       "<style scoped>\n",
       "    .dataframe tbody tr th:only-of-type {\n",
       "        vertical-align: middle;\n",
       "    }\n",
       "\n",
       "    .dataframe tbody tr th {\n",
       "        vertical-align: top;\n",
       "    }\n",
       "\n",
       "    .dataframe thead th {\n",
       "        text-align: right;\n",
       "    }\n",
       "</style>\n",
       "<table border=\"1\" class=\"dataframe\">\n",
       "  <thead>\n",
       "    <tr style=\"text-align: right;\">\n",
       "      <th></th>\n",
       "      <th>step</th>\n",
       "      <th>amount</th>\n",
       "      <th>nameOrig</th>\n",
       "      <th>oldBalanceOrig</th>\n",
       "      <th>newBalanceOrig</th>\n",
       "      <th>nameDest</th>\n",
       "      <th>oldBalanceDest</th>\n",
       "      <th>newBalanceDest</th>\n",
       "      <th>isFlaggedFraud</th>\n",
       "      <th>errorBalanceOrig</th>\n",
       "      <th>errorBalanceDest</th>\n",
       "      <th>type_CASH_IN</th>\n",
       "      <th>type_CASH_OUT</th>\n",
       "      <th>type_DEBIT</th>\n",
       "      <th>type_PAYMENT</th>\n",
       "      <th>type_TRANSFER</th>\n",
       "    </tr>\n",
       "  </thead>\n",
       "  <tbody>\n",
       "    <tr>\n",
       "      <th>0</th>\n",
       "      <td>278</td>\n",
       "      <td>330218.42</td>\n",
       "      <td>5144186</td>\n",
       "      <td>20866.00</td>\n",
       "      <td>351084.42</td>\n",
       "      <td>523341</td>\n",
       "      <td>452419.57</td>\n",
       "      <td>122201.15</td>\n",
       "      <td>0</td>\n",
       "      <td>660436.84</td>\n",
       "      <td>-5.820766e-11</td>\n",
       "      <td>1.0</td>\n",
       "      <td>0.0</td>\n",
       "      <td>0.0</td>\n",
       "      <td>0.0</td>\n",
       "      <td>0.0</td>\n",
       "    </tr>\n",
       "    <tr>\n",
       "      <th>1</th>\n",
       "      <td>15</td>\n",
       "      <td>11647.08</td>\n",
       "      <td>868156</td>\n",
       "      <td>30370.00</td>\n",
       "      <td>18722.92</td>\n",
       "      <td>1849210</td>\n",
       "      <td>0.00</td>\n",
       "      <td>0.00</td>\n",
       "      <td>0</td>\n",
       "      <td>0.00</td>\n",
       "      <td>1.164708e+04</td>\n",
       "      <td>0.0</td>\n",
       "      <td>0.0</td>\n",
       "      <td>0.0</td>\n",
       "      <td>1.0</td>\n",
       "      <td>0.0</td>\n",
       "    </tr>\n",
       "    <tr>\n",
       "      <th>2</th>\n",
       "      <td>10</td>\n",
       "      <td>152264.21</td>\n",
       "      <td>2453021</td>\n",
       "      <td>106589.00</td>\n",
       "      <td>258853.21</td>\n",
       "      <td>179836</td>\n",
       "      <td>201303.01</td>\n",
       "      <td>49038.80</td>\n",
       "      <td>0</td>\n",
       "      <td>304528.42</td>\n",
       "      <td>0.000000e+00</td>\n",
       "      <td>1.0</td>\n",
       "      <td>0.0</td>\n",
       "      <td>0.0</td>\n",
       "      <td>0.0</td>\n",
       "      <td>0.0</td>\n",
       "    </tr>\n",
       "    <tr>\n",
       "      <th>3</th>\n",
       "      <td>403</td>\n",
       "      <td>1551760.63</td>\n",
       "      <td>4162339</td>\n",
       "      <td>0.00</td>\n",
       "      <td>0.00</td>\n",
       "      <td>167013</td>\n",
       "      <td>3198359.45</td>\n",
       "      <td>4750120.08</td>\n",
       "      <td>0</td>\n",
       "      <td>1551760.63</td>\n",
       "      <td>3.103521e+06</td>\n",
       "      <td>0.0</td>\n",
       "      <td>0.0</td>\n",
       "      <td>0.0</td>\n",
       "      <td>0.0</td>\n",
       "      <td>1.0</td>\n",
       "    </tr>\n",
       "    <tr>\n",
       "      <th>4</th>\n",
       "      <td>206</td>\n",
       "      <td>78172.30</td>\n",
       "      <td>5740614</td>\n",
       "      <td>2921331.58</td>\n",
       "      <td>2999503.88</td>\n",
       "      <td>27202</td>\n",
       "      <td>415821.90</td>\n",
       "      <td>337649.60</td>\n",
       "      <td>0</td>\n",
       "      <td>156344.60</td>\n",
       "      <td>-5.820766e-11</td>\n",
       "      <td>1.0</td>\n",
       "      <td>0.0</td>\n",
       "      <td>0.0</td>\n",
       "      <td>0.0</td>\n",
       "      <td>0.0</td>\n",
       "    </tr>\n",
       "  </tbody>\n",
       "</table>\n",
       "</div>"
      ],
      "text/plain": [
       "   step      amount  nameOrig  oldBalanceOrig  newBalanceOrig  nameDest  \\\n",
       "0   278   330218.42   5144186        20866.00       351084.42    523341   \n",
       "1    15    11647.08    868156        30370.00        18722.92   1849210   \n",
       "2    10   152264.21   2453021       106589.00       258853.21    179836   \n",
       "3   403  1551760.63   4162339            0.00            0.00    167013   \n",
       "4   206    78172.30   5740614      2921331.58      2999503.88     27202   \n",
       "\n",
       "   oldBalanceDest  newBalanceDest  isFlaggedFraud  errorBalanceOrig  \\\n",
       "0       452419.57       122201.15               0         660436.84   \n",
       "1            0.00            0.00               0              0.00   \n",
       "2       201303.01        49038.80               0         304528.42   \n",
       "3      3198359.45      4750120.08               0        1551760.63   \n",
       "4       415821.90       337649.60               0         156344.60   \n",
       "\n",
       "   errorBalanceDest  type_CASH_IN  type_CASH_OUT  type_DEBIT  type_PAYMENT  \\\n",
       "0     -5.820766e-11           1.0            0.0         0.0           0.0   \n",
       "1      1.164708e+04           0.0            0.0         0.0           1.0   \n",
       "2      0.000000e+00           1.0            0.0         0.0           0.0   \n",
       "3      3.103521e+06           0.0            0.0         0.0           0.0   \n",
       "4     -5.820766e-11           1.0            0.0         0.0           0.0   \n",
       "\n",
       "   type_TRANSFER  \n",
       "0            0.0  \n",
       "1            0.0  \n",
       "2            0.0  \n",
       "3            1.0  \n",
       "4            0.0  "
      ]
     },
     "execution_count": 31,
     "metadata": {},
     "output_type": "execute_result"
    }
   ],
   "source": [
    "Xtest_resampled70.head()"
   ]
  },
  {
   "cell_type": "code",
   "execution_count": 32,
   "id": "9d8c848d",
   "metadata": {
    "hidden": true
   },
   "outputs": [],
   "source": [
    "Xtest_resampled70['isFraud'] = ytest_resampled30"
   ]
  },
  {
   "cell_type": "markdown",
   "id": "274d9118",
   "metadata": {},
   "source": [
    "### 50/50 Getting a sample of the test data "
   ]
  },
  {
   "cell_type": "code",
   "execution_count": 25,
   "id": "98ca2a72",
   "metadata": {},
   "outputs": [
    {
     "ename": "NameError",
     "evalue": "name 'Xtest_resampled50' is not defined",
     "output_type": "error",
     "traceback": [
      "\u001b[0;31m---------------------------------------------------------------------------\u001b[0m",
      "\u001b[0;31mNameError\u001b[0m                                 Traceback (most recent call last)",
      "Cell \u001b[0;32mIn [25], line 1\u001b[0m\n\u001b[0;32m----> 1\u001b[0m fraud_test \u001b[38;5;241m=\u001b[39m Xtest_resampled50[Xtest_resampled50\u001b[38;5;241m.\u001b[39misFraud \u001b[38;5;241m==\u001b[39m \u001b[38;5;241m1\u001b[39m]\u001b[38;5;241m.\u001b[39msample(\u001b[38;5;241m17500\u001b[39m)\n",
      "\u001b[0;31mNameError\u001b[0m: name 'Xtest_resampled50' is not defined"
     ]
    }
   ],
   "source": [
    "fraud_test = Xtest_resampled50[Xtest_resampled50.isFraud == 1].sample(17500)"
   ]
  },
  {
   "cell_type": "code",
   "execution_count": null,
   "id": "64adfba7",
   "metadata": {},
   "outputs": [],
   "source": [
    "notfraud_test = Xtest_resampled50[Xtest_resampled50.isFraud == 0].sample(17500)"
   ]
  },
  {
   "cell_type": "code",
   "execution_count": null,
   "id": "981997f1",
   "metadata": {},
   "outputs": [],
   "source": [
    "data_new_test = pd.concat([fraud_test, notfraud_test], axis=0)\n",
    "data_new_test"
   ]
  },
  {
   "cell_type": "code",
   "execution_count": null,
   "id": "95226e46",
   "metadata": {},
   "outputs": [],
   "source": [
    "X_test_SMOTE50 = data_new_test.drop('isFraud', axis=1)\n",
    "y_test_SMOTE50 = data_new_test['isFraud']"
   ]
  },
  {
   "cell_type": "markdown",
   "id": "a5d3c909",
   "metadata": {
    "heading_collapsed": true
   },
   "source": [
    "### 70/30 getting a sample of the data"
   ]
  },
  {
   "cell_type": "code",
   "execution_count": 37,
   "id": "9de2db3e",
   "metadata": {
    "hidden": true
   },
   "outputs": [],
   "source": [
    "fraud_test7_3 = Xtest_resampled70[Xtest_resampled70.isFraud == 1].sample(10500)"
   ]
  },
  {
   "cell_type": "code",
   "execution_count": 38,
   "id": "f37226a3",
   "metadata": {
    "hidden": true
   },
   "outputs": [],
   "source": [
    "notfraud_test7_3 = Xtest_resampled70[Xtest_resampled70.isFraud == 0].sample(24500)"
   ]
  },
  {
   "cell_type": "code",
   "execution_count": 39,
   "id": "f1c717f6",
   "metadata": {
    "hidden": true
   },
   "outputs": [
    {
     "data": {
      "text/html": [
       "<div>\n",
       "<style scoped>\n",
       "    .dataframe tbody tr th:only-of-type {\n",
       "        vertical-align: middle;\n",
       "    }\n",
       "\n",
       "    .dataframe tbody tr th {\n",
       "        vertical-align: top;\n",
       "    }\n",
       "\n",
       "    .dataframe thead th {\n",
       "        text-align: right;\n",
       "    }\n",
       "</style>\n",
       "<table border=\"1\" class=\"dataframe\">\n",
       "  <thead>\n",
       "    <tr style=\"text-align: right;\">\n",
       "      <th></th>\n",
       "      <th>step</th>\n",
       "      <th>amount</th>\n",
       "      <th>nameOrig</th>\n",
       "      <th>oldBalanceOrig</th>\n",
       "      <th>newBalanceOrig</th>\n",
       "      <th>nameDest</th>\n",
       "      <th>oldBalanceDest</th>\n",
       "      <th>newBalanceDest</th>\n",
       "      <th>isFlaggedFraud</th>\n",
       "      <th>errorBalanceOrig</th>\n",
       "      <th>errorBalanceDest</th>\n",
       "      <th>type_CASH_IN</th>\n",
       "      <th>type_CASH_OUT</th>\n",
       "      <th>type_DEBIT</th>\n",
       "      <th>type_PAYMENT</th>\n",
       "      <th>type_TRANSFER</th>\n",
       "      <th>isFraud</th>\n",
       "    </tr>\n",
       "  </thead>\n",
       "  <tbody>\n",
       "    <tr>\n",
       "      <th>2166677</th>\n",
       "      <td>652</td>\n",
       "      <td>6.277990e+05</td>\n",
       "      <td>5755893</td>\n",
       "      <td>6.277990e+05</td>\n",
       "      <td>0.00</td>\n",
       "      <td>294248</td>\n",
       "      <td>0.000000e+00</td>\n",
       "      <td>0.000000e+00</td>\n",
       "      <td>0</td>\n",
       "      <td>0.00</td>\n",
       "      <td>6.277990e+05</td>\n",
       "      <td>0.0</td>\n",
       "      <td>0.0</td>\n",
       "      <td>0.0</td>\n",
       "      <td>0.0</td>\n",
       "      <td>1.0</td>\n",
       "      <td>1</td>\n",
       "    </tr>\n",
       "    <tr>\n",
       "      <th>2429561</th>\n",
       "      <td>321</td>\n",
       "      <td>2.619521e+05</td>\n",
       "      <td>1937771</td>\n",
       "      <td>2.619521e+05</td>\n",
       "      <td>0.00</td>\n",
       "      <td>313786</td>\n",
       "      <td>0.000000e+00</td>\n",
       "      <td>2.619521e+05</td>\n",
       "      <td>0</td>\n",
       "      <td>0.00</td>\n",
       "      <td>5.239043e+05</td>\n",
       "      <td>0.0</td>\n",
       "      <td>1.0</td>\n",
       "      <td>0.0</td>\n",
       "      <td>0.0</td>\n",
       "      <td>0.0</td>\n",
       "      <td>1</td>\n",
       "    </tr>\n",
       "    <tr>\n",
       "      <th>1972206</th>\n",
       "      <td>200</td>\n",
       "      <td>1.119783e+06</td>\n",
       "      <td>3147650</td>\n",
       "      <td>1.119783e+06</td>\n",
       "      <td>0.00</td>\n",
       "      <td>214265</td>\n",
       "      <td>1.278534e+05</td>\n",
       "      <td>1.394403e+06</td>\n",
       "      <td>0</td>\n",
       "      <td>0.00</td>\n",
       "      <td>2.386332e+06</td>\n",
       "      <td>0.0</td>\n",
       "      <td>1.0</td>\n",
       "      <td>0.0</td>\n",
       "      <td>0.0</td>\n",
       "      <td>0.0</td>\n",
       "      <td>1</td>\n",
       "    </tr>\n",
       "    <tr>\n",
       "      <th>2078561</th>\n",
       "      <td>175</td>\n",
       "      <td>6.329629e+05</td>\n",
       "      <td>3411802</td>\n",
       "      <td>6.329629e+05</td>\n",
       "      <td>0.00</td>\n",
       "      <td>257114</td>\n",
       "      <td>2.336346e+05</td>\n",
       "      <td>8.665976e+05</td>\n",
       "      <td>0</td>\n",
       "      <td>0.00</td>\n",
       "      <td>1.265926e+06</td>\n",
       "      <td>0.0</td>\n",
       "      <td>1.0</td>\n",
       "      <td>0.0</td>\n",
       "      <td>0.0</td>\n",
       "      <td>0.0</td>\n",
       "      <td>1</td>\n",
       "    </tr>\n",
       "    <tr>\n",
       "      <th>2246668</th>\n",
       "      <td>84</td>\n",
       "      <td>7.836375e+04</td>\n",
       "      <td>4788504</td>\n",
       "      <td>7.836375e+04</td>\n",
       "      <td>0.00</td>\n",
       "      <td>299232</td>\n",
       "      <td>4.721580e+05</td>\n",
       "      <td>5.505217e+05</td>\n",
       "      <td>0</td>\n",
       "      <td>0.00</td>\n",
       "      <td>1.567275e+05</td>\n",
       "      <td>0.0</td>\n",
       "      <td>1.0</td>\n",
       "      <td>0.0</td>\n",
       "      <td>0.0</td>\n",
       "      <td>0.0</td>\n",
       "      <td>1</td>\n",
       "    </tr>\n",
       "    <tr>\n",
       "      <th>...</th>\n",
       "      <td>...</td>\n",
       "      <td>...</td>\n",
       "      <td>...</td>\n",
       "      <td>...</td>\n",
       "      <td>...</td>\n",
       "      <td>...</td>\n",
       "      <td>...</td>\n",
       "      <td>...</td>\n",
       "      <td>...</td>\n",
       "      <td>...</td>\n",
       "      <td>...</td>\n",
       "      <td>...</td>\n",
       "      <td>...</td>\n",
       "      <td>...</td>\n",
       "      <td>...</td>\n",
       "      <td>...</td>\n",
       "      <td>...</td>\n",
       "    </tr>\n",
       "    <tr>\n",
       "      <th>797970</th>\n",
       "      <td>305</td>\n",
       "      <td>7.800270e+03</td>\n",
       "      <td>2711513</td>\n",
       "      <td>0.000000e+00</td>\n",
       "      <td>0.00</td>\n",
       "      <td>1100729</td>\n",
       "      <td>0.000000e+00</td>\n",
       "      <td>0.000000e+00</td>\n",
       "      <td>0</td>\n",
       "      <td>7800.27</td>\n",
       "      <td>7.800270e+03</td>\n",
       "      <td>0.0</td>\n",
       "      <td>0.0</td>\n",
       "      <td>0.0</td>\n",
       "      <td>1.0</td>\n",
       "      <td>0.0</td>\n",
       "      <td>0</td>\n",
       "    </tr>\n",
       "    <tr>\n",
       "      <th>1069173</th>\n",
       "      <td>404</td>\n",
       "      <td>1.096319e+05</td>\n",
       "      <td>5374318</td>\n",
       "      <td>2.153200e+04</td>\n",
       "      <td>131163.90</td>\n",
       "      <td>111953</td>\n",
       "      <td>0.000000e+00</td>\n",
       "      <td>0.000000e+00</td>\n",
       "      <td>0</td>\n",
       "      <td>219263.80</td>\n",
       "      <td>1.096319e+05</td>\n",
       "      <td>1.0</td>\n",
       "      <td>0.0</td>\n",
       "      <td>0.0</td>\n",
       "      <td>0.0</td>\n",
       "      <td>0.0</td>\n",
       "      <td>0</td>\n",
       "    </tr>\n",
       "    <tr>\n",
       "      <th>552000</th>\n",
       "      <td>133</td>\n",
       "      <td>3.018477e+04</td>\n",
       "      <td>1970284</td>\n",
       "      <td>7.238613e+04</td>\n",
       "      <td>42201.35</td>\n",
       "      <td>2141477</td>\n",
       "      <td>0.000000e+00</td>\n",
       "      <td>0.000000e+00</td>\n",
       "      <td>0</td>\n",
       "      <td>-0.01</td>\n",
       "      <td>3.018477e+04</td>\n",
       "      <td>0.0</td>\n",
       "      <td>0.0</td>\n",
       "      <td>0.0</td>\n",
       "      <td>1.0</td>\n",
       "      <td>0.0</td>\n",
       "      <td>0</td>\n",
       "    </tr>\n",
       "    <tr>\n",
       "      <th>624436</th>\n",
       "      <td>333</td>\n",
       "      <td>1.471990e+05</td>\n",
       "      <td>831424</td>\n",
       "      <td>5.263230e+05</td>\n",
       "      <td>379123.97</td>\n",
       "      <td>546570</td>\n",
       "      <td>1.813010e+05</td>\n",
       "      <td>3.285000e+05</td>\n",
       "      <td>0</td>\n",
       "      <td>0.00</td>\n",
       "      <td>2.943981e+05</td>\n",
       "      <td>0.0</td>\n",
       "      <td>0.0</td>\n",
       "      <td>0.0</td>\n",
       "      <td>0.0</td>\n",
       "      <td>1.0</td>\n",
       "      <td>0</td>\n",
       "    </tr>\n",
       "    <tr>\n",
       "      <th>1560021</th>\n",
       "      <td>310</td>\n",
       "      <td>2.002925e+05</td>\n",
       "      <td>3358018</td>\n",
       "      <td>1.287200e+04</td>\n",
       "      <td>0.00</td>\n",
       "      <td>310447</td>\n",
       "      <td>3.306379e+06</td>\n",
       "      <td>3.506672e+06</td>\n",
       "      <td>0</td>\n",
       "      <td>187420.53</td>\n",
       "      <td>4.005851e+05</td>\n",
       "      <td>0.0</td>\n",
       "      <td>1.0</td>\n",
       "      <td>0.0</td>\n",
       "      <td>0.0</td>\n",
       "      <td>0.0</td>\n",
       "      <td>0</td>\n",
       "    </tr>\n",
       "  </tbody>\n",
       "</table>\n",
       "<p>35000 rows × 17 columns</p>\n",
       "</div>"
      ],
      "text/plain": [
       "         step        amount  nameOrig  oldBalanceOrig  newBalanceOrig  \\\n",
       "2166677   652  6.277990e+05   5755893    6.277990e+05            0.00   \n",
       "2429561   321  2.619521e+05   1937771    2.619521e+05            0.00   \n",
       "1972206   200  1.119783e+06   3147650    1.119783e+06            0.00   \n",
       "2078561   175  6.329629e+05   3411802    6.329629e+05            0.00   \n",
       "2246668    84  7.836375e+04   4788504    7.836375e+04            0.00   \n",
       "...       ...           ...       ...             ...             ...   \n",
       "797970    305  7.800270e+03   2711513    0.000000e+00            0.00   \n",
       "1069173   404  1.096319e+05   5374318    2.153200e+04       131163.90   \n",
       "552000    133  3.018477e+04   1970284    7.238613e+04        42201.35   \n",
       "624436    333  1.471990e+05    831424    5.263230e+05       379123.97   \n",
       "1560021   310  2.002925e+05   3358018    1.287200e+04            0.00   \n",
       "\n",
       "         nameDest  oldBalanceDest  newBalanceDest  isFlaggedFraud  \\\n",
       "2166677    294248    0.000000e+00    0.000000e+00               0   \n",
       "2429561    313786    0.000000e+00    2.619521e+05               0   \n",
       "1972206    214265    1.278534e+05    1.394403e+06               0   \n",
       "2078561    257114    2.336346e+05    8.665976e+05               0   \n",
       "2246668    299232    4.721580e+05    5.505217e+05               0   \n",
       "...           ...             ...             ...             ...   \n",
       "797970    1100729    0.000000e+00    0.000000e+00               0   \n",
       "1069173    111953    0.000000e+00    0.000000e+00               0   \n",
       "552000    2141477    0.000000e+00    0.000000e+00               0   \n",
       "624436     546570    1.813010e+05    3.285000e+05               0   \n",
       "1560021    310447    3.306379e+06    3.506672e+06               0   \n",
       "\n",
       "         errorBalanceOrig  errorBalanceDest  type_CASH_IN  type_CASH_OUT  \\\n",
       "2166677              0.00      6.277990e+05           0.0            0.0   \n",
       "2429561              0.00      5.239043e+05           0.0            1.0   \n",
       "1972206              0.00      2.386332e+06           0.0            1.0   \n",
       "2078561              0.00      1.265926e+06           0.0            1.0   \n",
       "2246668              0.00      1.567275e+05           0.0            1.0   \n",
       "...                   ...               ...           ...            ...   \n",
       "797970            7800.27      7.800270e+03           0.0            0.0   \n",
       "1069173         219263.80      1.096319e+05           1.0            0.0   \n",
       "552000              -0.01      3.018477e+04           0.0            0.0   \n",
       "624436               0.00      2.943981e+05           0.0            0.0   \n",
       "1560021         187420.53      4.005851e+05           0.0            1.0   \n",
       "\n",
       "         type_DEBIT  type_PAYMENT  type_TRANSFER  isFraud  \n",
       "2166677         0.0           0.0            1.0        1  \n",
       "2429561         0.0           0.0            0.0        1  \n",
       "1972206         0.0           0.0            0.0        1  \n",
       "2078561         0.0           0.0            0.0        1  \n",
       "2246668         0.0           0.0            0.0        1  \n",
       "...             ...           ...            ...      ...  \n",
       "797970          0.0           1.0            0.0        0  \n",
       "1069173         0.0           0.0            0.0        0  \n",
       "552000          0.0           1.0            0.0        0  \n",
       "624436          0.0           0.0            1.0        0  \n",
       "1560021         0.0           0.0            0.0        0  \n",
       "\n",
       "[35000 rows x 17 columns]"
      ]
     },
     "execution_count": 39,
     "metadata": {},
     "output_type": "execute_result"
    }
   ],
   "source": [
    "data_new_test7_3 = pd.concat([fraud_test7_3, notfraud_test7_3], axis=0)\n",
    "data_new_test7_3"
   ]
  },
  {
   "cell_type": "code",
   "execution_count": 40,
   "id": "e772c822",
   "metadata": {
    "hidden": true
   },
   "outputs": [],
   "source": [
    "X_test_SMOTE70 = data_new_test7_3.drop('isFraud', axis=1)\n",
    "y_test_SMOTE30 = data_new_test7_3['isFraud']"
   ]
  },
  {
   "cell_type": "markdown",
   "id": "245fdebf",
   "metadata": {},
   "source": [
    "## Modelling with SMOTE + RFC"
   ]
  },
  {
   "cell_type": "markdown",
   "id": "2b6acfe7",
   "metadata": {},
   "source": [
    "### 50/50 Instantiate the Random Forest Classifier model"
   ]
  },
  {
   "cell_type": "code",
   "execution_count": 41,
   "id": "e073f3cc",
   "metadata": {},
   "outputs": [],
   "source": [
    "X_train1 = data_new.drop('isFraud', axis = 1)\n",
    "y_train1 = data_new['isFraud']"
   ]
  },
  {
   "cell_type": "code",
   "execution_count": 42,
   "id": "8cbf6537",
   "metadata": {},
   "outputs": [],
   "source": [
    "from sklearn.ensemble import RandomForestClassifier\n",
    "model = RandomForestClassifier()"
   ]
  },
  {
   "cell_type": "code",
   "execution_count": 43,
   "id": "8e4d9175",
   "metadata": {},
   "outputs": [
    {
     "data": {
      "text/html": [
       "<style>#sk-container-id-1 {color: black;background-color: white;}#sk-container-id-1 pre{padding: 0;}#sk-container-id-1 div.sk-toggleable {background-color: white;}#sk-container-id-1 label.sk-toggleable__label {cursor: pointer;display: block;width: 100%;margin-bottom: 0;padding: 0.3em;box-sizing: border-box;text-align: center;}#sk-container-id-1 label.sk-toggleable__label-arrow:before {content: \"▸\";float: left;margin-right: 0.25em;color: #696969;}#sk-container-id-1 label.sk-toggleable__label-arrow:hover:before {color: black;}#sk-container-id-1 div.sk-estimator:hover label.sk-toggleable__label-arrow:before {color: black;}#sk-container-id-1 div.sk-toggleable__content {max-height: 0;max-width: 0;overflow: hidden;text-align: left;background-color: #f0f8ff;}#sk-container-id-1 div.sk-toggleable__content pre {margin: 0.2em;color: black;border-radius: 0.25em;background-color: #f0f8ff;}#sk-container-id-1 input.sk-toggleable__control:checked~div.sk-toggleable__content {max-height: 200px;max-width: 100%;overflow: auto;}#sk-container-id-1 input.sk-toggleable__control:checked~label.sk-toggleable__label-arrow:before {content: \"▾\";}#sk-container-id-1 div.sk-estimator input.sk-toggleable__control:checked~label.sk-toggleable__label {background-color: #d4ebff;}#sk-container-id-1 div.sk-label input.sk-toggleable__control:checked~label.sk-toggleable__label {background-color: #d4ebff;}#sk-container-id-1 input.sk-hidden--visually {border: 0;clip: rect(1px 1px 1px 1px);clip: rect(1px, 1px, 1px, 1px);height: 1px;margin: -1px;overflow: hidden;padding: 0;position: absolute;width: 1px;}#sk-container-id-1 div.sk-estimator {font-family: monospace;background-color: #f0f8ff;border: 1px dotted black;border-radius: 0.25em;box-sizing: border-box;margin-bottom: 0.5em;}#sk-container-id-1 div.sk-estimator:hover {background-color: #d4ebff;}#sk-container-id-1 div.sk-parallel-item::after {content: \"\";width: 100%;border-bottom: 1px solid gray;flex-grow: 1;}#sk-container-id-1 div.sk-label:hover label.sk-toggleable__label {background-color: #d4ebff;}#sk-container-id-1 div.sk-serial::before {content: \"\";position: absolute;border-left: 1px solid gray;box-sizing: border-box;top: 0;bottom: 0;left: 50%;z-index: 0;}#sk-container-id-1 div.sk-serial {display: flex;flex-direction: column;align-items: center;background-color: white;padding-right: 0.2em;padding-left: 0.2em;position: relative;}#sk-container-id-1 div.sk-item {position: relative;z-index: 1;}#sk-container-id-1 div.sk-parallel {display: flex;align-items: stretch;justify-content: center;background-color: white;position: relative;}#sk-container-id-1 div.sk-item::before, #sk-container-id-1 div.sk-parallel-item::before {content: \"\";position: absolute;border-left: 1px solid gray;box-sizing: border-box;top: 0;bottom: 0;left: 50%;z-index: -1;}#sk-container-id-1 div.sk-parallel-item {display: flex;flex-direction: column;z-index: 1;position: relative;background-color: white;}#sk-container-id-1 div.sk-parallel-item:first-child::after {align-self: flex-end;width: 50%;}#sk-container-id-1 div.sk-parallel-item:last-child::after {align-self: flex-start;width: 50%;}#sk-container-id-1 div.sk-parallel-item:only-child::after {width: 0;}#sk-container-id-1 div.sk-dashed-wrapped {border: 1px dashed gray;margin: 0 0.4em 0.5em 0.4em;box-sizing: border-box;padding-bottom: 0.4em;background-color: white;}#sk-container-id-1 div.sk-label label {font-family: monospace;font-weight: bold;display: inline-block;line-height: 1.2em;}#sk-container-id-1 div.sk-label-container {text-align: center;}#sk-container-id-1 div.sk-container {/* jupyter's `normalize.less` sets `[hidden] { display: none; }` but bootstrap.min.css set `[hidden] { display: none !important; }` so we also need the `!important` here to be able to override the default hidden behavior on the sphinx rendered scikit-learn.org. See: https://github.com/scikit-learn/scikit-learn/issues/21755 */display: inline-block !important;position: relative;}#sk-container-id-1 div.sk-text-repr-fallback {display: none;}</style><div id=\"sk-container-id-1\" class=\"sk-top-container\"><div class=\"sk-text-repr-fallback\"><pre>RandomForestClassifier()</pre><b>In a Jupyter environment, please rerun this cell to show the HTML representation or trust the notebook. <br />On GitHub, the HTML representation is unable to render, please try loading this page with nbviewer.org.</b></div><div class=\"sk-container\" hidden><div class=\"sk-item\"><div class=\"sk-estimator sk-toggleable\"><input class=\"sk-toggleable__control sk-hidden--visually\" id=\"sk-estimator-id-1\" type=\"checkbox\" checked><label for=\"sk-estimator-id-1\" class=\"sk-toggleable__label sk-toggleable__label-arrow\">RandomForestClassifier</label><div class=\"sk-toggleable__content\"><pre>RandomForestClassifier()</pre></div></div></div></div></div>"
      ],
      "text/plain": [
       "RandomForestClassifier()"
      ]
     },
     "execution_count": 43,
     "metadata": {},
     "output_type": "execute_result"
    }
   ],
   "source": [
    "#Train the model on the Training Data = X_resampled and y_resampled\n",
    "model.fit(X_train1, y_train1)"
   ]
  },
  {
   "cell_type": "code",
   "execution_count": 44,
   "id": "eaabdb28",
   "metadata": {},
   "outputs": [],
   "source": [
    "y_pred = model.predict(X_test_SMOTE50)"
   ]
  },
  {
   "cell_type": "markdown",
   "id": "9178a0e8",
   "metadata": {},
   "source": [
    "### 70/30 Instantiate the Random Forest Classifier model"
   ]
  },
  {
   "cell_type": "code",
   "execution_count": 45,
   "id": "793a3073",
   "metadata": {},
   "outputs": [],
   "source": [
    "y_pred7_3 = model.predict(X_test_SMOTE70)"
   ]
  },
  {
   "cell_type": "markdown",
   "id": "b5091f56",
   "metadata": {},
   "source": [
    "### 50/50 Score model on test data"
   ]
  },
  {
   "cell_type": "code",
   "execution_count": 46,
   "id": "47a1a438",
   "metadata": {},
   "outputs": [
    {
     "name": "stdout",
     "output_type": "stream",
     "text": [
      "RFC Recall: 0.9958285714285714\n"
     ]
    }
   ],
   "source": [
    "# Score the model on the Test data\n",
    "from sklearn.metrics import recall_score\n",
    "recall50 = recall_score(y_test_SMOTE50, y_pred)\n",
    "print(\"RFC Recall:\", recall50)"
   ]
  },
  {
   "cell_type": "code",
   "execution_count": 47,
   "id": "d3ca5f61",
   "metadata": {},
   "outputs": [
    {
     "name": "stdout",
     "output_type": "stream",
     "text": [
      "RFC Model accuracy: 0.9979\n"
     ]
    }
   ],
   "source": [
    "from sklearn.metrics import accuracy_score\n",
    "accuracy=accuracy_score(y_test_SMOTE50, y_pred)\n",
    "print('RFC Model accuracy: {0:0.4f}'.format(accuracy_score(y_test_SMOTE50, y_pred)))"
   ]
  },
  {
   "cell_type": "code",
   "execution_count": 48,
   "id": "15911f32",
   "metadata": {},
   "outputs": [
    {
     "name": "stdout",
     "output_type": "stream",
     "text": [
      "Confusion matrix\n",
      "\n",
      " [[17499     1]\n",
      " [   73 17427]]\n",
      "\n",
      "True Positives(TP) =  17499\n",
      "\n",
      "True Negatives(TN) =  17427\n",
      "\n",
      "False Positives(FP) =  1\n",
      "\n",
      "False Negatives(FN) =  73\n"
     ]
    }
   ],
   "source": [
    "from sklearn.metrics import confusion_matrix\n",
    "cm = confusion_matrix(y_test_SMOTE50, y_pred)\n",
    "print('Confusion matrix\\n\\n', cm)\n",
    "print('\\nTrue Positives(TP) = ', cm[0,0])\n",
    "print('\\nTrue Negatives(TN) = ', cm[1,1])\n",
    "print('\\nFalse Positives(FP) = ', cm[0,1])\n",
    "print('\\nFalse Negatives(FN) = ', cm[1,0])"
   ]
  },
  {
   "cell_type": "code",
   "execution_count": 53,
   "id": "79418f74",
   "metadata": {},
   "outputs": [
    {
     "data": {
      "text/plain": [
       "<AxesSubplot:>"
      ]
     },
     "execution_count": 53,
     "metadata": {},
     "output_type": "execute_result"
    },
    {
     "data": {
      "image/png": "[encoded data removed]",
      "text/plain": [
       "<Figure size 500x500 with 2 Axes>"
      ]
     },
     "metadata": {},
     "output_type": "display_data"
    }
   ],
   "source": [
    "confusion_matrix = pd.DataFrame(data=cm, columns=['Actual Positive:1', 'Actual Negative:0'], \n",
    "                                 index=['Predict Positive:1', 'Predict Negative:0'])\n",
    "\n",
    "fig, ax = plt.subplots(figsize=(5,5)) \n",
    "sns.heatmap(confusion_matrix, annot=True, fmt='d', cmap = 'PuBu', ax = ax)"
   ]
  },
  {
   "cell_type": "code",
   "execution_count": 54,
   "id": "52faf5b8",
   "metadata": {},
   "outputs": [
    {
     "data": {
      "image/png": "[encoded data removed]",
      "text/plain": [
       "<Figure size 640x480 with 1 Axes>"
      ]
     },
     "metadata": {},
     "output_type": "display_data"
    }
   ],
   "source": [
    "from sklearn.metrics import RocCurveDisplay\n",
    "RocCurveDisplay.from_estimator(model, X_test_SMOTE50, y_test_SMOTE50)\n",
    "plt.show()"
   ]
  },
  {
   "cell_type": "markdown",
   "id": "57f2723a",
   "metadata": {
    "heading_collapsed": true
   },
   "source": [
    "### Trying the above model dropping two features"
   ]
  },
  {
   "cell_type": "code",
   "execution_count": null,
   "id": "4906ef0c",
   "metadata": {
    "hidden": true
   },
   "outputs": [],
   "source": [
    "X_train1_df = X_train1.drop('errorBalanceOrig', axis = 1)\n",
    "X_train1_df1 = X_train1_df.drop('newBalanceOrig', axis = 1)\n",
    "X_train1_df1.head()"
   ]
  },
  {
   "cell_type": "code",
   "execution_count": null,
   "id": "81a8684e",
   "metadata": {
    "hidden": true
   },
   "outputs": [],
   "source": [
    "model.fit(X_train1_df1, y_train1)"
   ]
  },
  {
   "cell_type": "code",
   "execution_count": null,
   "id": "59a2bb12",
   "metadata": {
    "hidden": true
   },
   "outputs": [],
   "source": [
    "X_test_df = X_test_SMOTE50.drop('errorBalanceOrig', axis = 1)\n",
    "X_test_df1 = X_test_df.drop('newBalanceOrig', axis = 1)"
   ]
  },
  {
   "cell_type": "code",
   "execution_count": null,
   "id": "1ff47b24",
   "metadata": {
    "hidden": true
   },
   "outputs": [],
   "source": [
    "y_pred_df1 = model.predict(X_test_df1)"
   ]
  },
  {
   "cell_type": "code",
   "execution_count": null,
   "id": "d931b4ff",
   "metadata": {
    "hidden": true
   },
   "outputs": [],
   "source": [
    "recall50_df1 = recall_score(y_test_SMOTE50, y_pred_df1)\n",
    "print(\"Recall:\", recall50_df1)"
   ]
  },
  {
   "cell_type": "markdown",
   "id": "23c71d3c",
   "metadata": {},
   "source": [
    "### 70/30 Score model on test data"
   ]
  },
  {
   "cell_type": "code",
   "execution_count": null,
   "id": "1d72b5ed",
   "metadata": {},
   "outputs": [],
   "source": [
    "recall70 = recall_score(y_test_SMOTE30, y_pred7_3)\n",
    "print(\"Recall:\", recall70)"
   ]
  },
  {
   "cell_type": "code",
   "execution_count": null,
   "id": "fe8ccfa7",
   "metadata": {},
   "outputs": [],
   "source": [
    "accuracy1 =accuracy_score(y_test_SMOTE30, y_pred7_3)\n",
    "print('RFC Model accuracy: {0:0.4f}'.format(accuracy_score(y_test_SMOTE30, y_pred7_3)))"
   ]
  },
  {
   "cell_type": "code",
   "execution_count": null,
   "id": "9423e203",
   "metadata": {},
   "outputs": [],
   "source": [
    "print(y_test_SMOTE30.shape)\n",
    "print(y_pred7_3.shape)"
   ]
  },
  {
   "cell_type": "code",
   "execution_count": null,
   "id": "f1bfc1bf",
   "metadata": {},
   "outputs": [],
   "source": [
    "from sklearn.metrics import confusion_matrix\n",
    "cm = confusion_matrix(y_test_SMOTE30, y_pred7_3)\n",
    "print('Confusion matrix\\n\\n', cm)\n",
    "print('\\nTrue Positives(TP) = ', cm[0,0])\n",
    "print('\\nTrue Negatives(TN) = ', cm[1,1])\n",
    "print('\\nFalse Positives(FP) = ', cm[0,1])\n",
    "print('\\nFalse Negatives(FN) = ', cm[1,0])"
   ]
  },
  {
   "cell_type": "code",
   "execution_count": null,
   "id": "94e64a05",
   "metadata": {},
   "outputs": [],
   "source": [
    "confusion_matrix = pd.DataFrame(data=cm, columns=['Actual Positive:1', 'Actual Negative:0'], \n",
    "                                 index=['Predict Positive:1', 'Predict Negative:0'])\n",
    "\n",
    "fig, ax = plt.subplots(figsize=(5,5)) \n",
    "sns.heatmap(confusion_matrix, annot=True, fmt='d', cmap = 'PuBu', ax = ax)"
   ]
  },
  {
   "cell_type": "code",
   "execution_count": null,
   "id": "c2e713e0",
   "metadata": {},
   "outputs": [],
   "source": [
    "RocCurveDisplay.from_estimator(model, X_test_SMOTE70, y_test_SMOTE30)\n",
    "plt.show()"
   ]
  },
  {
   "cell_type": "markdown",
   "id": "0c622dc4",
   "metadata": {},
   "source": [
    "## Modelling with SMOTE + XGBClassifier"
   ]
  },
  {
   "cell_type": "markdown",
   "id": "dc3ebdd3",
   "metadata": {},
   "source": [
    "### 50/50 Instantiate the XGBC Model"
   ]
  },
  {
   "cell_type": "code",
   "execution_count": null,
   "id": "1260ce49",
   "metadata": {},
   "outputs": [],
   "source": [
    "# Extreme Gradient Boosting algorithm\n",
    "from xgboost import XGBClassifier\n",
    "from sklearn.metrics import accuracy_score\n",
    "\n",
    "modelXGBC = XGBClassifier()\n",
    "\n",
    "modelXGBC.fit(X_train1, y_train1)"
   ]
  },
  {
   "cell_type": "code",
   "execution_count": null,
   "id": "1fa3dd20",
   "metadata": {},
   "outputs": [],
   "source": [
    "y_pred_50XGBC = modelXGBC.predict(X_test_SMOTE50)"
   ]
  },
  {
   "cell_type": "code",
   "execution_count": null,
   "id": "bfe728ee",
   "metadata": {},
   "outputs": [],
   "source": [
    "recall50XGBC = recall_score(y_test_SMOTE50, y_pred_50XGBC)\n",
    "print(\"Recall:\", recall50XGBC)"
   ]
  },
  {
   "cell_type": "code",
   "execution_count": null,
   "id": "47bfd861",
   "metadata": {},
   "outputs": [],
   "source": [
    "accuracy2 =accuracy_score(y_test_SMOTE50, y_pred_50XGBC)\n",
    "print('XGBC Model accuracy: {0:0.4f}'.format(accuracy_score(y_test_SMOTE50, y_pred_50XGBC)))"
   ]
  },
  {
   "cell_type": "code",
   "execution_count": null,
   "id": "1dd97baa",
   "metadata": {},
   "outputs": [],
   "source": [
    "from sklearn.metrics import confusion_matrix\n",
    "cm = confusion_matrix(y_test_SMOTE50, y_pred_50XGBC)\n",
    "print('Confusion matrix\\n\\n', cm)\n",
    "print('\\nTrue Positives(TP) = ', cm[0,0])\n",
    "print('\\nTrue Negatives(TN) = ', cm[1,1])\n",
    "print('\\nFalse Positives(FP) = ', cm[0,1])\n",
    "print('\\nFalse Negatives(FN) = ', cm[1,0])"
   ]
  },
  {
   "cell_type": "code",
   "execution_count": null,
   "id": "4b3d8aa8",
   "metadata": {},
   "outputs": [],
   "source": [
    "confusion_matrix = pd.DataFrame(data=cm, columns=['Actual Positive:1', 'Actual Negative:0'], \n",
    "                                 index=['Predict Positive:1', 'Predict Negative:0'])\n",
    "\n",
    "fig, ax = plt.subplots(figsize=(5,5)) \n",
    "sns.heatmap(confusion_matrix, annot=True, fmt='d', cmap = 'PuBu', ax = ax)"
   ]
  },
  {
   "cell_type": "code",
   "execution_count": null,
   "id": "30a56062",
   "metadata": {},
   "outputs": [],
   "source": [
    "RocCurveDisplay.from_estimator(modelXGBC, X_test_SMOTE50, y_test_SMOTE50)\n",
    "plt.show()"
   ]
  },
  {
   "cell_type": "markdown",
   "id": "a2b1737d",
   "metadata": {},
   "source": [
    "### 70/30 Instantiate the XGBC Model"
   ]
  },
  {
   "cell_type": "code",
   "execution_count": null,
   "id": "0c6a1d19",
   "metadata": {},
   "outputs": [],
   "source": [
    "y_pred_30XGBC = modelXGBC.predict(X_test_SMOTE70)"
   ]
  },
  {
   "cell_type": "code",
   "execution_count": null,
   "id": "fd9c34ba",
   "metadata": {},
   "outputs": [],
   "source": [
    "recall30XGBC = recall_score(y_test_SMOTE30, y_pred_30XGBC)\n",
    "print(\"Recall:\", recall30XGBC)"
   ]
  },
  {
   "cell_type": "code",
   "execution_count": null,
   "id": "06ed53f8",
   "metadata": {},
   "outputs": [],
   "source": [
    "accuracy3 =accuracy_score(y_test_SMOTE30, y_pred_30XGBC)\n",
    "print('XGBC Model accuracy: {0:0.4f}'.format(accuracy_score(y_test_SMOTE30, y_pred_30XGBC)))"
   ]
  },
  {
   "cell_type": "code",
   "execution_count": null,
   "id": "e037df1c",
   "metadata": {},
   "outputs": [],
   "source": [
    "from sklearn.metrics import confusion_matrix\n",
    "cm = confusion_matrix(y_test_SMOTE30, y_pred_30XGBC)\n",
    "print('Confusion matrix\\n\\n', cm)\n",
    "print('\\nTrue Positives(TP) = ', cm[0,0])\n",
    "print('\\nTrue Negatives(TN) = ', cm[1,1])\n",
    "print('\\nFalse Positives(FP) = ', cm[0,1])\n",
    "print('\\nFalse Negatives(FN) = ', cm[1,0])"
   ]
  },
  {
   "cell_type": "code",
   "execution_count": null,
   "id": "87c65ac5",
   "metadata": {},
   "outputs": [],
   "source": [
    "confusion_matrix = pd.DataFrame(data=cm, columns=['Actual Positive:1', 'Actual Negative:0'], \n",
    "                                 index=['Predict Positive:1', 'Predict Negative:0'])\n",
    "\n",
    "fig, ax = plt.subplots(figsize=(5,5)) \n",
    "sns.heatmap(confusion_matrix, annot=True, fmt='d', cmap = 'PuBu', ax = ax)"
   ]
  },
  {
   "cell_type": "code",
   "execution_count": null,
   "id": "1aa0c706",
   "metadata": {},
   "outputs": [],
   "source": [
    "RocCurveDisplay.from_estimator(modelXGBC, X_test_SMOTE70, y_test_SMOTE30)\n",
    "plt.show()"
   ]
  },
  {
   "cell_type": "markdown",
   "id": "33fc34e3",
   "metadata": {
    "heading_collapsed": true
   },
   "source": [
    "## Rebalancing with ADASYN"
   ]
  },
  {
   "cell_type": "code",
   "execution_count": null,
   "id": "5d52068f",
   "metadata": {
    "hidden": true
   },
   "outputs": [],
   "source": [
    "X_resampled_ADASYN, y_resampled_ADASYN = ADASYN().fit_resample(X_train, y_train)"
   ]
  },
  {
   "cell_type": "code",
   "execution_count": null,
   "id": "4c86d7fc",
   "metadata": {
    "hidden": true
   },
   "outputs": [],
   "source": [
    "X_resampled_ADASYN['isFraud'] = y_resampled_ADASYN"
   ]
  },
  {
   "cell_type": "code",
   "execution_count": null,
   "id": "7197ddef",
   "metadata": {
    "hidden": true
   },
   "outputs": [],
   "source": [
    "#Check if data is balanced after ADASYN balancing\n",
    "import matplotlib.pyplot as plt\n",
    "labels = 'Not Fraud','Fraud'\n",
    "values=X_resampled_ADASYN['isFraud'].value_counts()\n",
    "fig, ax = plt.subplots()\n",
    "ax.pie(values, labels=labels)"
   ]
  },
  {
   "cell_type": "markdown",
   "id": "6060af8c",
   "metadata": {
    "hidden": true
   },
   "source": [
    "### Getting a sample"
   ]
  },
  {
   "cell_type": "code",
   "execution_count": null,
   "id": "e61a01f9",
   "metadata": {
    "hidden": true
   },
   "outputs": [],
   "source": [
    "fraud_A = X_resampled_ADASYN[X_resampled_ADASYN.isFraud == 1].sample(100000)\n",
    "notfraud_A =X_resampled_ADASYN[X_resampled_ADASYN.isFraud == 0].sample(100000)"
   ]
  },
  {
   "cell_type": "code",
   "execution_count": null,
   "id": "75ac5b79",
   "metadata": {
    "hidden": true
   },
   "outputs": [],
   "source": [
    "data_new_A = pd.concat([fraud, notfraud], axis=0)"
   ]
  },
  {
   "cell_type": "markdown",
   "id": "21187a35",
   "metadata": {
    "heading_collapsed": true
   },
   "source": [
    "## Modelling with ADASYN"
   ]
  },
  {
   "cell_type": "markdown",
   "id": "3c8396c9",
   "metadata": {
    "hidden": true
   },
   "source": [
    "### Intantiate the Random Forest Classifier model"
   ]
  },
  {
   "cell_type": "code",
   "execution_count": null,
   "id": "4a49c0d9",
   "metadata": {
    "hidden": true
   },
   "outputs": [],
   "source": [
    "X_train_A = data_new_A.drop('isFraud', axis = 1)\n",
    "y_train_A = data_new_A['isFraud']"
   ]
  },
  {
   "cell_type": "code",
   "execution_count": null,
   "id": "09f5afcb",
   "metadata": {
    "hidden": true
   },
   "outputs": [],
   "source": [
    "model = RandomForestClassifier()"
   ]
  },
  {
   "cell_type": "code",
   "execution_count": null,
   "id": "b3621070",
   "metadata": {
    "hidden": true
   },
   "outputs": [],
   "source": [
    "model.fit(X_train_A, y_train_A)"
   ]
  },
  {
   "cell_type": "code",
   "execution_count": null,
   "id": "9c0e9fae",
   "metadata": {
    "hidden": true
   },
   "outputs": [],
   "source": [
    "y_pred_A = model.predict(X_test)"
   ]
  },
  {
   "cell_type": "markdown",
   "id": "f254600f",
   "metadata": {
    "hidden": true
   },
   "source": [
    "### Score model on test data"
   ]
  },
  {
   "cell_type": "code",
   "execution_count": null,
   "id": "87de5002",
   "metadata": {
    "hidden": true
   },
   "outputs": [],
   "source": [
    "# Score the model on the Test data\n",
    "recall_A = recall_score(y_test, y_pred)\n",
    "print(\"Recall:\", recall)"
   ]
  },
  {
   "cell_type": "markdown",
   "id": "67b48961",
   "metadata": {},
   "source": [
    "## Feature Importance"
   ]
  },
  {
   "cell_type": "markdown",
   "id": "95814f63",
   "metadata": {},
   "source": [
    "### SMOTE"
   ]
  },
  {
   "cell_type": "markdown",
   "id": "cf8db6ec",
   "metadata": {},
   "source": [
    "### 50/50 RFC"
   ]
  },
  {
   "cell_type": "code",
   "execution_count": null,
   "id": "0f6cad82",
   "metadata": {},
   "outputs": [],
   "source": [
    "from sklearn.inspection import permutation_importance\n",
    "RFC_model50 = RandomForestClassifier().fit(X_train1, y_train1) # Fit model\n",
    "permutation_score = permutation_importance(RFC_model50, X_train1, y_train1, n_repeats=10, scoring = 'recall') # Perform Permutation\"\n",
    "importance_df50 = pd.DataFrame(np.vstack((X.columns, permutation_score.importances_mean)).T) # Unstack results\"\n",
    "importance_df50.columns=['feature','score_decrease']\n",
    "importance_df50.sort_values(by='score_decrease', ascending = False) # Order by importance\""
   ]
  },
  {
   "cell_type": "markdown",
   "id": "7508658a",
   "metadata": {},
   "source": [
    "### 50/50 XGBC"
   ]
  },
  {
   "cell_type": "code",
   "execution_count": null,
   "id": "92725740",
   "metadata": {},
   "outputs": [],
   "source": [
    "XGBC_model = XGBClassifier().fit(X_train1, y_train1) # Fit model\n",
    "permutation_score = permutation_importance(XGBC_model, X_train1, y_train1, n_repeats=10, scoring = 'recall') # Perform Permutation\"\n",
    "importance_xgbc = pd.DataFrame(np.vstack((X.columns, permutation_score.importances_mean)).T) # Unstack results\"\n",
    "importance_xgbc.columns=['feature','score_decrease']\n",
    "importance_xgbc.sort_values(by='score_decrease', ascending = False) # Order by importance\""
   ]
  },
  {
   "cell_type": "markdown",
   "id": "a5c6cfe7",
   "metadata": {
    "heading_collapsed": true
   },
   "source": [
    "### ADYSN"
   ]
  },
  {
   "cell_type": "code",
   "execution_count": null,
   "id": "95e782d9",
   "metadata": {
    "hidden": true
   },
   "outputs": [],
   "source": [
    "RFC_model = RandomForestClassifier().fit(X_train1, y_train1) # Fit model\n",
    "permutation_score = permutation_importance(RFC_model, X_train_A, y_train_A, n_repeats=10, scoring = 'recall') # Perform Permutation\"\n",
    "importance_df = pd.DataFrame(np.vstack((X.columns, permutation_score.importances_mean)).T) # Unstack results\"\n",
    "importance_df.columns=['feature','score_decrease']\n",
    "importance_df.sort_values(by='score_decrease', ascending = False) # Order by importance\""
   ]
  }
 ],
 "metadata": {
  "kernelspec": {
   "display_name": "Python 3 (ipykernel)",
   "language": "python",
   "name": "python3"
  },
  "language_info": {
   "codemirror_mode": {
    "name": "ipython",
    "version": 3
   },
   "file_extension": ".py",
   "mimetype": "text/x-python",
   "name": "python",
   "nbconvert_exporter": "python",
   "pygments_lexer": "ipython3",
   "version": "3.10.6"
  },
  "toc": {
   "base_numbering": 1,
   "nav_menu": {},
   "number_sections": true,
   "sideBar": true,
   "skip_h1_title": false,
   "title_cell": "Table of Contents",
   "title_sidebar": "Contents",
   "toc_cell": false,
   "toc_position": {
    "height": "calc(100% - 180px)",
    "left": "10px",
    "top": "150px",
    "width": "288px"
   },
   "toc_section_display": true,
   "toc_window_display": true
  }
 },
 "nbformat": 4,
 "nbformat_minor": 5
}
