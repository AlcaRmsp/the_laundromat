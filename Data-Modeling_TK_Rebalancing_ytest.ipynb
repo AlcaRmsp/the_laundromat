{
 "cells": [
  {
   "cell_type": "markdown",
   "id": "90efbced",
   "metadata": {},
   "source": [
    "## Data Exploration"
   ]
  },
  {
   "cell_type": "code",
   "execution_count": 1,
   "id": "2d9ed147",
   "metadata": {},
   "outputs": [],
   "source": [
    "%load_ext autoreload\n",
    "%autoreload 2"
   ]
  },
  {
   "cell_type": "code",
   "execution_count": 2,
   "id": "a1bef2a2",
   "metadata": {},
   "outputs": [],
   "source": [
    "# Uploading Libraries\n",
    "import matplotlib.pyplot as plt\n",
    "import pandas as pd\n",
    "import seaborn as sns\n",
    "import numpy as np"
   ]
  },
  {
   "cell_type": "code",
   "execution_count": 3,
   "id": "a3cab543",
   "metadata": {},
   "outputs": [
    {
     "data": {
      "text/plain": [
       "'/Users/tajania/code/AlcaRmsp/the_laundromat'"
      ]
     },
     "execution_count": 3,
     "metadata": {},
     "output_type": "execute_result"
    }
   ],
   "source": [
    "# Find the path to the dataset\n",
    "import os\n",
    "os.getcwd()"
   ]
  },
  {
   "cell_type": "code",
   "execution_count": 4,
   "id": "53d10298",
   "metadata": {},
   "outputs": [
    {
     "data": {
      "text/plain": [
       "'/Users/tajania/code/AlcaRmsp/the_laundromat'"
      ]
     },
     "execution_count": 4,
     "metadata": {},
     "output_type": "execute_result"
    }
   ],
   "source": [
    "# create a csv path\n",
    "csv_path = '/Users/tajania/code/AlcaRmsp/the_laundromat'\n",
    "csv_path"
   ]
  },
  {
   "cell_type": "code",
   "execution_count": 5,
   "id": "44ac9d79",
   "metadata": {},
   "outputs": [
    {
     "data": {
      "text/html": [
       "<div>\n",
       "<style scoped>\n",
       "    .dataframe tbody tr th:only-of-type {\n",
       "        vertical-align: middle;\n",
       "    }\n",
       "\n",
       "    .dataframe tbody tr th {\n",
       "        vertical-align: top;\n",
       "    }\n",
       "\n",
       "    .dataframe thead th {\n",
       "        text-align: right;\n",
       "    }\n",
       "</style>\n",
       "<table border=\"1\" class=\"dataframe\">\n",
       "  <thead>\n",
       "    <tr style=\"text-align: right;\">\n",
       "      <th></th>\n",
       "      <th>step</th>\n",
       "      <th>type</th>\n",
       "      <th>amount</th>\n",
       "      <th>nameOrig</th>\n",
       "      <th>oldbalanceOrg</th>\n",
       "      <th>newbalanceOrig</th>\n",
       "      <th>nameDest</th>\n",
       "      <th>oldbalanceDest</th>\n",
       "      <th>newbalanceDest</th>\n",
       "      <th>isFraud</th>\n",
       "      <th>isFlaggedFraud</th>\n",
       "    </tr>\n",
       "  </thead>\n",
       "  <tbody>\n",
       "    <tr>\n",
       "      <th>0</th>\n",
       "      <td>1</td>\n",
       "      <td>PAYMENT</td>\n",
       "      <td>9839.64</td>\n",
       "      <td>C1231006815</td>\n",
       "      <td>170136.0</td>\n",
       "      <td>160296.36</td>\n",
       "      <td>M1979787155</td>\n",
       "      <td>0.0</td>\n",
       "      <td>0.0</td>\n",
       "      <td>0</td>\n",
       "      <td>0</td>\n",
       "    </tr>\n",
       "    <tr>\n",
       "      <th>1</th>\n",
       "      <td>1</td>\n",
       "      <td>PAYMENT</td>\n",
       "      <td>1864.28</td>\n",
       "      <td>C1666544295</td>\n",
       "      <td>21249.0</td>\n",
       "      <td>19384.72</td>\n",
       "      <td>M2044282225</td>\n",
       "      <td>0.0</td>\n",
       "      <td>0.0</td>\n",
       "      <td>0</td>\n",
       "      <td>0</td>\n",
       "    </tr>\n",
       "    <tr>\n",
       "      <th>2</th>\n",
       "      <td>1</td>\n",
       "      <td>TRANSFER</td>\n",
       "      <td>181.00</td>\n",
       "      <td>C1305486145</td>\n",
       "      <td>181.0</td>\n",
       "      <td>0.00</td>\n",
       "      <td>C553264065</td>\n",
       "      <td>0.0</td>\n",
       "      <td>0.0</td>\n",
       "      <td>1</td>\n",
       "      <td>0</td>\n",
       "    </tr>\n",
       "    <tr>\n",
       "      <th>3</th>\n",
       "      <td>1</td>\n",
       "      <td>CASH_OUT</td>\n",
       "      <td>181.00</td>\n",
       "      <td>C840083671</td>\n",
       "      <td>181.0</td>\n",
       "      <td>0.00</td>\n",
       "      <td>C38997010</td>\n",
       "      <td>21182.0</td>\n",
       "      <td>0.0</td>\n",
       "      <td>1</td>\n",
       "      <td>0</td>\n",
       "    </tr>\n",
       "    <tr>\n",
       "      <th>4</th>\n",
       "      <td>1</td>\n",
       "      <td>PAYMENT</td>\n",
       "      <td>11668.14</td>\n",
       "      <td>C2048537720</td>\n",
       "      <td>41554.0</td>\n",
       "      <td>29885.86</td>\n",
       "      <td>M1230701703</td>\n",
       "      <td>0.0</td>\n",
       "      <td>0.0</td>\n",
       "      <td>0</td>\n",
       "      <td>0</td>\n",
       "    </tr>\n",
       "  </tbody>\n",
       "</table>\n",
       "</div>"
      ],
      "text/plain": [
       "   step      type    amount     nameOrig  oldbalanceOrg  newbalanceOrig  \\\n",
       "0     1   PAYMENT   9839.64  C1231006815       170136.0       160296.36   \n",
       "1     1   PAYMENT   1864.28  C1666544295        21249.0        19384.72   \n",
       "2     1  TRANSFER    181.00  C1305486145          181.0            0.00   \n",
       "3     1  CASH_OUT    181.00   C840083671          181.0            0.00   \n",
       "4     1   PAYMENT  11668.14  C2048537720        41554.0        29885.86   \n",
       "\n",
       "      nameDest  oldbalanceDest  newbalanceDest  isFraud  isFlaggedFraud  \n",
       "0  M1979787155             0.0             0.0        0               0  \n",
       "1  M2044282225             0.0             0.0        0               0  \n",
       "2   C553264065             0.0             0.0        1               0  \n",
       "3    C38997010         21182.0             0.0        1               0  \n",
       "4  M1230701703             0.0             0.0        0               0  "
      ]
     },
     "execution_count": 5,
     "metadata": {},
     "output_type": "execute_result"
    }
   ],
   "source": [
    "# Uploading dataset into a dataframe \n",
    "df=pd.read_csv(os.path.join(csv_path, 'raw_data/data.csv'))\n",
    "df.head()"
   ]
  },
  {
   "cell_type": "code",
   "execution_count": 6,
   "id": "7c080569",
   "metadata": {},
   "outputs": [
    {
     "ename": "NameError",
     "evalue": "name 'X' is not defined",
     "output_type": "error",
     "traceback": [
      "\u001b[0;31m---------------------------------------------------------------------------\u001b[0m",
      "\u001b[0;31mNameError\u001b[0m                                 Traceback (most recent call last)",
      "Cell \u001b[0;32mIn [6], line 1\u001b[0m\n\u001b[0;32m----> 1\u001b[0m limit \u001b[38;5;241m=\u001b[39m \u001b[38;5;28mlen\u001b[39m(\u001b[43mX\u001b[49m)\n\u001b[1;32m      3\u001b[0m \u001b[38;5;28;01mdef\u001b[39;00m \u001b[38;5;21mplotStrip\u001b[39m(x, y, hue, figsize \u001b[38;5;241m=\u001b[39m (\u001b[38;5;241m14\u001b[39m, \u001b[38;5;241m9\u001b[39m)):\n\u001b[1;32m      5\u001b[0m     fig \u001b[38;5;241m=\u001b[39m plt\u001b[38;5;241m.\u001b[39mfigure(figsize \u001b[38;5;241m=\u001b[39m figsize)\n",
      "\u001b[0;31mNameError\u001b[0m: name 'X' is not defined"
     ]
    }
   ],
   "source": [
    "limit = len(X)\n",
    "\n",
    "def plotStrip(x, y, hue, figsize = (14, 9)):\n",
    "    \n",
    "    fig = plt.figure(figsize = figsize)\n",
    "    colours = plt.cm.tab10(np.linspace(0, 1, 9))\n",
    "    with sns.axes_style('ticks'):\n",
    "        ax = sns.stripplot(x, y, \\\n",
    "             hue = hue, jitter = 0.4, marker = '.', \\\n",
    "             size = 4, palette = colours)\n",
    "        ax.set_xlabel('')\n",
    "        ax.set_xticklabels(['genuine', 'fraudulent'], size = 16)\n",
    "        for axis in ['top','bottom','left','right']:\n",
    "            ax.spines[axis].set_linewidth(2)\n",
    "\n",
    "        handles, labels = ax.get_legend_handles_labels()\n",
    "        plt.legend(handles, ['Transfer', 'Cash out'], bbox_to_anchor=(1, 1), \\\n",
    "               loc=2, borderaxespad=0, fontsize = 16);\n",
    "    return ax"
   ]
  },
  {
   "cell_type": "code",
   "execution_count": null,
   "id": "20092739",
   "metadata": {},
   "outputs": [],
   "source": [
    "X_plt=df.drop(df['isFraud'])\n",
    "ax = plotStrip(df['isFraud'][:limit], df['step'][:limit], df['type'][:limit])\n",
    "ax.set_ylabel('time [hour]', size = 16)\n",
    "ax.set_title('Striped vs. homogenous fingerprints of genuine and fraudulent \\\n",
    "transactions over time', size = 20);"
   ]
  },
  {
   "cell_type": "code",
   "execution_count": null,
   "id": "57f31720",
   "metadata": {},
   "outputs": [],
   "source": [
    "# change names of the columns to be uniform\n",
    "df = df.rename(columns={'oldbalanceOrg':'oldBalanceOrig', 'newbalanceOrig':'newBalanceOrig', \\\n",
    "                        'oldbalanceDest':'oldBalanceDest', 'newbalanceDest':'newBalanceDest'})\n",
    "df.head()"
   ]
  },
  {
   "cell_type": "code",
   "execution_count": null,
   "id": "22eae86d",
   "metadata": {},
   "outputs": [],
   "source": [
    "# Get a description of the dataset\n",
    "df.describe()"
   ]
  },
  {
   "cell_type": "code",
   "execution_count": null,
   "id": "688760cb",
   "metadata": {},
   "outputs": [],
   "source": [
    "# Correlation matrice\n",
    "df.corr()"
   ]
  },
  {
   "cell_type": "code",
   "execution_count": null,
   "id": "f5551286",
   "metadata": {},
   "outputs": [],
   "source": [
    "# summarize class distribution\n",
    "from collections import Counter\n",
    "from matplotlib import pyplot\n",
    "counter = Counter(df['isFraud'])\n",
    "print(counter)"
   ]
  },
  {
   "cell_type": "code",
   "execution_count": null,
   "id": "6ffd3217",
   "metadata": {},
   "outputs": [],
   "source": [
    "#import seaborn as sns\n",
    "# Heatmap of pairwise correlations\n",
    "#correlation_matrix = df.corr()\n",
    "#column_names = correlation_matrix.columns\n",
    "#sns.heatmap(correlation_matrix, xticklabels=column_names, yticklabels=column_names,cmap= \"bwr\");"
   ]
  },
  {
   "cell_type": "code",
   "execution_count": null,
   "id": "534fac6e",
   "metadata": {},
   "outputs": [],
   "source": [
    "import seaborn as sns\n",
    "# Heatmap\n",
    "corr = df.corr()\n",
    "sns.heatmap(corr,\n",
    "xticklabels=corr.columns,\n",
    "yticklabels=corr.columns,\n",
    "cmap= 'YlGnBu')\n",
    "corr_df = corr.unstack().reset_index() # Unstack correlation matrix \n",
    "corr_df.columns = ['feature_1','feature_2', 'correlation'] # rename columns\n",
    "corr_df.sort_values(by='correlation',ascending=False, inplace=True) # sort by correlation\n",
    "corr_df = corr_df[corr_df['feature_1'] != corr_df['feature_2']] # Remove self correlation\n",
    "corr_df.head()"
   ]
  },
  {
   "cell_type": "code",
   "execution_count": null,
   "id": "243fe37d",
   "metadata": {},
   "outputs": [],
   "source": [
    "# Get the shape of dataset\n",
    "df.shape"
   ]
  },
  {
   "cell_type": "code",
   "execution_count": null,
   "id": "c9c41529",
   "metadata": {},
   "outputs": [],
   "source": [
    "# Get the type of dataset\n",
    "df.dtypes"
   ]
  },
  {
   "cell_type": "code",
   "execution_count": null,
   "id": "d6ddcc4b",
   "metadata": {},
   "outputs": [],
   "source": [
    "# check nil values in the dataset\n",
    "df.isnull().values.any()"
   ]
  },
  {
   "cell_type": "markdown",
   "id": "10b614f7",
   "metadata": {},
   "source": [
    "### Fraudulent transactions exploration"
   ]
  },
  {
   "cell_type": "markdown",
   "id": "bc16cecf",
   "metadata": {},
   "source": [
    "The dataset contains two columns called \"isFraud\" and \"isFlaggedFraud\". The column \"isFlaggedFraud\" traces fraudulent transactions following rule based  algorithm but are yet to be reviewed and investigated by an investogator. The column \"isFraud\" has been reviewd by the investigator"
   ]
  },
  {
   "cell_type": "code",
   "execution_count": null,
   "id": "42f95f67",
   "metadata": {},
   "outputs": [],
   "source": [
    "# Count the number and percentage of faudulent transaction in the dataset\n",
    "number_fraud=(df.isFraud==1).value_counts()\n",
    "percentage_fraud=number_fraud/len(df)\n",
    "print(number_fraud)\n",
    "print(percentage_fraud)"
   ]
  },
  {
   "cell_type": "markdown",
   "id": "1bff56ff",
   "metadata": {},
   "source": [
    "Conclusion: 8213 transactions out of 6362620 are fraudulent "
   ]
  },
  {
   "cell_type": "code",
   "execution_count": null,
   "id": "aa72d8d7",
   "metadata": {},
   "outputs": [],
   "source": [
    "# Overview of transactions which are actual fraud per type of transaction\n",
    "ax = df.groupby(['type', 'isFraud']).size().plot(kind='bar')\n",
    "ax.set_title(\"# of transaction which are the actual fraud per transaction type\")\n",
    "ax.set_xlabel(\"(Type, isFraud)\")\n",
    "ax.set_ylabel(\"Count of transaction\")\n",
    "for p in ax.patches:\n",
    "    ax.annotate(str(format(int(p.get_height()), ',d')), (p.get_x(), p.get_height()*1.01))"
   ]
  },
  {
   "cell_type": "code",
   "execution_count": null,
   "id": "9bee70e7",
   "metadata": {},
   "outputs": [],
   "source": [
    "# Count the number of rows/data per type of operation\n",
    "df['type'].value_counts()"
   ]
  },
  {
   "cell_type": "code",
   "execution_count": null,
   "id": "09c4a2e1",
   "metadata": {},
   "outputs": [],
   "source": [
    "# Count number of fraudulent transaction when type is PAYMENT\n",
    "df[df['type']=='PAYMENT'][df.isFraud==1].count()"
   ]
  },
  {
   "cell_type": "code",
   "execution_count": null,
   "id": "f8abebba",
   "metadata": {},
   "outputs": [],
   "source": [
    "# Count number of fraudulent transaction when type is TRANSFER\n",
    "df[df['type']=='TRANSFER'][df.isFraud==1].count()"
   ]
  },
  {
   "cell_type": "code",
   "execution_count": null,
   "id": "c475b786",
   "metadata": {},
   "outputs": [],
   "source": [
    "# Count number of fraudulent transaction when type is CASH_IN\n",
    "df[df['type']=='CASH_IN'][df.isFraud==1].count()"
   ]
  },
  {
   "cell_type": "code",
   "execution_count": null,
   "id": "8df0fcb4",
   "metadata": {},
   "outputs": [],
   "source": [
    "# Count number of fraudulent transaction when type is CASH_OUT\n",
    "df[df['type']=='CASH_OUT'][df.isFraud==1].count()"
   ]
  },
  {
   "cell_type": "code",
   "execution_count": null,
   "id": "c0821d0c",
   "metadata": {},
   "outputs": [],
   "source": [
    "# Count number of fraudulent transaction when type is DEBIT\n",
    "df[df['type']=='DEBIT'][df.isFraud==1].count()"
   ]
  },
  {
   "cell_type": "markdown",
   "id": "9d8010a2",
   "metadata": {},
   "source": [
    "Conclusion: Fraudulent transactions happens during TRANSFER and CASH_OUT operations\n"
   ]
  },
  {
   "cell_type": "markdown",
   "id": "ce95387d",
   "metadata": {},
   "source": [
    "### Flagged as fraud vs actual fraud"
   ]
  },
  {
   "cell_type": "markdown",
   "id": "6bf6fa8f",
   "metadata": {},
   "source": [
    "Check if the \"isFlaggedFraud\" is related to other columns or variables and try to explain the relationship if there is one.\n"
   ]
  },
  {
   "cell_type": "markdown",
   "id": "dc9788cf",
   "metadata": {},
   "source": [
    "See if all transactions that are flagged as fraud are actual fraud"
   ]
  },
  {
   "cell_type": "code",
   "execution_count": null,
   "id": "f3ccf044",
   "metadata": {},
   "outputs": [],
   "source": [
    "# Now that we have the type of operations where fraud happens, the next step will be to check how \n",
    "# many operations have been flagged as fraudulent\n",
    "dfFlagged = df[df['type']=='TRANSFER'][df.isFlaggedFraud==1]\n",
    "dfFlagged"
   ]
  },
  {
   "cell_type": "code",
   "execution_count": null,
   "id": "8eac0721",
   "metadata": {},
   "outputs": [],
   "source": [
    "# Get the lenght of fraudulent transaction flagged\n",
    "len(dfFlagged)"
   ]
  },
  {
   "cell_type": "markdown",
   "id": "bd7d1d2f",
   "metadata": {},
   "source": [
    "Only 16 operations out of 4097 fraudulant transactions have been flagged as fraud during the TRANSFER process\n"
   ]
  },
  {
   "cell_type": "code",
   "execution_count": null,
   "id": "d462b77a",
   "metadata": {},
   "outputs": [],
   "source": [
    "#check the rule based algorithm efficacy\n",
    "df_NonFlagged = df[df['type']=='TRANSFER'][df.isFraud==1][df.isFlaggedFraud==0][df.amount>=200000]\n",
    "len(df_NonFlagged )"
   ]
  },
  {
   "cell_type": "code",
   "execution_count": null,
   "id": "634dc129",
   "metadata": {},
   "outputs": [],
   "source": [
    "dfFlagged.describe()"
   ]
  },
  {
   "cell_type": "code",
   "execution_count": null,
   "id": "40f94f24",
   "metadata": {},
   "outputs": [],
   "source": [
    "df_NonFlagged.describe()"
   ]
  },
  {
   "cell_type": "markdown",
   "id": "b0d90166",
   "metadata": {},
   "source": [
    "Checking the rule based system, we believe that there are other rules, not just the min threshold of 200,000, used to flag potential fraudulent transactions"
   ]
  },
  {
   "cell_type": "markdown",
   "id": "bd80f8bd",
   "metadata": {},
   "source": [
    "The flagging Fraud column is a very poor indication of the actual fraud given that the \"isFlaggedFraud\" column only picked 16 transactions when in reality we have over 8000 fraudulent transactions"
   ]
  },
  {
   "cell_type": "code",
   "execution_count": null,
   "id": "47661eb3",
   "metadata": {},
   "outputs": [],
   "source": [
    "# Drop isFlaggedFraud column\n",
    "df=df.drop(['isFlaggedFraud'], axis=1)\n",
    "df"
   ]
  },
  {
   "cell_type": "markdown",
   "id": "f614bbef",
   "metadata": {},
   "source": [
    "### Account balance analysis"
   ]
  },
  {
   "cell_type": "code",
   "execution_count": null,
   "id": "9dfe3e69",
   "metadata": {},
   "outputs": [],
   "source": [
    "# check relationship between amount, isFraud, oldBalanceDest and newBalanceDest\n",
    "\n",
    "df_fraudBalanceDest = df[(df['isFraud'] == 1) & \n",
    "                         (df['oldBalanceDest'] == df['newBalanceDest']) & \n",
    "                         (df['amount'] != 0)]\n",
    "print(len(df_fraudBalanceDest)/len(df[df['isFraud']==1]))\n",
    "print(len(df_fraudBalanceDest)/len(df[df['isFraud']==0]))"
   ]
  },
  {
   "cell_type": "markdown",
   "id": "18d7e8bd",
   "metadata": {},
   "source": [
    "This shows that 49.5% of the fraudulent transactions have the characteristics of old balance of destination account and new balance of the same account equal while the amount is different than zero vs 0.6% for non fraudulent transactions"
   ]
  },
  {
   "cell_type": "markdown",
   "id": "292278e4",
   "metadata": {},
   "source": [
    "The same conclusion for the origination account "
   ]
  },
  {
   "cell_type": "code",
   "execution_count": null,
   "id": "240eb4f7",
   "metadata": {
    "scrolled": true
   },
   "outputs": [],
   "source": [
    "df_fraudBalanceOrig = df[(df['isFraud'] == 1) & \n",
    "                         (df['oldBalanceOrig'] == df['newBalanceOrig']) & \n",
    "                         (df['amount'] != 0)]\n",
    "print(len(df_fraudBalanceOrig)/len(df[df['isFraud']==1]))\n",
    "print(len(df_fraudBalanceOrig)/len(df[df['isFraud']==0]))"
   ]
  },
  {
   "cell_type": "code",
   "execution_count": null,
   "id": "617f6d65",
   "metadata": {},
   "outputs": [],
   "source": [
    "# Differentiating the fraudulent account that meets the condition above with non fraudulent accounts that have new and old balance either equal or nil\n",
    "df.loc[(df.oldBalanceDest == 0) & (df.newBalanceDest == 0) & (df.amount != 0), \\\n",
    "      ['oldBalanceDest', 'newBalanceDest']] = - 1\n",
    "df"
   ]
  },
  {
   "cell_type": "code",
   "execution_count": null,
   "id": "2f0ab378",
   "metadata": {},
   "outputs": [],
   "source": [
    "# Add a new feature to account for the error in the balance for both origination and destination accounts\n",
    "df['errorBalanceOrig']=df['newBalanceOrig'] + df['amount'] - df['oldBalanceOrig']\n",
    "df['errorBalanceDest']=df['newBalanceDest'] + df['amount'] - df['oldBalanceDest']\n",
    "df"
   ]
  },
  {
   "cell_type": "code",
   "execution_count": null,
   "id": "f19b3977",
   "metadata": {},
   "outputs": [],
   "source": [
    "from sklearn.preprocessing import LabelEncoder\n",
    "# create a label encoder object\n",
    "le = LabelEncoder()\n",
    "\n",
    "# apply the label encoder to non-numeric columns\n",
    "df['nameOrig'] = le.fit_transform(df['nameOrig'])\n",
    "df['nameDest'] = le.fit_transform(df['nameDest'])\n",
    "df.head()"
   ]
  },
  {
   "cell_type": "code",
   "execution_count": null,
   "id": "a8d89945",
   "metadata": {},
   "outputs": [],
   "source": [
    "#Proportion of fraudulent transaction where errorBalance of destination account is higher than 0\n",
    "print(len(df[(df['isFraud'] == 1) & \n",
    "                         (df['errorBalanceDest']>0)])/len(df[df['isFraud']==1]))\n",
    "\n",
    "#Proportion of non fraudulent transaction where errorBalance of destination account is higher than 0\n",
    "print(len(df[(df['isFraud'] == 0) & \n",
    "                         (df['errorBalanceDest']>0)])/len(df[df['isFraud']==0]))"
   ]
  },
  {
   "cell_type": "markdown",
   "id": "f1314ef7",
   "metadata": {},
   "source": [
    "Most of the transactions where errorbalanceDest > 0 has high chance of being fraud\n",
    "Valid transactions are most likely to have errorbalanceOrig > 0"
   ]
  },
  {
   "cell_type": "markdown",
   "id": "81b127b7",
   "metadata": {},
   "source": [
    "## Recursive Feature Elimination (RFE) for Feature Selection"
   ]
  },
  {
   "cell_type": "markdown",
   "id": "cbc60caa",
   "metadata": {},
   "source": [
    "### Feature Scaling"
   ]
  },
  {
   "cell_type": "code",
   "execution_count": null,
   "id": "8644a19b",
   "metadata": {},
   "outputs": [],
   "source": [
    "from sklearn.preprocessing import OneHotEncoder\n",
    "\n",
    "# Check unique values for streets (2)\n",
    "print(f\"The unique values for 'type' are {df.type.unique()}\")\n",
    "\n",
    "# Instantiate the OneHotEncoder\n",
    "ohe_binary = OneHotEncoder(sparse = False, drop=\"if_binary\") \n",
    "\n",
    "# Fit encoder\n",
    "ohe_binary.fit(df[['type']]) \n",
    "\n",
    "# Display the detected categories\n",
    "print(f\"The categories detected by the OneHotEncoder are {ohe_binary.categories_}\")"
   ]
  },
  {
   "cell_type": "code",
   "execution_count": null,
   "id": "ad4436f8",
   "metadata": {},
   "outputs": [],
   "source": [
    "# Display the generated names\n",
    "print(f\"The column names for the encoded values are {ohe_binary.get_feature_names_out()}\")\n",
    "\n",
    "# Transform the current \"Street\" column\n",
    "df[ohe_binary.get_feature_names_out()] = ohe_binary.transform(df[['type']])\n",
    "\n",
    "# Drop the column \"Street\" which has been encoded\n",
    "df.drop(columns = [\"type\"], inplace = True)\n",
    "\n",
    "# Show the dataset\n",
    "df.head(3)"
   ]
  },
  {
   "cell_type": "code",
   "execution_count": null,
   "id": "8b37b73c",
   "metadata": {},
   "outputs": [],
   "source": []
  },
  {
   "cell_type": "code",
   "execution_count": null,
   "id": "45dd9871",
   "metadata": {},
   "outputs": [],
   "source": [
    "# Heatmap of pairwise correlations\n",
    "correlation_matrix = df.corr()\n",
    "column_names = correlation_matrix.columns\n",
    "sns.heatmap(correlation_matrix, xticklabels=column_names, yticklabels=column_names,cmap= \"bwr\");"
   ]
  },
  {
   "cell_type": "code",
   "execution_count": null,
   "id": "59e18b26",
   "metadata": {},
   "outputs": [],
   "source": [
    "# pearson's correlation feature selection for numeric input and numeric output\n",
    "#from sklearn.datasets import make_regression\n",
    "#from sklearn.feature_selection import SelectKBest\n",
    "#from sklearn.feature_selection import f_regression\n",
    "# generate dataset\n",
    "#X=df_new.drop(['isFraud'], axis=1)\n",
    "#y = df_new['isFraud']\n",
    "# define dataset\n",
    "#X, y = make_classification(n_samples=1000, n_features=10, n_informative=5, n_redundant=5, random_state=1)\n",
    "# define feature selection\n",
    "#fs = SelectKBest(score_func=f_regression, k='all')\n",
    "# apply feature selection\n",
    "#X_selected = fs.fit_transform(X, y)\n",
    "#print(X_selected.shape)"
   ]
  },
  {
   "cell_type": "code",
   "execution_count": null,
   "id": "a500abe6",
   "metadata": {},
   "outputs": [],
   "source": [
    "# explore the number of selected features for RFE\n",
    "#from numpy import mean\n",
    "#from numpy import std\n",
    "#from sklearn.datasets import make_classification\n",
    "#from sklearn.model_selection import cross_val_score\n",
    "#from sklearn.model_selection import RepeatedStratifiedKFold\n",
    "#from sklearn.feature_selection import RFE\n",
    "#from sklearn.tree import DecisionTreeClassifier\n",
    "#from sklearn.pipeline import Pipeline\n",
    "#from matplotlib import pyplot\n",
    " \n",
    "# get a list of models to evaluate\n",
    "#def get_models():\n",
    "    #models = dict()\n",
    "    #for i in range(1, 4):\n",
    "     #   rfe = RFE(estimator=DecisionTreeClassifier(), n_features_to_select=i)\n",
    "        #model = DecisionTreeClassifier()\n",
    "        #models[str(i)] = Pipeline(steps=[('s',rfe),('m',model)])\n",
    "    #return models\n",
    "#get_models()"
   ]
  },
  {
   "cell_type": "code",
   "execution_count": null,
   "id": "344ab5cc",
   "metadata": {},
   "outputs": [],
   "source": [
    "# evaluate a give model using cross-validation\n"
   ]
  },
  {
   "cell_type": "code",
   "execution_count": null,
   "id": "15453efc",
   "metadata": {},
   "outputs": [],
   "source": [
    "# evaluate the models and store results\n",
    "#results, names = list(), list()\n",
    "#for name, model in models.items():\n",
    "    #scores = evaluate_model(model, X, y)\n",
    "    #results.append(scores)\n",
    "    #names.append(name)\n",
    "#print('>%s %.3f (%.3f)' % (name, mean(scores), std(scores)))"
   ]
  },
  {
   "cell_type": "code",
   "execution_count": null,
   "id": "6c42917d",
   "metadata": {},
   "outputs": [],
   "source": [
    "# plot model performance for comparison\n",
    "#pyplot.boxplot(results, labels=names, showmeans=True)\n",
    "#pyplot.show()"
   ]
  },
  {
   "cell_type": "code",
   "execution_count": null,
   "id": "47939284",
   "metadata": {},
   "outputs": [],
   "source": [
    "# summarize all features\n",
    "# define RFE\n",
    "#rfe = RFE(estimator=DecisionTreeClassifier(), n_features_to_select=3)\n",
    "# fit RFE\n",
    "#rfe.fit(X, y)\n",
    "#for i in range(X.shape[1]):\n",
    "    #print('Column: %d, Selected %s, Rank: %.3f' % (i, rfe.support_[i], rfe.ranking_[i]))"
   ]
  },
  {
   "cell_type": "markdown",
   "id": "5825f073",
   "metadata": {},
   "source": [
    "## Train Test Dataset"
   ]
  },
  {
   "cell_type": "code",
   "execution_count": null,
   "id": "73b58a99",
   "metadata": {},
   "outputs": [],
   "source": [
    "# Define X and y\n",
    "X=df.drop(['isFraud'], axis=1)\n",
    "y = df['isFraud']"
   ]
  },
  {
   "cell_type": "code",
   "execution_count": null,
   "id": "a052a0e3",
   "metadata": {},
   "outputs": [],
   "source": [
    "from sklearn.model_selection import train_test_split\n",
    "X_train, X_test, y_train, y_test = train_test_split(X, y, test_size=0.2, random_state=42)"
   ]
  },
  {
   "cell_type": "markdown",
   "id": "8fb914e2",
   "metadata": {},
   "source": [
    "## Balance the y test using the SMOTE"
   ]
  },
  {
   "cell_type": "code",
   "execution_count": null,
   "id": "45fe7b70",
   "metadata": {},
   "outputs": [],
   "source": [
    "from imblearn.over_sampling import SMOTE\n",
    "from sklearn.svm import LinearSVC\n",
    "\n",
    "X_test_resampled, y_test_resampled = SMOTE(sampling_strategy=0.6).fit_resample(X_test, y_test)"
   ]
  },
  {
   "cell_type": "code",
   "execution_count": null,
   "id": "8e299fc2",
   "metadata": {},
   "outputs": [],
   "source": [
    "y_test.shape"
   ]
  },
  {
   "cell_type": "code",
   "execution_count": null,
   "id": "c5c02be1",
   "metadata": {},
   "outputs": [],
   "source": [
    "y_test_resampled.shape"
   ]
  },
  {
   "cell_type": "markdown",
   "id": "015559b7",
   "metadata": {},
   "source": [
    "## Balance the train Dataset using the SMOTE"
   ]
  },
  {
   "cell_type": "markdown",
   "id": "79e5d5e0",
   "metadata": {},
   "source": [
    "❗️ Warning about the oversampling method ❗️\n",
    "Train-test split your dataset before oversampling\n",
    "Oversample only in the train set\n",
    "→\n",
    "The model needs to learn about the minority class.\n",
    "Evaluate in the test set without oversampling\n",
    "→\n",
    "We want the model to be evaluated in real conditions"
   ]
  },
  {
   "cell_type": "code",
   "execution_count": null,
   "id": "67101cc0",
   "metadata": {},
   "outputs": [],
   "source": [
    "#Check if data is balanced before SMOTE\n",
    "import matplotlib.pyplot as plt\n",
    "labels = 'Not Fraud','Fraud'\n",
    "values=df['isFraud'].value_counts()\n",
    "fig, ax = plt.subplots()\n",
    "ax.pie(values, labels=labels)"
   ]
  },
  {
   "cell_type": "code",
   "execution_count": null,
   "id": "a7e22fd6",
   "metadata": {},
   "outputs": [],
   "source": [
    "import imblearn\n",
    "print(imblearn.__version__)"
   ]
  },
  {
   "cell_type": "code",
   "execution_count": null,
   "id": "2b92d9e5",
   "metadata": {},
   "outputs": [],
   "source": [
    "X=df.drop(['isFraud'], axis=1)\n",
    "y = df['isFraud']"
   ]
  },
  {
   "cell_type": "code",
   "execution_count": null,
   "id": "fe7338ab",
   "metadata": {},
   "outputs": [],
   "source": [
    "# summarize class distribution\n",
    "import collections\n",
    "counter = collections.Counter(y)\n",
    "print(counter)"
   ]
  },
  {
   "cell_type": "code",
   "execution_count": null,
   "id": "b9d5e0de",
   "metadata": {},
   "outputs": [],
   "source": [
    "X_train.shape"
   ]
  },
  {
   "cell_type": "code",
   "execution_count": null,
   "id": "f1af9b8e",
   "metadata": {},
   "outputs": [],
   "source": [
    "y_train.shape"
   ]
  },
  {
   "cell_type": "code",
   "execution_count": null,
   "id": "93ac768a",
   "metadata": {},
   "outputs": [],
   "source": [
    "from imblearn.over_sampling import SMOTE\n",
    "from sklearn.svm import LinearSVC\n",
    "\n",
    "X_resampled, y_resampled = SMOTE().fit_resample(X_train, y_train)\n"
   ]
  },
  {
   "cell_type": "code",
   "execution_count": null,
   "id": "cc28dfb0",
   "metadata": {},
   "outputs": [],
   "source": [
    "X_resampled.head()"
   ]
  },
  {
   "cell_type": "code",
   "execution_count": null,
   "id": "38c86e44",
   "metadata": {},
   "outputs": [],
   "source": [
    "X_resampled.shape"
   ]
  },
  {
   "cell_type": "code",
   "execution_count": null,
   "id": "60704b68",
   "metadata": {},
   "outputs": [],
   "source": [
    "y_resampled.shape"
   ]
  },
  {
   "cell_type": "code",
   "execution_count": null,
   "id": "feaa1848",
   "metadata": {},
   "outputs": [],
   "source": [
    "pd.DataFrame(y_resampled)"
   ]
  },
  {
   "cell_type": "code",
   "execution_count": null,
   "id": "613278f8",
   "metadata": {},
   "outputs": [],
   "source": [
    "X_resampled['isFraud'] = y_resampled"
   ]
  },
  {
   "cell_type": "code",
   "execution_count": null,
   "id": "68b61913",
   "metadata": {},
   "outputs": [],
   "source": [
    "X_resampled"
   ]
  },
  {
   "cell_type": "code",
   "execution_count": null,
   "id": "b72b6284",
   "metadata": {},
   "outputs": [],
   "source": [
    "#Check if data is balanced after SMOTE balancing\n",
    "import matplotlib.pyplot as plt\n",
    "labels = 'Not Fraud','Fraud'\n",
    "values=X_resampled['isFraud'].value_counts()\n",
    "fig, ax = plt.subplots()\n",
    "ax.pie(values, labels=labels)"
   ]
  },
  {
   "cell_type": "code",
   "execution_count": null,
   "id": "40c4133a",
   "metadata": {},
   "outputs": [],
   "source": [
    "X_resampled.head()"
   ]
  },
  {
   "cell_type": "code",
   "execution_count": null,
   "id": "b4846118",
   "metadata": {},
   "outputs": [],
   "source": [
    "df.info()"
   ]
  },
  {
   "cell_type": "code",
   "execution_count": null,
   "id": "134ea391",
   "metadata": {},
   "outputs": [],
   "source": [
    "from imblearn.over_sampling import ADASYN\n",
    "X_resampled_ADASYN, y_resampled_ADASYN = ADASYN().fit_resample(X_train, y_train)"
   ]
  },
  {
   "cell_type": "code",
   "execution_count": null,
   "id": "5f6fb6be",
   "metadata": {},
   "outputs": [],
   "source": [
    "X_resampled_ADASYN['isFraud'] = y_resampled_ADASYN"
   ]
  },
  {
   "cell_type": "code",
   "execution_count": null,
   "id": "3ef434c6",
   "metadata": {},
   "outputs": [],
   "source": [
    "#Check if data is balanced after ADASYN balancing\n",
    "import matplotlib.pyplot as plt\n",
    "labels = 'Not Fraud','Fraud'\n",
    "values=X_resampled_ADASYN['isFraud'].value_counts()\n",
    "fig, ax = plt.subplots()\n",
    "ax.pie(values, labels=labels)"
   ]
  },
  {
   "cell_type": "markdown",
   "id": "3010abdf",
   "metadata": {},
   "source": [
    "## XGBClassifier"
   ]
  },
  {
   "cell_type": "code",
   "execution_count": null,
   "id": "c236ec41",
   "metadata": {},
   "outputs": [],
   "source": [
    "df_fraud=X_resampled[X_resampled.isFraud==1].iloc[:100000]\n",
    "df_fraud.sample(100000)"
   ]
  },
  {
   "cell_type": "code",
   "execution_count": null,
   "id": "871d3b21",
   "metadata": {},
   "outputs": [],
   "source": [
    "df_nonfraud=X_resampled[X_resampled.isFraud==0].iloc[:100000]\n",
    "df_nonfraud.sample(100000)"
   ]
  },
  {
   "cell_type": "code",
   "execution_count": null,
   "id": "5723454d",
   "metadata": {},
   "outputs": [],
   "source": [
    "df_sample=pd.concat([df_fraud,df_nonfraud], axis=0)\n",
    "df_sample.shape"
   ]
  },
  {
   "cell_type": "code",
   "execution_count": null,
   "id": "16960664",
   "metadata": {},
   "outputs": [],
   "source": [
    "import seaborn as sns\n",
    "# Heatmap\n",
    "corr = df_sample.corr()\n",
    "sns.heatmap(corr,\n",
    "xticklabels=corr.columns,\n",
    "yticklabels=corr.columns,\n",
    "cmap= 'YlGnBu')\n",
    "corr_df = corr.unstack().reset_index() # Unstack correlation matrix \n",
    "corr_df.columns = ['feature_1','feature_2', 'correlation'] # rename columns\n",
    "corr_df.sort_values(by='correlation',ascending=False, inplace=True) # sort by correlation\n",
    "corr_df = corr_df[corr_df['feature_1'] != corr_df['feature_2']] # Remove self correlation\n",
    "corr_df.head()"
   ]
  },
  {
   "cell_type": "code",
   "execution_count": null,
   "id": "f08ff5c8",
   "metadata": {},
   "outputs": [],
   "source": [
    "X_train_modeling=df_sample.drop('isFraud',axis=1)\n",
    "y_train_modeling=df_sample['isFraud']"
   ]
  },
  {
   "cell_type": "code",
   "execution_count": null,
   "id": "6df660a9",
   "metadata": {},
   "outputs": [],
   "source": [
    "# Baseline Model\n",
    "# Extreme Gradient Boosting algorithm\n",
    "from xgboost import XGBClassifier\n",
    "from sklearn.metrics import accuracy_score\n",
    "model = XGBClassifier()\n",
    "model.fit(X_train_modeling, y_train_modeling)"
   ]
  },
  {
   "cell_type": "code",
   "execution_count": null,
   "id": "6d6df4cf",
   "metadata": {},
   "outputs": [],
   "source": [
    "X_test.head()"
   ]
  },
  {
   "cell_type": "code",
   "execution_count": null,
   "id": "09f868a8",
   "metadata": {},
   "outputs": [],
   "source": [
    "y_test.shape"
   ]
  },
  {
   "cell_type": "code",
   "execution_count": null,
   "id": "15a67722",
   "metadata": {},
   "outputs": [],
   "source": [
    "X_train_modeling.shape"
   ]
  },
  {
   "cell_type": "code",
   "execution_count": null,
   "id": "87f5b764",
   "metadata": {},
   "outputs": [],
   "source": [
    "y_test_resampled.value_counts()/len(y_test_resampled)"
   ]
  },
  {
   "cell_type": "code",
   "execution_count": null,
   "id": "4ee61c67",
   "metadata": {},
   "outputs": [],
   "source": [
    "y_test_resampled.shape"
   ]
  },
  {
   "cell_type": "code",
   "execution_count": null,
   "id": "cb835e4b",
   "metadata": {},
   "outputs": [],
   "source": [
    "X_test_resampled.shape"
   ]
  },
  {
   "cell_type": "code",
   "execution_count": null,
   "id": "65a98ac2",
   "metadata": {},
   "outputs": [],
   "source": [
    "from sklearn.metrics import recall_score\n",
    "from sklearn.metrics import mean_absolute_error\n",
    "\n",
    "y_pred = model.predict(X_test_resampled)\n",
    "baseline_predictions = [round(value) for value in y_pred]\n",
    "\n",
    "# Compute MAE\n",
    "mae_baseline = mean_absolute_error(y_test_resampled, baseline_predictions)\n",
    "# Compute accuracy\n",
    "accuracy = accuracy_score(y_test_resampled, baseline_predictions)\n",
    "recall = recall_score(y_test_resampled, y_pred)\n",
    "precision\n",
    "print(\"Recall:\", recall)\n",
    "#print(\"Accuracy: %.2f%%\" % (accuracy * 100.0))\n",
    "print(\"mae_baseline: %.2f%%\" % (mae_baseline * 100.0))"
   ]
  },
  {
   "cell_type": "code",
   "execution_count": null,
   "id": "e03f832a",
   "metadata": {},
   "outputs": [],
   "source": [
    "print(\"Accuracy on training set: {:.3f}\".format(model.score(X_train, y_train)))\n",
    "print(\"Accuracy on testing set: {:.3f}\".format(model.score(X_test, y_test)))"
   ]
  },
  {
   "cell_type": "code",
   "execution_count": null,
   "id": "c39bd4bd",
   "metadata": {},
   "outputs": [],
   "source": []
  },
  {
   "cell_type": "code",
   "execution_count": null,
   "id": "660c15f0",
   "metadata": {},
   "outputs": [],
   "source": [
    "# Grid search\n",
    "from sklearn.model_selection import GridSearchCV\n",
    "from sklearn.linear_model import ElasticNet\n",
    "from sklearn.metrics import r2_score\n",
    "\n",
    "\n",
    "# Instantiate model\n",
    "model_1 = ElasticNet()\n",
    "\n",
    "# Hyperparameter Grid\n",
    "grid = {\n",
    "    'alpha': [0.01, 0.1, 1], \n",
    "    'l1_ratio': [0.2, 0.5, 0.8]\n",
    "}\n",
    "\n",
    "# Instantiate Grid Search\n",
    "search = GridSearchCV(\n",
    "    model_1,\n",
    "    grid, \n",
    "    scoring = 'r2',\n",
    "    cv = 5,\n",
    "    n_jobs=-1 # parallelize computation\n",
    ") \n",
    "\n",
    "# Fit data to Grid Search\n",
    "search.fit(X_train_modeling.iloc[:10], y_train_modeling.iloc[:10])"
   ]
  },
  {
   "cell_type": "code",
   "execution_count": null,
   "id": "aa04b70a",
   "metadata": {},
   "outputs": [],
   "source": [
    "# Best score\n",
    "search.best_score_\n",
    "\n",
    "# Best Params\n",
    "search.best_params_\n",
    "\n",
    "# Best estimator\n",
    "search.best_estimator_"
   ]
  },
  {
   "cell_type": "code",
   "execution_count": null,
   "id": "fff1caab",
   "metadata": {},
   "outputs": [],
   "source": [
    "# Instantiate and train model\n",
    "from sklearn.tree import DecisionTreeClassifier\n",
    "tree_clf = DecisionTreeClassifier(max_depth=2, random_state=2)\n",
    "tree_clf.fit(X_train_modeling, y_train_modeling)"
   ]
  },
  {
   "cell_type": "code",
   "execution_count": null,
   "id": "cfcdf273",
   "metadata": {},
   "outputs": [],
   "source": [
    "from sklearn.metrics import recall_score\n",
    "\n",
    "y_pred = tree_clf.predict(X_test_resampled)\n",
    "baseline_predictions = [round(value) for value in y_pred]\n",
    "\n",
    "# Compute accuracy\n",
    "accuracy = accuracy_score(y_test_resampled, baseline_predictions)\n",
    "recall_2 = recall_score(y_test_resampled, y_pred)\n",
    "print(\"Recall:\", recall_2)\n",
    "#print(\"Accuracy: %.2f%%\" % (accuracy * 100.0))\n"
   ]
  },
  {
   "cell_type": "code",
   "execution_count": null,
   "id": "da719e05",
   "metadata": {},
   "outputs": [],
   "source": [
    "#from sklearn.svm import SVC\n",
    "#svc = SVC(kernel='linear', C=10)\n",
    "\n",
    "# equivalent but with SGD solver\n",
    "#from sklearn.linear_model import SGDClassifier\n",
    "#svc_bis = SGDClassifier(loss='hinge', penalty='l2', alpha=1/10)"
   ]
  },
  {
   "cell_type": "code",
   "execution_count": null,
   "id": "d51b7c67",
   "metadata": {},
   "outputs": [],
   "source": [
    "#model selection?\n",
    "#Recall?\n",
    "#List of classification models/how to do model tuning to the models (hyperparameter to look at)/\n",
    "#XGBoost\n",
    "#each model => feature importance/permutation=>model tuning (can be before feature importance, grid search, random search)=>feature importance"
   ]
  },
  {
   "cell_type": "markdown",
   "id": "cb608ffb",
   "metadata": {},
   "source": [
    "## Gridsearch"
   ]
  },
  {
   "cell_type": "code",
   "execution_count": null,
   "id": "cbe8df19",
   "metadata": {},
   "outputs": [],
   "source": [
    "X_train_modeling.shape"
   ]
  },
  {
   "cell_type": "code",
   "execution_count": null,
   "id": "bb7a2918",
   "metadata": {},
   "outputs": [],
   "source": [
    "y_train_modeling.shape"
   ]
  },
  {
   "cell_type": "code",
   "execution_count": null,
   "id": "77371115",
   "metadata": {},
   "outputs": [],
   "source": [
    "cv_params = {'max_depth': [1,2,3,4,5,6], 'min_child_weight': [1,2,3,4]}    # parameters to be tries in the grid search\n",
    "fix_params = {'learning_rate': 0.2, 'n_estimators': 100, 'objective': 'binary:logistic'}   #other parameters, fixed for the moment \n",
    "csv = GridSearchCV(XGBClassifier(**fix_params), cv_params, scoring = 'f1', cv = 2)"
   ]
  },
  {
   "cell_type": "code",
   "execution_count": null,
   "id": "6260c3b9",
   "metadata": {},
   "outputs": [],
   "source": [
    "csv.fit(X_train_modeling, y_train_modeling)"
   ]
  },
  {
   "cell_type": "code",
   "execution_count": null,
   "id": "e66aec3d",
   "metadata": {},
   "outputs": [],
   "source": [
    "csv.best_params_"
   ]
  },
  {
   "cell_type": "markdown",
   "id": "8a3319a3",
   "metadata": {},
   "source": [
    "## Random Forest Classifier"
   ]
  },
  {
   "cell_type": "code",
   "execution_count": null,
   "id": "07cc8589",
   "metadata": {},
   "outputs": [],
   "source": [
    "from sklearn.ensemble import RandomForestClassifier\n",
    "model = RandomForestClassifier()\n"
   ]
  },
  {
   "cell_type": "code",
   "execution_count": null,
   "id": "41f0cf1b",
   "metadata": {},
   "outputs": [],
   "source": [
    "#Train the model on the Training Data = X_resampled and y_resampled\n",
    "model.fit(X_train_modeling, y_train_modeling)"
   ]
  },
  {
   "cell_type": "code",
   "execution_count": null,
   "id": "b2c9b3f3",
   "metadata": {},
   "outputs": [],
   "source": [
    "y_pred = model.predict(X_test_resampled)"
   ]
  },
  {
   "cell_type": "code",
   "execution_count": null,
   "id": "170a8308",
   "metadata": {},
   "outputs": [],
   "source": [
    "\n",
    "# Score the model on the Test data\n",
    "from sklearn.metrics import recall_score\n",
    "recall50 = recall_score(y_test_resampled, y_pred)\n",
    "print(\"Recall:\", recall50)"
   ]
  },
  {
   "cell_type": "code",
   "execution_count": null,
   "id": "d26dcf40",
   "metadata": {},
   "outputs": [],
   "source": []
  }
 ],
 "metadata": {
  "kernelspec": {
   "display_name": "Python 3 (ipykernel)",
   "language": "python",
   "name": "python3"
  },
  "language_info": {
   "codemirror_mode": {
    "name": "ipython",
    "version": 3
   },
   "file_extension": ".py",
   "mimetype": "text/x-python",
   "name": "python",
   "nbconvert_exporter": "python",
   "pygments_lexer": "ipython3",
   "version": "3.10.6"
  },
  "toc": {
   "base_numbering": 1,
   "nav_menu": {},
   "number_sections": true,
   "sideBar": true,
   "skip_h1_title": false,
   "title_cell": "Table of Contents",
   "title_sidebar": "Contents",
   "toc_cell": false,
   "toc_position": {
    "height": "calc(100% - 180px)",
    "left": "10px",
    "top": "150px",
    "width": "264.796875px"
   },
   "toc_section_display": true,
   "toc_window_display": true
  }
 },
 "nbformat": 4,
 "nbformat_minor": 5
}
